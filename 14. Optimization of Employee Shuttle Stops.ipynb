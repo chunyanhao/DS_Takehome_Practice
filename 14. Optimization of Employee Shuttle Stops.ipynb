{
 "cells": [
  {
   "cell_type": "code",
   "execution_count": 50,
   "id": "acb2ef4f",
   "metadata": {},
   "outputs": [],
   "source": [
    "import pandas as pd\n",
    "import numpy as np\n",
    "import matplotlib.pyplot as plt\n",
    "import seaborn as sns\n",
    "\n",
    "%matplotlib inline\n",
    "\n",
    "import warnings\n",
    "warnings.filterwarnings(\"ignore\")"
   ]
  },
  {
   "cell_type": "markdown",
   "id": "434f2a48",
   "metadata": {},
   "source": [
    "### 1. Load data"
   ]
  },
  {
   "cell_type": "markdown",
   "id": "49f34024",
   "metadata": {},
   "source": [
    "In order to calculate the 'walking distance between employee homes and the closest bus stop', I decide first extract the Latitude and Longitude of the employee homes and bus stop using Google sheet and the add-ons 'Geocode by Awesome Table'. \n",
    "\n",
    "Refer to the instruction :https://www.youtube.com/watch?v=ozjSCoJGgVc"
   ]
  },
  {
   "cell_type": "code",
   "execution_count": 51,
   "id": "230e329e",
   "metadata": {},
   "outputs": [],
   "source": [
    "stops = pd.read_csv('/Users/ChunyanHao/desktop/github/ds_take_home/data/Bus/Bus_Stops_with_geocode.csv')\n",
    "addresses = pd.read_csv('/Users/ChunyanHao/desktop/github/ds_take_home/data/Bus/address_with_geocode.csv')"
   ]
  },
  {
   "cell_type": "code",
   "execution_count": 52,
   "id": "2764828e",
   "metadata": {},
   "outputs": [
    {
     "data": {
      "text/html": [
       "<div>\n",
       "<style scoped>\n",
       "    .dataframe tbody tr th:only-of-type {\n",
       "        vertical-align: middle;\n",
       "    }\n",
       "\n",
       "    .dataframe tbody tr th {\n",
       "        vertical-align: top;\n",
       "    }\n",
       "\n",
       "    .dataframe thead th {\n",
       "        text-align: right;\n",
       "    }\n",
       "</style>\n",
       "<table border=\"1\" class=\"dataframe\">\n",
       "  <thead>\n",
       "    <tr style=\"text-align: right;\">\n",
       "      <th></th>\n",
       "      <th>Street_One</th>\n",
       "      <th>Street_Two</th>\n",
       "      <th>Latitude</th>\n",
       "      <th>Longitude</th>\n",
       "    </tr>\n",
       "  </thead>\n",
       "  <tbody>\n",
       "    <tr>\n",
       "      <th>0</th>\n",
       "      <td>MISSION ST</td>\n",
       "      <td>ITALY AVE</td>\n",
       "      <td>37.718478</td>\n",
       "      <td>-122.439536</td>\n",
       "    </tr>\n",
       "    <tr>\n",
       "      <th>1</th>\n",
       "      <td>MISSION ST</td>\n",
       "      <td>NEW MONTGOMERY ST</td>\n",
       "      <td>37.787456</td>\n",
       "      <td>-122.400523</td>\n",
       "    </tr>\n",
       "    <tr>\n",
       "      <th>2</th>\n",
       "      <td>MISSION ST</td>\n",
       "      <td>01ST ST</td>\n",
       "      <td>37.789768</td>\n",
       "      <td>-122.397597</td>\n",
       "    </tr>\n",
       "  </tbody>\n",
       "</table>\n",
       "</div>"
      ],
      "text/plain": [
       "   Street_One         Street_Two   Latitude   Longitude\n",
       "0  MISSION ST          ITALY AVE  37.718478 -122.439536\n",
       "1  MISSION ST  NEW MONTGOMERY ST  37.787456 -122.400523\n",
       "2  MISSION ST            01ST ST  37.789768 -122.397597"
      ]
     },
     "execution_count": 52,
     "metadata": {},
     "output_type": "execute_result"
    }
   ],
   "source": [
    "stops.head(3)"
   ]
  },
  {
   "cell_type": "code",
   "execution_count": 61,
   "id": "4460b204",
   "metadata": {},
   "outputs": [
    {
     "data": {
      "text/plain": [
       "(118, 4)"
      ]
     },
     "execution_count": 61,
     "metadata": {},
     "output_type": "execute_result"
    }
   ],
   "source": [
    "stops.shape"
   ]
  },
  {
   "cell_type": "code",
   "execution_count": 53,
   "id": "3bc5f92b",
   "metadata": {},
   "outputs": [],
   "source": [
    "#Remove bus stops with same Latitude and  Longitude, no need to stop the same location mulitple times\n",
    "stops = stops.drop_duplicates(subset= ['Latitude', 'Longitude'], keep=\"first\")"
   ]
  },
  {
   "cell_type": "code",
   "execution_count": 60,
   "id": "c6dbe206",
   "metadata": {},
   "outputs": [
    {
     "data": {
      "text/plain": [
       "(118, 4)"
      ]
     },
     "execution_count": 60,
     "metadata": {},
     "output_type": "execute_result"
    }
   ],
   "source": [
    "stops.shape"
   ]
  },
  {
   "cell_type": "code",
   "execution_count": 54,
   "id": "d9e98f2f",
   "metadata": {},
   "outputs": [
    {
     "data": {
      "text/html": [
       "<div>\n",
       "<style scoped>\n",
       "    .dataframe tbody tr th:only-of-type {\n",
       "        vertical-align: middle;\n",
       "    }\n",
       "\n",
       "    .dataframe tbody tr th {\n",
       "        vertical-align: top;\n",
       "    }\n",
       "\n",
       "    .dataframe thead th {\n",
       "        text-align: right;\n",
       "    }\n",
       "</style>\n",
       "<table border=\"1\" class=\"dataframe\">\n",
       "  <thead>\n",
       "    <tr style=\"text-align: right;\">\n",
       "      <th></th>\n",
       "      <th>address</th>\n",
       "      <th>Latitude</th>\n",
       "      <th>Longitude</th>\n",
       "      <th>employee_id</th>\n",
       "    </tr>\n",
       "  </thead>\n",
       "  <tbody>\n",
       "    <tr>\n",
       "      <th>0</th>\n",
       "      <td>98 Edinburgh St, San Francisco, CA 94112, USA</td>\n",
       "      <td>37.728470</td>\n",
       "      <td>-122.426581</td>\n",
       "      <td>206</td>\n",
       "    </tr>\n",
       "    <tr>\n",
       "      <th>1</th>\n",
       "      <td>237 Accacia St, Daly City, CA 94014, USA</td>\n",
       "      <td>37.704205</td>\n",
       "      <td>-122.415878</td>\n",
       "      <td>2081</td>\n",
       "    </tr>\n",
       "    <tr>\n",
       "      <th>2</th>\n",
       "      <td>1835 Folsom St, San Francisco, CA 94103, USA</td>\n",
       "      <td>37.767932</td>\n",
       "      <td>-122.415181</td>\n",
       "      <td>178</td>\n",
       "    </tr>\n",
       "  </tbody>\n",
       "</table>\n",
       "</div>"
      ],
      "text/plain": [
       "                                         address   Latitude   Longitude  \\\n",
       "0  98 Edinburgh St, San Francisco, CA 94112, USA  37.728470 -122.426581   \n",
       "1       237 Accacia St, Daly City, CA 94014, USA  37.704205 -122.415878   \n",
       "2   1835 Folsom St, San Francisco, CA 94103, USA  37.767932 -122.415181   \n",
       "\n",
       "   employee_id  \n",
       "0          206  \n",
       "1         2081  \n",
       "2          178  "
      ]
     },
     "execution_count": 54,
     "metadata": {},
     "output_type": "execute_result"
    }
   ],
   "source": [
    "addresses.head(3)"
   ]
  },
  {
   "cell_type": "code",
   "execution_count": 62,
   "id": "0690c1b5",
   "metadata": {},
   "outputs": [
    {
     "data": {
      "text/plain": [
       "(2191, 4)"
      ]
     },
     "execution_count": 62,
     "metadata": {},
     "output_type": "execute_result"
    }
   ],
   "source": [
    "addresses.shape"
   ]
  },
  {
   "cell_type": "markdown",
   "id": "a32df53b",
   "metadata": {},
   "source": [
    "### 2. Calculate walking distance between employee address and each bus stop"
   ]
  },
  {
   "cell_type": "code",
   "execution_count": 55,
   "id": "7b903f88",
   "metadata": {},
   "outputs": [],
   "source": [
    "# Prepare dataset to calculate the distance between each home address and bus stop\n",
    "data = pd.merge(left = addresses, right = stops, how = 'cross' )"
   ]
  },
  {
   "cell_type": "markdown",
   "id": "dbce7fb5",
   "metadata": {},
   "source": [
    "In order to calculat the distance between two location, I use Haversine Distance. \n",
    "\n",
    "Refer to the instruction: https://towardsdatascience.com/calculating-distance-between-two-geolocations-in-python-26ad3afe287b "
   ]
  },
  {
   "cell_type": "code",
   "execution_count": 56,
   "id": "6d3e490c",
   "metadata": {},
   "outputs": [],
   "source": [
    "import haversine as hs\n",
    "\n",
    "def distance(row):\n",
    "    loc1=(row[1],row[2])\n",
    "    loc2=(row[6],row[7])\n",
    "    return hs.haversine(loc1,loc2)\n",
    "distance_column = []\n",
    "for i in range(len(data)):\n",
    "    row = data.iloc[i, :]\n",
    "    distance_column.append(distance(row))\n",
    "data['distance'] = distance_column"
   ]
  },
  {
   "cell_type": "code",
   "execution_count": 57,
   "id": "8307f27c",
   "metadata": {},
   "outputs": [
    {
     "data": {
      "text/html": [
       "<div>\n",
       "<style scoped>\n",
       "    .dataframe tbody tr th:only-of-type {\n",
       "        vertical-align: middle;\n",
       "    }\n",
       "\n",
       "    .dataframe tbody tr th {\n",
       "        vertical-align: top;\n",
       "    }\n",
       "\n",
       "    .dataframe thead th {\n",
       "        text-align: right;\n",
       "    }\n",
       "</style>\n",
       "<table border=\"1\" class=\"dataframe\">\n",
       "  <thead>\n",
       "    <tr style=\"text-align: right;\">\n",
       "      <th></th>\n",
       "      <th>address</th>\n",
       "      <th>Latitude_x</th>\n",
       "      <th>Longitude_x</th>\n",
       "      <th>employee_id</th>\n",
       "      <th>Street_One</th>\n",
       "      <th>Street_Two</th>\n",
       "      <th>Latitude_y</th>\n",
       "      <th>Longitude_y</th>\n",
       "      <th>distance</th>\n",
       "    </tr>\n",
       "  </thead>\n",
       "  <tbody>\n",
       "    <tr>\n",
       "      <th>0</th>\n",
       "      <td>98 Edinburgh St, San Francisco, CA 94112, USA</td>\n",
       "      <td>37.72847</td>\n",
       "      <td>-122.426581</td>\n",
       "      <td>206</td>\n",
       "      <td>MISSION ST</td>\n",
       "      <td>ITALY AVE</td>\n",
       "      <td>37.718478</td>\n",
       "      <td>-122.439536</td>\n",
       "      <td>1.591478</td>\n",
       "    </tr>\n",
       "    <tr>\n",
       "      <th>1</th>\n",
       "      <td>98 Edinburgh St, San Francisco, CA 94112, USA</td>\n",
       "      <td>37.72847</td>\n",
       "      <td>-122.426581</td>\n",
       "      <td>206</td>\n",
       "      <td>MISSION ST</td>\n",
       "      <td>NEW MONTGOMERY ST</td>\n",
       "      <td>37.787456</td>\n",
       "      <td>-122.400523</td>\n",
       "      <td>6.947443</td>\n",
       "    </tr>\n",
       "    <tr>\n",
       "      <th>2</th>\n",
       "      <td>98 Edinburgh St, San Francisco, CA 94112, USA</td>\n",
       "      <td>37.72847</td>\n",
       "      <td>-122.426581</td>\n",
       "      <td>206</td>\n",
       "      <td>MISSION ST</td>\n",
       "      <td>01ST ST</td>\n",
       "      <td>37.789768</td>\n",
       "      <td>-122.397597</td>\n",
       "      <td>7.276710</td>\n",
       "    </tr>\n",
       "  </tbody>\n",
       "</table>\n",
       "</div>"
      ],
      "text/plain": [
       "                                         address  Latitude_x  Longitude_x  \\\n",
       "0  98 Edinburgh St, San Francisco, CA 94112, USA    37.72847  -122.426581   \n",
       "1  98 Edinburgh St, San Francisco, CA 94112, USA    37.72847  -122.426581   \n",
       "2  98 Edinburgh St, San Francisco, CA 94112, USA    37.72847  -122.426581   \n",
       "\n",
       "   employee_id  Street_One         Street_Two  Latitude_y  Longitude_y  \\\n",
       "0          206  MISSION ST          ITALY AVE   37.718478  -122.439536   \n",
       "1          206  MISSION ST  NEW MONTGOMERY ST   37.787456  -122.400523   \n",
       "2          206  MISSION ST            01ST ST   37.789768  -122.397597   \n",
       "\n",
       "   distance  \n",
       "0  1.591478  \n",
       "1  6.947443  \n",
       "2  7.276710  "
      ]
     },
     "execution_count": 57,
     "metadata": {},
     "output_type": "execute_result"
    }
   ],
   "source": [
    "data.head(3)"
   ]
  },
  {
   "cell_type": "markdown",
   "id": "4c39d2ed",
   "metadata": {},
   "source": [
    "### 3. Get the closest bus stop for each stop"
   ]
  },
  {
   "cell_type": "code",
   "execution_count": 65,
   "id": "b026c8ea",
   "metadata": {},
   "outputs": [
    {
     "data": {
      "text/html": [
       "<div>\n",
       "<style scoped>\n",
       "    .dataframe tbody tr th:only-of-type {\n",
       "        vertical-align: middle;\n",
       "    }\n",
       "\n",
       "    .dataframe tbody tr th {\n",
       "        vertical-align: top;\n",
       "    }\n",
       "\n",
       "    .dataframe thead th {\n",
       "        text-align: right;\n",
       "    }\n",
       "</style>\n",
       "<table border=\"1\" class=\"dataframe\">\n",
       "  <thead>\n",
       "    <tr style=\"text-align: right;\">\n",
       "      <th></th>\n",
       "      <th>employee_id</th>\n",
       "      <th>address</th>\n",
       "      <th>closed_distance</th>\n",
       "      <th>Street_One</th>\n",
       "      <th>Street_Two</th>\n",
       "    </tr>\n",
       "  </thead>\n",
       "  <tbody>\n",
       "    <tr>\n",
       "      <th>0</th>\n",
       "      <td>1</td>\n",
       "      <td>220 Surrey St, San Francisco, CA 94131, USA</td>\n",
       "      <td>0.785148</td>\n",
       "      <td>MISSION ST</td>\n",
       "      <td>TRUMBULL ST</td>\n",
       "    </tr>\n",
       "    <tr>\n",
       "      <th>1</th>\n",
       "      <td>2</td>\n",
       "      <td>110 Madrid St, San Francisco, CA 94112, USA</td>\n",
       "      <td>0.269820</td>\n",
       "      <td>MISSION ST</td>\n",
       "      <td>CASTLE MANOR AVE</td>\n",
       "    </tr>\n",
       "    <tr>\n",
       "      <th>2</th>\n",
       "      <td>3</td>\n",
       "      <td>1224 Athens St, San Francisco, CA 94112, USA</td>\n",
       "      <td>0.587206</td>\n",
       "      <td>MISSION ST</td>\n",
       "      <td>POPE ST</td>\n",
       "    </tr>\n",
       "    <tr>\n",
       "      <th>3</th>\n",
       "      <td>4</td>\n",
       "      <td>171 Accacia St, Daly City, CA 94014, USA</td>\n",
       "      <td>2.563807</td>\n",
       "      <td>MISSION ST</td>\n",
       "      <td>SENECA AVE</td>\n",
       "    </tr>\n",
       "    <tr>\n",
       "      <th>4</th>\n",
       "      <td>5</td>\n",
       "      <td>98 Brosnan St, San Francisco, CA 94103, USA</td>\n",
       "      <td>0.388062</td>\n",
       "      <td>MISSION ST</td>\n",
       "      <td>ERIE ST</td>\n",
       "    </tr>\n",
       "  </tbody>\n",
       "</table>\n",
       "</div>"
      ],
      "text/plain": [
       "   employee_id                                       address  closed_distance  \\\n",
       "0            1   220 Surrey St, San Francisco, CA 94131, USA         0.785148   \n",
       "1            2   110 Madrid St, San Francisco, CA 94112, USA         0.269820   \n",
       "2            3  1224 Athens St, San Francisco, CA 94112, USA         0.587206   \n",
       "3            4      171 Accacia St, Daly City, CA 94014, USA         2.563807   \n",
       "4            5   98 Brosnan St, San Francisco, CA 94103, USA         0.388062   \n",
       "\n",
       "   Street_One        Street_Two  \n",
       "0  MISSION ST       TRUMBULL ST  \n",
       "1  MISSION ST  CASTLE MANOR AVE  \n",
       "2  MISSION ST           POPE ST  \n",
       "3  MISSION ST        SENECA AVE  \n",
       "4  MISSION ST           ERIE ST  "
      ]
     },
     "execution_count": 65,
     "metadata": {},
     "output_type": "execute_result"
    }
   ],
   "source": [
    "closest_stop = data.groupby(['employee_id', 'address'])['distance'].agg('min').reset_index(name = 'closed_distance')\n",
    "closest_stop = pd.merge(left = closest_stop, \n",
    "                  right = data[['employee_id', 'distance', 'Street_One', 'Street_Two']], \n",
    "                  how = 'inner', \n",
    "                  left_on = ['employee_id', 'closed_distance'], \n",
    "                  right_on = ['employee_id', 'distance'])[['employee_id', 'address', 'closed_distance', 'Street_One', 'Street_Two' ]]\n",
    "closest_stop.head(5)"
   ]
  },
  {
   "cell_type": "code",
   "execution_count": 63,
   "id": "2890c672",
   "metadata": {},
   "outputs": [
    {
     "data": {
      "text/plain": [
       "(2191, 6)"
      ]
     },
     "execution_count": 63,
     "metadata": {},
     "output_type": "execute_result"
    }
   ],
   "source": [
    "closest_stop.shape"
   ]
  },
  {
   "cell_type": "markdown",
   "id": "95780f20",
   "metadata": {},
   "source": [
    "### 4 Get the top 10 popular bus stops"
   ]
  },
  {
   "cell_type": "code",
   "execution_count": 68,
   "id": "d56f6982",
   "metadata": {},
   "outputs": [
    {
     "data": {
      "text/html": [
       "<div>\n",
       "<style scoped>\n",
       "    .dataframe tbody tr th:only-of-type {\n",
       "        vertical-align: middle;\n",
       "    }\n",
       "\n",
       "    .dataframe tbody tr th {\n",
       "        vertical-align: top;\n",
       "    }\n",
       "\n",
       "    .dataframe thead th {\n",
       "        text-align: right;\n",
       "    }\n",
       "</style>\n",
       "<table border=\"1\" class=\"dataframe\">\n",
       "  <thead>\n",
       "    <tr style=\"text-align: right;\">\n",
       "      <th></th>\n",
       "      <th>Street_One</th>\n",
       "      <th>Street_Two</th>\n",
       "      <th>employee_count</th>\n",
       "    </tr>\n",
       "  </thead>\n",
       "  <tbody>\n",
       "    <tr>\n",
       "      <th>86</th>\n",
       "      <td>MISSION ST</td>\n",
       "      <td>TRUMBULL ST</td>\n",
       "      <td>121</td>\n",
       "    </tr>\n",
       "    <tr>\n",
       "      <th>9</th>\n",
       "      <td>MISSION ST</td>\n",
       "      <td>15TH ST</td>\n",
       "      <td>116</td>\n",
       "    </tr>\n",
       "    <tr>\n",
       "      <th>6</th>\n",
       "      <td>MISSION ST</td>\n",
       "      <td>12TH ST</td>\n",
       "      <td>110</td>\n",
       "    </tr>\n",
       "    <tr>\n",
       "      <th>10</th>\n",
       "      <td>MISSION ST</td>\n",
       "      <td>16TH ST</td>\n",
       "      <td>102</td>\n",
       "    </tr>\n",
       "    <tr>\n",
       "      <th>44</th>\n",
       "      <td>MISSION ST</td>\n",
       "      <td>GENEVA AVE</td>\n",
       "      <td>79</td>\n",
       "    </tr>\n",
       "    <tr>\n",
       "      <th>37</th>\n",
       "      <td>MISSION ST</td>\n",
       "      <td>ERIE ST</td>\n",
       "      <td>70</td>\n",
       "    </tr>\n",
       "    <tr>\n",
       "      <th>26</th>\n",
       "      <td>MISSION ST</td>\n",
       "      <td>BOSWORTH ST</td>\n",
       "      <td>64</td>\n",
       "    </tr>\n",
       "    <tr>\n",
       "      <th>8</th>\n",
       "      <td>MISSION ST</td>\n",
       "      <td>14TH ST</td>\n",
       "      <td>64</td>\n",
       "    </tr>\n",
       "    <tr>\n",
       "      <th>4</th>\n",
       "      <td>MISSION ST</td>\n",
       "      <td>10TH ST</td>\n",
       "      <td>59</td>\n",
       "    </tr>\n",
       "    <tr>\n",
       "      <th>18</th>\n",
       "      <td>MISSION ST</td>\n",
       "      <td>ADMIRAL AVE</td>\n",
       "      <td>49</td>\n",
       "    </tr>\n",
       "  </tbody>\n",
       "</table>\n",
       "</div>"
      ],
      "text/plain": [
       "    Street_One   Street_Two  employee_count\n",
       "86  MISSION ST  TRUMBULL ST             121\n",
       "9   MISSION ST      15TH ST             116\n",
       "6   MISSION ST      12TH ST             110\n",
       "10  MISSION ST      16TH ST             102\n",
       "44  MISSION ST   GENEVA AVE              79\n",
       "37  MISSION ST      ERIE ST              70\n",
       "26  MISSION ST  BOSWORTH ST              64\n",
       "8   MISSION ST      14TH ST              64\n",
       "4   MISSION ST      10TH ST              59\n",
       "18  MISSION ST  ADMIRAL AVE              49"
      ]
     },
     "execution_count": 68,
     "metadata": {},
     "output_type": "execute_result"
    }
   ],
   "source": [
    "result = closest_stop.groupby(['Street_One', 'Street_Two'])['employee_id'].count().reset_index(name = 'employee_count')\n",
    "result.sort_values(by = 'employee_count', ascending = False )[:10]"
   ]
  }
 ],
 "metadata": {
  "kernelspec": {
   "display_name": "Python 3 (ipykernel)",
   "language": "python",
   "name": "python3"
  },
  "language_info": {
   "codemirror_mode": {
    "name": "ipython",
    "version": 3
   },
   "file_extension": ".py",
   "mimetype": "text/x-python",
   "name": "python",
   "nbconvert_exporter": "python",
   "pygments_lexer": "ipython3",
   "version": "3.7.7"
  }
 },
 "nbformat": 4,
 "nbformat_minor": 5
}
