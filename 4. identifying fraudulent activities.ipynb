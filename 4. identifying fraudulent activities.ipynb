{
 "cells": [
  {
   "cell_type": "code",
   "execution_count": 1,
   "id": "destroyed-catholic",
   "metadata": {},
   "outputs": [],
   "source": [
    "import pandas as pd\n",
    "import numpy as np\n",
    "import seaborn as sns\n",
    "import matplotlib.pyplot as plt\n",
    "import datetime as dt\n",
    "\n",
    "from sklearn.ensemble import RandomForestClassifier\n",
    "from sklearn.model_selection import train_test_split, cross_val_score, GridSearchCV\n",
    "from sklearn.metrics import confusion_matrix, recall_score, precision_score, accuracy_score\n",
    "from sklearn.metrics import roc_curve, roc_auc_score, auc\n",
    "\n",
    "\n",
    "import warnings\n",
    "warnings.filterwarnings(\"ignore\")"
   ]
  },
  {
   "cell_type": "markdown",
   "id": "wicked-friendly",
   "metadata": {},
   "source": [
    "### Part 1 Load Data"
   ]
  },
  {
   "cell_type": "code",
   "execution_count": 2,
   "id": "ethical-afternoon",
   "metadata": {},
   "outputs": [],
   "source": [
    "fraud_data = pd.read_csv('/Users/ChunyanHao/Desktop/GitHub/DS_Take_Home/data/Fraud/Fraud_Data.csv')\n",
    "ip_address_data = pd.read_csv('/Users/ChunyanHao/Desktop/GitHub/DS_Take_Home/data/Fraud/IpAddress_to_Country.csv')"
   ]
  },
  {
   "cell_type": "code",
   "execution_count": 3,
   "id": "chinese-double",
   "metadata": {},
   "outputs": [
    {
     "data": {
      "text/html": [
       "<div>\n",
       "<style scoped>\n",
       "    .dataframe tbody tr th:only-of-type {\n",
       "        vertical-align: middle;\n",
       "    }\n",
       "\n",
       "    .dataframe tbody tr th {\n",
       "        vertical-align: top;\n",
       "    }\n",
       "\n",
       "    .dataframe thead th {\n",
       "        text-align: right;\n",
       "    }\n",
       "</style>\n",
       "<table border=\"1\" class=\"dataframe\">\n",
       "  <thead>\n",
       "    <tr style=\"text-align: right;\">\n",
       "      <th></th>\n",
       "      <th>user_id</th>\n",
       "      <th>signup_time</th>\n",
       "      <th>purchase_time</th>\n",
       "      <th>purchase_value</th>\n",
       "      <th>device_id</th>\n",
       "      <th>source</th>\n",
       "      <th>browser</th>\n",
       "      <th>sex</th>\n",
       "      <th>age</th>\n",
       "      <th>ip_address</th>\n",
       "      <th>class</th>\n",
       "    </tr>\n",
       "  </thead>\n",
       "  <tbody>\n",
       "    <tr>\n",
       "      <th>0</th>\n",
       "      <td>22058</td>\n",
       "      <td>2015-02-24 22:55:49</td>\n",
       "      <td>2015-04-18 02:47:11</td>\n",
       "      <td>34</td>\n",
       "      <td>QVPSPJUOCKZAR</td>\n",
       "      <td>SEO</td>\n",
       "      <td>Chrome</td>\n",
       "      <td>M</td>\n",
       "      <td>39</td>\n",
       "      <td>7.327584e+08</td>\n",
       "      <td>0</td>\n",
       "    </tr>\n",
       "    <tr>\n",
       "      <th>1</th>\n",
       "      <td>333320</td>\n",
       "      <td>2015-06-07 20:39:50</td>\n",
       "      <td>2015-06-08 01:38:54</td>\n",
       "      <td>16</td>\n",
       "      <td>EOGFQPIZPYXFZ</td>\n",
       "      <td>Ads</td>\n",
       "      <td>Chrome</td>\n",
       "      <td>F</td>\n",
       "      <td>53</td>\n",
       "      <td>3.503114e+08</td>\n",
       "      <td>0</td>\n",
       "    </tr>\n",
       "    <tr>\n",
       "      <th>2</th>\n",
       "      <td>1359</td>\n",
       "      <td>2015-01-01 18:52:44</td>\n",
       "      <td>2015-01-01 18:52:45</td>\n",
       "      <td>15</td>\n",
       "      <td>YSSKYOSJHPPLJ</td>\n",
       "      <td>SEO</td>\n",
       "      <td>Opera</td>\n",
       "      <td>M</td>\n",
       "      <td>53</td>\n",
       "      <td>2.621474e+09</td>\n",
       "      <td>1</td>\n",
       "    </tr>\n",
       "  </tbody>\n",
       "</table>\n",
       "</div>"
      ],
      "text/plain": [
       "   user_id          signup_time        purchase_time  purchase_value  \\\n",
       "0    22058  2015-02-24 22:55:49  2015-04-18 02:47:11              34   \n",
       "1   333320  2015-06-07 20:39:50  2015-06-08 01:38:54              16   \n",
       "2     1359  2015-01-01 18:52:44  2015-01-01 18:52:45              15   \n",
       "\n",
       "       device_id source browser sex  age    ip_address  class  \n",
       "0  QVPSPJUOCKZAR    SEO  Chrome   M   39  7.327584e+08      0  \n",
       "1  EOGFQPIZPYXFZ    Ads  Chrome   F   53  3.503114e+08      0  \n",
       "2  YSSKYOSJHPPLJ    SEO   Opera   M   53  2.621474e+09      1  "
      ]
     },
     "execution_count": 3,
     "metadata": {},
     "output_type": "execute_result"
    }
   ],
   "source": [
    "fraud_data.head(3)"
   ]
  },
  {
   "cell_type": "code",
   "execution_count": 4,
   "id": "packed-quest",
   "metadata": {},
   "outputs": [
    {
     "data": {
      "text/html": [
       "<div>\n",
       "<style scoped>\n",
       "    .dataframe tbody tr th:only-of-type {\n",
       "        vertical-align: middle;\n",
       "    }\n",
       "\n",
       "    .dataframe tbody tr th {\n",
       "        vertical-align: top;\n",
       "    }\n",
       "\n",
       "    .dataframe thead th {\n",
       "        text-align: right;\n",
       "    }\n",
       "</style>\n",
       "<table border=\"1\" class=\"dataframe\">\n",
       "  <thead>\n",
       "    <tr style=\"text-align: right;\">\n",
       "      <th></th>\n",
       "      <th>lower_bound_ip_address</th>\n",
       "      <th>upper_bound_ip_address</th>\n",
       "      <th>country</th>\n",
       "    </tr>\n",
       "  </thead>\n",
       "  <tbody>\n",
       "    <tr>\n",
       "      <th>0</th>\n",
       "      <td>16777216.0</td>\n",
       "      <td>16777471</td>\n",
       "      <td>Australia</td>\n",
       "    </tr>\n",
       "    <tr>\n",
       "      <th>1</th>\n",
       "      <td>16777472.0</td>\n",
       "      <td>16777727</td>\n",
       "      <td>China</td>\n",
       "    </tr>\n",
       "    <tr>\n",
       "      <th>2</th>\n",
       "      <td>16777728.0</td>\n",
       "      <td>16778239</td>\n",
       "      <td>China</td>\n",
       "    </tr>\n",
       "  </tbody>\n",
       "</table>\n",
       "</div>"
      ],
      "text/plain": [
       "   lower_bound_ip_address  upper_bound_ip_address    country\n",
       "0              16777216.0                16777471  Australia\n",
       "1              16777472.0                16777727      China\n",
       "2              16777728.0                16778239      China"
      ]
     },
     "execution_count": 4,
     "metadata": {},
     "output_type": "execute_result"
    }
   ],
   "source": [
    "ip_address_data.head(3)"
   ]
  },
  {
   "cell_type": "code",
   "execution_count": 5,
   "id": "optional-enough",
   "metadata": {},
   "outputs": [
    {
     "name": "stdout",
     "output_type": "stream",
     "text": [
      "<class 'pandas.core.frame.DataFrame'>\n",
      "RangeIndex: 151112 entries, 0 to 151111\n",
      "Data columns (total 11 columns):\n",
      " #   Column          Non-Null Count   Dtype  \n",
      "---  ------          --------------   -----  \n",
      " 0   user_id         151112 non-null  int64  \n",
      " 1   signup_time     151112 non-null  object \n",
      " 2   purchase_time   151112 non-null  object \n",
      " 3   purchase_value  151112 non-null  int64  \n",
      " 4   device_id       151112 non-null  object \n",
      " 5   source          151112 non-null  object \n",
      " 6   browser         151112 non-null  object \n",
      " 7   sex             151112 non-null  object \n",
      " 8   age             151112 non-null  int64  \n",
      " 9   ip_address      151112 non-null  float64\n",
      " 10  class           151112 non-null  int64  \n",
      "dtypes: float64(1), int64(4), object(6)\n",
      "memory usage: 12.7+ MB\n"
     ]
    }
   ],
   "source": [
    "fraud_data.info()"
   ]
  },
  {
   "cell_type": "code",
   "execution_count": 6,
   "id": "bafc1fb6",
   "metadata": {},
   "outputs": [],
   "source": [
    "fraud_data['purchase_time'] = pd.to_datetime(fraud_data['purchase_time'])\n",
    "fraud_data['signup_time'] = pd.to_datetime(fraud_data['signup_time'])"
   ]
  },
  {
   "cell_type": "code",
   "execution_count": 7,
   "id": "lonely-restriction",
   "metadata": {},
   "outputs": [
    {
     "name": "stdout",
     "output_type": "stream",
     "text": [
      "user_id              151112\t [ 22058 333320   1359 150084 221365]\n",
      "signup_time          151112\t ['2015-02-24T22:55:49.000000000' '2015-06-07T20:39:50.000000000'\n",
      " '2015-01-01T18:52:44.000000000' '2015-04-28T21:13:25.000000000'\n",
      " '2015-07-21T07:09:52.000000000']\n",
      "purchase_time        150679\t ['2015-04-18T02:47:11.000000000' '2015-06-08T01:38:54.000000000'\n",
      " '2015-01-01T18:52:45.000000000' '2015-05-04T13:54:50.000000000'\n",
      " '2015-09-09T18:40:53.000000000']\n",
      "purchase_value         122\t [34 16 15 44 39]\n",
      "device_id            137956\t ['QVPSPJUOCKZAR' 'EOGFQPIZPYXFZ' 'YSSKYOSJHPPLJ' 'ATGTXKYKUDUQN'\n",
      " 'NAUITBZFJKHWW']\n",
      "source                   3\t ['SEO' 'Ads' 'Direct']\n",
      "browser                  5\t ['Chrome' 'Opera' 'Safari' 'IE' 'FireFox']\n",
      "sex                      2\t ['M' 'F']\n",
      "age                     58\t [39 53 41 45 18]\n",
      "ip_address           143512\t [7.32758369e+08 3.50311388e+08 2.62147382e+09 3.84054244e+09\n",
      " 4.15583117e+08]\n",
      "class                    2\t [0 1]\n"
     ]
    }
   ],
   "source": [
    "for column in fraud_data.columns:\n",
    "    uniques = fraud_data[column].unique()\n",
    "    print('{0:20s} {1:5d}\\t'.format(column, len(uniques)), uniques[:5])"
   ]
  },
  {
   "cell_type": "code",
   "execution_count": 8,
   "id": "f4afe86d",
   "metadata": {},
   "outputs": [
    {
     "data": {
      "text/html": [
       "<div>\n",
       "<style scoped>\n",
       "    .dataframe tbody tr th:only-of-type {\n",
       "        vertical-align: middle;\n",
       "    }\n",
       "\n",
       "    .dataframe tbody tr th {\n",
       "        vertical-align: top;\n",
       "    }\n",
       "\n",
       "    .dataframe thead th {\n",
       "        text-align: right;\n",
       "    }\n",
       "</style>\n",
       "<table border=\"1\" class=\"dataframe\">\n",
       "  <thead>\n",
       "    <tr style=\"text-align: right;\">\n",
       "      <th></th>\n",
       "      <th>user_id</th>\n",
       "      <th>purchase_value</th>\n",
       "      <th>age</th>\n",
       "      <th>ip_address</th>\n",
       "      <th>class</th>\n",
       "    </tr>\n",
       "  </thead>\n",
       "  <tbody>\n",
       "    <tr>\n",
       "      <th>count</th>\n",
       "      <td>151112.000000</td>\n",
       "      <td>151112.000000</td>\n",
       "      <td>151112.000000</td>\n",
       "      <td>1.511120e+05</td>\n",
       "      <td>151112.000000</td>\n",
       "    </tr>\n",
       "    <tr>\n",
       "      <th>mean</th>\n",
       "      <td>200171.040970</td>\n",
       "      <td>36.935372</td>\n",
       "      <td>33.140704</td>\n",
       "      <td>2.152145e+09</td>\n",
       "      <td>0.093646</td>\n",
       "    </tr>\n",
       "    <tr>\n",
       "      <th>std</th>\n",
       "      <td>115369.285024</td>\n",
       "      <td>18.322762</td>\n",
       "      <td>8.617733</td>\n",
       "      <td>1.248497e+09</td>\n",
       "      <td>0.291336</td>\n",
       "    </tr>\n",
       "    <tr>\n",
       "      <th>min</th>\n",
       "      <td>2.000000</td>\n",
       "      <td>9.000000</td>\n",
       "      <td>18.000000</td>\n",
       "      <td>5.209350e+04</td>\n",
       "      <td>0.000000</td>\n",
       "    </tr>\n",
       "    <tr>\n",
       "      <th>25%</th>\n",
       "      <td>100642.500000</td>\n",
       "      <td>22.000000</td>\n",
       "      <td>27.000000</td>\n",
       "      <td>1.085934e+09</td>\n",
       "      <td>0.000000</td>\n",
       "    </tr>\n",
       "    <tr>\n",
       "      <th>50%</th>\n",
       "      <td>199958.000000</td>\n",
       "      <td>35.000000</td>\n",
       "      <td>33.000000</td>\n",
       "      <td>2.154770e+09</td>\n",
       "      <td>0.000000</td>\n",
       "    </tr>\n",
       "    <tr>\n",
       "      <th>75%</th>\n",
       "      <td>300054.000000</td>\n",
       "      <td>49.000000</td>\n",
       "      <td>39.000000</td>\n",
       "      <td>3.243258e+09</td>\n",
       "      <td>0.000000</td>\n",
       "    </tr>\n",
       "    <tr>\n",
       "      <th>max</th>\n",
       "      <td>400000.000000</td>\n",
       "      <td>154.000000</td>\n",
       "      <td>76.000000</td>\n",
       "      <td>4.294850e+09</td>\n",
       "      <td>1.000000</td>\n",
       "    </tr>\n",
       "  </tbody>\n",
       "</table>\n",
       "</div>"
      ],
      "text/plain": [
       "             user_id  purchase_value            age    ip_address  \\\n",
       "count  151112.000000   151112.000000  151112.000000  1.511120e+05   \n",
       "mean   200171.040970       36.935372      33.140704  2.152145e+09   \n",
       "std    115369.285024       18.322762       8.617733  1.248497e+09   \n",
       "min         2.000000        9.000000      18.000000  5.209350e+04   \n",
       "25%    100642.500000       22.000000      27.000000  1.085934e+09   \n",
       "50%    199958.000000       35.000000      33.000000  2.154770e+09   \n",
       "75%    300054.000000       49.000000      39.000000  3.243258e+09   \n",
       "max    400000.000000      154.000000      76.000000  4.294850e+09   \n",
       "\n",
       "               class  \n",
       "count  151112.000000  \n",
       "mean        0.093646  \n",
       "std         0.291336  \n",
       "min         0.000000  \n",
       "25%         0.000000  \n",
       "50%         0.000000  \n",
       "75%         0.000000  \n",
       "max         1.000000  "
      ]
     },
     "execution_count": 8,
     "metadata": {},
     "output_type": "execute_result"
    }
   ],
   "source": [
    "fraud_data.describe()"
   ]
  },
  {
   "cell_type": "code",
   "execution_count": 9,
   "id": "9732b7bf",
   "metadata": {},
   "outputs": [
    {
     "name": "stdout",
     "output_type": "stream",
     "text": [
      "<class 'pandas.core.frame.DataFrame'>\n",
      "RangeIndex: 138846 entries, 0 to 138845\n",
      "Data columns (total 3 columns):\n",
      " #   Column                  Non-Null Count   Dtype  \n",
      "---  ------                  --------------   -----  \n",
      " 0   lower_bound_ip_address  138846 non-null  float64\n",
      " 1   upper_bound_ip_address  138846 non-null  int64  \n",
      " 2   country                 138846 non-null  object \n",
      "dtypes: float64(1), int64(1), object(1)\n",
      "memory usage: 3.2+ MB\n"
     ]
    }
   ],
   "source": [
    "ip_address_data.info()"
   ]
  },
  {
   "cell_type": "code",
   "execution_count": 10,
   "id": "fa342b90",
   "metadata": {},
   "outputs": [
    {
     "data": {
      "text/html": [
       "<div>\n",
       "<style scoped>\n",
       "    .dataframe tbody tr th:only-of-type {\n",
       "        vertical-align: middle;\n",
       "    }\n",
       "\n",
       "    .dataframe tbody tr th {\n",
       "        vertical-align: top;\n",
       "    }\n",
       "\n",
       "    .dataframe thead th {\n",
       "        text-align: right;\n",
       "    }\n",
       "</style>\n",
       "<table border=\"1\" class=\"dataframe\">\n",
       "  <thead>\n",
       "    <tr style=\"text-align: right;\">\n",
       "      <th></th>\n",
       "      <th>lower_bound_ip_address</th>\n",
       "      <th>upper_bound_ip_address</th>\n",
       "    </tr>\n",
       "  </thead>\n",
       "  <tbody>\n",
       "    <tr>\n",
       "      <th>count</th>\n",
       "      <td>1.388460e+05</td>\n",
       "      <td>1.388460e+05</td>\n",
       "    </tr>\n",
       "    <tr>\n",
       "      <th>mean</th>\n",
       "      <td>2.724532e+09</td>\n",
       "      <td>2.724557e+09</td>\n",
       "    </tr>\n",
       "    <tr>\n",
       "      <th>std</th>\n",
       "      <td>8.975215e+08</td>\n",
       "      <td>8.974979e+08</td>\n",
       "    </tr>\n",
       "    <tr>\n",
       "      <th>min</th>\n",
       "      <td>1.677722e+07</td>\n",
       "      <td>1.677747e+07</td>\n",
       "    </tr>\n",
       "    <tr>\n",
       "      <th>25%</th>\n",
       "      <td>1.919930e+09</td>\n",
       "      <td>1.920008e+09</td>\n",
       "    </tr>\n",
       "    <tr>\n",
       "      <th>50%</th>\n",
       "      <td>3.230887e+09</td>\n",
       "      <td>3.230888e+09</td>\n",
       "    </tr>\n",
       "    <tr>\n",
       "      <th>75%</th>\n",
       "      <td>3.350465e+09</td>\n",
       "      <td>3.350466e+09</td>\n",
       "    </tr>\n",
       "    <tr>\n",
       "      <th>max</th>\n",
       "      <td>3.758096e+09</td>\n",
       "      <td>3.758096e+09</td>\n",
       "    </tr>\n",
       "  </tbody>\n",
       "</table>\n",
       "</div>"
      ],
      "text/plain": [
       "       lower_bound_ip_address  upper_bound_ip_address\n",
       "count            1.388460e+05            1.388460e+05\n",
       "mean             2.724532e+09            2.724557e+09\n",
       "std              8.975215e+08            8.974979e+08\n",
       "min              1.677722e+07            1.677747e+07\n",
       "25%              1.919930e+09            1.920008e+09\n",
       "50%              3.230887e+09            3.230888e+09\n",
       "75%              3.350465e+09            3.350466e+09\n",
       "max              3.758096e+09            3.758096e+09"
      ]
     },
     "execution_count": 10,
     "metadata": {},
     "output_type": "execute_result"
    }
   ],
   "source": [
    "ip_address_data.describe()"
   ]
  },
  {
   "cell_type": "markdown",
   "id": "409ec2d4",
   "metadata": {},
   "source": [
    "We notice that the range of ip_address in the ip_address_data [1.677722e+07, 3.758096e+09] is much narrow than that in fraud data [5.209350e+04, 4.294850e+09] , therefore we should expect there are some records leaving the variable of country as NA after merge."
   ]
  },
  {
   "cell_type": "code",
   "execution_count": 11,
   "id": "4dc90028",
   "metadata": {},
   "outputs": [
    {
     "data": {
      "text/html": [
       "<div>\n",
       "<style scoped>\n",
       "    .dataframe tbody tr th:only-of-type {\n",
       "        vertical-align: middle;\n",
       "    }\n",
       "\n",
       "    .dataframe tbody tr th {\n",
       "        vertical-align: top;\n",
       "    }\n",
       "\n",
       "    .dataframe thead th {\n",
       "        text-align: right;\n",
       "    }\n",
       "</style>\n",
       "<table border=\"1\" class=\"dataframe\">\n",
       "  <thead>\n",
       "    <tr style=\"text-align: right;\">\n",
       "      <th></th>\n",
       "      <th>user_id</th>\n",
       "      <th>signup_time</th>\n",
       "      <th>purchase_time</th>\n",
       "      <th>purchase_value</th>\n",
       "      <th>device_id</th>\n",
       "      <th>source</th>\n",
       "      <th>browser</th>\n",
       "      <th>sex</th>\n",
       "      <th>age</th>\n",
       "      <th>ip_address</th>\n",
       "      <th>class</th>\n",
       "      <th>country</th>\n",
       "    </tr>\n",
       "  </thead>\n",
       "  <tbody>\n",
       "    <tr>\n",
       "      <th>0</th>\n",
       "      <td>22058</td>\n",
       "      <td>2015-02-24 22:55:49</td>\n",
       "      <td>2015-04-18 02:47:11</td>\n",
       "      <td>34</td>\n",
       "      <td>QVPSPJUOCKZAR</td>\n",
       "      <td>SEO</td>\n",
       "      <td>Chrome</td>\n",
       "      <td>M</td>\n",
       "      <td>39</td>\n",
       "      <td>7.327584e+08</td>\n",
       "      <td>0</td>\n",
       "      <td>Japan</td>\n",
       "    </tr>\n",
       "    <tr>\n",
       "      <th>1</th>\n",
       "      <td>333320</td>\n",
       "      <td>2015-06-07 20:39:50</td>\n",
       "      <td>2015-06-08 01:38:54</td>\n",
       "      <td>16</td>\n",
       "      <td>EOGFQPIZPYXFZ</td>\n",
       "      <td>Ads</td>\n",
       "      <td>Chrome</td>\n",
       "      <td>F</td>\n",
       "      <td>53</td>\n",
       "      <td>3.503114e+08</td>\n",
       "      <td>0</td>\n",
       "      <td>United States</td>\n",
       "    </tr>\n",
       "    <tr>\n",
       "      <th>2</th>\n",
       "      <td>1359</td>\n",
       "      <td>2015-01-01 18:52:44</td>\n",
       "      <td>2015-01-01 18:52:45</td>\n",
       "      <td>15</td>\n",
       "      <td>YSSKYOSJHPPLJ</td>\n",
       "      <td>SEO</td>\n",
       "      <td>Opera</td>\n",
       "      <td>M</td>\n",
       "      <td>53</td>\n",
       "      <td>2.621474e+09</td>\n",
       "      <td>1</td>\n",
       "      <td>United States</td>\n",
       "    </tr>\n",
       "  </tbody>\n",
       "</table>\n",
       "</div>"
      ],
      "text/plain": [
       "   user_id         signup_time       purchase_time  purchase_value  \\\n",
       "0    22058 2015-02-24 22:55:49 2015-04-18 02:47:11              34   \n",
       "1   333320 2015-06-07 20:39:50 2015-06-08 01:38:54              16   \n",
       "2     1359 2015-01-01 18:52:44 2015-01-01 18:52:45              15   \n",
       "\n",
       "       device_id source browser sex  age    ip_address  class        country  \n",
       "0  QVPSPJUOCKZAR    SEO  Chrome   M   39  7.327584e+08      0          Japan  \n",
       "1  EOGFQPIZPYXFZ    Ads  Chrome   F   53  3.503114e+08      0  United States  \n",
       "2  YSSKYOSJHPPLJ    SEO   Opera   M   53  2.621474e+09      1  United States  "
      ]
     },
     "execution_count": 11,
     "metadata": {},
     "output_type": "execute_result"
    }
   ],
   "source": [
    "countries = []\n",
    "for i in range(len(fraud_data)):\n",
    "    ip_address = fraud_data.loc[i, 'ip_address']\n",
    "    tmp = ip_address_data[(ip_address_data['lower_bound_ip_address'] <= ip_address) &\n",
    "                          (ip_address_data['upper_bound_ip_address'] >= ip_address)]\n",
    "    if len(tmp) == 1:\n",
    "        countries.append(tmp['country'].values[0])\n",
    "    else:\n",
    "        countries.append('not_found')\n",
    "        \n",
    "fraud_data['country'] = countries\n",
    "\n",
    "fraud_data.head(3)"
   ]
  },
  {
   "cell_type": "markdown",
   "id": "authentic-objective",
   "metadata": {},
   "source": [
    "## Part 2 Data visualization"
   ]
  },
  {
   "cell_type": "markdown",
   "id": "0ebf95c6",
   "metadata": {},
   "source": [
    "### 1. Fraud vs time variables"
   ]
  },
  {
   "cell_type": "markdown",
   "id": "abroad-rating",
   "metadata": {},
   "source": [
    "#### 1.1) Fraud vs time difference"
   ]
  },
  {
   "cell_type": "code",
   "execution_count": 12,
   "id": "expanded-turkey",
   "metadata": {},
   "outputs": [
    {
     "data": {
      "image/png": "[encoded data removed]",
      "text/plain": [
       "<Figure size 864x432 with 2 Axes>"
      ]
     },
     "metadata": {
      "needs_background": "light"
     },
     "output_type": "display_data"
    }
   ],
   "source": [
    "fraud_data['time_diff_minutes'] = (fraud_data['purchase_time'] - fraud_data['signup_time']).dt.total_seconds()/60\n",
    "fraud_data['time_diff_seconds'] = (fraud_data['purchase_time'] - fraud_data['signup_time']).dt.total_seconds()\n",
    "\n",
    "fig, ax = plt.subplots(2, 1, figsize = (12, 6))\n",
    "\n",
    "sns.histplot(data = fraud_data, x = 'time_diff_minutes', hue = 'class', ax = ax[0])\n",
    "sns.histplot(data = fraud_data[fraud_data['time_diff_minutes'] < 60], x = 'time_diff_minutes', hue = 'class', ax = ax[1])\n",
    "\n",
    "ax[0].set_yscale(\"log\")\n",
    "ax[1].set_yscale(\"log\")\n",
    "plt.show()"
   ]
  },
  {
   "cell_type": "markdown",
   "id": "perfect-cloud",
   "metadata": {},
   "source": [
    "The bar plot above shows that most of the account with fraud tend to make the purchase right after creating the fraud account. Therefore, it the time difference between register and purchase can be taken as an important fraud signal."
   ]
  },
  {
   "cell_type": "markdown",
   "id": "planned-plenty",
   "metadata": {},
   "source": [
    "##### 1.2) Fraud vs day_of_week"
   ]
  },
  {
   "cell_type": "code",
   "execution_count": 13,
   "id": "victorian-spanish",
   "metadata": {},
   "outputs": [
    {
     "data": {
      "image/png": "[encoded data removed]",
      "text/plain": [
       "<Figure size 864x216 with 2 Axes>"
      ]
     },
     "metadata": {
      "needs_background": "light"
     },
     "output_type": "display_data"
    },
    {
     "data": {
      "image/png": "[encoded data removed]",
      "text/plain": [
       "<Figure size 864x216 with 2 Axes>"
      ]
     },
     "metadata": {
      "needs_background": "light"
     },
     "output_type": "display_data"
    }
   ],
   "source": [
    "fraud_data['purchase_time_weekday'] = fraud_data['purchase_time'].dt.dayofweek+1\n",
    "fraud_data['signup_time_weekday'] = fraud_data['signup_time'].dt.dayofweek+1\n",
    "\n",
    "sns.catplot(data = fraud_data, \n",
    "            x = 'signup_time_weekday', col = 'class', kind = 'count',  height = 3, aspect = 2)\n",
    "sns.catplot(data = fraud_data, \n",
    "            x = 'purchase_time_weekday', col = 'class',kind = 'count', height = 3, aspect = 2)\n",
    "plt.show()"
   ]
  },
  {
   "cell_type": "markdown",
   "id": "periodic-coordinate",
   "metadata": {},
   "source": [
    "The two plots above show that the sign up and purchase of fraud account are relatively low in Tuesday and Wednesday. While for none fraud accounts, the distribution between different weekdays are not so obvious."
   ]
  },
  {
   "cell_type": "markdown",
   "id": "advised-aberdeen",
   "metadata": {},
   "source": [
    "##### 1.3) Fraud vs week_num"
   ]
  },
  {
   "cell_type": "code",
   "execution_count": 14,
   "id": "warming-regular",
   "metadata": {},
   "outputs": [
    {
     "data": {
      "image/png": "[encoded data removed]",
      "text/plain": [
       "<Figure size 864x216 with 2 Axes>"
      ]
     },
     "metadata": {
      "needs_background": "light"
     },
     "output_type": "display_data"
    },
    {
     "data": {
      "image/png": "[encoded data removed]",
      "text/plain": [
       "<Figure size 864x216 with 2 Axes>"
      ]
     },
     "metadata": {
      "needs_background": "light"
     },
     "output_type": "display_data"
    }
   ],
   "source": [
    "fraud_data['purchase_month'] = fraud_data['purchase_time'].dt.month\n",
    "fraud_data['signup_month'] = fraud_data['signup_time'].dt.month\n",
    "\n",
    "sns.catplot(data = fraud_data, x = 'signup_month', col = 'class', kind = 'count', height = 3, aspect = 2)\n",
    "sns.catplot(data = fraud_data, x = 'purchase_month', col = 'class', kind = 'count',  height = 3, aspect = 2)\n",
    "plt.show()"
   ]
  },
  {
   "cell_type": "markdown",
   "id": "spare-anthony",
   "metadata": {},
   "source": [
    "The interesting phenomenon of the distribution of month between class 0 and 1 is that:\n",
    "   1) Non-fraud accounts are created randomly in every month, and their purchase reached the peak season in June, July and August.\n",
    "   2) Fraud accounts are registered in January mostly."
   ]
  },
  {
   "cell_type": "markdown",
   "id": "precise-eclipse",
   "metadata": {},
   "source": [
    "### 2 Fraud vs purchase value"
   ]
  },
  {
   "cell_type": "code",
   "execution_count": 15,
   "id": "front-galaxy",
   "metadata": {},
   "outputs": [
    {
     "data": {
      "image/png": "[encoded data removed]",
      "text/plain": [
       "<Figure size 864x432 with 2 Axes>"
      ]
     },
     "metadata": {
      "needs_background": "light"
     },
     "output_type": "display_data"
    }
   ],
   "source": [
    "fig, ax = plt.subplots(2, 1 ,figsize = (12, 6))\n",
    "\n",
    "sns.lineplot(data = fraud_data, x = 'purchase_value', y = 'class', estimator = 'mean', ax = ax[0])\n",
    "sns.histplot(data = fraud_data, x = 'purchase_value', hue = 'class', bins = 30, ax = ax[1])\n",
    "ax[1].set_yscale(\"log\")\n",
    "\n",
    "plt.show()"
   ]
  },
  {
   "cell_type": "markdown",
   "id": "documented-thunder",
   "metadata": {},
   "source": [
    "The two plots above shows that:\n",
    "      1) The possibility of fraud account when the purchase amount in the range of [80, 100] is especially high.\n",
    "      2) Both non-fraud account and fraud account have lots of purchase with the amount in range [0, 60] "
   ]
  },
  {
   "cell_type": "markdown",
   "id": "parliamentary-franklin",
   "metadata": {},
   "source": [
    "### 3. Fraud vs customer source"
   ]
  },
  {
   "cell_type": "code",
   "execution_count": 16,
   "id": "reliable-crime",
   "metadata": {},
   "outputs": [
    {
     "data": {
      "image/png": "[encoded data removed]",
      "text/plain": [
       "<Figure size 864x216 with 2 Axes>"
      ]
     },
     "metadata": {
      "needs_background": "light"
     },
     "output_type": "display_data"
    }
   ],
   "source": [
    "fig, ax = plt.subplots(1, 2 ,figsize = (12, 3))\n",
    "\n",
    "sns.barplot(data = fraud_data, x = 'source', y = 'class', estimator = np.mean, ax = ax[0])\n",
    "sns.histplot(data = fraud_data, x = 'source', hue = 'class', ax = ax[1])\n",
    "\n",
    "plt.show()"
   ]
  },
  {
   "cell_type": "markdown",
   "id": "seventh-county",
   "metadata": {},
   "source": [
    "The two plots above indicate that the fraud rate of Direct source is higher than the other two sources. However, it's obvious that Ads and SEO are still the main source of purchase for non-fraud users. This emphases the possibility of Fraud for users from \"Direct' source."
   ]
  },
  {
   "cell_type": "markdown",
   "id": "animated-variable",
   "metadata": {},
   "source": [
    "### 4. Fraud vs browser"
   ]
  },
  {
   "cell_type": "code",
   "execution_count": 17,
   "id": "infrared-state",
   "metadata": {},
   "outputs": [
    {
     "data": {
      "image/png": "[encoded data removed]",
      "text/plain": [
       "<Figure size 864x216 with 2 Axes>"
      ]
     },
     "metadata": {
      "needs_background": "light"
     },
     "output_type": "display_data"
    }
   ],
   "source": [
    "fig, ax = plt.subplots(1, 2 ,figsize = (12, 3))\n",
    "\n",
    "sns.barplot(data = fraud_data, x = 'browser', y = 'class', estimator = np.mean, ax = ax[0])\n",
    "sns.histplot(data = fraud_data, x = 'browser', hue = 'class', ax = ax[1])\n",
    "\n",
    "plt.show()"
   ]
  },
  {
   "cell_type": "markdown",
   "id": "running-invalid",
   "metadata": {},
   "source": [
    "There is no significant difference in fraud rate between the five browser types."
   ]
  },
  {
   "cell_type": "markdown",
   "id": "precious-startup",
   "metadata": {},
   "source": [
    "### 5. Fraud vs sex"
   ]
  },
  {
   "cell_type": "code",
   "execution_count": 18,
   "id": "acute-medium",
   "metadata": {},
   "outputs": [
    {
     "data": {
      "image/png": "[encoded data removed]",
      "text/plain": [
       "<Figure size 864x216 with 2 Axes>"
      ]
     },
     "metadata": {
      "needs_background": "light"
     },
     "output_type": "display_data"
    }
   ],
   "source": [
    "fig, ax = plt.subplots(1, 2 ,figsize = (12, 3))\n",
    "\n",
    "sns.barplot(data = fraud_data, x = 'sex', y = 'class', estimator = np.mean, ax = ax[0])\n",
    "sns.histplot(data = fraud_data, x = 'sex', hue = 'class', ax = ax[1])\n",
    "\n",
    "plt.show()"
   ]
  },
  {
   "cell_type": "markdown",
   "id": "plain-portland",
   "metadata": {},
   "source": [
    "There is no significant difference in fraud rate between female and male."
   ]
  },
  {
   "cell_type": "markdown",
   "id": "favorite-cooperation",
   "metadata": {},
   "source": [
    "### 6. Fraud vs age"
   ]
  },
  {
   "cell_type": "code",
   "execution_count": 19,
   "id": "detected-distance",
   "metadata": {},
   "outputs": [
    {
     "data": {
      "image/png": "[encoded data removed]",
      "text/plain": [
       "<Figure size 864x432 with 2 Axes>"
      ]
     },
     "metadata": {
      "needs_background": "light"
     },
     "output_type": "display_data"
    }
   ],
   "source": [
    "fig, ax = plt.subplots(2, 1 ,figsize = (12, 6))\n",
    "\n",
    "sns.lineplot(data = fraud_data, x = 'age', y = 'class', estimator = np.mean, ax = ax[0])\n",
    "sns.histplot(data = fraud_data, x = 'age', ax = ax[1], hue = 'class')\n",
    "ax[1].set_yscale(\"log\")\n",
    "\n",
    "plt.show()"
   ]
  },
  {
   "cell_type": "markdown",
   "id": "surprising-reservation",
   "metadata": {},
   "source": [
    "Users in the age range of [60, 65] are more likely to take fraud purchase.\n",
    "While the general age group of customer in both non-fraud and fraud accounts is [25, 40]"
   ]
  },
  {
   "cell_type": "markdown",
   "id": "collected-bidding",
   "metadata": {},
   "source": [
    "### 7. Fraud vs country"
   ]
  },
  {
   "cell_type": "code",
   "execution_count": 20,
   "id": "clean-fleet",
   "metadata": {},
   "outputs": [
    {
     "data": {
      "text/html": [
       "<div>\n",
       "<style scoped>\n",
       "    .dataframe tbody tr th:only-of-type {\n",
       "        vertical-align: middle;\n",
       "    }\n",
       "\n",
       "    .dataframe tbody tr th {\n",
       "        vertical-align: top;\n",
       "    }\n",
       "\n",
       "    .dataframe thead th {\n",
       "        text-align: right;\n",
       "    }\n",
       "</style>\n",
       "<table border=\"1\" class=\"dataframe\">\n",
       "  <thead>\n",
       "    <tr style=\"text-align: right;\">\n",
       "      <th></th>\n",
       "      <th>country</th>\n",
       "      <th>class</th>\n",
       "      <th>country</th>\n",
       "      <th>class</th>\n",
       "    </tr>\n",
       "  </thead>\n",
       "  <tbody>\n",
       "    <tr>\n",
       "      <th>0</th>\n",
       "      <td>United States</td>\n",
       "      <td>58049</td>\n",
       "      <td>Turkmenistan</td>\n",
       "      <td>1.000000</td>\n",
       "    </tr>\n",
       "    <tr>\n",
       "      <th>1</th>\n",
       "      <td>not_found</td>\n",
       "      <td>21966</td>\n",
       "      <td>Namibia</td>\n",
       "      <td>0.434783</td>\n",
       "    </tr>\n",
       "    <tr>\n",
       "      <th>2</th>\n",
       "      <td>China</td>\n",
       "      <td>12038</td>\n",
       "      <td>Sri Lanka</td>\n",
       "      <td>0.419355</td>\n",
       "    </tr>\n",
       "    <tr>\n",
       "      <th>3</th>\n",
       "      <td>Japan</td>\n",
       "      <td>7306</td>\n",
       "      <td>Luxembourg</td>\n",
       "      <td>0.388889</td>\n",
       "    </tr>\n",
       "    <tr>\n",
       "      <th>4</th>\n",
       "      <td>United Kingdom</td>\n",
       "      <td>4490</td>\n",
       "      <td>Virgin Islands (U.S.)</td>\n",
       "      <td>0.333333</td>\n",
       "    </tr>\n",
       "    <tr>\n",
       "      <th>5</th>\n",
       "      <td>Korea Republic of</td>\n",
       "      <td>4162</td>\n",
       "      <td>Ecuador</td>\n",
       "      <td>0.264151</td>\n",
       "    </tr>\n",
       "    <tr>\n",
       "      <th>6</th>\n",
       "      <td>Germany</td>\n",
       "      <td>3646</td>\n",
       "      <td>Tunisia</td>\n",
       "      <td>0.262712</td>\n",
       "    </tr>\n",
       "    <tr>\n",
       "      <th>7</th>\n",
       "      <td>France</td>\n",
       "      <td>3161</td>\n",
       "      <td>Peru</td>\n",
       "      <td>0.260504</td>\n",
       "    </tr>\n",
       "    <tr>\n",
       "      <th>8</th>\n",
       "      <td>Canada</td>\n",
       "      <td>2975</td>\n",
       "      <td>Bolivia</td>\n",
       "      <td>0.245283</td>\n",
       "    </tr>\n",
       "    <tr>\n",
       "      <th>9</th>\n",
       "      <td>Brazil</td>\n",
       "      <td>2961</td>\n",
       "      <td>Kuwait</td>\n",
       "      <td>0.233333</td>\n",
       "    </tr>\n",
       "  </tbody>\n",
       "</table>\n",
       "</div>"
      ],
      "text/plain": [
       "             country  class                country     class\n",
       "0      United States  58049           Turkmenistan  1.000000\n",
       "1          not_found  21966                Namibia  0.434783\n",
       "2              China  12038              Sri Lanka  0.419355\n",
       "3              Japan   7306             Luxembourg  0.388889\n",
       "4     United Kingdom   4490  Virgin Islands (U.S.)  0.333333\n",
       "5  Korea Republic of   4162                Ecuador  0.264151\n",
       "6            Germany   3646                Tunisia  0.262712\n",
       "7             France   3161                   Peru  0.260504\n",
       "8             Canada   2975                Bolivia  0.245283\n",
       "9             Brazil   2961                 Kuwait  0.233333"
      ]
     },
     "execution_count": 20,
     "metadata": {},
     "output_type": "execute_result"
    }
   ],
   "source": [
    "country_fraud_count = fraud_data[['country', 'class']].groupby(\n",
    "                      'country').count().sort_values(by = 'class', ascending = False).iloc[ :10, :].reset_index()\n",
    "country_fraud_rate = fraud_data[['country', 'class']].groupby(\n",
    "                      'country').mean().sort_values(by = 'class', ascending = False).iloc[ :10, :].reset_index()\n",
    "country_fraud = pd.concat([country_fraud_count,country_fraud_rate], axis = 1).reset_index()\n",
    "country_fraud.iloc[:, 1:]"
   ]
  },
  {
   "cell_type": "markdown",
   "id": "cc86816a",
   "metadata": {},
   "source": [
    "The pivot table above shows that countries including Turkmenistan, Namibia, Sri Lanka, Luxembourg and Virgin Islands (U.S.) have absolutely high level of fraud.  But the customer base of these countries as also very low.\n",
    "\n",
    "Countries including US, China and Japan have a large number of fraud accounts, but their customer base are also high."
   ]
  },
  {
   "cell_type": "markdown",
   "id": "7ed2d6b5",
   "metadata": {},
   "source": [
    "### 8. Fraud vs shared device/ ip_address"
   ]
  },
  {
   "cell_type": "code",
   "execution_count": 21,
   "id": "c6693109",
   "metadata": {},
   "outputs": [],
   "source": [
    "# First calculate the number of user sharing the same device\n",
    "device_count = fraud_data[['device_id', 'user_id']].groupby(['device_id'])['user_id'].count().reset_index()\n",
    "device_count.columns = ['device_id', 'users_shared_one_device']\n",
    "# Then calculate the fraud rate for each device\n",
    "device_rate = fraud_data[['device_id', 'class']].groupby(['device_id'])['class'].mean().reset_index()\n",
    "device_rate.columns = ['device_id', 'fraud_rate']\n",
    "\n",
    "temp_device = pd.merge(left = device_count, right = device_rate, \n",
    "                how = 'left', left_on = 'device_id', right_on = 'device_id' )"
   ]
  },
  {
   "cell_type": "code",
   "execution_count": 22,
   "id": "3b323ca3",
   "metadata": {},
   "outputs": [
    {
     "data": {
      "image/png": "[encoded data removed]",
      "text/plain": [
       "<Figure size 432x216 with 1 Axes>"
      ]
     },
     "metadata": {
      "needs_background": "light"
     },
     "output_type": "display_data"
    }
   ],
   "source": [
    "fig, ax = plt.subplots(figsize = (6, 3))\n",
    "sns.scatterplot(data = temp_device, x = 'users_shared_one_device', y = 'fraud_rate')\n",
    "\n",
    "plt.show()"
   ]
  },
  {
   "cell_type": "code",
   "execution_count": 23,
   "id": "9bbac5e3",
   "metadata": {},
   "outputs": [],
   "source": [
    "# First calculate the number of user sharing the same ip_address\n",
    "ip_count = fraud_data[['ip_address', 'user_id']].groupby(['ip_address'])['user_id'].count().reset_index()\n",
    "ip_count.columns = ['ip_address', 'users_shared_one_IP']\n",
    "# Then calculate the fraud rate for each ip_address\n",
    "ip_rate = fraud_data[['ip_address', 'class']].groupby(['ip_address'])['class'].mean().reset_index()\n",
    "ip_rate.columns = ['ip_address', 'fraud_rate']\n",
    "\n",
    "temp_ip = pd.merge(left = ip_count, right = ip_rate, \n",
    "                how = 'left', left_on = 'ip_address', right_on = 'ip_address' )"
   ]
  },
  {
   "cell_type": "code",
   "execution_count": 24,
   "id": "184b9e64",
   "metadata": {},
   "outputs": [
    {
     "data": {
      "image/png": "[encoded data removed]",
      "text/plain": [
       "<Figure size 432x216 with 1 Axes>"
      ]
     },
     "metadata": {
      "needs_background": "light"
     },
     "output_type": "display_data"
    }
   ],
   "source": [
    "fig, ax = plt.subplots(figsize = (6, 3))\n",
    "sns.scatterplot(data = temp_ip, x = 'users_shared_one_IP', y = 'fraud_rate')\n",
    "\n",
    "plt.show()"
   ]
  },
  {
   "cell_type": "markdown",
   "id": "01ec1e04",
   "metadata": {},
   "source": [
    "From this plot we notice that the more account share the same device or ip_address, the more likely they are fraud accounts"
   ]
  },
  {
   "cell_type": "code",
   "execution_count": 25,
   "id": "bbdf4e62",
   "metadata": {},
   "outputs": [
    {
     "data": {
      "text/html": [
       "<div>\n",
       "<style scoped>\n",
       "    .dataframe tbody tr th:only-of-type {\n",
       "        vertical-align: middle;\n",
       "    }\n",
       "\n",
       "    .dataframe tbody tr th {\n",
       "        vertical-align: top;\n",
       "    }\n",
       "\n",
       "    .dataframe thead th {\n",
       "        text-align: right;\n",
       "    }\n",
       "</style>\n",
       "<table border=\"1\" class=\"dataframe\">\n",
       "  <thead>\n",
       "    <tr style=\"text-align: right;\">\n",
       "      <th></th>\n",
       "      <th>user_id</th>\n",
       "      <th>signup_time</th>\n",
       "      <th>purchase_time</th>\n",
       "      <th>purchase_value</th>\n",
       "      <th>device_id</th>\n",
       "      <th>source</th>\n",
       "      <th>browser</th>\n",
       "      <th>sex</th>\n",
       "      <th>age</th>\n",
       "      <th>ip_address</th>\n",
       "      <th>class</th>\n",
       "      <th>country</th>\n",
       "      <th>time_diff_minutes</th>\n",
       "      <th>time_diff_seconds</th>\n",
       "      <th>purchase_time_weekday</th>\n",
       "      <th>signup_time_weekday</th>\n",
       "      <th>purchase_month</th>\n",
       "      <th>signup_month</th>\n",
       "      <th>users_shared_one_IP</th>\n",
       "      <th>users_shared_one_device</th>\n",
       "    </tr>\n",
       "  </thead>\n",
       "  <tbody>\n",
       "    <tr>\n",
       "      <th>0</th>\n",
       "      <td>22058</td>\n",
       "      <td>2015-02-24 22:55:49</td>\n",
       "      <td>2015-04-18 02:47:11</td>\n",
       "      <td>34</td>\n",
       "      <td>QVPSPJUOCKZAR</td>\n",
       "      <td>SEO</td>\n",
       "      <td>Chrome</td>\n",
       "      <td>M</td>\n",
       "      <td>39</td>\n",
       "      <td>7.327584e+08</td>\n",
       "      <td>0</td>\n",
       "      <td>Japan</td>\n",
       "      <td>75111.366667</td>\n",
       "      <td>4506682.0</td>\n",
       "      <td>6</td>\n",
       "      <td>2</td>\n",
       "      <td>4</td>\n",
       "      <td>2</td>\n",
       "      <td>1</td>\n",
       "      <td>1</td>\n",
       "    </tr>\n",
       "    <tr>\n",
       "      <th>1</th>\n",
       "      <td>333320</td>\n",
       "      <td>2015-06-07 20:39:50</td>\n",
       "      <td>2015-06-08 01:38:54</td>\n",
       "      <td>16</td>\n",
       "      <td>EOGFQPIZPYXFZ</td>\n",
       "      <td>Ads</td>\n",
       "      <td>Chrome</td>\n",
       "      <td>F</td>\n",
       "      <td>53</td>\n",
       "      <td>3.503114e+08</td>\n",
       "      <td>0</td>\n",
       "      <td>United States</td>\n",
       "      <td>299.066667</td>\n",
       "      <td>17944.0</td>\n",
       "      <td>1</td>\n",
       "      <td>7</td>\n",
       "      <td>6</td>\n",
       "      <td>6</td>\n",
       "      <td>1</td>\n",
       "      <td>1</td>\n",
       "    </tr>\n",
       "    <tr>\n",
       "      <th>2</th>\n",
       "      <td>1359</td>\n",
       "      <td>2015-01-01 18:52:44</td>\n",
       "      <td>2015-01-01 18:52:45</td>\n",
       "      <td>15</td>\n",
       "      <td>YSSKYOSJHPPLJ</td>\n",
       "      <td>SEO</td>\n",
       "      <td>Opera</td>\n",
       "      <td>M</td>\n",
       "      <td>53</td>\n",
       "      <td>2.621474e+09</td>\n",
       "      <td>1</td>\n",
       "      <td>United States</td>\n",
       "      <td>0.016667</td>\n",
       "      <td>1.0</td>\n",
       "      <td>4</td>\n",
       "      <td>4</td>\n",
       "      <td>1</td>\n",
       "      <td>1</td>\n",
       "      <td>12</td>\n",
       "      <td>12</td>\n",
       "    </tr>\n",
       "    <tr>\n",
       "      <th>3</th>\n",
       "      <td>150084</td>\n",
       "      <td>2015-04-28 21:13:25</td>\n",
       "      <td>2015-05-04 13:54:50</td>\n",
       "      <td>44</td>\n",
       "      <td>ATGTXKYKUDUQN</td>\n",
       "      <td>SEO</td>\n",
       "      <td>Safari</td>\n",
       "      <td>M</td>\n",
       "      <td>41</td>\n",
       "      <td>3.840542e+09</td>\n",
       "      <td>0</td>\n",
       "      <td>not_found</td>\n",
       "      <td>8201.416667</td>\n",
       "      <td>492085.0</td>\n",
       "      <td>1</td>\n",
       "      <td>2</td>\n",
       "      <td>5</td>\n",
       "      <td>4</td>\n",
       "      <td>1</td>\n",
       "      <td>1</td>\n",
       "    </tr>\n",
       "    <tr>\n",
       "      <th>4</th>\n",
       "      <td>221365</td>\n",
       "      <td>2015-07-21 07:09:52</td>\n",
       "      <td>2015-09-09 18:40:53</td>\n",
       "      <td>39</td>\n",
       "      <td>NAUITBZFJKHWW</td>\n",
       "      <td>Ads</td>\n",
       "      <td>Safari</td>\n",
       "      <td>M</td>\n",
       "      <td>45</td>\n",
       "      <td>4.155831e+08</td>\n",
       "      <td>0</td>\n",
       "      <td>United States</td>\n",
       "      <td>72691.016667</td>\n",
       "      <td>4361461.0</td>\n",
       "      <td>3</td>\n",
       "      <td>2</td>\n",
       "      <td>9</td>\n",
       "      <td>7</td>\n",
       "      <td>1</td>\n",
       "      <td>1</td>\n",
       "    </tr>\n",
       "  </tbody>\n",
       "</table>\n",
       "</div>"
      ],
      "text/plain": [
       "   user_id         signup_time       purchase_time  purchase_value  \\\n",
       "0    22058 2015-02-24 22:55:49 2015-04-18 02:47:11              34   \n",
       "1   333320 2015-06-07 20:39:50 2015-06-08 01:38:54              16   \n",
       "2     1359 2015-01-01 18:52:44 2015-01-01 18:52:45              15   \n",
       "3   150084 2015-04-28 21:13:25 2015-05-04 13:54:50              44   \n",
       "4   221365 2015-07-21 07:09:52 2015-09-09 18:40:53              39   \n",
       "\n",
       "       device_id source browser sex  age    ip_address  class        country  \\\n",
       "0  QVPSPJUOCKZAR    SEO  Chrome   M   39  7.327584e+08      0          Japan   \n",
       "1  EOGFQPIZPYXFZ    Ads  Chrome   F   53  3.503114e+08      0  United States   \n",
       "2  YSSKYOSJHPPLJ    SEO   Opera   M   53  2.621474e+09      1  United States   \n",
       "3  ATGTXKYKUDUQN    SEO  Safari   M   41  3.840542e+09      0      not_found   \n",
       "4  NAUITBZFJKHWW    Ads  Safari   M   45  4.155831e+08      0  United States   \n",
       "\n",
       "   time_diff_minutes  time_diff_seconds  purchase_time_weekday  \\\n",
       "0       75111.366667          4506682.0                      6   \n",
       "1         299.066667            17944.0                      1   \n",
       "2           0.016667                1.0                      4   \n",
       "3        8201.416667           492085.0                      1   \n",
       "4       72691.016667          4361461.0                      3   \n",
       "\n",
       "   signup_time_weekday  purchase_month  signup_month  users_shared_one_IP  \\\n",
       "0                    2               4             2                    1   \n",
       "1                    7               6             6                    1   \n",
       "2                    4               1             1                   12   \n",
       "3                    2               5             4                    1   \n",
       "4                    2               9             7                    1   \n",
       "\n",
       "   users_shared_one_device  \n",
       "0                        1  \n",
       "1                        1  \n",
       "2                       12  \n",
       "3                        1  \n",
       "4                        1  "
      ]
     },
     "execution_count": 25,
     "metadata": {},
     "output_type": "execute_result"
    }
   ],
   "source": [
    "merged_data = pd.merge(left = fraud_data, right = temp_ip.iloc[:,:2], \n",
    "                how = 'left', left_on = 'ip_address', right_on = 'ip_address' )\n",
    "merged_data = pd.merge(left = merged_data, right = temp_device.iloc[:,:2], \n",
    "                how = 'left', left_on = 'device_id', right_on = 'device_id' )\n",
    "merged_data.head()"
   ]
  },
  {
   "cell_type": "markdown",
   "id": "766db43f",
   "metadata": {},
   "source": [
    "## Part 3. Model fitting"
   ]
  },
  {
   "cell_type": "markdown",
   "id": "16e97895",
   "metadata": {},
   "source": [
    "Based on the visualization part, we have already figure out some important features which have high correlations with the fraud activities.\n",
    "\n",
    "Consider there are too many category variables, it's better to adopt tree_based models.\n",
    "\n",
    "Here we use the random forest to fit the model"
   ]
  },
  {
   "cell_type": "code",
   "execution_count": 26,
   "id": "937b243d",
   "metadata": {},
   "outputs": [
    {
     "data": {
      "text/plain": [
       "Index(['user_id', 'signup_time', 'purchase_time', 'purchase_value',\n",
       "       'device_id', 'source', 'browser', 'sex', 'age', 'ip_address', 'class',\n",
       "       'country', 'time_diff_minutes', 'time_diff_seconds',\n",
       "       'purchase_time_weekday', 'signup_time_weekday', 'purchase_month',\n",
       "       'signup_month', 'users_shared_one_IP', 'users_shared_one_device'],\n",
       "      dtype='object')"
      ]
     },
     "execution_count": 26,
     "metadata": {},
     "output_type": "execute_result"
    }
   ],
   "source": [
    "merged_data.columns"
   ]
  },
  {
   "cell_type": "code",
   "execution_count": 27,
   "id": "0e6a55c2",
   "metadata": {},
   "outputs": [],
   "source": [
    "features = ['purchase_value', 'source', 'browser', 'sex', 'age', \n",
    "       'country', 'time_diff_minutes', 'purchase_time_weekday', 'signup_time_weekday', 'purchase_month',\n",
    "       'signup_month', 'users_shared_one_IP', 'users_shared_one_device']\n",
    "\n",
    "X_train = pd.get_dummies(merged_data[features], \n",
    "                         columns = ['source', 'browser', 'sex', 'country', 'purchase_time_weekday', \n",
    "                                    'signup_time_weekday', 'purchase_month', 'signup_month'], drop_first = False)\n",
    "y_train = merged_data['class']"
   ]
  },
  {
   "cell_type": "code",
   "execution_count": 28,
   "id": "b49d6773",
   "metadata": {},
   "outputs": [],
   "source": [
    "X_train, X_test, y_train, y_test = train_test_split(X_train, y_train, test_size = 0.2, random_state = 1)"
   ]
  },
  {
   "cell_type": "code",
   "execution_count": 29,
   "id": "cf3a581c",
   "metadata": {},
   "outputs": [
    {
     "data": {
      "text/plain": [
       "RandomForestClassifier(max_features=8)"
      ]
     },
     "execution_count": 29,
     "metadata": {},
     "output_type": "execute_result"
    }
   ],
   "source": [
    "rf_reg = RandomForestClassifier(max_features = 8)\n",
    "rf_reg.fit(X_train, y_train)"
   ]
  },
  {
   "cell_type": "code",
   "execution_count": 30,
   "id": "ebc56332",
   "metadata": {},
   "outputs": [
    {
     "name": "stdout",
     "output_type": "stream",
     "text": [
      "train matrix: \n",
      " [[109609      0]\n",
      " [     6  11274]]\n",
      "train accuracy: 1.0\n",
      "\n",
      " test matrix: \n",
      " [[27346     6]\n",
      " [ 1327  1544]]\n",
      "test accuracy: 0.9559\n"
     ]
    }
   ],
   "source": [
    "model = rf_reg\n",
    "train_con_matrix = confusion_matrix(y_train, model.predict(X_train))\n",
    "print('train matrix: \\n', train_con_matrix)\n",
    "print('train accuracy:', round(accuracy_score(y_train, model.predict(X_train)),4))\n",
    "\n",
    "test_con_matrix = confusion_matrix(y_test, model.predict(X_test))\n",
    "print('\\n test matrix: \\n', test_con_matrix)\n",
    "print('test accuracy:', round(accuracy_score(y_test, model.predict(X_test)), 4))"
   ]
  },
  {
   "cell_type": "code",
   "execution_count": 31,
   "id": "56b54a93",
   "metadata": {},
   "outputs": [
    {
     "data": {
      "image/png": "[encoded data removed]",
      "text/plain": [
       "<Figure size 360x360 with 1 Axes>"
      ]
     },
     "metadata": {
      "needs_background": "light"
     },
     "output_type": "display_data"
    }
   ],
   "source": [
    "y_test_pred_prob = model.predict_proba(X_test)[:,1]\n",
    "y_train_pred_prob = model.predict_proba(X_train)[:,1]\n",
    "\n",
    "fpr_test, tpr_test, _ = roc_curve(y_test, y_test_pred_prob)\n",
    "roc_auc_test = auc(fpr_test, tpr_test)\n",
    "\n",
    "fpr_train, tpr_train, _ = roc_curve(y_train, y_train_pred_prob)\n",
    "roc_auc_train = auc(fpr_train, tpr_train)\n",
    "\n",
    "plt.figure(figsize=[5, 5])\n",
    "\n",
    "plt.plot(fpr_test, tpr_test, color='navy', lw=2, label='Test ROC curve (area = %0.4f)' % roc_auc_test)\n",
    "plt.plot(fpr_train, tpr_train, color='darkorange', lw=2, label='Train ROC curve (area = %0.4f)' % roc_auc_train)\n",
    "\n",
    "plt.xlim([0.0, 1.0])\n",
    "plt.ylim([0.0, 1.05])\n",
    "plt.xlabel('False Positive Rate (1 - Specificity)')\n",
    "plt.ylabel('True Positive Rate (Sensitivity)')\n",
    "plt.legend(loc=\"lower right\")\n",
    "\n",
    "plt.show()"
   ]
  },
  {
   "cell_type": "code",
   "execution_count": 32,
   "id": "66eed369",
   "metadata": {},
   "outputs": [
    {
     "data": {
      "text/html": [
       "<div>\n",
       "<style scoped>\n",
       "    .dataframe tbody tr th:only-of-type {\n",
       "        vertical-align: middle;\n",
       "    }\n",
       "\n",
       "    .dataframe tbody tr th {\n",
       "        vertical-align: top;\n",
       "    }\n",
       "\n",
       "    .dataframe thead th {\n",
       "        text-align: right;\n",
       "    }\n",
       "</style>\n",
       "<table border=\"1\" class=\"dataframe\">\n",
       "  <thead>\n",
       "    <tr style=\"text-align: right;\">\n",
       "      <th></th>\n",
       "      <th>importance</th>\n",
       "    </tr>\n",
       "  </thead>\n",
       "  <tbody>\n",
       "    <tr>\n",
       "      <th>time_diff_minutes</th>\n",
       "      <td>0.214141</td>\n",
       "    </tr>\n",
       "    <tr>\n",
       "      <th>users_shared_one_device</th>\n",
       "      <td>0.151743</td>\n",
       "    </tr>\n",
       "    <tr>\n",
       "      <th>users_shared_one_IP</th>\n",
       "      <td>0.109155</td>\n",
       "    </tr>\n",
       "    <tr>\n",
       "      <th>purchase_month_1</th>\n",
       "      <td>0.072561</td>\n",
       "    </tr>\n",
       "    <tr>\n",
       "      <th>purchase_value</th>\n",
       "      <td>0.061731</td>\n",
       "    </tr>\n",
       "    <tr>\n",
       "      <th>age</th>\n",
       "      <td>0.057616</td>\n",
       "    </tr>\n",
       "    <tr>\n",
       "      <th>signup_month_1</th>\n",
       "      <td>0.025899</td>\n",
       "    </tr>\n",
       "    <tr>\n",
       "      <th>country_United States</th>\n",
       "      <td>0.009649</td>\n",
       "    </tr>\n",
       "    <tr>\n",
       "      <th>browser_Chrome</th>\n",
       "      <td>0.008851</td>\n",
       "    </tr>\n",
       "    <tr>\n",
       "      <th>signup_time_weekday_6</th>\n",
       "      <td>0.008171</td>\n",
       "    </tr>\n",
       "  </tbody>\n",
       "</table>\n",
       "</div>"
      ],
      "text/plain": [
       "                         importance\n",
       "time_diff_minutes          0.214141\n",
       "users_shared_one_device    0.151743\n",
       "users_shared_one_IP        0.109155\n",
       "purchase_month_1           0.072561\n",
       "purchase_value             0.061731\n",
       "age                        0.057616\n",
       "signup_month_1             0.025899\n",
       "country_United States      0.009649\n",
       "browser_Chrome             0.008851\n",
       "signup_time_weekday_6      0.008171"
      ]
     },
     "execution_count": 32,
     "metadata": {},
     "output_type": "execute_result"
    }
   ],
   "source": [
    "rf_reg_importances = pd.DataFrame(rf_reg.feature_importances_, index = X_test.columns)\n",
    "\n",
    "rf_reg_importances.columns = ['importance']\n",
    "rf_reg_importances.sort_values(by = 'importance', ascending = False)[:10]"
   ]
  },
  {
   "cell_type": "markdown",
   "id": "174b1b7a",
   "metadata": {},
   "source": [
    "Feature importance above displayed the top 10 features which will decide the new user is a fraud account or not. They align with the findings we discovered in Part 2 Data Visualization."
   ]
  }
 ],
 "metadata": {
  "kernelspec": {
   "display_name": "Python 3 (ipykernel)",
   "language": "python",
   "name": "python3"
  },
  "language_info": {
   "codemirror_mode": {
    "name": "ipython",
    "version": 3
   },
   "file_extension": ".py",
   "mimetype": "text/x-python",
   "name": "python",
   "nbconvert_exporter": "python",
   "pygments_lexer": "ipython3",
   "version": "3.7.7"
  }
 },
 "nbformat": 4,
 "nbformat_minor": 5
}
