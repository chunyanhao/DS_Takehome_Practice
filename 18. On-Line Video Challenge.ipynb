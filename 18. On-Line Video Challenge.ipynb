{
 "cells": [
  {
   "cell_type": "code",
   "execution_count": 1,
   "id": "ebee3e92",
   "metadata": {},
   "outputs": [],
   "source": [
    "import pandas as pd\n",
    "import numpy as np\n",
    "import matplotlib.pyplot as plt\n",
    "import seaborn as sns\n",
    "\n",
    "%matplotlib inline\n",
    "\n",
    "import warnings\n",
    "warnings.filterwarnings(\"ignore\")"
   ]
  },
  {
   "cell_type": "markdown",
   "id": "994ba67b",
   "metadata": {},
   "source": [
    "### 1. Load Data"
   ]
  },
  {
   "cell_type": "code",
   "execution_count": 2,
   "id": "dd169a96",
   "metadata": {},
   "outputs": [],
   "source": [
    "counts = pd.read_csv('/Users/ChunyanHao/desktop/github/ds_take_home/data/online_videos/video_count.csv')\n",
    "features = pd.read_csv('/Users/ChunyanHao/desktop/github/ds_take_home/data/online_videos/video_features.csv')"
   ]
  },
  {
   "cell_type": "code",
   "execution_count": 3,
   "id": "66a080cf",
   "metadata": {},
   "outputs": [
    {
     "data": {
      "text/html": [
       "<div>\n",
       "<style scoped>\n",
       "    .dataframe tbody tr th:only-of-type {\n",
       "        vertical-align: middle;\n",
       "    }\n",
       "\n",
       "    .dataframe tbody tr th {\n",
       "        vertical-align: top;\n",
       "    }\n",
       "\n",
       "    .dataframe thead th {\n",
       "        text-align: right;\n",
       "    }\n",
       "</style>\n",
       "<table border=\"1\" class=\"dataframe\">\n",
       "  <thead>\n",
       "    <tr style=\"text-align: right;\">\n",
       "      <th></th>\n",
       "      <th>video_id</th>\n",
       "      <th>count</th>\n",
       "      <th>date</th>\n",
       "    </tr>\n",
       "  </thead>\n",
       "  <tbody>\n",
       "    <tr>\n",
       "      <th>0</th>\n",
       "      <td>2303</td>\n",
       "      <td>22</td>\n",
       "      <td>2015-01-07</td>\n",
       "    </tr>\n",
       "    <tr>\n",
       "      <th>1</th>\n",
       "      <td>1193</td>\n",
       "      <td>54854</td>\n",
       "      <td>2015-01-12</td>\n",
       "    </tr>\n",
       "    <tr>\n",
       "      <th>2</th>\n",
       "      <td>1219</td>\n",
       "      <td>1788779</td>\n",
       "      <td>2015-01-03</td>\n",
       "    </tr>\n",
       "  </tbody>\n",
       "</table>\n",
       "</div>"
      ],
      "text/plain": [
       "   video_id    count        date\n",
       "0      2303       22  2015-01-07\n",
       "1      1193    54854  2015-01-12\n",
       "2      1219  1788779  2015-01-03"
      ]
     },
     "execution_count": 3,
     "metadata": {},
     "output_type": "execute_result"
    }
   ],
   "source": [
    "counts.head(3)"
   ]
  },
  {
   "cell_type": "code",
   "execution_count": 4,
   "id": "3f7b6211",
   "metadata": {},
   "outputs": [
    {
     "name": "stdout",
     "output_type": "stream",
     "text": [
      "<class 'pandas.core.frame.DataFrame'>\n",
      "RangeIndex: 41775 entries, 0 to 41774\n",
      "Data columns (total 3 columns):\n",
      " #   Column    Non-Null Count  Dtype \n",
      "---  ------    --------------  ----- \n",
      " 0   video_id  41775 non-null  int64 \n",
      " 1   count     41775 non-null  int64 \n",
      " 2   date      41775 non-null  object\n",
      "dtypes: int64(2), object(1)\n",
      "memory usage: 979.2+ KB\n"
     ]
    }
   ],
   "source": [
    "counts.info()"
   ]
  },
  {
   "cell_type": "code",
   "execution_count": 5,
   "id": "9c9f75af",
   "metadata": {},
   "outputs": [],
   "source": [
    "counts['date'] = pd.to_datetime(counts['date'])"
   ]
  },
  {
   "cell_type": "code",
   "execution_count": 6,
   "id": "1a2f820d",
   "metadata": {},
   "outputs": [
    {
     "name": "stdout",
     "output_type": "stream",
     "text": [
      "video_id              2785\t [2303 1193 1219 1472 2947]\n",
      "count                33956\t [     22   54854 1788779     234   14407]\n",
      "date                    15\t ['2015-01-07T00:00:00.000000000' '2015-01-12T00:00:00.000000000'\n",
      " '2015-01-03T00:00:00.000000000' '2015-01-04T00:00:00.000000000'\n",
      " '2015-01-08T00:00:00.000000000']\n"
     ]
    }
   ],
   "source": [
    "for column in counts.columns:\n",
    "    uniques = counts[column].unique()\n",
    "    print('{0:20s} {1:5d}\\t'.format(column, len(uniques)), uniques[:5])"
   ]
  },
  {
   "cell_type": "code",
   "execution_count": 7,
   "id": "2f46c2a5",
   "metadata": {},
   "outputs": [
    {
     "data": {
      "text/html": [
       "<div>\n",
       "<style scoped>\n",
       "    .dataframe tbody tr th:only-of-type {\n",
       "        vertical-align: middle;\n",
       "    }\n",
       "\n",
       "    .dataframe tbody tr th {\n",
       "        vertical-align: top;\n",
       "    }\n",
       "\n",
       "    .dataframe thead th {\n",
       "        text-align: right;\n",
       "    }\n",
       "</style>\n",
       "<table border=\"1\" class=\"dataframe\">\n",
       "  <thead>\n",
       "    <tr style=\"text-align: right;\">\n",
       "      <th></th>\n",
       "      <th>video_id</th>\n",
       "      <th>video_length</th>\n",
       "      <th>video_language</th>\n",
       "      <th>video_upload_date</th>\n",
       "      <th>video_quality</th>\n",
       "    </tr>\n",
       "  </thead>\n",
       "  <tbody>\n",
       "    <tr>\n",
       "      <th>0</th>\n",
       "      <td>2374</td>\n",
       "      <td>1760</td>\n",
       "      <td>Cn</td>\n",
       "      <td>2014-12-06</td>\n",
       "      <td>480p</td>\n",
       "    </tr>\n",
       "    <tr>\n",
       "      <th>1</th>\n",
       "      <td>1897</td>\n",
       "      <td>489</td>\n",
       "      <td>Cn</td>\n",
       "      <td>2014-12-10</td>\n",
       "      <td>720p</td>\n",
       "    </tr>\n",
       "    <tr>\n",
       "      <th>2</th>\n",
       "      <td>2386</td>\n",
       "      <td>1273</td>\n",
       "      <td>Es</td>\n",
       "      <td>2014-12-05</td>\n",
       "      <td>480p</td>\n",
       "    </tr>\n",
       "  </tbody>\n",
       "</table>\n",
       "</div>"
      ],
      "text/plain": [
       "   video_id  video_length video_language video_upload_date video_quality\n",
       "0      2374          1760             Cn        2014-12-06          480p\n",
       "1      1897           489             Cn        2014-12-10          720p\n",
       "2      2386          1273             Es        2014-12-05          480p"
      ]
     },
     "execution_count": 7,
     "metadata": {},
     "output_type": "execute_result"
    }
   ],
   "source": [
    "features.head(3)"
   ]
  },
  {
   "cell_type": "code",
   "execution_count": 8,
   "id": "853bb8b8",
   "metadata": {},
   "outputs": [
    {
     "name": "stdout",
     "output_type": "stream",
     "text": [
      "<class 'pandas.core.frame.DataFrame'>\n",
      "RangeIndex: 2785 entries, 0 to 2784\n",
      "Data columns (total 5 columns):\n",
      " #   Column             Non-Null Count  Dtype \n",
      "---  ------             --------------  ----- \n",
      " 0   video_id           2785 non-null   int64 \n",
      " 1   video_length       2785 non-null   int64 \n",
      " 2   video_language     2785 non-null   object\n",
      " 3   video_upload_date  2785 non-null   object\n",
      " 4   video_quality      2785 non-null   object\n",
      "dtypes: int64(2), object(3)\n",
      "memory usage: 108.9+ KB\n"
     ]
    }
   ],
   "source": [
    "features.info()"
   ]
  },
  {
   "cell_type": "code",
   "execution_count": 9,
   "id": "576115ef",
   "metadata": {},
   "outputs": [],
   "source": [
    "features['video_upload_date'] = pd.to_datetime(features['video_upload_date'])"
   ]
  },
  {
   "cell_type": "code",
   "execution_count": 10,
   "id": "43d6d7b1",
   "metadata": {},
   "outputs": [
    {
     "name": "stdout",
     "output_type": "stream",
     "text": [
      "video_id              2785\t [2374 1897 2386 2912 2432]\n",
      "video_length          1037\t [1760  489 1273  986 1050]\n",
      "video_language           6\t ['Cn' 'Es' 'Other' 'En' 'Fr']\n",
      "video_upload_date       23\t ['2014-12-06T00:00:00.000000000' '2014-12-10T00:00:00.000000000'\n",
      " '2014-12-05T00:00:00.000000000' '2014-12-12T00:00:00.000000000'\n",
      " '2014-12-16T00:00:00.000000000']\n",
      "video_quality            5\t ['480p' '720p' '240p' '360p' '1080p']\n"
     ]
    }
   ],
   "source": [
    "for column in features.columns:\n",
    "    uniques = features[column].unique()\n",
    "    print('{0:20s} {1:5d}\\t'.format(column, len(uniques)), uniques[:5])"
   ]
  },
  {
   "cell_type": "markdown",
   "id": "aa674b7e",
   "metadata": {},
   "source": [
    "### 2. Question 1\n",
    "\n",
    "Classify each video into one the 3 categories below and explain your approach.\n",
    "\n",
    "-- \"Hot\" - means trending up. These videos are candidate to be shown.\n",
    "\n",
    "-- \"Stable and Popular\" - video view counts are flat, but very high. These videos are candidates to be shown too.\n",
    "\n",
    "-- \"Everything else\" - these videos won't be shown."
   ]
  },
  {
   "cell_type": "raw",
   "id": "8581a673",
   "metadata": {},
   "source": [
    "Based on the description of the project, 'hot videos' as those are trending up in terms of popularity'. Therefore, we can calculate the number of day for each video getting more video counts than before."
   ]
  },
  {
   "cell_type": "code",
   "execution_count": 11,
   "id": "93cd2ccb",
   "metadata": {},
   "outputs": [
    {
     "data": {
      "text/html": [
       "<div>\n",
       "<style scoped>\n",
       "    .dataframe tbody tr th:only-of-type {\n",
       "        vertical-align: middle;\n",
       "    }\n",
       "\n",
       "    .dataframe tbody tr th {\n",
       "        vertical-align: top;\n",
       "    }\n",
       "\n",
       "    .dataframe thead th {\n",
       "        text-align: right;\n",
       "    }\n",
       "</style>\n",
       "<table border=\"1\" class=\"dataframe\">\n",
       "  <thead>\n",
       "    <tr style=\"text-align: right;\">\n",
       "      <th></th>\n",
       "      <th>video_id</th>\n",
       "      <th>count</th>\n",
       "      <th>date</th>\n",
       "      <th>before_date</th>\n",
       "      <th>before_count</th>\n",
       "      <th>change_%</th>\n",
       "    </tr>\n",
       "  </thead>\n",
       "  <tbody>\n",
       "    <tr>\n",
       "      <th>20407</th>\n",
       "      <td>1</td>\n",
       "      <td>129082</td>\n",
       "      <td>2015-01-02</td>\n",
       "      <td>2015-01-01</td>\n",
       "      <td>140460.0</td>\n",
       "      <td>-8.100527</td>\n",
       "    </tr>\n",
       "    <tr>\n",
       "      <th>29542</th>\n",
       "      <td>1</td>\n",
       "      <td>120868</td>\n",
       "      <td>2015-01-03</td>\n",
       "      <td>2015-01-02</td>\n",
       "      <td>129082.0</td>\n",
       "      <td>-6.363397</td>\n",
       "    </tr>\n",
       "    <tr>\n",
       "      <th>30401</th>\n",
       "      <td>1</td>\n",
       "      <td>97849</td>\n",
       "      <td>2015-01-04</td>\n",
       "      <td>2015-01-03</td>\n",
       "      <td>120868.0</td>\n",
       "      <td>-19.044743</td>\n",
       "    </tr>\n",
       "  </tbody>\n",
       "</table>\n",
       "</div>"
      ],
      "text/plain": [
       "       video_id   count       date before_date  before_count   change_%\n",
       "20407         1  129082 2015-01-02  2015-01-01      140460.0  -8.100527\n",
       "29542         1  120868 2015-01-03  2015-01-02      129082.0  -6.363397\n",
       "30401         1   97849 2015-01-04  2015-01-03      120868.0 -19.044743"
      ]
     },
     "execution_count": 11,
     "metadata": {},
     "output_type": "execute_result"
    }
   ],
   "source": [
    "data = counts.sort_values(by = ['video_id', 'date'])\n",
    "data['before_date'] = data['date'].shift(1)\n",
    "data['before_count'] = data['count'].shift(1)\n",
    "data['before_video_id'] = data['video_id'].shift(1)\n",
    "data = data[data.video_id == data.before_video_id].iloc[:, :-1]\n",
    "data['change_%'] = 100*(data['count'] - data['before_count'])/data['before_count']\n",
    "data.head(3)"
   ]
  },
  {
   "cell_type": "code",
   "execution_count": 12,
   "id": "f00fd599",
   "metadata": {},
   "outputs": [
    {
     "data": {
      "text/html": [
       "<div>\n",
       "<style scoped>\n",
       "    .dataframe tbody tr th:only-of-type {\n",
       "        vertical-align: middle;\n",
       "    }\n",
       "\n",
       "    .dataframe tbody tr th {\n",
       "        vertical-align: top;\n",
       "    }\n",
       "\n",
       "    .dataframe thead th {\n",
       "        text-align: right;\n",
       "    }\n",
       "</style>\n",
       "<table border=\"1\" class=\"dataframe\">\n",
       "  <thead>\n",
       "    <tr style=\"text-align: right;\">\n",
       "      <th></th>\n",
       "      <th>video_id</th>\n",
       "      <th>count</th>\n",
       "      <th>date</th>\n",
       "      <th>before_date</th>\n",
       "      <th>before_count</th>\n",
       "      <th>change_%</th>\n",
       "      <th>changed</th>\n",
       "    </tr>\n",
       "  </thead>\n",
       "  <tbody>\n",
       "    <tr>\n",
       "      <th>20407</th>\n",
       "      <td>1</td>\n",
       "      <td>129082</td>\n",
       "      <td>2015-01-02</td>\n",
       "      <td>2015-01-01</td>\n",
       "      <td>140460.0</td>\n",
       "      <td>-8.100527</td>\n",
       "      <td>-1</td>\n",
       "    </tr>\n",
       "    <tr>\n",
       "      <th>29542</th>\n",
       "      <td>1</td>\n",
       "      <td>120868</td>\n",
       "      <td>2015-01-03</td>\n",
       "      <td>2015-01-02</td>\n",
       "      <td>129082.0</td>\n",
       "      <td>-6.363397</td>\n",
       "      <td>-1</td>\n",
       "    </tr>\n",
       "    <tr>\n",
       "      <th>30401</th>\n",
       "      <td>1</td>\n",
       "      <td>97849</td>\n",
       "      <td>2015-01-04</td>\n",
       "      <td>2015-01-03</td>\n",
       "      <td>120868.0</td>\n",
       "      <td>-19.044743</td>\n",
       "      <td>-1</td>\n",
       "    </tr>\n",
       "  </tbody>\n",
       "</table>\n",
       "</div>"
      ],
      "text/plain": [
       "       video_id   count       date before_date  before_count   change_%  \\\n",
       "20407         1  129082 2015-01-02  2015-01-01      140460.0  -8.100527   \n",
       "29542         1  120868 2015-01-03  2015-01-02      129082.0  -6.363397   \n",
       "30401         1   97849 2015-01-04  2015-01-03      120868.0 -19.044743   \n",
       "\n",
       "       changed  \n",
       "20407       -1  \n",
       "29542       -1  \n",
       "30401       -1  "
      ]
     },
     "execution_count": 12,
     "metadata": {},
     "output_type": "execute_result"
    }
   ],
   "source": [
    "data['changed'] = 0\n",
    "data.loc[data['change_%'] < 0, 'changed'] = -1\n",
    "data.loc[data['change_%'] > 0, 'changed'] = 1\n",
    "data.head(3)"
   ]
  },
  {
   "cell_type": "code",
   "execution_count": 13,
   "id": "42de3a45",
   "metadata": {},
   "outputs": [
    {
     "data": {
      "text/plain": [
       "<AxesSubplot:xlabel='increase_day', ylabel='Count'>"
      ]
     },
     "execution_count": 13,
     "metadata": {},
     "output_type": "execute_result"
    },
    {
     "data": {
      "image/png": "[encoded data removed]",
      "text/plain": [
       "<Figure size 432x288 with 1 Axes>"
      ]
     },
     "metadata": {
      "needs_background": "light"
     },
     "output_type": "display_data"
    }
   ],
   "source": [
    "temp_change_count = data.groupby(['video_id'])['changed'].sum().reset_index(name = 'increase_day')\n",
    "sns.histplot(data = temp_change_count , x = 'increase_day', bins = 28)"
   ]
  },
  {
   "cell_type": "code",
   "execution_count": 14,
   "id": "255acb3a",
   "metadata": {},
   "outputs": [
    {
     "data": {
      "text/plain": [
       "<AxesSubplot:xlabel='mean', ylabel='Count'>"
      ]
     },
     "execution_count": 14,
     "metadata": {},
     "output_type": "execute_result"
    },
    {
     "data": {
      "image/png": "[encoded data removed]",
      "text/plain": [
       "<Figure size 432x288 with 1 Axes>"
      ]
     },
     "metadata": {
      "needs_background": "light"
     },
     "output_type": "display_data"
    }
   ],
   "source": [
    "temp_mean = data.groupby(['video_id'])['count'].mean().reset_index(name = 'mean')\n",
    "sns.histplot(data = temp_mean, x = 'mean')"
   ]
  },
  {
   "cell_type": "code",
   "execution_count": 15,
   "id": "1e919771",
   "metadata": {},
   "outputs": [
    {
     "data": {
      "text/plain": [
       "count    2785.000000\n",
       "mean       -1.490844\n",
       "std         8.479946\n",
       "min       -14.000000\n",
       "25%       -10.000000\n",
       "50%        -2.000000\n",
       "75%         4.000000\n",
       "max        14.000000\n",
       "Name: increase_day, dtype: float64"
      ]
     },
     "execution_count": 15,
     "metadata": {},
     "output_type": "execute_result"
    }
   ],
   "source": [
    "temp_change_count.increase_day.describe()"
   ]
  },
  {
   "cell_type": "code",
   "execution_count": 16,
   "id": "5e24f1e1",
   "metadata": {},
   "outputs": [
    {
     "data": {
      "text/plain": [
       "count    3.899000e+04\n",
       "mean     6.154080e+05\n",
       "std      8.868523e+05\n",
       "min      1.000000e+00\n",
       "25%      1.005700e+04\n",
       "50%      1.729760e+05\n",
       "75%      8.693192e+05\n",
       "max      6.070570e+06\n",
       "Name: count, dtype: float64"
      ]
     },
     "execution_count": 16,
     "metadata": {},
     "output_type": "execute_result"
    }
   ],
   "source": [
    "data['count'].describe()"
   ]
  },
  {
   "cell_type": "markdown",
   "id": "d0a84dd8",
   "metadata": {},
   "source": [
    "Based on the analysis above, we can classify videos into the three required categories in the following way:\n",
    "    \n",
    "1) if increase_day >= 5 : Hot\n",
    "    \n",
    "2) if -5 <= increase_day < 5 and mean_count >= 172976 : Stable and Popular\n",
    "\n",
    "3) else: Everything else"
   ]
  },
  {
   "cell_type": "code",
   "execution_count": 17,
   "id": "c23e1df0",
   "metadata": {},
   "outputs": [
    {
     "data": {
      "text/plain": [
       "category\n",
       "Hot        607\n",
       "else      1503\n",
       "stable     675\n",
       "Name: video_id, dtype: int64"
      ]
     },
     "execution_count": 17,
     "metadata": {},
     "output_type": "execute_result"
    }
   ],
   "source": [
    "data = counts.merge(temp_change_count).merge(temp_mean)\n",
    "data['category'] = 'else'\n",
    "data.loc[data['increase_day'] >= 5, 'category'] = 'Hot'\n",
    "data.loc[(data['increase_day'] >= -5) & (data['increase_day'] < 5) & (data['mean'] >= 172976), 'category'] = 'stable'\n",
    "data[['video_id', 'category']].drop_duplicates().groupby(['category'])['video_id'].count()"
   ]
  },
  {
   "cell_type": "markdown",
   "id": "ac9886b1",
   "metadata": {},
   "source": [
    "### 3. Question 2 & 3\n",
    "\n",
    "What are the main characteristics of the \"hot videos\"?\n",
    "\n",
    "After having identified the characteristics of the hot videos, how would you use this information from a product standpoint?"
   ]
  },
  {
   "cell_type": "markdown",
   "id": "88757896",
   "metadata": {},
   "source": [
    "We can implement some data visualization techniques to compare the difference of features between the three categories."
   ]
  },
  {
   "cell_type": "code",
   "execution_count": 18,
   "id": "e5148b33",
   "metadata": {},
   "outputs": [],
   "source": [
    "data = data[['video_id', 'category']].merge(features)"
   ]
  },
  {
   "cell_type": "code",
   "execution_count": 19,
   "id": "53095678",
   "metadata": {},
   "outputs": [
    {
     "data": {
      "text/html": [
       "<div>\n",
       "<style scoped>\n",
       "    .dataframe tbody tr th:only-of-type {\n",
       "        vertical-align: middle;\n",
       "    }\n",
       "\n",
       "    .dataframe tbody tr th {\n",
       "        vertical-align: top;\n",
       "    }\n",
       "\n",
       "    .dataframe thead th {\n",
       "        text-align: right;\n",
       "    }\n",
       "</style>\n",
       "<table border=\"1\" class=\"dataframe\">\n",
       "  <thead>\n",
       "    <tr style=\"text-align: right;\">\n",
       "      <th></th>\n",
       "      <th>video_id</th>\n",
       "      <th>category</th>\n",
       "      <th>video_length</th>\n",
       "      <th>video_language</th>\n",
       "      <th>video_upload_date</th>\n",
       "      <th>video_quality</th>\n",
       "    </tr>\n",
       "  </thead>\n",
       "  <tbody>\n",
       "    <tr>\n",
       "      <th>0</th>\n",
       "      <td>2303</td>\n",
       "      <td>else</td>\n",
       "      <td>1071</td>\n",
       "      <td>Cn</td>\n",
       "      <td>2014-12-10</td>\n",
       "      <td>1080p</td>\n",
       "    </tr>\n",
       "    <tr>\n",
       "      <th>1</th>\n",
       "      <td>2303</td>\n",
       "      <td>else</td>\n",
       "      <td>1071</td>\n",
       "      <td>Cn</td>\n",
       "      <td>2014-12-10</td>\n",
       "      <td>1080p</td>\n",
       "    </tr>\n",
       "    <tr>\n",
       "      <th>2</th>\n",
       "      <td>2303</td>\n",
       "      <td>else</td>\n",
       "      <td>1071</td>\n",
       "      <td>Cn</td>\n",
       "      <td>2014-12-10</td>\n",
       "      <td>1080p</td>\n",
       "    </tr>\n",
       "  </tbody>\n",
       "</table>\n",
       "</div>"
      ],
      "text/plain": [
       "   video_id category  video_length video_language video_upload_date  \\\n",
       "0      2303     else          1071             Cn        2014-12-10   \n",
       "1      2303     else          1071             Cn        2014-12-10   \n",
       "2      2303     else          1071             Cn        2014-12-10   \n",
       "\n",
       "  video_quality  \n",
       "0         1080p  \n",
       "1         1080p  \n",
       "2         1080p  "
      ]
     },
     "execution_count": 19,
     "metadata": {},
     "output_type": "execute_result"
    }
   ],
   "source": [
    "data.head(3)"
   ]
  },
  {
   "cell_type": "code",
   "execution_count": 20,
   "id": "0fe680eb",
   "metadata": {},
   "outputs": [],
   "source": [
    "data['weekday'] = data['video_upload_date'].dt.weekday +1\n",
    "data['Hot'] = data['category'] == 'Hot'"
   ]
  },
  {
   "cell_type": "code",
   "execution_count": 24,
   "id": "22e3a930",
   "metadata": {},
   "outputs": [
    {
     "data": {
      "text/plain": [
       "<AxesSubplot:xlabel='video_length', ylabel='Density'>"
      ]
     },
     "execution_count": 24,
     "metadata": {},
     "output_type": "execute_result"
    },
    {
     "data": {
      "image/png": "[encoded data removed]",
      "text/plain": [
       "<Figure size 1080x360 with 1 Axes>"
      ]
     },
     "metadata": {
      "needs_background": "light"
     },
     "output_type": "display_data"
    }
   ],
   "source": [
    "fig, ax = plt.subplots(figsize = (15, 5))\n",
    "\n",
    "hist_kws={'histtype': 'bar', 'edgecolor':'black', 'alpha': 0.2}\n",
    "sns.distplot(data[data['Hot']==True]['video_length'], label='Hot', color = 'r')\n",
    "sns.distplot(data[data['Hot']==False]['video_length'], label='Not Hot', color = 'g')"
   ]
  },
  {
   "cell_type": "code",
   "execution_count": 49,
   "id": "fa2de439",
   "metadata": {},
   "outputs": [
    {
     "data": {
      "text/plain": [
       "<AxesSubplot:xlabel='video_language', ylabel='video_id_x'>"
      ]
     },
     "execution_count": 49,
     "metadata": {},
     "output_type": "execute_result"
    },
    {
     "data": {
      "image/png": "[encoded data removed]",
      "text/plain": [
       "<Figure size 1080x288 with 2 Axes>"
      ]
     },
     "metadata": {
      "needs_background": "light"
     },
     "output_type": "display_data"
    }
   ],
   "source": [
    "temp_1 = data.groupby(['Hot', 'video_language'])['video_id'].count().reset_index()\n",
    "temp_2 = data.groupby(['Hot'])['video_id'].count().reset_index()\n",
    "temp = temp_1.merge(temp_2, on = 'Hot')\n",
    "temp['percentage'] = temp['video_id_x']/temp['video_id_y']\n",
    "\n",
    "fig, ax = plt.subplots(1, 2, figsize = (15, 4))\n",
    "\n",
    "sns.barplot(data = temp, x = 'video_language', y = 'percentage', hue = 'Hot', ax = ax[0])\n",
    "sns.barplot(data = temp, x = 'video_language', y = 'video_id_x', hue = 'Hot', ax = ax[1])"
   ]
  },
  {
   "cell_type": "code",
   "execution_count": 50,
   "id": "9c77d53c",
   "metadata": {},
   "outputs": [
    {
     "data": {
      "text/plain": [
       "<AxesSubplot:xlabel='video_quality', ylabel='video_id_x'>"
      ]
     },
     "execution_count": 50,
     "metadata": {},
     "output_type": "execute_result"
    },
    {
     "data": {
      "image/png": "[encoded data removed]",
      "text/plain": [
       "<Figure size 1080x288 with 2 Axes>"
      ]
     },
     "metadata": {
      "needs_background": "light"
     },
     "output_type": "display_data"
    }
   ],
   "source": [
    "temp_1 = data.groupby(['Hot', 'video_quality'])['video_id'].count().reset_index()\n",
    "temp_2 = data.groupby(['Hot'])['video_id'].count().reset_index()\n",
    "temp = temp_1.merge(temp_2, on = 'Hot')\n",
    "temp['percentage'] = temp['video_id_x']/temp['video_id_y']\n",
    "\n",
    "fig, ax = plt.subplots(1, 2, figsize = (15, 4))\n",
    "\n",
    "sns.barplot(data = temp, x = 'video_quality', y = 'percentage', hue = 'Hot', ax = ax[0])\n",
    "sns.barplot(data = temp, x = 'video_quality', y = 'video_id_x', hue = 'Hot', ax = ax[1])"
   ]
  },
  {
   "cell_type": "code",
   "execution_count": 51,
   "id": "6f393701",
   "metadata": {},
   "outputs": [
    {
     "data": {
      "text/plain": [
       "<AxesSubplot:xlabel='weekday', ylabel='video_id_x'>"
      ]
     },
     "execution_count": 51,
     "metadata": {},
     "output_type": "execute_result"
    },
    {
     "data": {
      "image/png": "[encoded data removed]",
      "text/plain": [
       "<Figure size 1080x288 with 2 Axes>"
      ]
     },
     "metadata": {
      "needs_background": "light"
     },
     "output_type": "display_data"
    }
   ],
   "source": [
    "temp_1 = data.groupby(['Hot', 'weekday'])['video_id'].count().reset_index()\n",
    "temp_2 = data.groupby(['Hot'])['video_id'].count().reset_index()\n",
    "temp = temp_1.merge(temp_2, on = 'Hot')\n",
    "temp['percentage'] = temp['video_id_x']/temp['video_id_y']\n",
    "\n",
    "fig, ax = plt.subplots(1, 2, figsize = (15, 4))\n",
    "\n",
    "sns.barplot(data = temp, x = 'weekday', y = 'percentage', hue = 'Hot', ax = ax[0])\n",
    "sns.barplot(data = temp, x = 'weekday', y = 'video_id_x', hue = 'Hot', ax = ax[1])"
   ]
  },
  {
   "cell_type": "markdown",
   "id": "a72dbaa2",
   "metadata": {},
   "source": [
    "Suggestion:\n",
    "\n",
    "1) Most of the Hot videos have the video length less than 750 seconds. When users uploading new videos, if the original video is over 10 minutes, we can provide suggestions to users to shorten the video or split the video into multiple pieces.\n",
    "\n",
    "2) Most of videos uploaded are in Chinese and English. English videos are more likely to be Hot. If users upload videos with other language, we can provide suggestions to users to provide English subtitles.\n",
    "\n",
    "3) Most of videos uploaded are with quality of 1080p, 480p and 720p. 720p are more likely to be Hot. Therefore we can set the default video quality into 720p.\n",
    "\n",
    "4) Most of videos uploaded are on Tuesday, Wednesday and Thursday. 720p are more likely to be Hot. Therefore we can set the default video quality into 720p."
   ]
  }
 ],
 "metadata": {
  "kernelspec": {
   "display_name": "Python 3 (ipykernel)",
   "language": "python",
   "name": "python3"
  },
  "language_info": {
   "codemirror_mode": {
    "name": "ipython",
    "version": 3
   },
   "file_extension": ".py",
   "mimetype": "text/x-python",
   "name": "python",
   "nbconvert_exporter": "python",
   "pygments_lexer": "ipython3",
   "version": "3.7.7"
  }
 },
 "nbformat": 4,
 "nbformat_minor": 5
}
