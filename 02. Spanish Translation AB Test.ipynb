{
 "cells": [
  {
   "cell_type": "code",
   "execution_count": 1,
   "id": "hindu-sterling",
   "metadata": {},
   "outputs": [
    {
     "name": "stdout",
     "output_type": "stream",
     "text": [
      "no display found. Using non-interactive Agg backend\n"
     ]
    }
   ],
   "source": [
    "import pandas as pd\n",
    "import numpy as np\n",
    "import seaborn as sns\n",
    "import matplotlib.pyplot as plt\n",
    "%matplotlib inline\n",
    "from sklearn.tree import DecisionTreeClassifier\n",
    "from dmba import plotDecisionTree\n",
    "\n",
    "import warnings\n",
    "warnings.filterwarnings(\"ignore\")\n",
    "\n",
    "%matplotlib inline"
   ]
  },
  {
   "cell_type": "markdown",
   "id": "cc3d2721",
   "metadata": {},
   "source": [
    "## 1. Import Datasets"
   ]
  },
  {
   "cell_type": "code",
   "execution_count": 2,
   "id": "increasing-broad",
   "metadata": {},
   "outputs": [],
   "source": [
    "test_data = pd.read_csv('/Users/ChunyanHao/Desktop/GitHub/DS_Take_Home/data/Translation_Test/test_table.csv')\n",
    "user_data = pd.read_csv('/Users/ChunyanHao/Desktop/GitHub/DS_Take_Home/data/Translation_Test/user_table.csv')"
   ]
  },
  {
   "cell_type": "code",
   "execution_count": 3,
   "id": "returning-luxembourg",
   "metadata": {},
   "outputs": [
    {
     "data": {
      "text/html": [
       "<div>\n",
       "<style scoped>\n",
       "    .dataframe tbody tr th:only-of-type {\n",
       "        vertical-align: middle;\n",
       "    }\n",
       "\n",
       "    .dataframe tbody tr th {\n",
       "        vertical-align: top;\n",
       "    }\n",
       "\n",
       "    .dataframe thead th {\n",
       "        text-align: right;\n",
       "    }\n",
       "</style>\n",
       "<table border=\"1\" class=\"dataframe\">\n",
       "  <thead>\n",
       "    <tr style=\"text-align: right;\">\n",
       "      <th></th>\n",
       "      <th>user_id</th>\n",
       "      <th>date</th>\n",
       "      <th>source</th>\n",
       "      <th>device</th>\n",
       "      <th>browser_language</th>\n",
       "      <th>ads_channel</th>\n",
       "      <th>browser</th>\n",
       "      <th>conversion</th>\n",
       "      <th>test</th>\n",
       "    </tr>\n",
       "  </thead>\n",
       "  <tbody>\n",
       "    <tr>\n",
       "      <th>0</th>\n",
       "      <td>315281</td>\n",
       "      <td>2015-12-03</td>\n",
       "      <td>Direct</td>\n",
       "      <td>Web</td>\n",
       "      <td>ES</td>\n",
       "      <td>NaN</td>\n",
       "      <td>IE</td>\n",
       "      <td>1</td>\n",
       "      <td>0</td>\n",
       "    </tr>\n",
       "    <tr>\n",
       "      <th>1</th>\n",
       "      <td>497851</td>\n",
       "      <td>2015-12-04</td>\n",
       "      <td>Ads</td>\n",
       "      <td>Web</td>\n",
       "      <td>ES</td>\n",
       "      <td>Google</td>\n",
       "      <td>IE</td>\n",
       "      <td>0</td>\n",
       "      <td>1</td>\n",
       "    </tr>\n",
       "    <tr>\n",
       "      <th>2</th>\n",
       "      <td>848402</td>\n",
       "      <td>2015-12-04</td>\n",
       "      <td>Ads</td>\n",
       "      <td>Web</td>\n",
       "      <td>ES</td>\n",
       "      <td>Facebook</td>\n",
       "      <td>Chrome</td>\n",
       "      <td>0</td>\n",
       "      <td>0</td>\n",
       "    </tr>\n",
       "  </tbody>\n",
       "</table>\n",
       "</div>"
      ],
      "text/plain": [
       "   user_id        date  source device browser_language ads_channel browser  \\\n",
       "0   315281  2015-12-03  Direct    Web               ES         NaN      IE   \n",
       "1   497851  2015-12-04     Ads    Web               ES      Google      IE   \n",
       "2   848402  2015-12-04     Ads    Web               ES    Facebook  Chrome   \n",
       "\n",
       "   conversion  test  \n",
       "0           1     0  \n",
       "1           0     1  \n",
       "2           0     0  "
      ]
     },
     "execution_count": 3,
     "metadata": {},
     "output_type": "execute_result"
    }
   ],
   "source": [
    "test_data.head(3)"
   ]
  },
  {
   "cell_type": "code",
   "execution_count": 4,
   "id": "earned-ferry",
   "metadata": {},
   "outputs": [
    {
     "data": {
      "text/html": [
       "<div>\n",
       "<style scoped>\n",
       "    .dataframe tbody tr th:only-of-type {\n",
       "        vertical-align: middle;\n",
       "    }\n",
       "\n",
       "    .dataframe tbody tr th {\n",
       "        vertical-align: top;\n",
       "    }\n",
       "\n",
       "    .dataframe thead th {\n",
       "        text-align: right;\n",
       "    }\n",
       "</style>\n",
       "<table border=\"1\" class=\"dataframe\">\n",
       "  <thead>\n",
       "    <tr style=\"text-align: right;\">\n",
       "      <th></th>\n",
       "      <th>user_id</th>\n",
       "      <th>sex</th>\n",
       "      <th>age</th>\n",
       "      <th>country</th>\n",
       "    </tr>\n",
       "  </thead>\n",
       "  <tbody>\n",
       "    <tr>\n",
       "      <th>0</th>\n",
       "      <td>765821</td>\n",
       "      <td>M</td>\n",
       "      <td>20</td>\n",
       "      <td>Mexico</td>\n",
       "    </tr>\n",
       "    <tr>\n",
       "      <th>1</th>\n",
       "      <td>343561</td>\n",
       "      <td>F</td>\n",
       "      <td>27</td>\n",
       "      <td>Nicaragua</td>\n",
       "    </tr>\n",
       "    <tr>\n",
       "      <th>2</th>\n",
       "      <td>118744</td>\n",
       "      <td>M</td>\n",
       "      <td>23</td>\n",
       "      <td>Colombia</td>\n",
       "    </tr>\n",
       "  </tbody>\n",
       "</table>\n",
       "</div>"
      ],
      "text/plain": [
       "   user_id sex  age    country\n",
       "0   765821   M   20     Mexico\n",
       "1   343561   F   27  Nicaragua\n",
       "2   118744   M   23   Colombia"
      ]
     },
     "execution_count": 4,
     "metadata": {},
     "output_type": "execute_result"
    }
   ],
   "source": [
    "user_data.head(3)"
   ]
  },
  {
   "cell_type": "code",
   "execution_count": 5,
   "id": "corrected-introduction",
   "metadata": {},
   "outputs": [
    {
     "name": "stdout",
     "output_type": "stream",
     "text": [
      "<class 'pandas.core.frame.DataFrame'>\n",
      "RangeIndex: 453321 entries, 0 to 453320\n",
      "Data columns (total 9 columns):\n",
      " #   Column            Non-Null Count   Dtype \n",
      "---  ------            --------------   ----- \n",
      " 0   user_id           453321 non-null  int64 \n",
      " 1   date              453321 non-null  object\n",
      " 2   source            453321 non-null  object\n",
      " 3   device            453321 non-null  object\n",
      " 4   browser_language  453321 non-null  object\n",
      " 5   ads_channel       181877 non-null  object\n",
      " 6   browser           453321 non-null  object\n",
      " 7   conversion        453321 non-null  int64 \n",
      " 8   test              453321 non-null  int64 \n",
      "dtypes: int64(3), object(6)\n",
      "memory usage: 31.1+ MB\n"
     ]
    }
   ],
   "source": [
    "test_data.info()"
   ]
  },
  {
   "cell_type": "code",
   "execution_count": 6,
   "id": "material-doctrine",
   "metadata": {},
   "outputs": [
    {
     "name": "stdout",
     "output_type": "stream",
     "text": [
      "<class 'pandas.core.frame.DataFrame'>\n",
      "RangeIndex: 452867 entries, 0 to 452866\n",
      "Data columns (total 4 columns):\n",
      " #   Column   Non-Null Count   Dtype \n",
      "---  ------   --------------   ----- \n",
      " 0   user_id  452867 non-null  int64 \n",
      " 1   sex      452867 non-null  object\n",
      " 2   age      452867 non-null  int64 \n",
      " 3   country  452867 non-null  object\n",
      "dtypes: int64(2), object(2)\n",
      "memory usage: 13.8+ MB\n"
     ]
    }
   ],
   "source": [
    "user_data.info()"
   ]
  },
  {
   "cell_type": "markdown",
   "id": "serial-johnson",
   "metadata": {},
   "source": [
    "user_data has 454 less records than test_data. We need to merge these two datasets and check the mapping result"
   ]
  },
  {
   "cell_type": "markdown",
   "id": "amber-findings",
   "metadata": {},
   "source": [
    "merge two tables and be careful to keep records which is in the test set but not in the user set"
   ]
  },
  {
   "cell_type": "code",
   "execution_count": 7,
   "id": "duplicate-report",
   "metadata": {},
   "outputs": [
    {
     "data": {
      "text/html": [
       "<div>\n",
       "<style scoped>\n",
       "    .dataframe tbody tr th:only-of-type {\n",
       "        vertical-align: middle;\n",
       "    }\n",
       "\n",
       "    .dataframe tbody tr th {\n",
       "        vertical-align: top;\n",
       "    }\n",
       "\n",
       "    .dataframe thead th {\n",
       "        text-align: right;\n",
       "    }\n",
       "</style>\n",
       "<table border=\"1\" class=\"dataframe\">\n",
       "  <thead>\n",
       "    <tr style=\"text-align: right;\">\n",
       "      <th></th>\n",
       "      <th>user_id</th>\n",
       "      <th>date</th>\n",
       "      <th>source</th>\n",
       "      <th>device</th>\n",
       "      <th>browser_language</th>\n",
       "      <th>ads_channel</th>\n",
       "      <th>browser</th>\n",
       "      <th>conversion</th>\n",
       "      <th>test</th>\n",
       "      <th>sex</th>\n",
       "      <th>age</th>\n",
       "      <th>country</th>\n",
       "    </tr>\n",
       "  </thead>\n",
       "  <tbody>\n",
       "    <tr>\n",
       "      <th>0</th>\n",
       "      <td>315281</td>\n",
       "      <td>2015-12-03</td>\n",
       "      <td>Direct</td>\n",
       "      <td>Web</td>\n",
       "      <td>ES</td>\n",
       "      <td>NaN</td>\n",
       "      <td>IE</td>\n",
       "      <td>1</td>\n",
       "      <td>0</td>\n",
       "      <td>M</td>\n",
       "      <td>32.0</td>\n",
       "      <td>Spain</td>\n",
       "    </tr>\n",
       "    <tr>\n",
       "      <th>1</th>\n",
       "      <td>497851</td>\n",
       "      <td>2015-12-04</td>\n",
       "      <td>Ads</td>\n",
       "      <td>Web</td>\n",
       "      <td>ES</td>\n",
       "      <td>Google</td>\n",
       "      <td>IE</td>\n",
       "      <td>0</td>\n",
       "      <td>1</td>\n",
       "      <td>M</td>\n",
       "      <td>21.0</td>\n",
       "      <td>Mexico</td>\n",
       "    </tr>\n",
       "    <tr>\n",
       "      <th>2</th>\n",
       "      <td>848402</td>\n",
       "      <td>2015-12-04</td>\n",
       "      <td>Ads</td>\n",
       "      <td>Web</td>\n",
       "      <td>ES</td>\n",
       "      <td>Facebook</td>\n",
       "      <td>Chrome</td>\n",
       "      <td>0</td>\n",
       "      <td>0</td>\n",
       "      <td>M</td>\n",
       "      <td>34.0</td>\n",
       "      <td>Spain</td>\n",
       "    </tr>\n",
       "  </tbody>\n",
       "</table>\n",
       "</div>"
      ],
      "text/plain": [
       "   user_id        date  source device browser_language ads_channel browser  \\\n",
       "0   315281  2015-12-03  Direct    Web               ES         NaN      IE   \n",
       "1   497851  2015-12-04     Ads    Web               ES      Google      IE   \n",
       "2   848402  2015-12-04     Ads    Web               ES    Facebook  Chrome   \n",
       "\n",
       "   conversion  test sex   age country  \n",
       "0           1     0   M  32.0   Spain  \n",
       "1           0     1   M  21.0  Mexico  \n",
       "2           0     0   M  34.0   Spain  "
      ]
     },
     "execution_count": 7,
     "metadata": {},
     "output_type": "execute_result"
    }
   ],
   "source": [
    "data = pd.merge(left = test_data, right = user_data, how = 'left', left_on = 'user_id', right_on = 'user_id')\n",
    "data.head(3)"
   ]
  },
  {
   "cell_type": "code",
   "execution_count": 8,
   "id": "1f7303d0",
   "metadata": {},
   "outputs": [
    {
     "data": {
      "text/html": [
       "<div>\n",
       "<style scoped>\n",
       "    .dataframe tbody tr th:only-of-type {\n",
       "        vertical-align: middle;\n",
       "    }\n",
       "\n",
       "    .dataframe tbody tr th {\n",
       "        vertical-align: top;\n",
       "    }\n",
       "\n",
       "    .dataframe thead th {\n",
       "        text-align: right;\n",
       "    }\n",
       "</style>\n",
       "<table border=\"1\" class=\"dataframe\">\n",
       "  <thead>\n",
       "    <tr style=\"text-align: right;\">\n",
       "      <th></th>\n",
       "      <th>user_id</th>\n",
       "      <th>conversion</th>\n",
       "      <th>test</th>\n",
       "      <th>age</th>\n",
       "    </tr>\n",
       "  </thead>\n",
       "  <tbody>\n",
       "    <tr>\n",
       "      <th>count</th>\n",
       "      <td>453321.000000</td>\n",
       "      <td>453321.000000</td>\n",
       "      <td>453321.000000</td>\n",
       "      <td>452867.000000</td>\n",
       "    </tr>\n",
       "    <tr>\n",
       "      <th>mean</th>\n",
       "      <td>499937.514728</td>\n",
       "      <td>0.049579</td>\n",
       "      <td>0.476446</td>\n",
       "      <td>27.130740</td>\n",
       "    </tr>\n",
       "    <tr>\n",
       "      <th>std</th>\n",
       "      <td>288665.193436</td>\n",
       "      <td>0.217073</td>\n",
       "      <td>0.499445</td>\n",
       "      <td>6.776678</td>\n",
       "    </tr>\n",
       "    <tr>\n",
       "      <th>min</th>\n",
       "      <td>1.000000</td>\n",
       "      <td>0.000000</td>\n",
       "      <td>0.000000</td>\n",
       "      <td>18.000000</td>\n",
       "    </tr>\n",
       "    <tr>\n",
       "      <th>25%</th>\n",
       "      <td>249816.000000</td>\n",
       "      <td>0.000000</td>\n",
       "      <td>0.000000</td>\n",
       "      <td>22.000000</td>\n",
       "    </tr>\n",
       "    <tr>\n",
       "      <th>50%</th>\n",
       "      <td>500019.000000</td>\n",
       "      <td>0.000000</td>\n",
       "      <td>0.000000</td>\n",
       "      <td>26.000000</td>\n",
       "    </tr>\n",
       "    <tr>\n",
       "      <th>75%</th>\n",
       "      <td>749522.000000</td>\n",
       "      <td>0.000000</td>\n",
       "      <td>1.000000</td>\n",
       "      <td>31.000000</td>\n",
       "    </tr>\n",
       "    <tr>\n",
       "      <th>max</th>\n",
       "      <td>1000000.000000</td>\n",
       "      <td>1.000000</td>\n",
       "      <td>1.000000</td>\n",
       "      <td>70.000000</td>\n",
       "    </tr>\n",
       "  </tbody>\n",
       "</table>\n",
       "</div>"
      ],
      "text/plain": [
       "              user_id     conversion           test            age\n",
       "count   453321.000000  453321.000000  453321.000000  452867.000000\n",
       "mean    499937.514728       0.049579       0.476446      27.130740\n",
       "std     288665.193436       0.217073       0.499445       6.776678\n",
       "min          1.000000       0.000000       0.000000      18.000000\n",
       "25%     249816.000000       0.000000       0.000000      22.000000\n",
       "50%     500019.000000       0.000000       0.000000      26.000000\n",
       "75%     749522.000000       0.000000       1.000000      31.000000\n",
       "max    1000000.000000       1.000000       1.000000      70.000000"
      ]
     },
     "execution_count": 8,
     "metadata": {},
     "output_type": "execute_result"
    }
   ],
   "source": [
    "data.describe()"
   ]
  },
  {
   "cell_type": "code",
   "execution_count": 9,
   "id": "judicial-freight",
   "metadata": {},
   "outputs": [
    {
     "data": {
      "text/plain": [
       "user_id                  0\n",
       "date                     0\n",
       "source                   0\n",
       "device                   0\n",
       "browser_language         0\n",
       "ads_channel         271444\n",
       "browser                  0\n",
       "conversion               0\n",
       "test                     0\n",
       "sex                    454\n",
       "age                    454\n",
       "country                454\n",
       "dtype: int64"
      ]
     },
     "execution_count": 9,
     "metadata": {},
     "output_type": "execute_result"
    }
   ],
   "source": [
    "data.isna().sum()"
   ]
  },
  {
   "cell_type": "markdown",
   "id": "939358f9",
   "metadata": {},
   "source": [
    "The 454 missing records, which contains missing values in important features, only take less than 0.2% percent of the population, we can delete them directly"
   ]
  },
  {
   "cell_type": "code",
   "execution_count": 10,
   "id": "9cce71dc",
   "metadata": {},
   "outputs": [],
   "source": [
    "data = data[data['sex'].notnull()]"
   ]
  },
  {
   "cell_type": "markdown",
   "id": "b4ccf185",
   "metadata": {},
   "source": [
    "understand the unique values for each variable"
   ]
  },
  {
   "cell_type": "code",
   "execution_count": 11,
   "id": "significant-slovakia",
   "metadata": {},
   "outputs": [
    {
     "name": "stdout",
     "output_type": "stream",
     "text": [
      "user_id              452867\t [315281 497851 848402 290051 548435]\n",
      "date                     5\t ['2015-12-03' '2015-12-04' '2015-11-30' '2015-12-01' '2015-12-02']\n",
      "source                   3\t ['Direct' 'Ads' 'SEO']\n",
      "device                   2\t ['Web' 'Mobile']\n",
      "browser_language         3\t ['ES' 'Other' 'EN']\n",
      "ads_channel              6\t [nan 'Google' 'Facebook' 'Bing' 'Yahoo']\n",
      "browser                  7\t ['IE' 'Chrome' 'Android_App' 'FireFox' 'Iphone_App']\n",
      "conversion               2\t [1 0]\n",
      "test                     2\t [0 1]\n",
      "sex                      2\t ['M' 'F']\n",
      "age                     52\t [32. 21. 34. 22. 19.]\n",
      "country                 17\t ['Spain' 'Mexico' 'Venezuela' 'Bolivia' 'Colombia']\n"
     ]
    }
   ],
   "source": [
    "for column in data.columns:\n",
    "    uniques = data[column].unique()\n",
    "    print('{0:20s} {1:5d}\\t'.format(column, len(uniques)), uniques[:5])"
   ]
  },
  {
   "cell_type": "markdown",
   "id": "coordinated-error",
   "metadata": {},
   "source": [
    "## 2. Check if the test results is true"
   ]
  },
  {
   "cell_type": "code",
   "execution_count": 12,
   "id": "8a239c7a",
   "metadata": {},
   "outputs": [
    {
     "data": {
      "text/html": [
       "<div>\n",
       "<style scoped>\n",
       "    .dataframe tbody tr th:only-of-type {\n",
       "        vertical-align: middle;\n",
       "    }\n",
       "\n",
       "    .dataframe tbody tr th {\n",
       "        vertical-align: top;\n",
       "    }\n",
       "\n",
       "    .dataframe thead th {\n",
       "        text-align: right;\n",
       "    }\n",
       "</style>\n",
       "<table border=\"1\" class=\"dataframe\">\n",
       "  <thead>\n",
       "    <tr style=\"text-align: right;\">\n",
       "      <th></th>\n",
       "      <th>test</th>\n",
       "      <th>conversion</th>\n",
       "    </tr>\n",
       "  </thead>\n",
       "  <tbody>\n",
       "    <tr>\n",
       "      <th>0</th>\n",
       "      <td>0</td>\n",
       "      <td>0.055156</td>\n",
       "    </tr>\n",
       "    <tr>\n",
       "      <th>1</th>\n",
       "      <td>1</td>\n",
       "      <td>0.043411</td>\n",
       "    </tr>\n",
       "  </tbody>\n",
       "</table>\n",
       "</div>"
      ],
      "text/plain": [
       "   test  conversion\n",
       "0     0    0.055156\n",
       "1     1    0.043411"
      ]
     },
     "execution_count": 12,
     "metadata": {},
     "output_type": "execute_result"
    }
   ],
   "source": [
    "data[['test','conversion']].groupby(['test']).mean().reset_index()"
   ]
  },
  {
   "cell_type": "code",
   "execution_count": 13,
   "id": "cubic-brave",
   "metadata": {},
   "outputs": [
    {
     "data": {
      "image/png": "[encoded data removed]",
      "text/plain": [
       "<Figure size 960x320 with 1 Axes>"
      ]
     },
     "metadata": {
      "needs_background": "light"
     },
     "output_type": "display_data"
    }
   ],
   "source": [
    "group_country_test = data[['test','country', 'conversion']].groupby(['test', 'country']).mean().reset_index()\n",
    "\n",
    "plt.figure(figsize=(12, 4), dpi=80)\n",
    "sns.barplot(data = group_country_test, x ='country', hue='test', y = 'conversion')\n",
    "\n",
    "plt.xticks(rotation= 30)\n",
    "plt.show()"
   ]
  },
  {
   "cell_type": "markdown",
   "id": "da1e77d6",
   "metadata": {},
   "source": [
    "The bar plot above displays data distribution among different countries and test/control groups. \n",
    "we can figure out that:\n",
    "    1) the conversion rate of Spain is extremely high. But it doesn't have control group.\n",
    "    2) the differences of conversion rates between test and control in other countries are not consistent.\n",
    "    \n",
    "we can remove the influence of Spain:"
   ]
  },
  {
   "cell_type": "code",
   "execution_count": 14,
   "id": "corporate-offense",
   "metadata": {},
   "outputs": [
    {
     "data": {
      "text/html": [
       "<div>\n",
       "<style scoped>\n",
       "    .dataframe tbody tr th:only-of-type {\n",
       "        vertical-align: middle;\n",
       "    }\n",
       "\n",
       "    .dataframe tbody tr th {\n",
       "        vertical-align: top;\n",
       "    }\n",
       "\n",
       "    .dataframe thead th {\n",
       "        text-align: right;\n",
       "    }\n",
       "</style>\n",
       "<table border=\"1\" class=\"dataframe\">\n",
       "  <thead>\n",
       "    <tr style=\"text-align: right;\">\n",
       "      <th></th>\n",
       "      <th>test</th>\n",
       "      <th>conversion</th>\n",
       "    </tr>\n",
       "  </thead>\n",
       "  <tbody>\n",
       "    <tr>\n",
       "      <th>0</th>\n",
       "      <td>0</td>\n",
       "      <td>0.048292</td>\n",
       "    </tr>\n",
       "    <tr>\n",
       "      <th>1</th>\n",
       "      <td>1</td>\n",
       "      <td>0.043411</td>\n",
       "    </tr>\n",
       "  </tbody>\n",
       "</table>\n",
       "</div>"
      ],
      "text/plain": [
       "   test  conversion\n",
       "0     0    0.048292\n",
       "1     1    0.043411"
      ]
     },
     "execution_count": 14,
     "metadata": {},
     "output_type": "execute_result"
    }
   ],
   "source": [
    "data[(data['country']!= 'Spain')][['test','conversion']].groupby(['test']).mean().reset_index()"
   ]
  },
  {
   "cell_type": "markdown",
   "id": "37da0fc6",
   "metadata": {},
   "source": [
    "After removing Spain, the difference between test and control groups decreased. But still, control group (old translation) works better than test group(native translation)."
   ]
  },
  {
   "cell_type": "code",
   "execution_count": 15,
   "id": "objective-shield",
   "metadata": {},
   "outputs": [],
   "source": [
    "import scipy.stats as st"
   ]
  },
  {
   "cell_type": "code",
   "execution_count": 16,
   "id": "parallel-actress",
   "metadata": {},
   "outputs": [],
   "source": [
    "test_set =  data[(data['test'] == 1) & (data['country']!= 'Spain')]['conversion'].values\n",
    "control_set =  data[(data['test'] == 0) & (data['country']!= 'Spain')]['conversion'].values"
   ]
  },
  {
   "cell_type": "code",
   "execution_count": 17,
   "id": "copyrighted-coach",
   "metadata": {},
   "outputs": [
    {
     "data": {
      "text/plain": [
       "Ttest_indResult(statistic=-7.353895203080277, pvalue=1.9289178577799033e-13)"
      ]
     },
     "execution_count": 17,
     "metadata": {},
     "output_type": "execute_result"
    }
   ],
   "source": [
    "st.ttest_ind(test_set, control_set, equal_var = False)"
   ]
  },
  {
   "cell_type": "code",
   "execution_count": 18,
   "id": "fabulous-permit",
   "metadata": {},
   "outputs": [
    {
     "name": "stdout",
     "output_type": "stream",
     "text": [
      "mean_test_set: 0.043411161678422794 \n",
      " mean_control_set: 0.04829179055749524\n"
     ]
    }
   ],
   "source": [
    "mean_test_set = test_set.mean()\n",
    "mean_control_set = control_set.mean()\n",
    "print('mean_test_set:', mean_test_set,'\\n', \n",
    "      'mean_control_set:', mean_control_set )"
   ]
  },
  {
   "cell_type": "code",
   "execution_count": 19,
   "id": "interior-scotland",
   "metadata": {},
   "outputs": [
    {
     "name": "stdout",
     "output_type": "stream",
     "text": [
      "var_test_set: 0.04152663272015262 \n",
      " var_control_set: 0.04595969352224624\n"
     ]
    }
   ],
   "source": [
    "var_test_set = np.var(test_set)\n",
    "var_control_set = np.var(control_set)\n",
    "print('var_test_set:', var_test_set,'\\n', \n",
    "      'var_control_set:', var_control_set)"
   ]
  },
  {
   "cell_type": "markdown",
   "id": "7ae6cb90",
   "metadata": {},
   "source": [
    "## 3. Data analysis"
   ]
  },
  {
   "cell_type": "markdown",
   "id": "bfc36de2",
   "metadata": {},
   "source": [
    "### 3.1 analyze the conversion rate day by day"
   ]
  },
  {
   "cell_type": "code",
   "execution_count": 20,
   "id": "minute-pointer",
   "metadata": {},
   "outputs": [
    {
     "data": {
      "image/png": "[encoded data removed]",
      "text/plain": [
       "<Figure size 1080x288 with 2 Axes>"
      ]
     },
     "metadata": {
      "needs_background": "light"
     },
     "output_type": "display_data"
    }
   ],
   "source": [
    "group_date_test_1 = test_data[['test','date', 'conversion']].groupby(['test', 'date']).mean().reset_index()\n",
    "group_date_test_2 = test_data[['test','date', 'conversion']].groupby(['test', 'date']).count().reset_index()\n",
    "\n",
    "fig, ax = plt.subplots(1, 2, figsize=(15, 4))\n",
    "\n",
    "sns.barplot(data = group_date_test_1, x ='date', hue='test', y = 'conversion', ax = ax[0])\n",
    "ax[0].set_title('converted or not between different date')\n",
    "\n",
    "sns.barplot(data = group_date_test_2, x ='date', hue='test', y = 'conversion', ax = ax[1])\n",
    "ax[1].set_title('sample distribution between different date')\n",
    "\n",
    "plt.show()"
   ]
  },
  {
   "cell_type": "markdown",
   "id": "833c98d6",
   "metadata": {},
   "source": [
    "Plot above shows that the conversion rate of test group has some fluctuation everyday but without significant change.  \n",
    "\n",
    "The total customer in both control group and test group increased gradually after December.\n",
    "\n",
    "It's recommended to run the AB test at least for one week to capture the weekly pattern and two weeks would be even better."
   ]
  },
  {
   "cell_type": "markdown",
   "id": "471c76ec",
   "metadata": {},
   "source": [
    "### 3.2 Analyze data distribution difference between test and control group"
   ]
  },
  {
   "cell_type": "markdown",
   "id": "a7414a24",
   "metadata": {},
   "source": [
    "Another possible reason for this strange result would be that the distribution of users between test and control groups are not random. There might be other factors which influence whether the user belongs to the test group or not.\n",
    "One possible way to explore this is to build a tree regression to see if there are any variables can decide the belonging of test group or control group."
   ]
  },
  {
   "cell_type": "code",
   "execution_count": 21,
   "id": "violent-valley",
   "metadata": {},
   "outputs": [],
   "source": [
    "x_columns = ['source', 'device', 'browser_language','ads_channel', 'browser', \n",
    "             'conversion', 'sex', 'age', 'country']\n",
    "reg_data = data[(data['country']!= 'Spain')]\n",
    "x_train = pd.get_dummies(data = reg_data[x_columns], columns = ['source', 'device', 'browser_language','ads_channel', \n",
    "             'browser', 'sex', 'country'])\n",
    "y_train = reg_data['test']"
   ]
  },
  {
   "cell_type": "code",
   "execution_count": 22,
   "id": "computational-carbon",
   "metadata": {},
   "outputs": [],
   "source": [
    "fullClassTree = DecisionTreeClassifier(random_state=1, max_depth = 4).fit(x_train, y_train)"
   ]
  },
  {
   "cell_type": "code",
   "execution_count": 23,
   "id": "ideal-builder",
   "metadata": {},
   "outputs": [
    {
     "name": "stdout",
     "output_type": "stream",
     "text": [
      "country_Argentina 0.8447964157225519\n",
      "country_Uruguay 0.15294486786815126\n",
      "age 0.000735989437985168\n",
      "ads_channel_Yahoo 0.00031461983343794835\n",
      "browser_Safari 0.00031121680050687033\n",
      "ads_channel_Bing 0.00022401523437741148\n",
      "browser_FireFox 0.00019855895774361376\n",
      "conversion 0.00018848777279222665\n",
      "browser_Chrome 0.00010272950987243884\n",
      "browser_language_Other 8.530193799447509e-05\n",
      "ads_channel_Facebook 5.9734159099510626e-05\n",
      "sex_F 3.80627654871355e-05\n",
      "source_SEO 0.0\n",
      "source_Direct 0.0\n",
      "source_Ads 0.0\n",
      "sex_M 0.0\n",
      "device_Web 0.0\n",
      "device_Mobile 0.0\n",
      "country_Venezuela 0.0\n",
      "country_Peru 0.0\n",
      "country_Paraguay 0.0\n",
      "country_Panama 0.0\n",
      "country_Nicaragua 0.0\n",
      "country_Mexico 0.0\n",
      "country_Honduras 0.0\n",
      "country_Guatemala 0.0\n",
      "country_El Salvador 0.0\n",
      "country_Ecuador 0.0\n",
      "country_Costa Rica 0.0\n",
      "country_Colombia 0.0\n",
      "country_Chile 0.0\n",
      "country_Bolivia 0.0\n",
      "browser_language_ES 0.0\n",
      "browser_language_EN 0.0\n",
      "browser_Opera 0.0\n",
      "browser_Iphone_App 0.0\n",
      "browser_IE 0.0\n",
      "browser_Android_App 0.0\n",
      "ads_channel_Other 0.0\n",
      "ads_channel_Google 0.0\n"
     ]
    }
   ],
   "source": [
    "for importance, name in sorted(zip(fullClassTree.feature_importances_, x_train.columns),reverse=True):\n",
    "    print (name, importance)"
   ]
  },
  {
   "cell_type": "markdown",
   "id": "1b5f84b1",
   "metadata": {},
   "source": [
    "It seems that countries like Argentina and Uruguay affects the sameple distribution significantly.\n",
    "\n",
    "We can generate plot and pivot table to verify our arguments."
   ]
  },
  {
   "cell_type": "code",
   "execution_count": 24,
   "id": "abstract-latin",
   "metadata": {},
   "outputs": [
    {
     "data": {
      "text/html": [
       "<div>\n",
       "<style scoped>\n",
       "    .dataframe tbody tr th:only-of-type {\n",
       "        vertical-align: middle;\n",
       "    }\n",
       "\n",
       "    .dataframe tbody tr th {\n",
       "        vertical-align: top;\n",
       "    }\n",
       "\n",
       "    .dataframe thead th {\n",
       "        text-align: right;\n",
       "    }\n",
       "</style>\n",
       "<table border=\"1\" class=\"dataframe\">\n",
       "  <thead>\n",
       "    <tr style=\"text-align: right;\">\n",
       "      <th></th>\n",
       "      <th>country</th>\n",
       "      <th>test</th>\n",
       "      <th>count_sub</th>\n",
       "      <th>count_total</th>\n",
       "      <th>test_control_ratio</th>\n",
       "    </tr>\n",
       "  </thead>\n",
       "  <tbody>\n",
       "    <tr>\n",
       "      <th>29</th>\n",
       "      <td>Uruguay</td>\n",
       "      <td>1</td>\n",
       "      <td>3719</td>\n",
       "      <td>4134</td>\n",
       "      <td>0.899613</td>\n",
       "    </tr>\n",
       "    <tr>\n",
       "      <th>1</th>\n",
       "      <td>Argentina</td>\n",
       "      <td>1</td>\n",
       "      <td>37377</td>\n",
       "      <td>46733</td>\n",
       "      <td>0.799799</td>\n",
       "    </tr>\n",
       "    <tr>\n",
       "      <th>16</th>\n",
       "      <td>Honduras</td>\n",
       "      <td>0</td>\n",
       "      <td>4361</td>\n",
       "      <td>8568</td>\n",
       "      <td>0.508987</td>\n",
       "    </tr>\n",
       "    <tr>\n",
       "      <th>20</th>\n",
       "      <td>Nicaragua</td>\n",
       "      <td>0</td>\n",
       "      <td>3419</td>\n",
       "      <td>6723</td>\n",
       "      <td>0.508553</td>\n",
       "    </tr>\n",
       "    <tr>\n",
       "      <th>10</th>\n",
       "      <td>Ecuador</td>\n",
       "      <td>0</td>\n",
       "      <td>8036</td>\n",
       "      <td>15895</td>\n",
       "      <td>0.505568</td>\n",
       "    </tr>\n",
       "    <tr>\n",
       "      <th>14</th>\n",
       "      <td>Guatemala</td>\n",
       "      <td>0</td>\n",
       "      <td>7622</td>\n",
       "      <td>15125</td>\n",
       "      <td>0.503934</td>\n",
       "    </tr>\n",
       "    <tr>\n",
       "      <th>30</th>\n",
       "      <td>Venezuela</td>\n",
       "      <td>0</td>\n",
       "      <td>16149</td>\n",
       "      <td>32054</td>\n",
       "      <td>0.503806</td>\n",
       "    </tr>\n",
       "    <tr>\n",
       "      <th>25</th>\n",
       "      <td>Paraguay</td>\n",
       "      <td>1</td>\n",
       "      <td>3697</td>\n",
       "      <td>7347</td>\n",
       "      <td>0.503199</td>\n",
       "    </tr>\n",
       "    <tr>\n",
       "      <th>12</th>\n",
       "      <td>El Salvador</td>\n",
       "      <td>0</td>\n",
       "      <td>4108</td>\n",
       "      <td>8175</td>\n",
       "      <td>0.502508</td>\n",
       "    </tr>\n",
       "    <tr>\n",
       "      <th>23</th>\n",
       "      <td>Panama</td>\n",
       "      <td>1</td>\n",
       "      <td>1985</td>\n",
       "      <td>3951</td>\n",
       "      <td>0.502404</td>\n",
       "    </tr>\n",
       "    <tr>\n",
       "      <th>3</th>\n",
       "      <td>Bolivia</td>\n",
       "      <td>1</td>\n",
       "      <td>5574</td>\n",
       "      <td>11124</td>\n",
       "      <td>0.501079</td>\n",
       "    </tr>\n",
       "    <tr>\n",
       "      <th>6</th>\n",
       "      <td>Colombia</td>\n",
       "      <td>0</td>\n",
       "      <td>27088</td>\n",
       "      <td>54060</td>\n",
       "      <td>0.501073</td>\n",
       "    </tr>\n",
       "    <tr>\n",
       "      <th>26</th>\n",
       "      <td>Peru</td>\n",
       "      <td>0</td>\n",
       "      <td>16869</td>\n",
       "      <td>33666</td>\n",
       "      <td>0.501069</td>\n",
       "    </tr>\n",
       "    <tr>\n",
       "      <th>8</th>\n",
       "      <td>Costa Rica</td>\n",
       "      <td>0</td>\n",
       "      <td>2660</td>\n",
       "      <td>5309</td>\n",
       "      <td>0.501036</td>\n",
       "    </tr>\n",
       "    <tr>\n",
       "      <th>5</th>\n",
       "      <td>Chile</td>\n",
       "      <td>1</td>\n",
       "      <td>9884</td>\n",
       "      <td>19737</td>\n",
       "      <td>0.500785</td>\n",
       "    </tr>\n",
       "    <tr>\n",
       "      <th>19</th>\n",
       "      <td>Mexico</td>\n",
       "      <td>1</td>\n",
       "      <td>64275</td>\n",
       "      <td>128484</td>\n",
       "      <td>0.500257</td>\n",
       "    </tr>\n",
       "    <tr>\n",
       "      <th>18</th>\n",
       "      <td>Mexico</td>\n",
       "      <td>0</td>\n",
       "      <td>64209</td>\n",
       "      <td>128484</td>\n",
       "      <td>0.499743</td>\n",
       "    </tr>\n",
       "    <tr>\n",
       "      <th>4</th>\n",
       "      <td>Chile</td>\n",
       "      <td>0</td>\n",
       "      <td>9853</td>\n",
       "      <td>19737</td>\n",
       "      <td>0.499215</td>\n",
       "    </tr>\n",
       "    <tr>\n",
       "      <th>9</th>\n",
       "      <td>Costa Rica</td>\n",
       "      <td>1</td>\n",
       "      <td>2649</td>\n",
       "      <td>5309</td>\n",
       "      <td>0.498964</td>\n",
       "    </tr>\n",
       "    <tr>\n",
       "      <th>27</th>\n",
       "      <td>Peru</td>\n",
       "      <td>1</td>\n",
       "      <td>16797</td>\n",
       "      <td>33666</td>\n",
       "      <td>0.498931</td>\n",
       "    </tr>\n",
       "    <tr>\n",
       "      <th>7</th>\n",
       "      <td>Colombia</td>\n",
       "      <td>1</td>\n",
       "      <td>26972</td>\n",
       "      <td>54060</td>\n",
       "      <td>0.498927</td>\n",
       "    </tr>\n",
       "    <tr>\n",
       "      <th>2</th>\n",
       "      <td>Bolivia</td>\n",
       "      <td>0</td>\n",
       "      <td>5550</td>\n",
       "      <td>11124</td>\n",
       "      <td>0.498921</td>\n",
       "    </tr>\n",
       "    <tr>\n",
       "      <th>22</th>\n",
       "      <td>Panama</td>\n",
       "      <td>0</td>\n",
       "      <td>1966</td>\n",
       "      <td>3951</td>\n",
       "      <td>0.497596</td>\n",
       "    </tr>\n",
       "    <tr>\n",
       "      <th>13</th>\n",
       "      <td>El Salvador</td>\n",
       "      <td>1</td>\n",
       "      <td>4067</td>\n",
       "      <td>8175</td>\n",
       "      <td>0.497492</td>\n",
       "    </tr>\n",
       "    <tr>\n",
       "      <th>24</th>\n",
       "      <td>Paraguay</td>\n",
       "      <td>0</td>\n",
       "      <td>3650</td>\n",
       "      <td>7347</td>\n",
       "      <td>0.496801</td>\n",
       "    </tr>\n",
       "    <tr>\n",
       "      <th>31</th>\n",
       "      <td>Venezuela</td>\n",
       "      <td>1</td>\n",
       "      <td>15905</td>\n",
       "      <td>32054</td>\n",
       "      <td>0.496194</td>\n",
       "    </tr>\n",
       "    <tr>\n",
       "      <th>15</th>\n",
       "      <td>Guatemala</td>\n",
       "      <td>1</td>\n",
       "      <td>7503</td>\n",
       "      <td>15125</td>\n",
       "      <td>0.496066</td>\n",
       "    </tr>\n",
       "    <tr>\n",
       "      <th>11</th>\n",
       "      <td>Ecuador</td>\n",
       "      <td>1</td>\n",
       "      <td>7859</td>\n",
       "      <td>15895</td>\n",
       "      <td>0.494432</td>\n",
       "    </tr>\n",
       "    <tr>\n",
       "      <th>21</th>\n",
       "      <td>Nicaragua</td>\n",
       "      <td>1</td>\n",
       "      <td>3304</td>\n",
       "      <td>6723</td>\n",
       "      <td>0.491447</td>\n",
       "    </tr>\n",
       "    <tr>\n",
       "      <th>17</th>\n",
       "      <td>Honduras</td>\n",
       "      <td>1</td>\n",
       "      <td>4207</td>\n",
       "      <td>8568</td>\n",
       "      <td>0.491013</td>\n",
       "    </tr>\n",
       "    <tr>\n",
       "      <th>0</th>\n",
       "      <td>Argentina</td>\n",
       "      <td>0</td>\n",
       "      <td>9356</td>\n",
       "      <td>46733</td>\n",
       "      <td>0.200201</td>\n",
       "    </tr>\n",
       "    <tr>\n",
       "      <th>28</th>\n",
       "      <td>Uruguay</td>\n",
       "      <td>0</td>\n",
       "      <td>415</td>\n",
       "      <td>4134</td>\n",
       "      <td>0.100387</td>\n",
       "    </tr>\n",
       "  </tbody>\n",
       "</table>\n",
       "</div>"
      ],
      "text/plain": [
       "        country  test  count_sub  count_total  test_control_ratio\n",
       "29      Uruguay     1       3719         4134            0.899613\n",
       "1     Argentina     1      37377        46733            0.799799\n",
       "16     Honduras     0       4361         8568            0.508987\n",
       "20    Nicaragua     0       3419         6723            0.508553\n",
       "10      Ecuador     0       8036        15895            0.505568\n",
       "14    Guatemala     0       7622        15125            0.503934\n",
       "30    Venezuela     0      16149        32054            0.503806\n",
       "25     Paraguay     1       3697         7347            0.503199\n",
       "12  El Salvador     0       4108         8175            0.502508\n",
       "23       Panama     1       1985         3951            0.502404\n",
       "3       Bolivia     1       5574        11124            0.501079\n",
       "6      Colombia     0      27088        54060            0.501073\n",
       "26         Peru     0      16869        33666            0.501069\n",
       "8    Costa Rica     0       2660         5309            0.501036\n",
       "5         Chile     1       9884        19737            0.500785\n",
       "19       Mexico     1      64275       128484            0.500257\n",
       "18       Mexico     0      64209       128484            0.499743\n",
       "4         Chile     0       9853        19737            0.499215\n",
       "9    Costa Rica     1       2649         5309            0.498964\n",
       "27         Peru     1      16797        33666            0.498931\n",
       "7      Colombia     1      26972        54060            0.498927\n",
       "2       Bolivia     0       5550        11124            0.498921\n",
       "22       Panama     0       1966         3951            0.497596\n",
       "13  El Salvador     1       4067         8175            0.497492\n",
       "24     Paraguay     0       3650         7347            0.496801\n",
       "31    Venezuela     1      15905        32054            0.496194\n",
       "15    Guatemala     1       7503        15125            0.496066\n",
       "11      Ecuador     1       7859        15895            0.494432\n",
       "21    Nicaragua     1       3304         6723            0.491447\n",
       "17     Honduras     1       4207         8568            0.491013\n",
       "0     Argentina     0       9356        46733            0.200201\n",
       "28      Uruguay     0        415         4134            0.100387"
      ]
     },
     "execution_count": 24,
     "metadata": {},
     "output_type": "execute_result"
    }
   ],
   "source": [
    "group_country_1 = reg_data[['test','country', 'user_id']].groupby(['country', 'test']).count().reset_index()\n",
    "group_country_2 = reg_data[['country', 'user_id']].groupby(['country']).count().reset_index()\n",
    "\n",
    "group_country_test = pd.merge(left = group_country_1, \n",
    "                              right = group_country_2,\n",
    "                             how = 'left', left_on = 'country', right_on = 'country')\n",
    "group_country_test.columns = ['country','test', 'count_sub', 'count_total']\n",
    "group_country_test['test_control_ratio'] = group_country_test['count_sub'] / group_country_test['count_total']\n",
    "group_country_test.sort_values(by=['test_control_ratio'], ascending=False)"
   ]
  },
  {
   "cell_type": "code",
   "execution_count": 25,
   "id": "loved-inspiration",
   "metadata": {},
   "outputs": [
    {
     "data": {
      "image/png": "[encoded data removed]",
      "text/plain": [
       "<Figure size 640x240 with 1 Axes>"
      ]
     },
     "metadata": {
      "needs_background": "light"
     },
     "output_type": "display_data"
    }
   ],
   "source": [
    "plt.figure(figsize=(8, 3), dpi=80)\n",
    "sns.barplot(data = group_country_test, x ='country', hue='test', y = 'count_sub')\n",
    "plt.xticks(rotation= 30)\n",
    "\n",
    "plt.show()"
   ]
  },
  {
   "cell_type": "markdown",
   "id": "ccb9c1d5",
   "metadata": {},
   "source": [
    "We can then run the T-test after removing Argentina and Uruguay:"
   ]
  },
  {
   "cell_type": "code",
   "execution_count": 26,
   "id": "4f5fe44a",
   "metadata": {},
   "outputs": [
    {
     "name": "stdout",
     "output_type": "stream",
     "text": [
      "mean_test_set: 0.050412759477438486 \n",
      " mean_control_set: 0.05014811438988265\n"
     ]
    },
    {
     "data": {
      "text/plain": [
       "Ttest_indResult(statistic=0.3583455794481446, pvalue=0.7200849282884506)"
      ]
     },
     "execution_count": 26,
     "metadata": {},
     "output_type": "execute_result"
    }
   ],
   "source": [
    "modified_data = reg_data[(reg_data['country'] != 'Argentina') & (reg_data['country'] != 'Uruguay')]\n",
    "test_set =  modified_data[(modified_data['test'] == 1)]['conversion'].values\n",
    "control_set =  modified_data[(modified_data['test'] == 0)]['conversion'].values\n",
    "\n",
    "print('mean_test_set:', test_set.mean(),'\\n', \n",
    "      'mean_control_set:', control_set.mean())\n",
    "\n",
    "st.ttest_ind(test_set, control_set, equal_var = False)"
   ]
  },
  {
   "cell_type": "markdown",
   "id": "e16be5e0",
   "metadata": {},
   "source": [
    "The modified T-test result shows that there is no significant difference in conversion rate between the native translation and old translation version of website."
   ]
  },
  {
   "cell_type": "markdown",
   "id": "5ae2676d",
   "metadata": {},
   "source": [
    "### 3.3. Analyze the conversion rate between other variables"
   ]
  },
  {
   "cell_type": "markdown",
   "id": "1d792140",
   "metadata": {},
   "source": [
    "Except for contries, we also notice that variables including age, broswer and sex are significant to decide if the sample belongs to test or control group.\n",
    "we can plot the related plots to do more analysis."
   ]
  },
  {
   "cell_type": "code",
   "execution_count": 27,
   "id": "7050d2e3",
   "metadata": {},
   "outputs": [
    {
     "data": {
      "image/png": "[encoded data removed]",
      "text/plain": [
       "<Figure size 576x216 with 1 Axes>"
      ]
     },
     "metadata": {
      "needs_background": "light"
     },
     "output_type": "display_data"
    }
   ],
   "source": [
    "plt.figure(figsize=(8, 3))\n",
    "sns.histplot(data = reg_data, x ='age', hue='test')\n",
    "plt.xticks(rotation= 30)\n",
    "\n",
    "plt.show()"
   ]
  },
  {
   "cell_type": "code",
   "execution_count": 28,
   "id": "2cffdf23",
   "metadata": {},
   "outputs": [
    {
     "data": {
      "image/png": "[encoded data removed]",
      "text/plain": [
       "<Figure size 576x216 with 1 Axes>"
      ]
     },
     "metadata": {
      "needs_background": "light"
     },
     "output_type": "display_data"
    }
   ],
   "source": [
    "plt.figure(figsize=(8, 3))\n",
    "sns.histplot(data = reg_data, x ='browser', hue='test')\n",
    "plt.xticks(rotation= 30)\n",
    "\n",
    "plt.show()"
   ]
  },
  {
   "cell_type": "code",
   "execution_count": 29,
   "id": "native-bench",
   "metadata": {},
   "outputs": [
    {
     "data": {
      "image/png": "[encoded data removed]",
      "text/plain": [
       "<Figure size 576x216 with 1 Axes>"
      ]
     },
     "metadata": {
      "needs_background": "light"
     },
     "output_type": "display_data"
    }
   ],
   "source": [
    "plt.figure(figsize=(8, 3))\n",
    "sns.histplot(data = reg_data, x ='sex', hue='test')\n",
    "plt.xticks(rotation= 30)\n",
    "\n",
    "plt.show()"
   ]
  }
 ],
 "metadata": {
  "kernelspec": {
   "display_name": "Python 3 (ipykernel)",
   "language": "python",
   "name": "python3"
  },
  "language_info": {
   "codemirror_mode": {
    "name": "ipython",
    "version": 3
   },
   "file_extension": ".py",
   "mimetype": "text/x-python",
   "name": "python",
   "nbconvert_exporter": "python",
   "pygments_lexer": "ipython3",
   "version": "3.7.7"
  }
 },
 "nbformat": 4,
 "nbformat_minor": 5
}
