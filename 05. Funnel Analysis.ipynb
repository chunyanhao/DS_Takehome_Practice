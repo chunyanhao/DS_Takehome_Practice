{
 "cells": [
  {
   "cell_type": "code",
   "execution_count": 1,
   "id": "ee54f992",
   "metadata": {},
   "outputs": [],
   "source": [
    "import pandas as pd\n",
    "import numpy as np\n",
    "import seaborn as sns\n",
    "import matplotlib.pyplot as plt\n",
    "import datetime as dt\n",
    "\n",
    "import warnings\n",
    "warnings.filterwarnings(\"ignore\")"
   ]
  },
  {
   "cell_type": "markdown",
   "id": "ea3d076c",
   "metadata": {},
   "source": [
    "### 1. Load Data"
   ]
  },
  {
   "cell_type": "code",
   "execution_count": 2,
   "id": "e0033840",
   "metadata": {},
   "outputs": [],
   "source": [
    "homepage = pd.read_csv('/Users/ChunyanHao/Desktop/GitHub/DS_Take_Home/data/Funnel/home_page_table.csv')\n",
    "confirm = pd.read_csv('/Users/ChunyanHao/Desktop/GitHub/DS_Take_Home/data/Funnel/payment_confirmation_table.csv')\n",
    "payment = pd.read_csv('/Users/ChunyanHao/Desktop/GitHub/DS_Take_Home/data/Funnel/payment_page_table.csv')\n",
    "search = pd.read_csv('/Users/ChunyanHao/Desktop/GitHub/DS_Take_Home/data/Funnel/search_page_table.csv')\n",
    "user = pd.read_csv('/Users/ChunyanHao/Desktop/GitHub/DS_Take_Home/data/Funnel/user_table.csv')"
   ]
  },
  {
   "cell_type": "code",
   "execution_count": 3,
   "id": "8311dcc5",
   "metadata": {},
   "outputs": [
    {
     "name": "stdout",
     "output_type": "stream",
     "text": [
      "   user_id        date   device     sex\n",
      "0   450007  2015-02-28  Desktop  Female\n",
      "1   756838  2015-01-13  Desktop    Male\n",
      "2   568983  2015-04-09  Desktop    Male\n",
      "   user_id       page\n",
      "0   313593  home_page\n",
      "1   468315  home_page\n",
      "2   264005  home_page\n",
      "   user_id                       page\n",
      "0   123100  payment_confirmation_page\n",
      "1   704999  payment_confirmation_page\n",
      "2   407188  payment_confirmation_page\n",
      "   user_id          page\n",
      "0   253019  payment_page\n",
      "1   310478  payment_page\n",
      "2   304081  payment_page\n",
      "   user_id         page\n",
      "0    15866  search_page\n",
      "1   347058  search_page\n",
      "2   577020  search_page\n"
     ]
    }
   ],
   "source": [
    "#check tables' format\n",
    "file_list = [user, homepage, confirm, payment, search]\n",
    "for i in file_list:\n",
    "    print(i.head(3))"
   ]
  },
  {
   "cell_type": "code",
   "execution_count": 4,
   "id": "b85c89fd",
   "metadata": {},
   "outputs": [
    {
     "name": "stdout",
     "output_type": "stream",
     "text": [
      "<class 'pandas.core.frame.DataFrame'>\n",
      "RangeIndex: 90400 entries, 0 to 90399\n",
      "Data columns (total 4 columns):\n",
      " #   Column   Non-Null Count  Dtype \n",
      "---  ------   --------------  ----- \n",
      " 0   user_id  90400 non-null  int64 \n",
      " 1   date     90400 non-null  object\n",
      " 2   device   90400 non-null  object\n",
      " 3   sex      90400 non-null  object\n",
      "dtypes: int64(1), object(3)\n",
      "memory usage: 2.8+ MB\n",
      "None\n",
      "<class 'pandas.core.frame.DataFrame'>\n",
      "RangeIndex: 90400 entries, 0 to 90399\n",
      "Data columns (total 2 columns):\n",
      " #   Column   Non-Null Count  Dtype \n",
      "---  ------   --------------  ----- \n",
      " 0   user_id  90400 non-null  int64 \n",
      " 1   page     90400 non-null  object\n",
      "dtypes: int64(1), object(1)\n",
      "memory usage: 1.4+ MB\n",
      "None\n",
      "<class 'pandas.core.frame.DataFrame'>\n",
      "RangeIndex: 45200 entries, 0 to 45199\n",
      "Data columns (total 2 columns):\n",
      " #   Column   Non-Null Count  Dtype \n",
      "---  ------   --------------  ----- \n",
      " 0   user_id  45200 non-null  int64 \n",
      " 1   page     45200 non-null  object\n",
      "dtypes: int64(1), object(1)\n",
      "memory usage: 706.4+ KB\n",
      "None\n",
      "<class 'pandas.core.frame.DataFrame'>\n",
      "RangeIndex: 6030 entries, 0 to 6029\n",
      "Data columns (total 2 columns):\n",
      " #   Column   Non-Null Count  Dtype \n",
      "---  ------   --------------  ----- \n",
      " 0   user_id  6030 non-null   int64 \n",
      " 1   page     6030 non-null   object\n",
      "dtypes: int64(1), object(1)\n",
      "memory usage: 94.3+ KB\n",
      "None\n",
      "<class 'pandas.core.frame.DataFrame'>\n",
      "RangeIndex: 452 entries, 0 to 451\n",
      "Data columns (total 2 columns):\n",
      " #   Column   Non-Null Count  Dtype \n",
      "---  ------   --------------  ----- \n",
      " 0   user_id  452 non-null    int64 \n",
      " 1   page     452 non-null    object\n",
      "dtypes: int64(1), object(1)\n",
      "memory usage: 7.2+ KB\n",
      "None\n"
     ]
    }
   ],
   "source": [
    "file_list = [user, homepage, search, payment, confirm]\n",
    "for i in file_list:\n",
    "    print(i.info())"
   ]
  },
  {
   "cell_type": "markdown",
   "id": "ccff3a98",
   "metadata": {},
   "source": [
    "### 2. Merge data and calculate basic conversion rate"
   ]
  },
  {
   "cell_type": "code",
   "execution_count": 5,
   "id": "2d81df53",
   "metadata": {},
   "outputs": [],
   "source": [
    "# change all 'page' column value into 1, which indicates that users convert into next level of funnel \n",
    "file_list = [homepage, search, payment, confirm]\n",
    "for i in file_list:\n",
    "    i['page'] = 1"
   ]
  },
  {
   "cell_type": "code",
   "execution_count": 6,
   "id": "368ba1ae",
   "metadata": {},
   "outputs": [],
   "source": [
    "file_list = [homepage, search, payment, confirm]\n",
    "for i in file_list:\n",
    "    user = pd.merge(left = user, right = i, how = 'left', \n",
    "                     left_on = 'user_id', right_on = 'user_id')\n",
    "user.columns = ['user_id', 'date', 'device', 'sex', \n",
    "                 'homepage', 'search', 'payment', 'confirm']\n",
    "user = user.fillna(0)"
   ]
  },
  {
   "cell_type": "code",
   "execution_count": 7,
   "id": "3be9eeb5",
   "metadata": {},
   "outputs": [
    {
     "data": {
      "text/html": [
       "<div>\n",
       "<style scoped>\n",
       "    .dataframe tbody tr th:only-of-type {\n",
       "        vertical-align: middle;\n",
       "    }\n",
       "\n",
       "    .dataframe tbody tr th {\n",
       "        vertical-align: top;\n",
       "    }\n",
       "\n",
       "    .dataframe thead th {\n",
       "        text-align: right;\n",
       "    }\n",
       "</style>\n",
       "<table border=\"1\" class=\"dataframe\">\n",
       "  <thead>\n",
       "    <tr style=\"text-align: right;\">\n",
       "      <th></th>\n",
       "      <th>user_id</th>\n",
       "      <th>date</th>\n",
       "      <th>device</th>\n",
       "      <th>sex</th>\n",
       "      <th>homepage</th>\n",
       "      <th>search</th>\n",
       "      <th>payment</th>\n",
       "      <th>confirm</th>\n",
       "    </tr>\n",
       "  </thead>\n",
       "  <tbody>\n",
       "    <tr>\n",
       "      <th>0</th>\n",
       "      <td>450007</td>\n",
       "      <td>2015-02-28</td>\n",
       "      <td>Desktop</td>\n",
       "      <td>Female</td>\n",
       "      <td>1</td>\n",
       "      <td>0.0</td>\n",
       "      <td>0.0</td>\n",
       "      <td>0.0</td>\n",
       "    </tr>\n",
       "    <tr>\n",
       "      <th>1</th>\n",
       "      <td>756838</td>\n",
       "      <td>2015-01-13</td>\n",
       "      <td>Desktop</td>\n",
       "      <td>Male</td>\n",
       "      <td>1</td>\n",
       "      <td>0.0</td>\n",
       "      <td>0.0</td>\n",
       "      <td>0.0</td>\n",
       "    </tr>\n",
       "    <tr>\n",
       "      <th>2</th>\n",
       "      <td>568983</td>\n",
       "      <td>2015-04-09</td>\n",
       "      <td>Desktop</td>\n",
       "      <td>Male</td>\n",
       "      <td>1</td>\n",
       "      <td>1.0</td>\n",
       "      <td>0.0</td>\n",
       "      <td>0.0</td>\n",
       "    </tr>\n",
       "  </tbody>\n",
       "</table>\n",
       "</div>"
      ],
      "text/plain": [
       "   user_id        date   device     sex  homepage  search  payment  confirm\n",
       "0   450007  2015-02-28  Desktop  Female         1     0.0      0.0      0.0\n",
       "1   756838  2015-01-13  Desktop    Male         1     0.0      0.0      0.0\n",
       "2   568983  2015-04-09  Desktop    Male         1     1.0      0.0      0.0"
      ]
     },
     "execution_count": 7,
     "metadata": {},
     "output_type": "execute_result"
    }
   ],
   "source": [
    "user.head(3)"
   ]
  },
  {
   "cell_type": "code",
   "execution_count": 8,
   "id": "85232f4a",
   "metadata": {},
   "outputs": [
    {
     "name": "stdout",
     "output_type": "stream",
     "text": [
      "homepage --> homepage 1.0\n",
      "homepage --> search 0.5\n",
      "homepage --> payment 0.0667\n",
      "homepage --> confirm 0.005\n"
     ]
    }
   ],
   "source": [
    "# Conversion rate from homepage to next page\n",
    "# for example: 50% of all users reach out the search_page, \n",
    "# but only 0.5% of all users reach out the payment confirmation page\n",
    "\n",
    "for i in ['homepage', 'search', 'payment', 'confirm']:\n",
    "    print('homepage -->', i, round(np.mean(user[i]), 4))"
   ]
  },
  {
   "cell_type": "code",
   "execution_count": 9,
   "id": "38d22970",
   "metadata": {},
   "outputs": [
    {
     "name": "stdout",
     "output_type": "stream",
     "text": [
      "homepage --> search_page 0.5\n",
      "search_page --> payment_page 0.1334\n",
      "payment_page --> confirm 0.075\n"
     ]
    }
   ],
   "source": [
    "# Conversion rate from current page to next page\n",
    "# for example: 50% of all users in homepage reach out the search page, \n",
    "# but only 13% of all users in search_page reach out the payment page\n",
    "\n",
    "print('homepage --> search_page',  round(user[(user['homepage'] == 1)]['search'].mean(), 4))\n",
    "print('search_page --> payment_page',  round(user[(user['search'] == 1)]['payment'].mean(), 4))\n",
    "print('payment_page --> confirm', round(user[(user['payment'] == 1)]['confirm'].mean(), 4))"
   ]
  },
  {
   "cell_type": "code",
   "execution_count": 10,
   "id": "89cc56c1",
   "metadata": {},
   "outputs": [
    {
     "name": "stdout",
     "output_type": "stream",
     "text": [
      "homepage --> confirm 0.005\n",
      "search --> confirm 0.01\n",
      "payment --> confirm 0.075\n"
     ]
    }
   ],
   "source": [
    "# Conversion rate from current page to confirm page\n",
    "# for example: 0.5% of all users in homepage reach out the payment_confrimation page, \n",
    "# but 1% of all users in search_page reach out the payment_confirmation page\n",
    "\n",
    "for i in ['homepage', 'search', 'payment']:\n",
    "    print(i, '--> confirm', round(user[(user[i] == 1)]['confirm'].mean(), 4))"
   ]
  },
  {
   "cell_type": "markdown",
   "id": "10ebde4e",
   "metadata": {},
   "source": [
    "The general conversion rate displayed above indicates that the users from payment page to confirm page is extremely low, which is abnormal."
   ]
  },
  {
   "cell_type": "markdown",
   "id": "25d01b59",
   "metadata": {},
   "source": [
    "### 3. Conversion rate by device"
   ]
  },
  {
   "cell_type": "code",
   "execution_count": 12,
   "id": "1cc37721",
   "metadata": {},
   "outputs": [
    {
     "data": {
      "text/html": [
       "<div>\n",
       "<style scoped>\n",
       "    .dataframe tbody tr th:only-of-type {\n",
       "        vertical-align: middle;\n",
       "    }\n",
       "\n",
       "    .dataframe tbody tr th {\n",
       "        vertical-align: top;\n",
       "    }\n",
       "\n",
       "    .dataframe thead th {\n",
       "        text-align: right;\n",
       "    }\n",
       "</style>\n",
       "<table border=\"1\" class=\"dataframe\">\n",
       "  <thead>\n",
       "    <tr style=\"text-align: right;\">\n",
       "      <th>device</th>\n",
       "      <th>Desktop</th>\n",
       "      <th>Mobile</th>\n",
       "    </tr>\n",
       "  </thead>\n",
       "  <tbody>\n",
       "    <tr>\n",
       "      <th>search</th>\n",
       "      <td>0.5</td>\n",
       "      <td>0.5</td>\n",
       "    </tr>\n",
       "    <tr>\n",
       "      <th>payment</th>\n",
       "      <td>0.1</td>\n",
       "      <td>0.2</td>\n",
       "    </tr>\n",
       "    <tr>\n",
       "      <th>confirm</th>\n",
       "      <td>0.049834</td>\n",
       "      <td>0.1</td>\n",
       "    </tr>\n",
       "  </tbody>\n",
       "</table>\n",
       "</div>"
      ],
      "text/plain": [
       "device    Desktop Mobile\n",
       "search        0.5    0.5\n",
       "payment       0.1    0.2\n",
       "confirm  0.049834    0.1"
      ]
     },
     "execution_count": 12,
     "metadata": {},
     "output_type": "execute_result"
    }
   ],
   "source": [
    "temp_1 = user[(user['homepage'] == 1)].groupby('device')['search'].mean().reset_index()\n",
    "temp_2 = user[(user['search'] == 1)].groupby('device')['payment'].mean().reset_index()\n",
    "temp_3 = user[(user['payment'] == 1)].groupby('device')['confirm'].mean().reset_index()\n",
    "device_summary = temp_1.merge(temp_2, on = 'device').merge(temp_3, on = 'device').T\n",
    "device_summary.columns = device_summary.iloc[0]\n",
    "device_summary = device_summary.iloc[1:]\n",
    "device_summary"
   ]
  },
  {
   "cell_type": "markdown",
   "id": "7b85e9d9",
   "metadata": {},
   "source": [
    "The performance of mobile is better than the desktop, which means that the company needs to improve the desktop design. \n",
    "\n",
    "Meanwhile, it's strange that the conversion rate from payment page to confirmation page is very low. That is to say many customers change their mind to confirm the final order click."
   ]
  },
  {
   "cell_type": "code",
   "execution_count": 13,
   "id": "1ae2d432",
   "metadata": {},
   "outputs": [
    {
     "data": {
      "text/html": [
       "<div>\n",
       "<style scoped>\n",
       "    .dataframe tbody tr th:only-of-type {\n",
       "        vertical-align: middle;\n",
       "    }\n",
       "\n",
       "    .dataframe tbody tr th {\n",
       "        vertical-align: top;\n",
       "    }\n",
       "\n",
       "    .dataframe thead th {\n",
       "        text-align: right;\n",
       "    }\n",
       "</style>\n",
       "<table border=\"1\" class=\"dataframe\">\n",
       "  <thead>\n",
       "    <tr style=\"text-align: right;\">\n",
       "      <th>sex</th>\n",
       "      <th>Female</th>\n",
       "      <th>Male</th>\n",
       "    </tr>\n",
       "  </thead>\n",
       "  <tbody>\n",
       "    <tr>\n",
       "      <th>search</th>\n",
       "      <td>0.503073</td>\n",
       "      <td>0.496944</td>\n",
       "    </tr>\n",
       "    <tr>\n",
       "      <th>payment</th>\n",
       "      <td>0.136708</td>\n",
       "      <td>0.130083</td>\n",
       "    </tr>\n",
       "    <tr>\n",
       "      <th>confirm</th>\n",
       "      <td>0.077742</td>\n",
       "      <td>0.072014</td>\n",
       "    </tr>\n",
       "  </tbody>\n",
       "</table>\n",
       "</div>"
      ],
      "text/plain": [
       "sex        Female      Male\n",
       "search   0.503073  0.496944\n",
       "payment  0.136708  0.130083\n",
       "confirm  0.077742  0.072014"
      ]
     },
     "execution_count": 13,
     "metadata": {},
     "output_type": "execute_result"
    }
   ],
   "source": [
    "temp_1 = user[(user['homepage'] == 1)].groupby('sex')['search'].mean().reset_index()\n",
    "temp_2 = user[(user['search'] == 1)].groupby('sex')['payment'].mean().reset_index()\n",
    "temp_3 = user[(user['payment'] == 1)].groupby('sex')['confirm'].mean().reset_index()\n",
    "sex_summary = temp_1.merge(temp_2, on = 'sex').merge(temp_3, on = 'sex').T\n",
    "sex_summary.columns = sex_summary.iloc[0]\n",
    "sex_summary = sex_summary.iloc[1:]\n",
    "sex_summary"
   ]
  },
  {
   "cell_type": "markdown",
   "id": "867595f9",
   "metadata": {},
   "source": [
    "There is no significant difference between female and male users in conversion rate"
   ]
  }
 ],
 "metadata": {
  "kernelspec": {
   "display_name": "Python 3 (ipykernel)",
   "language": "python",
   "name": "python3"
  },
  "language_info": {
   "codemirror_mode": {
    "name": "ipython",
    "version": 3
   },
   "file_extension": ".py",
   "mimetype": "text/x-python",
   "name": "python",
   "nbconvert_exporter": "python",
   "pygments_lexer": "ipython3",
   "version": "3.7.7"
  }
 },
 "nbformat": 4,
 "nbformat_minor": 5
}
