{
 "cells": [
  {
   "cell_type": "code",
   "execution_count": 1,
   "id": "002d2c59",
   "metadata": {},
   "outputs": [],
   "source": [
    "import pandas as pd\n",
    "import numpy as np\n",
    "import matplotlib.pyplot as plt\n",
    "import seaborn as sns\n",
    "\n",
    "%matplotlib inline\n",
    "\n",
    "import warnings\n",
    "warnings.filterwarnings(\"ignore\")"
   ]
  },
  {
   "cell_type": "markdown",
   "id": "ff039778",
   "metadata": {},
   "source": [
    "### 1. Load Data"
   ]
  },
  {
   "cell_type": "code",
   "execution_count": 8,
   "id": "cdabe0a7",
   "metadata": {},
   "outputs": [
    {
     "name": "stdout",
     "output_type": "stream",
     "text": [
      "Total Records:\t 77677\n"
     ]
    }
   ],
   "source": [
    "with open('/Users/ChunyanHao/desktop/github/ds_take_home/data/url_list.txt') as f:\n",
    "    lines = f.readlines()\n",
    "    \n",
    "print('Total Records:\\t', len(lines))"
   ]
  },
  {
   "cell_type": "code",
   "execution_count": 31,
   "id": "416357fc",
   "metadata": {},
   "outputs": [],
   "source": [
    "def parse_search(lines):\n",
    "    \"\"\" function to parse user's search history \"\"\"\n",
    "    length = len(lines)\n",
    "    names = ['checkin', 'checkout', 'customMinimumPriceFilter', \n",
    "             'customMaximumPriceFilter', 'freeCancellation', 'stars_5', \n",
    "             'stars_4', 'stars_3', 'stars_2', 'stars_1', 'max_score', \n",
    "             'min_score', 'couponCode', 'adults', 'city', 'children', \n",
    "             'amenities', 'search_page']\n",
    "    \n",
    "    maps = {}\n",
    "    for name in names:\n",
    "        maps[name] = [np.nan] * length\n",
    "      \n",
    "    for i in range(length):\n",
    "        line = lines[i]\n",
    "        items = line[50:].strip().split('&')\n",
    "        visited = set()\n",
    "        for item in items:\n",
    "            key, value = item.strip().split('=')\n",
    "            key = key.strip().split('.')[1]\n",
    "            if key == 'city':\n",
    "                value = value.strip().replace('+', ' ')\n",
    "            if key not in visited:\n",
    "                maps[key][i] = value\n",
    "                visited.add(key)\n",
    "            else:\n",
    "                maps[key][i] = maps[key][i] + ', ' + value\n",
    "            \n",
    "    # transform into DataFrame\n",
    "    df = pd.DataFrame(maps, columns=names)\n",
    "    df['checkin'] = pd.to_datetime(df['checkin'])\n",
    "    df['checkout'] = pd.to_datetime(df['checkout'])\n",
    "    df = df.rename(columns={'customMinimumPriceFilter': 'MinPrice', \n",
    "                            'customMaximumPriceFilter': 'MaxPrice'})\n",
    "    \n",
    "    return df"
   ]
  },
  {
   "cell_type": "code",
   "execution_count": 33,
   "id": "3a39e878",
   "metadata": {},
   "outputs": [
    {
     "data": {
      "text/html": [
       "<div>\n",
       "<style scoped>\n",
       "    .dataframe tbody tr th:only-of-type {\n",
       "        vertical-align: middle;\n",
       "    }\n",
       "\n",
       "    .dataframe tbody tr th {\n",
       "        vertical-align: top;\n",
       "    }\n",
       "\n",
       "    .dataframe thead th {\n",
       "        text-align: right;\n",
       "    }\n",
       "</style>\n",
       "<table border=\"1\" class=\"dataframe\">\n",
       "  <thead>\n",
       "    <tr style=\"text-align: right;\">\n",
       "      <th></th>\n",
       "      <th>checkin</th>\n",
       "      <th>checkout</th>\n",
       "      <th>MinPrice</th>\n",
       "      <th>MaxPrice</th>\n",
       "      <th>freeCancellation</th>\n",
       "      <th>stars_5</th>\n",
       "      <th>stars_4</th>\n",
       "      <th>stars_3</th>\n",
       "      <th>stars_2</th>\n",
       "      <th>stars_1</th>\n",
       "      <th>max_score</th>\n",
       "      <th>min_score</th>\n",
       "      <th>couponCode</th>\n",
       "      <th>adults</th>\n",
       "      <th>city</th>\n",
       "      <th>children</th>\n",
       "      <th>amenities</th>\n",
       "      <th>search_page</th>\n",
       "    </tr>\n",
       "  </thead>\n",
       "  <tbody>\n",
       "    <tr>\n",
       "      <th>0</th>\n",
       "      <td>2015-09-19</td>\n",
       "      <td>2015-09-20</td>\n",
       "      <td>NaN</td>\n",
       "      <td>NaN</td>\n",
       "      <td>NaN</td>\n",
       "      <td>NaN</td>\n",
       "      <td>yes</td>\n",
       "      <td>NaN</td>\n",
       "      <td>NaN</td>\n",
       "      <td>NaN</td>\n",
       "      <td>NaN</td>\n",
       "      <td>4</td>\n",
       "      <td>NaN</td>\n",
       "      <td>3</td>\n",
       "      <td>New York, NY, United States</td>\n",
       "      <td>NaN</td>\n",
       "      <td>NaN</td>\n",
       "      <td>1</td>\n",
       "    </tr>\n",
       "    <tr>\n",
       "      <th>1</th>\n",
       "      <td>2015-09-14</td>\n",
       "      <td>2015-09-15</td>\n",
       "      <td>NaN</td>\n",
       "      <td>NaN</td>\n",
       "      <td>NaN</td>\n",
       "      <td>NaN</td>\n",
       "      <td>NaN</td>\n",
       "      <td>yes</td>\n",
       "      <td>NaN</td>\n",
       "      <td>NaN</td>\n",
       "      <td>NaN</td>\n",
       "      <td>4</td>\n",
       "      <td>NaN</td>\n",
       "      <td>3</td>\n",
       "      <td>London, United Kingdom</td>\n",
       "      <td>NaN</td>\n",
       "      <td>NaN</td>\n",
       "      <td>1</td>\n",
       "    </tr>\n",
       "    <tr>\n",
       "      <th>2</th>\n",
       "      <td>2015-09-26</td>\n",
       "      <td>2015-09-27</td>\n",
       "      <td>NaN</td>\n",
       "      <td>175</td>\n",
       "      <td>NaN</td>\n",
       "      <td>NaN</td>\n",
       "      <td>yes</td>\n",
       "      <td>NaN</td>\n",
       "      <td>NaN</td>\n",
       "      <td>NaN</td>\n",
       "      <td>NaN</td>\n",
       "      <td>5</td>\n",
       "      <td>NaN</td>\n",
       "      <td>2</td>\n",
       "      <td>New York, NY, United States</td>\n",
       "      <td>NaN</td>\n",
       "      <td>NaN</td>\n",
       "      <td>1</td>\n",
       "    </tr>\n",
       "  </tbody>\n",
       "</table>\n",
       "</div>"
      ],
      "text/plain": [
       "     checkin   checkout MinPrice MaxPrice freeCancellation stars_5 stars_4  \\\n",
       "0 2015-09-19 2015-09-20      NaN      NaN              NaN     NaN     yes   \n",
       "1 2015-09-14 2015-09-15      NaN      NaN              NaN     NaN     NaN   \n",
       "2 2015-09-26 2015-09-27      NaN      175              NaN     NaN     yes   \n",
       "\n",
       "  stars_3 stars_2 stars_1 max_score min_score couponCode adults  \\\n",
       "0     NaN     NaN     NaN       NaN         4        NaN      3   \n",
       "1     yes     NaN     NaN       NaN         4        NaN      3   \n",
       "2     NaN     NaN     NaN       NaN         5        NaN      2   \n",
       "\n",
       "                          city children amenities search_page  \n",
       "0  New York, NY, United States      NaN       NaN           1  \n",
       "1       London, United Kingdom      NaN       NaN           1  \n",
       "2  New York, NY, United States      NaN       NaN           1  "
      ]
     },
     "execution_count": 33,
     "metadata": {},
     "output_type": "execute_result"
    }
   ],
   "source": [
    "data = parse_search(lines)\n",
    "data.head(3)"
   ]
  },
  {
   "cell_type": "markdown",
   "id": "211cf0f8",
   "metadata": {},
   "source": [
    "### 2. For each search query, how many amenities were selected?"
   ]
  },
  {
   "cell_type": "code",
   "execution_count": null,
   "id": "04f8a26b",
   "metadata": {},
   "outputs": [],
   "source": []
  }
 ],
 "metadata": {
  "kernelspec": {
   "display_name": "Python 3 (ipykernel)",
   "language": "python",
   "name": "python3"
  },
  "language_info": {
   "codemirror_mode": {
    "name": "ipython",
    "version": 3
   },
   "file_extension": ".py",
   "mimetype": "text/x-python",
   "name": "python",
   "nbconvert_exporter": "python",
   "pygments_lexer": "ipython3",
   "version": "3.7.7"
  }
 },
 "nbformat": 4,
 "nbformat_minor": 5
}
