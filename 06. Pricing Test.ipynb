{
 "cells": [
  {
   "cell_type": "code",
   "execution_count": 2,
   "id": "c0bbea18",
   "metadata": {},
   "outputs": [],
   "source": [
    "import pandas as pd\n",
    "import numpy as np\n",
    "import seaborn as sns\n",
    "import matplotlib.pyplot as plt\n",
    "\n",
    "import datetime as dt\n",
    "\n",
    "import warnings\n",
    "warnings.filterwarnings(\"ignore\")"
   ]
  },
  {
   "cell_type": "markdown",
   "id": "2eda0a0d",
   "metadata": {},
   "source": [
    "### 1. Load data"
   ]
  },
  {
   "cell_type": "code",
   "execution_count": 3,
   "id": "a0fef423",
   "metadata": {},
   "outputs": [],
   "source": [
    "test_result = pd.read_csv('/Users/ChunyanHao/Desktop/GitHub/DS_Take_Home/data/Pricing_Test/test_results.csv')\n",
    "users = pd.read_csv('/Users/ChunyanHao/Desktop/GitHub/DS_Take_Home/data/Pricing_Test/user_table.csv')"
   ]
  },
  {
   "cell_type": "code",
   "execution_count": 4,
   "id": "deb1e95c",
   "metadata": {},
   "outputs": [],
   "source": [
    "test_result['timestamp'] = pd.to_datetime(test_result['timestamp'].str[:10])"
   ]
  },
  {
   "cell_type": "code",
   "execution_count": 5,
   "id": "bb7506ef",
   "metadata": {},
   "outputs": [
    {
     "data": {
      "text/html": [
       "<div>\n",
       "<style scoped>\n",
       "    .dataframe tbody tr th:only-of-type {\n",
       "        vertical-align: middle;\n",
       "    }\n",
       "\n",
       "    .dataframe tbody tr th {\n",
       "        vertical-align: top;\n",
       "    }\n",
       "\n",
       "    .dataframe thead th {\n",
       "        text-align: right;\n",
       "    }\n",
       "</style>\n",
       "<table border=\"1\" class=\"dataframe\">\n",
       "  <thead>\n",
       "    <tr style=\"text-align: right;\">\n",
       "      <th></th>\n",
       "      <th>user_id</th>\n",
       "      <th>timestamp</th>\n",
       "      <th>source</th>\n",
       "      <th>device</th>\n",
       "      <th>operative_system</th>\n",
       "      <th>test</th>\n",
       "      <th>price</th>\n",
       "      <th>converted</th>\n",
       "    </tr>\n",
       "  </thead>\n",
       "  <tbody>\n",
       "    <tr>\n",
       "      <th>0</th>\n",
       "      <td>604839</td>\n",
       "      <td>2015-05-08</td>\n",
       "      <td>ads_facebook</td>\n",
       "      <td>mobile</td>\n",
       "      <td>iOS</td>\n",
       "      <td>0</td>\n",
       "      <td>39</td>\n",
       "      <td>0</td>\n",
       "    </tr>\n",
       "    <tr>\n",
       "      <th>1</th>\n",
       "      <td>624057</td>\n",
       "      <td>2015-05-10</td>\n",
       "      <td>seo-google</td>\n",
       "      <td>mobile</td>\n",
       "      <td>android</td>\n",
       "      <td>0</td>\n",
       "      <td>39</td>\n",
       "      <td>0</td>\n",
       "    </tr>\n",
       "    <tr>\n",
       "      <th>2</th>\n",
       "      <td>317970</td>\n",
       "      <td>2015-04-04</td>\n",
       "      <td>ads-bing</td>\n",
       "      <td>mobile</td>\n",
       "      <td>android</td>\n",
       "      <td>0</td>\n",
       "      <td>39</td>\n",
       "      <td>0</td>\n",
       "    </tr>\n",
       "  </tbody>\n",
       "</table>\n",
       "</div>"
      ],
      "text/plain": [
       "   user_id  timestamp        source  device operative_system  test  price  \\\n",
       "0   604839 2015-05-08  ads_facebook  mobile              iOS     0     39   \n",
       "1   624057 2015-05-10    seo-google  mobile          android     0     39   \n",
       "2   317970 2015-04-04      ads-bing  mobile          android     0     39   \n",
       "\n",
       "   converted  \n",
       "0          0  \n",
       "1          0  \n",
       "2          0  "
      ]
     },
     "execution_count": 5,
     "metadata": {},
     "output_type": "execute_result"
    }
   ],
   "source": [
    "test_result.head(3)"
   ]
  },
  {
   "cell_type": "code",
   "execution_count": 6,
   "id": "a033dabc",
   "metadata": {},
   "outputs": [
    {
     "data": {
      "text/html": [
       "<div>\n",
       "<style scoped>\n",
       "    .dataframe tbody tr th:only-of-type {\n",
       "        vertical-align: middle;\n",
       "    }\n",
       "\n",
       "    .dataframe tbody tr th {\n",
       "        vertical-align: top;\n",
       "    }\n",
       "\n",
       "    .dataframe thead th {\n",
       "        text-align: right;\n",
       "    }\n",
       "</style>\n",
       "<table border=\"1\" class=\"dataframe\">\n",
       "  <thead>\n",
       "    <tr style=\"text-align: right;\">\n",
       "      <th></th>\n",
       "      <th>user_id</th>\n",
       "      <th>city</th>\n",
       "      <th>country</th>\n",
       "      <th>lat</th>\n",
       "      <th>long</th>\n",
       "    </tr>\n",
       "  </thead>\n",
       "  <tbody>\n",
       "    <tr>\n",
       "      <th>0</th>\n",
       "      <td>510335</td>\n",
       "      <td>Peabody</td>\n",
       "      <td>USA</td>\n",
       "      <td>42.53</td>\n",
       "      <td>-70.97</td>\n",
       "    </tr>\n",
       "    <tr>\n",
       "      <th>1</th>\n",
       "      <td>89568</td>\n",
       "      <td>Reno</td>\n",
       "      <td>USA</td>\n",
       "      <td>39.54</td>\n",
       "      <td>-119.82</td>\n",
       "    </tr>\n",
       "    <tr>\n",
       "      <th>2</th>\n",
       "      <td>434134</td>\n",
       "      <td>Rialto</td>\n",
       "      <td>USA</td>\n",
       "      <td>34.11</td>\n",
       "      <td>-117.39</td>\n",
       "    </tr>\n",
       "  </tbody>\n",
       "</table>\n",
       "</div>"
      ],
      "text/plain": [
       "   user_id     city country    lat    long\n",
       "0   510335  Peabody     USA  42.53  -70.97\n",
       "1    89568     Reno     USA  39.54 -119.82\n",
       "2   434134   Rialto     USA  34.11 -117.39"
      ]
     },
     "execution_count": 6,
     "metadata": {},
     "output_type": "execute_result"
    }
   ],
   "source": [
    "users.head(3)"
   ]
  },
  {
   "cell_type": "code",
   "execution_count": 7,
   "id": "d35d13c7",
   "metadata": {},
   "outputs": [
    {
     "name": "stdout",
     "output_type": "stream",
     "text": [
      "<class 'pandas.core.frame.DataFrame'>\n",
      "RangeIndex: 316800 entries, 0 to 316799\n",
      "Data columns (total 8 columns):\n",
      " #   Column            Non-Null Count   Dtype         \n",
      "---  ------            --------------   -----         \n",
      " 0   user_id           316800 non-null  int64         \n",
      " 1   timestamp         316800 non-null  datetime64[ns]\n",
      " 2   source            316800 non-null  object        \n",
      " 3   device            316800 non-null  object        \n",
      " 4   operative_system  316800 non-null  object        \n",
      " 5   test              316800 non-null  int64         \n",
      " 6   price             316800 non-null  int64         \n",
      " 7   converted         316800 non-null  int64         \n",
      "dtypes: datetime64[ns](1), int64(4), object(3)\n",
      "memory usage: 19.3+ MB\n"
     ]
    }
   ],
   "source": [
    "test_result.info()"
   ]
  },
  {
   "cell_type": "code",
   "execution_count": 8,
   "id": "2dc13576",
   "metadata": {},
   "outputs": [
    {
     "name": "stdout",
     "output_type": "stream",
     "text": [
      "<class 'pandas.core.frame.DataFrame'>\n",
      "RangeIndex: 275616 entries, 0 to 275615\n",
      "Data columns (total 5 columns):\n",
      " #   Column   Non-Null Count   Dtype  \n",
      "---  ------   --------------   -----  \n",
      " 0   user_id  275616 non-null  int64  \n",
      " 1   city     275616 non-null  object \n",
      " 2   country  275616 non-null  object \n",
      " 3   lat      275616 non-null  float64\n",
      " 4   long     275616 non-null  float64\n",
      "dtypes: float64(2), int64(1), object(2)\n",
      "memory usage: 10.5+ MB\n"
     ]
    }
   ],
   "source": [
    "users.info()"
   ]
  },
  {
   "cell_type": "code",
   "execution_count": 9,
   "id": "d350be93",
   "metadata": {},
   "outputs": [
    {
     "name": "stdout",
     "output_type": "stream",
     "text": [
      "user_id              316800\t [604839 624057 317970 685636 820854]\n",
      "timestamp               91\t ['2015-05-08T00:00:00.000000000' '2015-05-10T00:00:00.000000000'\n",
      " '2015-04-04T00:00:00.000000000' '2015-05-07T00:00:00.000000000'\n",
      " '2015-05-24T00:00:00.000000000']\n",
      "source                  12\t ['ads_facebook' 'seo-google' 'ads-bing' 'direct_traffic' 'ads-google']\n",
      "device                   2\t ['mobile' 'web']\n",
      "operative_system         6\t ['iOS' 'android' 'mac' 'windows' 'other']\n",
      "test                     2\t [0 1]\n",
      "price                    2\t [39 59]\n",
      "converted                2\t [0 1]\n"
     ]
    }
   ],
   "source": [
    "for column in test_result.columns:\n",
    "    uniques = test_result[column].unique()\n",
    "    print('{0:20s} {1:5d}\\t'.format(column, len(uniques)), uniques[:5])"
   ]
  },
  {
   "cell_type": "code",
   "execution_count": 10,
   "id": "b24c90bc",
   "metadata": {},
   "outputs": [
    {
     "name": "stdout",
     "output_type": "stream",
     "text": [
      "user_id              275616\t [510335  89568 434134 289769 939586]\n",
      "city                   923\t ['Peabody' 'Reno' 'Rialto' 'Carson City' 'Chicago']\n",
      "country                  1\t ['USA']\n",
      "lat                    713\t [42.53 39.54 34.11 39.15 41.84]\n",
      "long                   830\t [ -70.97 -119.82 -117.39 -119.74  -87.68]\n"
     ]
    }
   ],
   "source": [
    "for column in users.columns:\n",
    "    uniques = users[column].unique()\n",
    "    print('{0:20s} {1:5d}\\t'.format(column, len(uniques)), uniques[:5])"
   ]
  },
  {
   "cell_type": "code",
   "execution_count": 11,
   "id": "da9584ba",
   "metadata": {},
   "outputs": [],
   "source": [
    "test_data = test_result.merge(users, on = 'user_id', how = 'left')"
   ]
  },
  {
   "cell_type": "code",
   "execution_count": 12,
   "id": "bf7696b2",
   "metadata": {},
   "outputs": [
    {
     "data": {
      "text/html": [
       "<div>\n",
       "<style scoped>\n",
       "    .dataframe tbody tr th:only-of-type {\n",
       "        vertical-align: middle;\n",
       "    }\n",
       "\n",
       "    .dataframe tbody tr th {\n",
       "        vertical-align: top;\n",
       "    }\n",
       "\n",
       "    .dataframe thead th {\n",
       "        text-align: right;\n",
       "    }\n",
       "</style>\n",
       "<table border=\"1\" class=\"dataframe\">\n",
       "  <thead>\n",
       "    <tr style=\"text-align: right;\">\n",
       "      <th></th>\n",
       "      <th>user_id</th>\n",
       "      <th>timestamp</th>\n",
       "      <th>source</th>\n",
       "      <th>device</th>\n",
       "      <th>operative_system</th>\n",
       "      <th>test</th>\n",
       "      <th>price</th>\n",
       "      <th>converted</th>\n",
       "      <th>city</th>\n",
       "      <th>country</th>\n",
       "      <th>lat</th>\n",
       "      <th>long</th>\n",
       "    </tr>\n",
       "  </thead>\n",
       "  <tbody>\n",
       "    <tr>\n",
       "      <th>0</th>\n",
       "      <td>604839</td>\n",
       "      <td>2015-05-08</td>\n",
       "      <td>ads_facebook</td>\n",
       "      <td>mobile</td>\n",
       "      <td>iOS</td>\n",
       "      <td>0</td>\n",
       "      <td>39</td>\n",
       "      <td>0</td>\n",
       "      <td>Buffalo</td>\n",
       "      <td>USA</td>\n",
       "      <td>42.89</td>\n",
       "      <td>-78.86</td>\n",
       "    </tr>\n",
       "    <tr>\n",
       "      <th>1</th>\n",
       "      <td>624057</td>\n",
       "      <td>2015-05-10</td>\n",
       "      <td>seo-google</td>\n",
       "      <td>mobile</td>\n",
       "      <td>android</td>\n",
       "      <td>0</td>\n",
       "      <td>39</td>\n",
       "      <td>0</td>\n",
       "      <td>Lakeville</td>\n",
       "      <td>USA</td>\n",
       "      <td>44.68</td>\n",
       "      <td>-93.24</td>\n",
       "    </tr>\n",
       "  </tbody>\n",
       "</table>\n",
       "</div>"
      ],
      "text/plain": [
       "   user_id  timestamp        source  device operative_system  test  price  \\\n",
       "0   604839 2015-05-08  ads_facebook  mobile              iOS     0     39   \n",
       "1   624057 2015-05-10    seo-google  mobile          android     0     39   \n",
       "\n",
       "   converted       city country    lat   long  \n",
       "0          0    Buffalo     USA  42.89 -78.86  \n",
       "1          0  Lakeville     USA  44.68 -93.24  "
      ]
     },
     "execution_count": 12,
     "metadata": {},
     "output_type": "execute_result"
    }
   ],
   "source": [
    "test_data.head(2)"
   ]
  },
  {
   "cell_type": "markdown",
   "id": "daae4ee7",
   "metadata": {},
   "source": [
    "### 2. Calculate convert rate"
   ]
  },
  {
   "cell_type": "code",
   "execution_count": 13,
   "id": "03d18a19",
   "metadata": {},
   "outputs": [
    {
     "data": {
      "text/html": [
       "<div>\n",
       "<style scoped>\n",
       "    .dataframe tbody tr th:only-of-type {\n",
       "        vertical-align: middle;\n",
       "    }\n",
       "\n",
       "    .dataframe tbody tr th {\n",
       "        vertical-align: top;\n",
       "    }\n",
       "\n",
       "    .dataframe thead th {\n",
       "        text-align: right;\n",
       "    }\n",
       "</style>\n",
       "<table border=\"1\" class=\"dataframe\">\n",
       "  <thead>\n",
       "    <tr style=\"text-align: right;\">\n",
       "      <th></th>\n",
       "      <th>test</th>\n",
       "      <th>price</th>\n",
       "      <th>converted</th>\n",
       "      <th>user_id</th>\n",
       "    </tr>\n",
       "  </thead>\n",
       "  <tbody>\n",
       "    <tr>\n",
       "      <th>0</th>\n",
       "      <td>0</td>\n",
       "      <td>39</td>\n",
       "      <td>0</td>\n",
       "      <td>198487</td>\n",
       "    </tr>\n",
       "    <tr>\n",
       "      <th>1</th>\n",
       "      <td>0</td>\n",
       "      <td>39</td>\n",
       "      <td>1</td>\n",
       "      <td>4030</td>\n",
       "    </tr>\n",
       "    <tr>\n",
       "      <th>2</th>\n",
       "      <td>0</td>\n",
       "      <td>59</td>\n",
       "      <td>0</td>\n",
       "      <td>205</td>\n",
       "    </tr>\n",
       "    <tr>\n",
       "      <th>3</th>\n",
       "      <td>0</td>\n",
       "      <td>59</td>\n",
       "      <td>1</td>\n",
       "      <td>5</td>\n",
       "    </tr>\n",
       "    <tr>\n",
       "      <th>4</th>\n",
       "      <td>1</td>\n",
       "      <td>39</td>\n",
       "      <td>0</td>\n",
       "      <td>154</td>\n",
       "    </tr>\n",
       "    <tr>\n",
       "      <th>5</th>\n",
       "      <td>1</td>\n",
       "      <td>39</td>\n",
       "      <td>1</td>\n",
       "      <td>1</td>\n",
       "    </tr>\n",
       "    <tr>\n",
       "      <th>6</th>\n",
       "      <td>1</td>\n",
       "      <td>59</td>\n",
       "      <td>0</td>\n",
       "      <td>112146</td>\n",
       "    </tr>\n",
       "    <tr>\n",
       "      <th>7</th>\n",
       "      <td>1</td>\n",
       "      <td>59</td>\n",
       "      <td>1</td>\n",
       "      <td>1772</td>\n",
       "    </tr>\n",
       "  </tbody>\n",
       "</table>\n",
       "</div>"
      ],
      "text/plain": [
       "   test  price  converted  user_id\n",
       "0     0     39          0   198487\n",
       "1     0     39          1     4030\n",
       "2     0     59          0      205\n",
       "3     0     59          1        5\n",
       "4     1     39          0      154\n",
       "5     1     39          1        1\n",
       "6     1     59          0   112146\n",
       "7     1     59          1     1772"
      ]
     },
     "execution_count": 13,
     "metadata": {},
     "output_type": "execute_result"
    }
   ],
   "source": [
    "test_data[['test', 'price', 'converted', 'user_id']].groupby(['test', 'price', 'converted'])['user_id'].count().reset_index()"
   ]
  },
  {
   "cell_type": "markdown",
   "id": "53b7eb03",
   "metadata": {},
   "source": [
    "We notice that there are a small pert of records in control group by with the price of 59, also some records in test group but with the price of 39.\n",
    "\n",
    "Therefore we need to first drop these abnormal records."
   ]
  },
  {
   "cell_type": "code",
   "execution_count": 14,
   "id": "d214389c",
   "metadata": {},
   "outputs": [],
   "source": [
    "test_data = test_data[(test_data['test'] == 0) & (test_data['price'] == 39)|\n",
    "                     (test_data['test'] == 1) & (test_data['price'] == 59)] "
   ]
  },
  {
   "cell_type": "code",
   "execution_count": 15,
   "id": "79e1b994",
   "metadata": {},
   "outputs": [
    {
     "data": {
      "text/html": [
       "<div>\n",
       "<style scoped>\n",
       "    .dataframe tbody tr th:only-of-type {\n",
       "        vertical-align: middle;\n",
       "    }\n",
       "\n",
       "    .dataframe tbody tr th {\n",
       "        vertical-align: top;\n",
       "    }\n",
       "\n",
       "    .dataframe thead th {\n",
       "        text-align: right;\n",
       "    }\n",
       "</style>\n",
       "<table border=\"1\" class=\"dataframe\">\n",
       "  <thead>\n",
       "    <tr style=\"text-align: right;\">\n",
       "      <th></th>\n",
       "      <th>test</th>\n",
       "      <th>price</th>\n",
       "      <th>converted</th>\n",
       "      <th>user_id</th>\n",
       "    </tr>\n",
       "  </thead>\n",
       "  <tbody>\n",
       "    <tr>\n",
       "      <th>0</th>\n",
       "      <td>0</td>\n",
       "      <td>39</td>\n",
       "      <td>0</td>\n",
       "      <td>198487</td>\n",
       "    </tr>\n",
       "    <tr>\n",
       "      <th>1</th>\n",
       "      <td>0</td>\n",
       "      <td>39</td>\n",
       "      <td>1</td>\n",
       "      <td>4030</td>\n",
       "    </tr>\n",
       "    <tr>\n",
       "      <th>2</th>\n",
       "      <td>1</td>\n",
       "      <td>59</td>\n",
       "      <td>0</td>\n",
       "      <td>112146</td>\n",
       "    </tr>\n",
       "    <tr>\n",
       "      <th>3</th>\n",
       "      <td>1</td>\n",
       "      <td>59</td>\n",
       "      <td>1</td>\n",
       "      <td>1772</td>\n",
       "    </tr>\n",
       "  </tbody>\n",
       "</table>\n",
       "</div>"
      ],
      "text/plain": [
       "   test  price  converted  user_id\n",
       "0     0     39          0   198487\n",
       "1     0     39          1     4030\n",
       "2     1     59          0   112146\n",
       "3     1     59          1     1772"
      ]
     },
     "execution_count": 15,
     "metadata": {},
     "output_type": "execute_result"
    }
   ],
   "source": [
    "test_data[['test', 'price', 'converted', 'user_id']].groupby(['test', 'price', 'converted'])['user_id'].count().reset_index()"
   ]
  },
  {
   "cell_type": "code",
   "execution_count": 16,
   "id": "5b8115ec",
   "metadata": {},
   "outputs": [
    {
     "data": {
      "text/html": [
       "<div>\n",
       "<style scoped>\n",
       "    .dataframe tbody tr th:only-of-type {\n",
       "        vertical-align: middle;\n",
       "    }\n",
       "\n",
       "    .dataframe tbody tr th {\n",
       "        vertical-align: top;\n",
       "    }\n",
       "\n",
       "    .dataframe thead th {\n",
       "        text-align: right;\n",
       "    }\n",
       "</style>\n",
       "<table border=\"1\" class=\"dataframe\">\n",
       "  <thead>\n",
       "    <tr style=\"text-align: right;\">\n",
       "      <th></th>\n",
       "      <th>test</th>\n",
       "      <th>price</th>\n",
       "      <th>converted</th>\n",
       "    </tr>\n",
       "  </thead>\n",
       "  <tbody>\n",
       "    <tr>\n",
       "      <th>0</th>\n",
       "      <td>0</td>\n",
       "      <td>39</td>\n",
       "      <td>0.019900</td>\n",
       "    </tr>\n",
       "    <tr>\n",
       "      <th>1</th>\n",
       "      <td>1</td>\n",
       "      <td>59</td>\n",
       "      <td>0.015555</td>\n",
       "    </tr>\n",
       "  </tbody>\n",
       "</table>\n",
       "</div>"
      ],
      "text/plain": [
       "   test  price  converted\n",
       "0     0     39   0.019900\n",
       "1     1     59   0.015555"
      ]
     },
     "execution_count": 16,
     "metadata": {},
     "output_type": "execute_result"
    }
   ],
   "source": [
    "test_data[['test', 'price', 'converted']].groupby(['test', 'price'])['converted'].mean().reset_index()"
   ]
  },
  {
   "cell_type": "markdown",
   "id": "ae05f9a2",
   "metadata": {},
   "source": [
    "We notice that the conversion_rate in test group is 0.44% lower than the control group. \n",
    "\n",
    "However, the average revenue of the test group : 59*(1772)/(1772 + 112146) = 0.918 is greater than the control group 39*(4030)/(4030 + 198487) = 0.776, which means that a higher price can bring a higher revenue from each user."
   ]
  },
  {
   "cell_type": "markdown",
   "id": "6de42f62",
   "metadata": {},
   "source": [
    "### 3. Data visualization"
   ]
  },
  {
   "cell_type": "markdown",
   "id": "6cc5a753",
   "metadata": {},
   "source": [
    "Before we get the final conclusion, we need to confirm that the sample distribution between the control and test group are random among other features.\n",
    "\n",
    "In other words, the only difference between test and control group is price"
   ]
  },
  {
   "cell_type": "markdown",
   "id": "682770ff",
   "metadata": {},
   "source": [
    "#### 3.1 Data distribution check"
   ]
  },
  {
   "cell_type": "code",
   "execution_count": 17,
   "id": "37c8c9c1",
   "metadata": {},
   "outputs": [
    {
     "data": {
      "text/plain": [
       "<AxesSubplot:xlabel='source', ylabel='pct'>"
      ]
     },
     "execution_count": 17,
     "metadata": {},
     "output_type": "execute_result"
    },
    {
     "data": {
      "image/png": "[encoded data removed]",
      "text/plain": [
       "<Figure size 1080x216 with 1 Axes>"
      ]
     },
     "metadata": {
      "needs_background": "light"
     },
     "output_type": "display_data"
    }
   ],
   "source": [
    "total = test_data[['user_id','test']].groupby(['test']).count().reset_index()\n",
    "temp = test_data[['user_id', 'source', 'test']].groupby(['source', 'test']).count().reset_index()\n",
    "temp = pd.merge(left = temp, right = total, how = 'left', left_on = 'test', right_on = 'test')\n",
    "temp['pct'] = 100*temp['user_id_x']/temp['user_id_y']\n",
    "temp = temp.iloc[:,[0,1,4]]\n",
    "\n",
    "fig, ax = plt.subplots(figsize =(15, 3))\n",
    "sns.barplot(data = temp, x = 'source', y = 'pct', hue = 'test')"
   ]
  },
  {
   "cell_type": "code",
   "execution_count": 18,
   "id": "a306a890",
   "metadata": {},
   "outputs": [
    {
     "data": {
      "text/plain": [
       "<AxesSubplot:xlabel='device', ylabel='pct'>"
      ]
     },
     "execution_count": 18,
     "metadata": {},
     "output_type": "execute_result"
    },
    {
     "data": {
      "image/png": "[encoded data removed]",
      "text/plain": [
       "<Figure size 1080x216 with 1 Axes>"
      ]
     },
     "metadata": {
      "needs_background": "light"
     },
     "output_type": "display_data"
    }
   ],
   "source": [
    "temp = test_data[['user_id', 'device', 'test']].groupby(['device', 'test']).count().reset_index()\n",
    "temp = pd.merge(left = temp, right = total, how = 'left', left_on = 'test', right_on = 'test')\n",
    "temp['pct'] = 100*temp['user_id_x']/temp['user_id_y']\n",
    "temp = temp.iloc[:,[0,1,4]]\n",
    "\n",
    "fig, ax = plt.subplots(figsize =(15, 3))\n",
    "sns.barplot(data = temp, x = 'device', y = 'pct', hue = 'test')"
   ]
  },
  {
   "cell_type": "code",
   "execution_count": 19,
   "id": "952ccaf0",
   "metadata": {},
   "outputs": [
    {
     "data": {
      "text/plain": [
       "<AxesSubplot:xlabel='operative_system', ylabel='pct'>"
      ]
     },
     "execution_count": 19,
     "metadata": {},
     "output_type": "execute_result"
    },
    {
     "data": {
      "image/png": "[encoded data removed]",
      "text/plain": [
       "<Figure size 1080x216 with 1 Axes>"
      ]
     },
     "metadata": {
      "needs_background": "light"
     },
     "output_type": "display_data"
    }
   ],
   "source": [
    "temp = test_data[['user_id', 'operative_system', 'test']].groupby(['operative_system', 'test']).count().reset_index()\n",
    "temp = pd.merge(left = temp, right = total, how = 'left', left_on = 'test', right_on = 'test')\n",
    "temp['pct'] = 100*temp['user_id_x']/temp['user_id_y']\n",
    "temp = temp.iloc[:,[0,1,4]]\n",
    "\n",
    "fig, ax = plt.subplots(figsize =(15, 3))\n",
    "sns.barplot(data = temp, x = 'operative_system', y = 'pct', hue = 'test')"
   ]
  },
  {
   "cell_type": "markdown",
   "id": "8543a35c",
   "metadata": {},
   "source": [
    "The distribution above show that the distribution of sample data in test and control group are similar. We can take further steps of analysis."
   ]
  },
  {
   "cell_type": "markdown",
   "id": "74a4102f",
   "metadata": {},
   "source": [
    "#### 3.2 Conversion rate check"
   ]
  },
  {
   "cell_type": "markdown",
   "id": "35193b3c",
   "metadata": {},
   "source": [
    "We can then use A/B test to verify if the conversion rate difference between control and test group are significant:\n",
    "\n",
    "H0: There is no significant difference in conversion rate between test and control group\n",
    "H1: The difference in conversion rate between test and control group is significant."
   ]
  },
  {
   "cell_type": "code",
   "execution_count": 20,
   "id": "ec1c4588",
   "metadata": {},
   "outputs": [
    {
     "name": "stdout",
     "output_type": "stream",
     "text": [
      "Ttest_indResult(statistic=8.744781828681587, pvalue=2.2450851601497147e-18)\n"
     ]
    }
   ],
   "source": [
    "from scipy.stats import ttest_ind\n",
    "ctr_val = test_data[test_data['test'] == 0]['converted'].values\n",
    "exp_val = test_data[test_data['test'] == 1]['converted'].values\n",
    "print(ttest_ind(ctr_val, exp_val, axis=0, equal_var=True))"
   ]
  },
  {
   "cell_type": "code",
   "execution_count": 21,
   "id": "37b49cca",
   "metadata": {},
   "outputs": [
    {
     "data": {
      "text/plain": [
       "(8.74375299250435, 2.2549214716059568e-18)"
      ]
     },
     "execution_count": 21,
     "metadata": {},
     "output_type": "execute_result"
    }
   ],
   "source": [
    "import statsmodels.api as sm\n",
    "convert_old = 4030\n",
    "convert_new = 1772\n",
    "n_old = 4030 + 198487\n",
    "n_new = 1772 + 112146\n",
    "zstat, p_value = sm.stats.proportions_ztest([convert_old, convert_new], [n_old, n_new])\n",
    "zstat, p_value"
   ]
  },
  {
   "cell_type": "code",
   "execution_count": 29,
   "id": "bc62e28c",
   "metadata": {},
   "outputs": [
    {
     "name": "stdout",
     "output_type": "stream",
     "text": [
      "Ttest_indResult(statistic=-5.715224666463108, pvalue=1.0972577312420781e-08)\n"
     ]
    }
   ],
   "source": [
    "# We can also use the same method to run the AB test based on average revenue\n",
    "ctr = test_data[test_data['test'] == 0][['converted', 'price']]\n",
    "exp = test_data[test_data['test'] == 1][['converted', 'price']]\n",
    "\n",
    "ctr_val = ctr['price']*ctr['converted'].values\n",
    "exp_val = exp['price']*exp['converted'].values\n",
    "print(ttest_ind(ctr_val, exp_val, axis=0, equal_var=False))"
   ]
  },
  {
   "cell_type": "markdown",
   "id": "82f69a2f",
   "metadata": {},
   "source": [
    "Because the corresponding P-value is extremely small, we can reject the null hypothesis and confirm that The difference in conversion rate between test and control group is significant"
   ]
  },
  {
   "cell_type": "markdown",
   "id": "9b78caba",
   "metadata": {},
   "source": [
    "#### 3.3 Conversion rate vs users' behavior"
   ]
  },
  {
   "cell_type": "markdown",
   "id": "0f2c835c",
   "metadata": {},
   "source": [
    "We can explore the relationship between users' behavior and conversion rate through different 'source', 'device' and 'operation system' types.\n",
    "\n",
    "Further more, it's also helpful if we can analysis the difference from test and control group:"
   ]
  },
  {
   "cell_type": "code",
   "execution_count": 23,
   "id": "396c62b4",
   "metadata": {},
   "outputs": [
    {
     "data": {
      "text/plain": [
       "<AxesSubplot:xlabel='source', ylabel='converted'>"
      ]
     },
     "execution_count": 23,
     "metadata": {},
     "output_type": "execute_result"
    },
    {
     "data": {
      "image/png": "[encoded data removed]",
      "text/plain": [
       "<Figure size 1080x288 with 1 Axes>"
      ]
     },
     "metadata": {
      "needs_background": "light"
     },
     "output_type": "display_data"
    }
   ],
   "source": [
    "fig, ax = plt.subplots(figsize = (15,4))\n",
    "sns.barplot(data = test_data, x = 'source', y = 'converted', estimator = np.mean)"
   ]
  },
  {
   "cell_type": "code",
   "execution_count": 24,
   "id": "5f34f14a",
   "metadata": {},
   "outputs": [
    {
     "data": {
      "text/plain": [
       "<AxesSubplot:xlabel='source', ylabel='converted'>"
      ]
     },
     "execution_count": 24,
     "metadata": {},
     "output_type": "execute_result"
    },
    {
     "data": {
      "image/png": "[encoded data removed]",
      "text/plain": [
       "<Figure size 1080x288 with 1 Axes>"
      ]
     },
     "metadata": {
      "needs_background": "light"
     },
     "output_type": "display_data"
    }
   ],
   "source": [
    "fig, ax = plt.subplots(figsize = (15,4))\n",
    "sns.barplot(data = test_data, x = 'source', y = 'converted', hue = 'test', estimator = np.mean)"
   ]
  },
  {
   "cell_type": "markdown",
   "id": "0d305e31",
   "metadata": {},
   "source": [
    "It's clear that:\n",
    "\n",
    "1) Friend referral is the most effective way to convert visitors to buyers.\n",
    "\n",
    "2) Google and Facebook are the two best advertisement channel.\n",
    "\n",
    "3) Many users came to the site by clicking on search results in Bing.\n",
    "\n",
    "4) The conversion rate all decreased significantly after price increase."
   ]
  },
  {
   "cell_type": "code",
   "execution_count": 25,
   "id": "a0302e7e",
   "metadata": {},
   "outputs": [
    {
     "data": {
      "text/plain": [
       "<AxesSubplot:xlabel='device', ylabel='converted'>"
      ]
     },
     "execution_count": 25,
     "metadata": {},
     "output_type": "execute_result"
    },
    {
     "data": {
      "image/png": "[encoded data removed]",
      "text/plain": [
       "<Figure size 1080x288 with 1 Axes>"
      ]
     },
     "metadata": {
      "needs_background": "light"
     },
     "output_type": "display_data"
    }
   ],
   "source": [
    "fig, ax = plt.subplots(figsize = (15,4))\n",
    "sns.barplot(data = test_data, x = 'device', y = 'converted', estimator = np.mean)"
   ]
  },
  {
   "cell_type": "code",
   "execution_count": 26,
   "id": "fa42af57",
   "metadata": {},
   "outputs": [
    {
     "data": {
      "text/plain": [
       "<AxesSubplot:xlabel='device', ylabel='converted'>"
      ]
     },
     "execution_count": 26,
     "metadata": {},
     "output_type": "execute_result"
    },
    {
     "data": {
      "image/png": "[encoded data removed]",
      "text/plain": [
       "<Figure size 1080x288 with 1 Axes>"
      ]
     },
     "metadata": {
      "needs_background": "light"
     },
     "output_type": "display_data"
    }
   ],
   "source": [
    "fig, ax = plt.subplots(figsize = (15,4))\n",
    "sns.barplot(data = test_data, x = 'device', y = 'converted', hue = 'test', estimator = np.mean)"
   ]
  },
  {
   "cell_type": "markdown",
   "id": "714ffc59",
   "metadata": {},
   "source": [
    "Generally speaking, there is no significant difference among conversion rate in mobile and web users. "
   ]
  },
  {
   "cell_type": "code",
   "execution_count": 27,
   "id": "0c3b87ed",
   "metadata": {},
   "outputs": [
    {
     "data": {
      "text/plain": [
       "<AxesSubplot:xlabel='operative_system', ylabel='converted'>"
      ]
     },
     "execution_count": 27,
     "metadata": {},
     "output_type": "execute_result"
    },
    {
     "data": {
      "image/png": "[encoded data removed]",
      "text/plain": [
       "<Figure size 1080x288 with 1 Axes>"
      ]
     },
     "metadata": {
      "needs_background": "light"
     },
     "output_type": "display_data"
    }
   ],
   "source": [
    "fig, ax = plt.subplots(figsize = (15,4))\n",
    "sns.barplot(data = test_data, x = 'operative_system', y = 'converted', estimator = np.mean)"
   ]
  },
  {
   "cell_type": "code",
   "execution_count": 28,
   "id": "3153ffac",
   "metadata": {},
   "outputs": [
    {
     "data": {
      "text/plain": [
       "<AxesSubplot:xlabel='operative_system', ylabel='converted'>"
      ]
     },
     "execution_count": 28,
     "metadata": {},
     "output_type": "execute_result"
    },
    {
     "data": {
      "image/png": "[encoded data removed]",
      "text/plain": [
       "<Figure size 1080x288 with 1 Axes>"
      ]
     },
     "metadata": {
      "needs_background": "light"
     },
     "output_type": "display_data"
    }
   ],
   "source": [
    "fig, ax = plt.subplots(figsize = (15,4))\n",
    "sns.barplot(data = test_data, x = 'operative_system', y = 'converted', hue = 'test', estimator = np.mean)"
   ]
  },
  {
   "cell_type": "markdown",
   "id": "f3ddda8f",
   "metadata": {},
   "source": [
    "The conversion rate in iOS and Mac are higher than other operation system users."
   ]
  },
  {
   "cell_type": "markdown",
   "id": "d86ec1e6",
   "metadata": {},
   "source": [
    "#### Bonus Question:\n",
    "#### After how many days you would have stopped the test? Please, explain why."
   ]
  },
  {
   "cell_type": "markdown",
   "id": "43e994a5",
   "metadata": {},
   "source": [
    "Usually, we need to run the AB Test at least two weeks to identify the potential weekly trend. \n",
    "\n",
    "Meanwhile, we also need to consider the daily website user flow and effective sample size in order to make the A/B test result robust.\n",
    "\n",
    "Beside, the cost or the potential lost of users should also be taken into account."
   ]
  }
 ],
 "metadata": {
  "kernelspec": {
   "display_name": "Python 3 (ipykernel)",
   "language": "python",
   "name": "python3"
  },
  "language_info": {
   "codemirror_mode": {
    "name": "ipython",
    "version": 3
   },
   "file_extension": ".py",
   "mimetype": "text/x-python",
   "name": "python",
   "nbconvert_exporter": "python",
   "pygments_lexer": "ipython3",
   "version": "3.7.7"
  }
 },
 "nbformat": 4,
 "nbformat_minor": 5
}
