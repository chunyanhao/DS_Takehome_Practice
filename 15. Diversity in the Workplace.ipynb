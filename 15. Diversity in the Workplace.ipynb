{
 "cells": [
  {
   "cell_type": "code",
   "execution_count": 1,
   "id": "f0bfd32f",
   "metadata": {},
   "outputs": [],
   "source": [
    "import pandas as pd\n",
    "import numpy as np\n",
    "import matplotlib.pyplot as plt\n",
    "import seaborn as sns\n",
    "\n",
    "%matplotlib inline\n",
    "\n",
    "import warnings\n",
    "warnings.filterwarnings(\"ignore\")"
   ]
  },
  {
   "cell_type": "markdown",
   "id": "083bde0c",
   "metadata": {},
   "source": [
    "### 1. Load Data"
   ]
  },
  {
   "cell_type": "code",
   "execution_count": 2,
   "id": "44703c9b",
   "metadata": {},
   "outputs": [],
   "source": [
    "hierarchy = pd.read_csv('/Users/ChunyanHao/desktop/github/ds_take_home/data/HR/company_hierarchy.csv')\n",
    "employee = pd.read_csv('/Users/ChunyanHao/desktop/github/ds_take_home/data/HR/employee.csv')"
   ]
  },
  {
   "cell_type": "code",
   "execution_count": 3,
   "id": "aefa1f27",
   "metadata": {},
   "outputs": [
    {
     "data": {
      "text/html": [
       "<div>\n",
       "<style scoped>\n",
       "    .dataframe tbody tr th:only-of-type {\n",
       "        vertical-align: middle;\n",
       "    }\n",
       "\n",
       "    .dataframe tbody tr th {\n",
       "        vertical-align: top;\n",
       "    }\n",
       "\n",
       "    .dataframe thead th {\n",
       "        text-align: right;\n",
       "    }\n",
       "</style>\n",
       "<table border=\"1\" class=\"dataframe\">\n",
       "  <thead>\n",
       "    <tr style=\"text-align: right;\">\n",
       "      <th></th>\n",
       "      <th>employee_id</th>\n",
       "      <th>boss_id</th>\n",
       "      <th>dept</th>\n",
       "    </tr>\n",
       "  </thead>\n",
       "  <tbody>\n",
       "    <tr>\n",
       "      <th>0</th>\n",
       "      <td>46456</td>\n",
       "      <td>175361.0</td>\n",
       "      <td>sales</td>\n",
       "    </tr>\n",
       "    <tr>\n",
       "      <th>1</th>\n",
       "      <td>104708</td>\n",
       "      <td>29733.0</td>\n",
       "      <td>HR</td>\n",
       "    </tr>\n",
       "    <tr>\n",
       "      <th>2</th>\n",
       "      <td>120853</td>\n",
       "      <td>41991.0</td>\n",
       "      <td>sales</td>\n",
       "    </tr>\n",
       "  </tbody>\n",
       "</table>\n",
       "</div>"
      ],
      "text/plain": [
       "   employee_id   boss_id   dept\n",
       "0        46456  175361.0  sales\n",
       "1       104708   29733.0     HR\n",
       "2       120853   41991.0  sales"
      ]
     },
     "execution_count": 3,
     "metadata": {},
     "output_type": "execute_result"
    }
   ],
   "source": [
    "hierarchy.head(3)"
   ]
  },
  {
   "cell_type": "code",
   "execution_count": 4,
   "id": "9ae26344",
   "metadata": {},
   "outputs": [
    {
     "name": "stdout",
     "output_type": "stream",
     "text": [
      "<class 'pandas.core.frame.DataFrame'>\n",
      "RangeIndex: 10000 entries, 0 to 9999\n",
      "Data columns (total 3 columns):\n",
      " #   Column       Non-Null Count  Dtype  \n",
      "---  ------       --------------  -----  \n",
      " 0   employee_id  10000 non-null  int64  \n",
      " 1   boss_id      9999 non-null   float64\n",
      " 2   dept         10000 non-null  object \n",
      "dtypes: float64(1), int64(1), object(1)\n",
      "memory usage: 234.5+ KB\n"
     ]
    }
   ],
   "source": [
    "hierarchy.info()"
   ]
  },
  {
   "cell_type": "code",
   "execution_count": 5,
   "id": "62853a1d",
   "metadata": {},
   "outputs": [
    {
     "name": "stdout",
     "output_type": "stream",
     "text": [
      "employee_id          10000\t [ 46456 104708 120853 142630  72711]\n",
      "boss_id               1000\t [175361.  29733.  41991. 171266. 198240.]\n",
      "dept                     5\t ['sales' 'HR' 'engineering' 'marketing' 'CEO']\n"
     ]
    }
   ],
   "source": [
    "for column in hierarchy.columns:\n",
    "    uniques = hierarchy[column].unique()\n",
    "    print('{0:20s} {1:5d}\\t'.format(column, len(uniques)), uniques[:5])"
   ]
  },
  {
   "cell_type": "code",
   "execution_count": 6,
   "id": "7d266981",
   "metadata": {},
   "outputs": [
    {
     "data": {
      "text/html": [
       "<div>\n",
       "<style scoped>\n",
       "    .dataframe tbody tr th:only-of-type {\n",
       "        vertical-align: middle;\n",
       "    }\n",
       "\n",
       "    .dataframe tbody tr th {\n",
       "        vertical-align: top;\n",
       "    }\n",
       "\n",
       "    .dataframe thead th {\n",
       "        text-align: right;\n",
       "    }\n",
       "</style>\n",
       "<table border=\"1\" class=\"dataframe\">\n",
       "  <thead>\n",
       "    <tr style=\"text-align: right;\">\n",
       "      <th></th>\n",
       "      <th>employee_id</th>\n",
       "      <th>signing_bonus</th>\n",
       "      <th>salary</th>\n",
       "      <th>degree_level</th>\n",
       "      <th>sex</th>\n",
       "      <th>yrs_experience</th>\n",
       "    </tr>\n",
       "  </thead>\n",
       "  <tbody>\n",
       "    <tr>\n",
       "      <th>0</th>\n",
       "      <td>138719</td>\n",
       "      <td>0</td>\n",
       "      <td>273000.0</td>\n",
       "      <td>Master</td>\n",
       "      <td>M</td>\n",
       "      <td>2</td>\n",
       "    </tr>\n",
       "    <tr>\n",
       "      <th>1</th>\n",
       "      <td>3192</td>\n",
       "      <td>0</td>\n",
       "      <td>301000.0</td>\n",
       "      <td>Bachelor</td>\n",
       "      <td>F</td>\n",
       "      <td>1</td>\n",
       "    </tr>\n",
       "    <tr>\n",
       "      <th>2</th>\n",
       "      <td>114657</td>\n",
       "      <td>0</td>\n",
       "      <td>261000.0</td>\n",
       "      <td>Master</td>\n",
       "      <td>F</td>\n",
       "      <td>2</td>\n",
       "    </tr>\n",
       "  </tbody>\n",
       "</table>\n",
       "</div>"
      ],
      "text/plain": [
       "   employee_id  signing_bonus    salary degree_level sex  yrs_experience\n",
       "0       138719              0  273000.0       Master   M               2\n",
       "1         3192              0  301000.0     Bachelor   F               1\n",
       "2       114657              0  261000.0       Master   F               2"
      ]
     },
     "execution_count": 6,
     "metadata": {},
     "output_type": "execute_result"
    }
   ],
   "source": [
    "employee.head(3)"
   ]
  },
  {
   "cell_type": "code",
   "execution_count": 7,
   "id": "2aeb832b",
   "metadata": {},
   "outputs": [
    {
     "name": "stdout",
     "output_type": "stream",
     "text": [
      "<class 'pandas.core.frame.DataFrame'>\n",
      "RangeIndex: 10000 entries, 0 to 9999\n",
      "Data columns (total 6 columns):\n",
      " #   Column          Non-Null Count  Dtype  \n",
      "---  ------          --------------  -----  \n",
      " 0   employee_id     10000 non-null  int64  \n",
      " 1   signing_bonus   10000 non-null  int64  \n",
      " 2   salary          10000 non-null  float64\n",
      " 3   degree_level    10000 non-null  object \n",
      " 4   sex             10000 non-null  object \n",
      " 5   yrs_experience  10000 non-null  int64  \n",
      "dtypes: float64(1), int64(3), object(2)\n",
      "memory usage: 468.9+ KB\n"
     ]
    }
   ],
   "source": [
    "employee.info()"
   ]
  },
  {
   "cell_type": "code",
   "execution_count": 8,
   "id": "1ef5cc8f",
   "metadata": {},
   "outputs": [
    {
     "name": "stdout",
     "output_type": "stream",
     "text": [
      "employee_id          10000\t [138719   3192 114657  29039 118607]\n",
      "signing_bonus            2\t [0 1]\n",
      "salary                 344\t [273000. 301000. 261000.  86000. 126000.]\n",
      "degree_level             4\t ['Master' 'Bachelor' 'High_School' 'PhD']\n",
      "sex                      2\t ['M' 'F']\n",
      "yrs_experience          31\t [ 2  1  4  3 12]\n"
     ]
    }
   ],
   "source": [
    "for column in employee.columns:\n",
    "    uniques = employee[column].unique()\n",
    "    print('{0:20s} {1:5d}\\t'.format(column, len(uniques)), uniques[:5])"
   ]
  },
  {
   "cell_type": "markdown",
   "id": "6cb6d6ae",
   "metadata": {},
   "source": [
    "### 2. Question 1 \n",
    "\n",
    "Identify each employee's employee level."
   ]
  },
  {
   "cell_type": "code",
   "execution_count": 9,
   "id": "96e39424",
   "metadata": {},
   "outputs": [],
   "source": [
    "CEO = hierarchy[hierarchy.dept == \"CEO\"]\n",
    "CEO['level'] = 'CEO'\n",
    "\n",
    "E = hierarchy[hierarchy.boss_id == 61554]\n",
    "E['level'] = 'E'\n",
    "\n",
    "VP = pd.merge(left = hierarchy, right = E, how = 'inner', left_on = 'boss_id', right_on = 'employee_id').iloc[:, :3]\n",
    "VP['level'] = 'VP'\n",
    "VP.columns = E.columns\n",
    "\n",
    "D = pd.merge(left = hierarchy, right = VP, how = 'inner', left_on = 'boss_id', right_on = 'employee_id').iloc[:, :3]\n",
    "D['level'] = 'D'\n",
    "D.columns = VP.columns\n",
    "\n",
    "MM = pd.merge(left = hierarchy, right = D, how = 'inner', left_on = 'boss_id', right_on = 'employee_id').iloc[:, :3]\n",
    "MM['level'] = 'MM'\n",
    "MM.columns = D.columns\n",
    "\n",
    "IC = pd.merge(left = hierarchy, right = MM, how = 'inner', left_on = 'boss_id', right_on = 'employee_id').iloc[:, :3]\n",
    "IC['level'] = 'IC'\n",
    "IC.columns = MM.columns"
   ]
  },
  {
   "cell_type": "code",
   "execution_count": 10,
   "id": "70503da7",
   "metadata": {},
   "outputs": [
    {
     "data": {
      "text/html": [
       "<div>\n",
       "<style scoped>\n",
       "    .dataframe tbody tr th:only-of-type {\n",
       "        vertical-align: middle;\n",
       "    }\n",
       "\n",
       "    .dataframe tbody tr th {\n",
       "        vertical-align: top;\n",
       "    }\n",
       "\n",
       "    .dataframe thead th {\n",
       "        text-align: right;\n",
       "    }\n",
       "</style>\n",
       "<table border=\"1\" class=\"dataframe\">\n",
       "  <thead>\n",
       "    <tr style=\"text-align: right;\">\n",
       "      <th></th>\n",
       "      <th>employee_id</th>\n",
       "      <th>boss_id</th>\n",
       "      <th>dept</th>\n",
       "      <th>level</th>\n",
       "    </tr>\n",
       "  </thead>\n",
       "  <tbody>\n",
       "    <tr>\n",
       "      <th>0</th>\n",
       "      <td>46456</td>\n",
       "      <td>175361.0</td>\n",
       "      <td>sales</td>\n",
       "      <td>IC</td>\n",
       "    </tr>\n",
       "    <tr>\n",
       "      <th>1</th>\n",
       "      <td>25464</td>\n",
       "      <td>175361.0</td>\n",
       "      <td>sales</td>\n",
       "      <td>IC</td>\n",
       "    </tr>\n",
       "    <tr>\n",
       "      <th>2</th>\n",
       "      <td>70036</td>\n",
       "      <td>175361.0</td>\n",
       "      <td>sales</td>\n",
       "      <td>IC</td>\n",
       "    </tr>\n",
       "  </tbody>\n",
       "</table>\n",
       "</div>"
      ],
      "text/plain": [
       "   employee_id   boss_id   dept level\n",
       "0        46456  175361.0  sales    IC\n",
       "1        25464  175361.0  sales    IC\n",
       "2        70036  175361.0  sales    IC"
      ]
     },
     "execution_count": 10,
     "metadata": {},
     "output_type": "execute_result"
    }
   ],
   "source": [
    "level_hierarchy = pd.concat([IC, MM, D, VP, E, CEO])\n",
    "level_hierarchy.head(3)"
   ]
  },
  {
   "cell_type": "code",
   "execution_count": 11,
   "id": "86c49cd5",
   "metadata": {},
   "outputs": [
    {
     "data": {
      "text/html": [
       "<div>\n",
       "<style scoped>\n",
       "    .dataframe tbody tr th:only-of-type {\n",
       "        vertical-align: middle;\n",
       "    }\n",
       "\n",
       "    .dataframe tbody tr th {\n",
       "        vertical-align: top;\n",
       "    }\n",
       "\n",
       "    .dataframe thead th {\n",
       "        text-align: right;\n",
       "    }\n",
       "</style>\n",
       "<table border=\"1\" class=\"dataframe\">\n",
       "  <thead>\n",
       "    <tr style=\"text-align: right;\">\n",
       "      <th></th>\n",
       "      <th>employee_id</th>\n",
       "    </tr>\n",
       "    <tr>\n",
       "      <th>level</th>\n",
       "      <th></th>\n",
       "    </tr>\n",
       "  </thead>\n",
       "  <tbody>\n",
       "    <tr>\n",
       "      <th>CEO</th>\n",
       "      <td>1</td>\n",
       "    </tr>\n",
       "    <tr>\n",
       "      <th>E</th>\n",
       "      <td>4</td>\n",
       "    </tr>\n",
       "    <tr>\n",
       "      <th>VP</th>\n",
       "      <td>35</td>\n",
       "    </tr>\n",
       "    <tr>\n",
       "      <th>D</th>\n",
       "      <td>160</td>\n",
       "    </tr>\n",
       "    <tr>\n",
       "      <th>MM</th>\n",
       "      <td>800</td>\n",
       "    </tr>\n",
       "    <tr>\n",
       "      <th>IC</th>\n",
       "      <td>9000</td>\n",
       "    </tr>\n",
       "  </tbody>\n",
       "</table>\n",
       "</div>"
      ],
      "text/plain": [
       "       employee_id\n",
       "level             \n",
       "CEO              1\n",
       "E                4\n",
       "VP              35\n",
       "D              160\n",
       "MM             800\n",
       "IC            9000"
      ]
     },
     "execution_count": 11,
     "metadata": {},
     "output_type": "execute_result"
    }
   ],
   "source": [
    "level_hierarchy.groupby(['level'])[['employee_id']].count().sort_values(by = 'employee_id')"
   ]
  },
  {
   "cell_type": "markdown",
   "id": "38640d69",
   "metadata": {},
   "source": [
    "### 3. Question 2 \n",
    "\n",
    "Identify each employee's employee level."
   ]
  },
  {
   "cell_type": "code",
   "execution_count": 12,
   "id": "41043f7e",
   "metadata": {},
   "outputs": [],
   "source": [
    "IC['direct_mananged'] = 0"
   ]
  },
  {
   "cell_type": "code",
   "execution_count": 13,
   "id": "3d49c67a",
   "metadata": {},
   "outputs": [],
   "source": [
    "people_managed = IC.copy()\n",
    "dfs = [IC, MM, D, VP, E, CEO]\n",
    "\n",
    "for i in range(1, len(dfs)):\n",
    "    \n",
    "    temp = dfs[i-1].groupby(['boss_id'])['employee_id'].count().reset_index()\n",
    "    temp.columns = ['employee_id', 'direct_mananged']\n",
    "    people_managed = pd.concat([people_managed, dfs[i].merge(temp, how = 'inner', left_on = 'employee_id', right_on = 'employee_id' )])"
   ]
  },
  {
   "cell_type": "code",
   "execution_count": 14,
   "id": "5c4c0a53",
   "metadata": {},
   "outputs": [],
   "source": [
    "level_hierarchy = level_hierarchy.merge(right = people_managed, how = 'left').fillna(0)"
   ]
  },
  {
   "cell_type": "code",
   "execution_count": 15,
   "id": "ba739649",
   "metadata": {},
   "outputs": [
    {
     "data": {
      "text/html": [
       "<div>\n",
       "<style scoped>\n",
       "    .dataframe tbody tr th:only-of-type {\n",
       "        vertical-align: middle;\n",
       "    }\n",
       "\n",
       "    .dataframe tbody tr th {\n",
       "        vertical-align: top;\n",
       "    }\n",
       "\n",
       "    .dataframe thead th {\n",
       "        text-align: right;\n",
       "    }\n",
       "</style>\n",
       "<table border=\"1\" class=\"dataframe\">\n",
       "  <thead>\n",
       "    <tr style=\"text-align: right;\">\n",
       "      <th></th>\n",
       "      <th>employee_id</th>\n",
       "      <th>boss_id</th>\n",
       "      <th>dept</th>\n",
       "      <th>level</th>\n",
       "      <th>direct_mananged</th>\n",
       "    </tr>\n",
       "  </thead>\n",
       "  <tbody>\n",
       "    <tr>\n",
       "      <th>0</th>\n",
       "      <td>46456</td>\n",
       "      <td>175361.0</td>\n",
       "      <td>sales</td>\n",
       "      <td>IC</td>\n",
       "      <td>0.0</td>\n",
       "    </tr>\n",
       "    <tr>\n",
       "      <th>1</th>\n",
       "      <td>25464</td>\n",
       "      <td>175361.0</td>\n",
       "      <td>sales</td>\n",
       "      <td>IC</td>\n",
       "      <td>0.0</td>\n",
       "    </tr>\n",
       "    <tr>\n",
       "      <th>2</th>\n",
       "      <td>70036</td>\n",
       "      <td>175361.0</td>\n",
       "      <td>sales</td>\n",
       "      <td>IC</td>\n",
       "      <td>0.0</td>\n",
       "    </tr>\n",
       "  </tbody>\n",
       "</table>\n",
       "</div>"
      ],
      "text/plain": [
       "   employee_id   boss_id   dept level  direct_mananged\n",
       "0        46456  175361.0  sales    IC              0.0\n",
       "1        25464  175361.0  sales    IC              0.0\n",
       "2        70036  175361.0  sales    IC              0.0"
      ]
     },
     "execution_count": 15,
     "metadata": {},
     "output_type": "execute_result"
    }
   ],
   "source": [
    "level_hierarchy.head(3)"
   ]
  },
  {
   "cell_type": "code",
   "execution_count": 16,
   "id": "4adcc7fd",
   "metadata": {},
   "outputs": [],
   "source": [
    "level_hierarchy['managed_total'] = level_hierarchy['direct_mananged']\n",
    "level = ['D', 'VP', 'E', 'CEO']   \n",
    "for l in level:\n",
    "    temp = level_hierarchy[level_hierarchy.level == l]\n",
    "    for boss in temp.employee_id.values:\n",
    "        undirect = sum(level_hierarchy[level_hierarchy.boss_id == boss].managed_total)\n",
    "        direct = level_hierarchy[level_hierarchy.employee_id == boss].direct_mananged\n",
    "        level_hierarchy.loc[level_hierarchy['employee_id'] == boss , ['managed_total']] = direct + undirect"
   ]
  },
  {
   "cell_type": "code",
   "execution_count": 17,
   "id": "bd2a7de1",
   "metadata": {},
   "outputs": [
    {
     "data": {
      "text/html": [
       "<div>\n",
       "<style scoped>\n",
       "    .dataframe tbody tr th:only-of-type {\n",
       "        vertical-align: middle;\n",
       "    }\n",
       "\n",
       "    .dataframe tbody tr th {\n",
       "        vertical-align: top;\n",
       "    }\n",
       "\n",
       "    .dataframe thead th {\n",
       "        text-align: right;\n",
       "    }\n",
       "</style>\n",
       "<table border=\"1\" class=\"dataframe\">\n",
       "  <thead>\n",
       "    <tr style=\"text-align: right;\">\n",
       "      <th></th>\n",
       "      <th>employee_id</th>\n",
       "      <th>boss_id</th>\n",
       "      <th>dept</th>\n",
       "      <th>level</th>\n",
       "      <th>direct_mananged</th>\n",
       "      <th>managed_total</th>\n",
       "    </tr>\n",
       "  </thead>\n",
       "  <tbody>\n",
       "    <tr>\n",
       "      <th>9999</th>\n",
       "      <td>61554</td>\n",
       "      <td>0.0</td>\n",
       "      <td>CEO</td>\n",
       "      <td>CEO</td>\n",
       "      <td>4.0</td>\n",
       "      <td>9999.0</td>\n",
       "    </tr>\n",
       "  </tbody>\n",
       "</table>\n",
       "</div>"
      ],
      "text/plain": [
       "      employee_id  boss_id dept level  direct_mananged  managed_total\n",
       "9999        61554      0.0  CEO   CEO              4.0         9999.0"
      ]
     },
     "execution_count": 17,
     "metadata": {},
     "output_type": "execute_result"
    }
   ],
   "source": [
    "level_hierarchy[level_hierarchy.level == 'CEO']"
   ]
  },
  {
   "cell_type": "markdown",
   "id": "f8192291",
   "metadata": {},
   "source": [
    "## 4. Question 3 \n",
    "\n",
    "Build a model to predict the salary of each employee."
   ]
  },
  {
   "cell_type": "markdown",
   "id": "6674fffe",
   "metadata": {},
   "source": [
    "### 4.1 Data Processing"
   ]
  },
  {
   "cell_type": "code",
   "execution_count": 18,
   "id": "16221e0a",
   "metadata": {},
   "outputs": [
    {
     "data": {
      "text/html": [
       "<div>\n",
       "<style scoped>\n",
       "    .dataframe tbody tr th:only-of-type {\n",
       "        vertical-align: middle;\n",
       "    }\n",
       "\n",
       "    .dataframe tbody tr th {\n",
       "        vertical-align: top;\n",
       "    }\n",
       "\n",
       "    .dataframe thead th {\n",
       "        text-align: right;\n",
       "    }\n",
       "</style>\n",
       "<table border=\"1\" class=\"dataframe\">\n",
       "  <thead>\n",
       "    <tr style=\"text-align: right;\">\n",
       "      <th></th>\n",
       "      <th>employee_id</th>\n",
       "      <th>boss_id</th>\n",
       "      <th>dept</th>\n",
       "      <th>level</th>\n",
       "      <th>direct_mananged</th>\n",
       "      <th>managed_total</th>\n",
       "      <th>signing_bonus</th>\n",
       "      <th>salary</th>\n",
       "      <th>degree_level</th>\n",
       "      <th>sex</th>\n",
       "      <th>yrs_experience</th>\n",
       "    </tr>\n",
       "  </thead>\n",
       "  <tbody>\n",
       "    <tr>\n",
       "      <th>0</th>\n",
       "      <td>46456</td>\n",
       "      <td>175361.0</td>\n",
       "      <td>sales</td>\n",
       "      <td>IC</td>\n",
       "      <td>0.0</td>\n",
       "      <td>0.0</td>\n",
       "      <td>0</td>\n",
       "      <td>213000.0</td>\n",
       "      <td>Bachelor</td>\n",
       "      <td>M</td>\n",
       "      <td>5</td>\n",
       "    </tr>\n",
       "    <tr>\n",
       "      <th>1</th>\n",
       "      <td>25464</td>\n",
       "      <td>175361.0</td>\n",
       "      <td>sales</td>\n",
       "      <td>IC</td>\n",
       "      <td>0.0</td>\n",
       "      <td>0.0</td>\n",
       "      <td>0</td>\n",
       "      <td>74000.0</td>\n",
       "      <td>Bachelor</td>\n",
       "      <td>M</td>\n",
       "      <td>3</td>\n",
       "    </tr>\n",
       "    <tr>\n",
       "      <th>2</th>\n",
       "      <td>70036</td>\n",
       "      <td>175361.0</td>\n",
       "      <td>sales</td>\n",
       "      <td>IC</td>\n",
       "      <td>0.0</td>\n",
       "      <td>0.0</td>\n",
       "      <td>1</td>\n",
       "      <td>237000.0</td>\n",
       "      <td>PhD</td>\n",
       "      <td>M</td>\n",
       "      <td>7</td>\n",
       "    </tr>\n",
       "  </tbody>\n",
       "</table>\n",
       "</div>"
      ],
      "text/plain": [
       "   employee_id   boss_id   dept level  direct_mananged  managed_total  \\\n",
       "0        46456  175361.0  sales    IC              0.0            0.0   \n",
       "1        25464  175361.0  sales    IC              0.0            0.0   \n",
       "2        70036  175361.0  sales    IC              0.0            0.0   \n",
       "\n",
       "   signing_bonus    salary degree_level sex  yrs_experience  \n",
       "0              0  213000.0     Bachelor   M               5  \n",
       "1              0   74000.0     Bachelor   M               3  \n",
       "2              1  237000.0          PhD   M               7  "
      ]
     },
     "execution_count": 18,
     "metadata": {},
     "output_type": "execute_result"
    }
   ],
   "source": [
    "data = level_hierarchy.merge(employee, how = 'inner')\n",
    "data.head(3)"
   ]
  },
  {
   "cell_type": "code",
   "execution_count": 19,
   "id": "79a184d4",
   "metadata": {},
   "outputs": [],
   "source": [
    "from sklearn.model_selection import train_test_split\n",
    "from sklearn.linear_model import LinearRegression\n",
    "from sklearn.ensemble import RandomForestRegressor\n",
    "from sklearn.metrics import mean_squared_error"
   ]
  },
  {
   "cell_type": "code",
   "execution_count": 20,
   "id": "687f4434",
   "metadata": {},
   "outputs": [
    {
     "data": {
      "text/plain": [
       "Index(['employee_id', 'boss_id', 'dept', 'level', 'direct_mananged',\n",
       "       'managed_total', 'signing_bonus', 'salary', 'degree_level', 'sex',\n",
       "       'yrs_experience'],\n",
       "      dtype='object')"
      ]
     },
     "execution_count": 20,
     "metadata": {},
     "output_type": "execute_result"
    }
   ],
   "source": [
    "data.columns"
   ]
  },
  {
   "cell_type": "code",
   "execution_count": 21,
   "id": "edab1d71",
   "metadata": {},
   "outputs": [
    {
     "data": {
      "text/html": [
       "<div>\n",
       "<style scoped>\n",
       "    .dataframe tbody tr th:only-of-type {\n",
       "        vertical-align: middle;\n",
       "    }\n",
       "\n",
       "    .dataframe tbody tr th {\n",
       "        vertical-align: top;\n",
       "    }\n",
       "\n",
       "    .dataframe thead th {\n",
       "        text-align: right;\n",
       "    }\n",
       "</style>\n",
       "<table border=\"1\" class=\"dataframe\">\n",
       "  <thead>\n",
       "    <tr style=\"text-align: right;\">\n",
       "      <th></th>\n",
       "      <th>direct_mananged</th>\n",
       "      <th>managed_total</th>\n",
       "      <th>signing_bonus</th>\n",
       "      <th>salary</th>\n",
       "      <th>yrs_experience</th>\n",
       "      <th>dept_CEO</th>\n",
       "      <th>dept_HR</th>\n",
       "      <th>dept_engineering</th>\n",
       "      <th>dept_marketing</th>\n",
       "      <th>dept_sales</th>\n",
       "      <th>...</th>\n",
       "      <th>level_E</th>\n",
       "      <th>level_IC</th>\n",
       "      <th>level_MM</th>\n",
       "      <th>level_VP</th>\n",
       "      <th>degree_level_Bachelor</th>\n",
       "      <th>degree_level_High_School</th>\n",
       "      <th>degree_level_Master</th>\n",
       "      <th>degree_level_PhD</th>\n",
       "      <th>sex_F</th>\n",
       "      <th>sex_M</th>\n",
       "    </tr>\n",
       "  </thead>\n",
       "  <tbody>\n",
       "    <tr>\n",
       "      <th>0</th>\n",
       "      <td>0.0</td>\n",
       "      <td>0.0</td>\n",
       "      <td>0</td>\n",
       "      <td>213000.0</td>\n",
       "      <td>5</td>\n",
       "      <td>0</td>\n",
       "      <td>0</td>\n",
       "      <td>0</td>\n",
       "      <td>0</td>\n",
       "      <td>1</td>\n",
       "      <td>...</td>\n",
       "      <td>0</td>\n",
       "      <td>1</td>\n",
       "      <td>0</td>\n",
       "      <td>0</td>\n",
       "      <td>1</td>\n",
       "      <td>0</td>\n",
       "      <td>0</td>\n",
       "      <td>0</td>\n",
       "      <td>0</td>\n",
       "      <td>1</td>\n",
       "    </tr>\n",
       "    <tr>\n",
       "      <th>1</th>\n",
       "      <td>0.0</td>\n",
       "      <td>0.0</td>\n",
       "      <td>0</td>\n",
       "      <td>74000.0</td>\n",
       "      <td>3</td>\n",
       "      <td>0</td>\n",
       "      <td>0</td>\n",
       "      <td>0</td>\n",
       "      <td>0</td>\n",
       "      <td>1</td>\n",
       "      <td>...</td>\n",
       "      <td>0</td>\n",
       "      <td>1</td>\n",
       "      <td>0</td>\n",
       "      <td>0</td>\n",
       "      <td>1</td>\n",
       "      <td>0</td>\n",
       "      <td>0</td>\n",
       "      <td>0</td>\n",
       "      <td>0</td>\n",
       "      <td>1</td>\n",
       "    </tr>\n",
       "    <tr>\n",
       "      <th>2</th>\n",
       "      <td>0.0</td>\n",
       "      <td>0.0</td>\n",
       "      <td>1</td>\n",
       "      <td>237000.0</td>\n",
       "      <td>7</td>\n",
       "      <td>0</td>\n",
       "      <td>0</td>\n",
       "      <td>0</td>\n",
       "      <td>0</td>\n",
       "      <td>1</td>\n",
       "      <td>...</td>\n",
       "      <td>0</td>\n",
       "      <td>1</td>\n",
       "      <td>0</td>\n",
       "      <td>0</td>\n",
       "      <td>0</td>\n",
       "      <td>0</td>\n",
       "      <td>0</td>\n",
       "      <td>1</td>\n",
       "      <td>0</td>\n",
       "      <td>1</td>\n",
       "    </tr>\n",
       "  </tbody>\n",
       "</table>\n",
       "<p>3 rows × 22 columns</p>\n",
       "</div>"
      ],
      "text/plain": [
       "   direct_mananged  managed_total  signing_bonus    salary  yrs_experience  \\\n",
       "0              0.0            0.0              0  213000.0               5   \n",
       "1              0.0            0.0              0   74000.0               3   \n",
       "2              0.0            0.0              1  237000.0               7   \n",
       "\n",
       "   dept_CEO  dept_HR  dept_engineering  dept_marketing  dept_sales  ...  \\\n",
       "0         0        0                 0               0           1  ...   \n",
       "1         0        0                 0               0           1  ...   \n",
       "2         0        0                 0               0           1  ...   \n",
       "\n",
       "   level_E  level_IC  level_MM  level_VP  degree_level_Bachelor  \\\n",
       "0        0         1         0         0                      1   \n",
       "1        0         1         0         0                      1   \n",
       "2        0         1         0         0                      0   \n",
       "\n",
       "   degree_level_High_School  degree_level_Master  degree_level_PhD  sex_F  \\\n",
       "0                         0                    0                 0      0   \n",
       "1                         0                    0                 0      0   \n",
       "2                         0                    0                 1      0   \n",
       "\n",
       "   sex_M  \n",
       "0      1  \n",
       "1      1  \n",
       "2      1  \n",
       "\n",
       "[3 rows x 22 columns]"
      ]
     },
     "execution_count": 21,
     "metadata": {},
     "output_type": "execute_result"
    }
   ],
   "source": [
    "category_features = ['dept', 'level','degree_level', 'sex']\n",
    "train_data = pd.get_dummies(data = data.iloc[:, 2:], columns = category_features)\n",
    "train_data.head(3)"
   ]
  },
  {
   "cell_type": "code",
   "execution_count": 22,
   "id": "b90d7454",
   "metadata": {},
   "outputs": [],
   "source": [
    "features = list(train_data.columns[:3] )+ list(train_data.columns[4:])\n",
    "X = train_data[features]\n",
    "y = train_data['salary']"
   ]
  },
  {
   "cell_type": "code",
   "execution_count": 23,
   "id": "b3676b4f",
   "metadata": {},
   "outputs": [],
   "source": [
    "X_train, X_test, y_train, y_test = train_test_split(X,  y, test_size = 0.2,random_state = 1)"
   ]
  },
  {
   "cell_type": "markdown",
   "id": "d441415d",
   "metadata": {},
   "source": [
    "### 4.2 Model Fitting"
   ]
  },
  {
   "cell_type": "code",
   "execution_count": 24,
   "id": "1df79819",
   "metadata": {},
   "outputs": [
    {
     "data": {
      "text/plain": [
       "LinearRegression()"
      ]
     },
     "execution_count": 24,
     "metadata": {},
     "output_type": "execute_result"
    }
   ],
   "source": [
    "lm_model = LinearRegression()\n",
    "feature = features\n",
    "\n",
    "lm_model.fit(X_train ,y_train)"
   ]
  },
  {
   "cell_type": "code",
   "execution_count": 25,
   "id": "f5cdb168",
   "metadata": {},
   "outputs": [
    {
     "name": "stdout",
     "output_type": "stream",
     "text": [
      "RMSE for train dataset: 71419.12176\n",
      "RMSE for test dataset: 72632.58756\n"
     ]
    }
   ],
   "source": [
    "pred_train = lm_model.predict(X_train)\n",
    "pred_test = lm_model.predict(X_test)\n",
    "\n",
    "acc_train = round(np.sqrt(mean_squared_error(pred_train, y_train)), 5)\n",
    "print('RMSE for train dataset:', acc_train)\n",
    "\n",
    "acc_test = round(np.sqrt(mean_squared_error(pred_test, y_test)), 5)\n",
    "print('RMSE for test dataset:', acc_test)"
   ]
  },
  {
   "cell_type": "code",
   "execution_count": 26,
   "id": "3bc67eb7",
   "metadata": {},
   "outputs": [
    {
     "data": {
      "text/plain": [
       "RandomForestRegressor()"
      ]
     },
     "execution_count": 26,
     "metadata": {},
     "output_type": "execute_result"
    }
   ],
   "source": [
    "rf_model = RandomForestRegressor()\n",
    "rf_model.fit(X_train, y_train)"
   ]
  },
  {
   "cell_type": "code",
   "execution_count": 27,
   "id": "47e298d4",
   "metadata": {},
   "outputs": [
    {
     "name": "stdout",
     "output_type": "stream",
     "text": [
      "RMSE for train dataset: 65661.60414\n",
      "RMSE for test dataset: 75642.58171\n"
     ]
    }
   ],
   "source": [
    "pred_train = rf_model.predict(X_train)\n",
    "pred_test = rf_model.predict(X_test)\n",
    "\n",
    "acc_train = round(np.sqrt(mean_squared_error(pred_train, y_train)), 5)\n",
    "print('RMSE for train dataset:', acc_train)\n",
    "\n",
    "acc_test = round(np.sqrt(mean_squared_error(pred_test, y_test)), 5)\n",
    "print('RMSE for test dataset:', acc_test)"
   ]
  },
  {
   "cell_type": "code",
   "execution_count": 28,
   "id": "6b79152f",
   "metadata": {},
   "outputs": [],
   "source": [
    "result = lm_model.predict(X)"
   ]
  },
  {
   "cell_type": "markdown",
   "id": "00534a13",
   "metadata": {},
   "source": [
    "The feature importance got from random forest indicates that features includes department, year experience and employee managed are all very important to decide employee's salary level. "
   ]
  },
  {
   "cell_type": "markdown",
   "id": "67118eaa",
   "metadata": {},
   "source": [
    "## 5. Question 4 \n",
    "\n",
    "Describe the main factors impacting employee salaries. Do you think the company has been treating its employees fairly? Do you see any bias? What are the next steps you would suggest to the Head of HR?"
   ]
  },
  {
   "cell_type": "code",
   "execution_count": 29,
   "id": "8b1e680d",
   "metadata": {},
   "outputs": [
    {
     "data": {
      "text/plain": [
       "dept_HR                  0.567579\n",
       "dept_engineering         0.113307\n",
       "yrs_experience           0.098288\n",
       "managed_total            0.057836\n",
       "direct_mananged          0.029973\n",
       "signing_bonus            0.026296\n",
       "degree_level_Bachelor    0.014150\n",
       "sex_F                    0.013617\n",
       "sex_M                    0.013471\n",
       "degree_level_Master      0.013445\n",
       "dtype: float64"
      ]
     },
     "execution_count": 29,
     "metadata": {},
     "output_type": "execute_result"
    }
   ],
   "source": [
    "pd.Series(rf_model.feature_importances_, index=features).sort_values(ascending = False)[:10]"
   ]
  },
  {
   "cell_type": "markdown",
   "id": "46a9b843",
   "metadata": {},
   "source": [
    "The feature importance got from random forest indicates that features includes department, year experience and employee managed are all very important to decide employee's salary level.\n",
    "\n",
    "We can implement data visualization method to explore the difference in detail"
   ]
  },
  {
   "cell_type": "code",
   "execution_count": 30,
   "id": "994fe1f6",
   "metadata": {},
   "outputs": [
    {
     "data": {
      "text/html": [
       "<div>\n",
       "<style scoped>\n",
       "    .dataframe tbody tr th:only-of-type {\n",
       "        vertical-align: middle;\n",
       "    }\n",
       "\n",
       "    .dataframe tbody tr th {\n",
       "        vertical-align: top;\n",
       "    }\n",
       "\n",
       "    .dataframe thead th {\n",
       "        text-align: right;\n",
       "    }\n",
       "</style>\n",
       "<table border=\"1\" class=\"dataframe\">\n",
       "  <thead>\n",
       "    <tr style=\"text-align: right;\">\n",
       "      <th></th>\n",
       "      <th>employee_id</th>\n",
       "      <th>boss_id</th>\n",
       "      <th>dept</th>\n",
       "      <th>level</th>\n",
       "      <th>direct_mananged</th>\n",
       "      <th>managed_total</th>\n",
       "      <th>signing_bonus</th>\n",
       "      <th>salary</th>\n",
       "      <th>degree_level</th>\n",
       "      <th>sex</th>\n",
       "      <th>yrs_experience</th>\n",
       "    </tr>\n",
       "  </thead>\n",
       "  <tbody>\n",
       "    <tr>\n",
       "      <th>0</th>\n",
       "      <td>46456</td>\n",
       "      <td>175361.0</td>\n",
       "      <td>sales</td>\n",
       "      <td>IC</td>\n",
       "      <td>0.0</td>\n",
       "      <td>0.0</td>\n",
       "      <td>0</td>\n",
       "      <td>213000.0</td>\n",
       "      <td>Bachelor</td>\n",
       "      <td>M</td>\n",
       "      <td>5</td>\n",
       "    </tr>\n",
       "    <tr>\n",
       "      <th>1</th>\n",
       "      <td>25464</td>\n",
       "      <td>175361.0</td>\n",
       "      <td>sales</td>\n",
       "      <td>IC</td>\n",
       "      <td>0.0</td>\n",
       "      <td>0.0</td>\n",
       "      <td>0</td>\n",
       "      <td>74000.0</td>\n",
       "      <td>Bachelor</td>\n",
       "      <td>M</td>\n",
       "      <td>3</td>\n",
       "    </tr>\n",
       "    <tr>\n",
       "      <th>2</th>\n",
       "      <td>70036</td>\n",
       "      <td>175361.0</td>\n",
       "      <td>sales</td>\n",
       "      <td>IC</td>\n",
       "      <td>0.0</td>\n",
       "      <td>0.0</td>\n",
       "      <td>1</td>\n",
       "      <td>237000.0</td>\n",
       "      <td>PhD</td>\n",
       "      <td>M</td>\n",
       "      <td>7</td>\n",
       "    </tr>\n",
       "    <tr>\n",
       "      <th>3</th>\n",
       "      <td>132143</td>\n",
       "      <td>175361.0</td>\n",
       "      <td>sales</td>\n",
       "      <td>IC</td>\n",
       "      <td>0.0</td>\n",
       "      <td>0.0</td>\n",
       "      <td>0</td>\n",
       "      <td>198000.0</td>\n",
       "      <td>High_School</td>\n",
       "      <td>M</td>\n",
       "      <td>1</td>\n",
       "    </tr>\n",
       "    <tr>\n",
       "      <th>4</th>\n",
       "      <td>155125</td>\n",
       "      <td>175361.0</td>\n",
       "      <td>sales</td>\n",
       "      <td>IC</td>\n",
       "      <td>0.0</td>\n",
       "      <td>0.0</td>\n",
       "      <td>1</td>\n",
       "      <td>182000.0</td>\n",
       "      <td>High_School</td>\n",
       "      <td>M</td>\n",
       "      <td>2</td>\n",
       "    </tr>\n",
       "  </tbody>\n",
       "</table>\n",
       "</div>"
      ],
      "text/plain": [
       "   employee_id   boss_id   dept level  direct_mananged  managed_total  \\\n",
       "0        46456  175361.0  sales    IC              0.0            0.0   \n",
       "1        25464  175361.0  sales    IC              0.0            0.0   \n",
       "2        70036  175361.0  sales    IC              0.0            0.0   \n",
       "3       132143  175361.0  sales    IC              0.0            0.0   \n",
       "4       155125  175361.0  sales    IC              0.0            0.0   \n",
       "\n",
       "   signing_bonus    salary degree_level sex  yrs_experience  \n",
       "0              0  213000.0     Bachelor   M               5  \n",
       "1              0   74000.0     Bachelor   M               3  \n",
       "2              1  237000.0          PhD   M               7  \n",
       "3              0  198000.0  High_School   M               1  \n",
       "4              1  182000.0  High_School   M               2  "
      ]
     },
     "execution_count": 30,
     "metadata": {},
     "output_type": "execute_result"
    }
   ],
   "source": [
    "data.head()"
   ]
  },
  {
   "cell_type": "code",
   "execution_count": 31,
   "id": "5f7bcefc",
   "metadata": {},
   "outputs": [
    {
     "data": {
      "text/plain": [
       "<AxesSubplot:xlabel='sex', ylabel='salary'>"
      ]
     },
     "execution_count": 31,
     "metadata": {},
     "output_type": "execute_result"
    },
    {
     "data": {
      "image/png": "[encoded data removed]",
      "text/plain": [
       "<Figure size 1080x864 with 8 Axes>"
      ]
     },
     "metadata": {
      "needs_background": "light"
     },
     "output_type": "display_data"
    }
   ],
   "source": [
    "### 5.1 Caregory Features\n",
    "\n",
    "fig, ax = plt.subplots(4, 2, figsize = (15, 12))\n",
    "\n",
    "sns.countplot(data = data, x = 'dept',ax = ax[0][0])\n",
    "sns.barplot(data = data, x = 'dept', y = 'salary', estimator = np.mean, ax = ax[0][1])\n",
    "\n",
    "sns.countplot(data = data, x = 'level', ax = ax[1][0])\n",
    "sns.barplot(data = data, x = 'level', y = 'salary', estimator = np.mean, ax = ax[1][1])\n",
    "\n",
    "sns.countplot(data = data, x = 'degree_level', ax = ax[2][0])\n",
    "sns.barplot(data = data, x = 'degree_level', y = 'salary', estimator = np.mean, ax = ax[2][1])\n",
    "\n",
    "sns.countplot(data = data, x = 'sex', ax = ax[3][0])\n",
    "sns.barplot(data = data, x = 'sex', y = 'salary', estimator = np.mean, ax = ax[3][1])"
   ]
  },
  {
   "cell_type": "code",
   "execution_count": 32,
   "id": "27952e0a",
   "metadata": {},
   "outputs": [
    {
     "data": {
      "text/plain": [
       "<AxesSubplot:xlabel='yrs_experience', ylabel='salary'>"
      ]
     },
     "execution_count": 32,
     "metadata": {},
     "output_type": "execute_result"
    },
    {
     "data": {
      "image/png": "[encoded data removed]",
      "text/plain": [
       "<Figure size 1080x648 with 6 Axes>"
      ]
     },
     "metadata": {
      "needs_background": "light"
     },
     "output_type": "display_data"
    }
   ],
   "source": [
    "fig, ax = plt.subplots(3, 2, figsize = (15, 9))\n",
    "\n",
    "sns.histplot(data = data, x = 'direct_mananged', ax = ax[0][0])\n",
    "sns.lineplot(data = data, x = 'direct_mananged', y = 'salary', estimator = np.mean, ax = ax[0][1])\n",
    "\n",
    "sns.histplot(data = data, x = 'managed_total', ax = ax[1][0])\n",
    "sns.lineplot(data = data, x = 'managed_total', y = 'salary', estimator = np.mean, ax = ax[1][1])\n",
    "\n",
    "sns.histplot(data = data, x = 'yrs_experience', ax = ax[2][0])\n",
    "sns.lineplot(data = data, x = 'yrs_experience', y = 'salary', estimator = np.mean, ax = ax[2][1])"
   ]
  },
  {
   "cell_type": "markdown",
   "id": "244b7b8b",
   "metadata": {},
   "source": [
    "Based on the plots above, I think the company doesn't treat Female and Male employees fairly."
   ]
  }
 ],
 "metadata": {
  "kernelspec": {
   "display_name": "Python 3 (ipykernel)",
   "language": "python",
   "name": "python3"
  },
  "language_info": {
   "codemirror_mode": {
    "name": "ipython",
    "version": 3
   },
   "file_extension": ".py",
   "mimetype": "text/x-python",
   "name": "python",
   "nbconvert_exporter": "python",
   "pygments_lexer": "ipython3",
   "version": "3.7.7"
  }
 },
 "nbformat": 4,
 "nbformat_minor": 5
}
