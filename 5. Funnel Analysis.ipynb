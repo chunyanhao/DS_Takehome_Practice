{
 "cells": [
  {
   "cell_type": "code",
   "execution_count": 1,
   "id": "ee54f992",
   "metadata": {},
   "outputs": [],
   "source": [
    "import pandas as pd\n",
    "import numpy as np\n",
    "import seaborn as sns\n",
    "import matplotlib.pyplot as plt\n",
    "import datetime as dt\n",
    "\n",
    "import warnings\n",
    "warnings.filterwarnings(\"ignore\")"
   ]
  },
  {
   "cell_type": "markdown",
   "id": "ea3d076c",
   "metadata": {},
   "source": [
    "### 1. Load Data"
   ]
  },
  {
   "cell_type": "code",
   "execution_count": 2,
   "id": "5dbdfaf5",
   "metadata": {},
   "outputs": [
    {
     "data": {
      "text/plain": [
       "\"/Users/ChunyanHao/Desktop/GitHub/DS_Take_Home/Bella's Code\""
      ]
     },
     "execution_count": 2,
     "metadata": {},
     "output_type": "execute_result"
    }
   ],
   "source": [
    "pwd"
   ]
  },
  {
   "cell_type": "code",
   "execution_count": 36,
   "id": "e0033840",
   "metadata": {},
   "outputs": [],
   "source": [
    "homepage = pd.read_csv('/Users/ChunyanHao/Desktop/GitHub/DS_Take_Home/data/Funnel/home_page_table.csv')\n",
    "payment_cfm = pd.read_csv('/Users/ChunyanHao/Desktop/GitHub/DS_Take_Home/data/Funnel/payment_confirmation_table.csv')\n",
    "payment_page = pd.read_csv('/Users/ChunyanHao/Desktop/GitHub/DS_Take_Home/data/Funnel/payment_page_table.csv')\n",
    "search_page = pd.read_csv('/Users/ChunyanHao/Desktop/GitHub/DS_Take_Home/data/Funnel/search_page_table.csv')\n",
    "users = pd.read_csv('/Users/ChunyanHao/Desktop/GitHub/DS_Take_Home/data/Funnel/user_table.csv')"
   ]
  },
  {
   "cell_type": "code",
   "execution_count": 14,
   "id": "8311dcc5",
   "metadata": {},
   "outputs": [
    {
     "name": "stdout",
     "output_type": "stream",
     "text": [
      "   user_id       page\n",
      "0   313593  home_page\n",
      "1   468315  home_page\n",
      "2   264005  home_page\n",
      "   user_id                       page\n",
      "0   123100  payment_confirmation_page\n",
      "1   704999  payment_confirmation_page\n",
      "2   407188  payment_confirmation_page\n",
      "   user_id          page\n",
      "0   253019  payment_page\n",
      "1   310478  payment_page\n",
      "2   304081  payment_page\n",
      "   user_id         page\n",
      "0    15866  search_page\n",
      "1   347058  search_page\n",
      "2   577020  search_page\n",
      "   user_id        date   device     sex\n",
      "0   450007  2015-02-28  Desktop  Female\n",
      "1   756838  2015-01-13  Desktop    Male\n",
      "2   568983  2015-04-09  Desktop    Male\n"
     ]
    }
   ],
   "source": [
    "file_list = [homepage, payment_cfm, payment_page, search_page, users]\n",
    "for i in file_list:\n",
    "    print(i.head(3))"
   ]
  },
  {
   "cell_type": "code",
   "execution_count": 47,
   "id": "b85c89fd",
   "metadata": {},
   "outputs": [
    {
     "name": "stdout",
     "output_type": "stream",
     "text": [
      "<class 'pandas.core.frame.DataFrame'>\n",
      "Int64Index: 90400 entries, 0 to 90399\n",
      "Data columns (total 8 columns):\n",
      " #   Column        Non-Null Count  Dtype  \n",
      "---  ------        --------------  -----  \n",
      " 0   user_id       90400 non-null  int64  \n",
      " 1   date          90400 non-null  object \n",
      " 2   device        90400 non-null  object \n",
      " 3   sex           90400 non-null  object \n",
      " 4   homepage      90400 non-null  int64  \n",
      " 5   search_page   90400 non-null  float64\n",
      " 6   payment_page  90400 non-null  float64\n",
      " 7   payment_cfm   90400 non-null  float64\n",
      "dtypes: float64(3), int64(2), object(3)\n",
      "memory usage: 6.2+ MB\n",
      "None\n",
      "<class 'pandas.core.frame.DataFrame'>\n",
      "RangeIndex: 90400 entries, 0 to 90399\n",
      "Data columns (total 2 columns):\n",
      " #   Column   Non-Null Count  Dtype\n",
      "---  ------   --------------  -----\n",
      " 0   user_id  90400 non-null  int64\n",
      " 1   page     90400 non-null  int64\n",
      "dtypes: int64(2)\n",
      "memory usage: 1.4 MB\n",
      "None\n",
      "<class 'pandas.core.frame.DataFrame'>\n",
      "RangeIndex: 45200 entries, 0 to 45199\n",
      "Data columns (total 2 columns):\n",
      " #   Column   Non-Null Count  Dtype\n",
      "---  ------   --------------  -----\n",
      " 0   user_id  45200 non-null  int64\n",
      " 1   page     45200 non-null  int64\n",
      "dtypes: int64(2)\n",
      "memory usage: 706.4 KB\n",
      "None\n",
      "<class 'pandas.core.frame.DataFrame'>\n",
      "RangeIndex: 6030 entries, 0 to 6029\n",
      "Data columns (total 2 columns):\n",
      " #   Column   Non-Null Count  Dtype\n",
      "---  ------   --------------  -----\n",
      " 0   user_id  6030 non-null   int64\n",
      " 1   page     6030 non-null   int64\n",
      "dtypes: int64(2)\n",
      "memory usage: 94.3 KB\n",
      "None\n",
      "<class 'pandas.core.frame.DataFrame'>\n",
      "RangeIndex: 452 entries, 0 to 451\n",
      "Data columns (total 2 columns):\n",
      " #   Column   Non-Null Count  Dtype\n",
      "---  ------   --------------  -----\n",
      " 0   user_id  452 non-null    int64\n",
      " 1   page     452 non-null    int64\n",
      "dtypes: int64(2)\n",
      "memory usage: 7.2 KB\n",
      "None\n"
     ]
    }
   ],
   "source": [
    "file_list = [users, homepage, search_page, payment_page, payment_cfm]\n",
    "for i in file_list:\n",
    "    print(i.info())"
   ]
  },
  {
   "cell_type": "markdown",
   "id": "ccff3a98",
   "metadata": {},
   "source": [
    "### 2. Merge data and calculate basic conversion rate"
   ]
  },
  {
   "cell_type": "code",
   "execution_count": 37,
   "id": "f7ac2cdb",
   "metadata": {},
   "outputs": [],
   "source": [
    "file_list = [homepage, payment_cfm, payment_page, search_page]\n",
    "for i in file_list:\n",
    "    i['page'] = 1"
   ]
  },
  {
   "cell_type": "code",
   "execution_count": 38,
   "id": "368ba1ae",
   "metadata": {},
   "outputs": [
    {
     "name": "stderr",
     "output_type": "stream",
     "text": [
      "/Users/ChunyanHao/opt/anaconda3/lib/python3.7/site-packages/ipykernel_launcher.py:4: FutureWarning: Passing 'suffixes' which cause duplicate columns {'page_x'} in the result is deprecated and will raise a MergeError in a future version.\n",
      "  after removing the cwd from sys.path.\n"
     ]
    }
   ],
   "source": [
    "file_list = [homepage, search_page, payment_page, payment_cfm]\n",
    "for i in file_list:\n",
    "    users = pd.merge(left = users, right = i, how = 'left', \n",
    "                     left_on = 'user_id', right_on = 'user_id')\n",
    "users.columns = ['user_id', 'date', 'device', 'sex', \n",
    "                 'homepage', 'search_page', 'payment_page', 'payment_cfm']\n",
    "users = users.fillna(0)"
   ]
  },
  {
   "cell_type": "code",
   "execution_count": 40,
   "id": "3be9eeb5",
   "metadata": {},
   "outputs": [
    {
     "data": {
      "text/html": [
       "<div>\n",
       "<style scoped>\n",
       "    .dataframe tbody tr th:only-of-type {\n",
       "        vertical-align: middle;\n",
       "    }\n",
       "\n",
       "    .dataframe tbody tr th {\n",
       "        vertical-align: top;\n",
       "    }\n",
       "\n",
       "    .dataframe thead th {\n",
       "        text-align: right;\n",
       "    }\n",
       "</style>\n",
       "<table border=\"1\" class=\"dataframe\">\n",
       "  <thead>\n",
       "    <tr style=\"text-align: right;\">\n",
       "      <th></th>\n",
       "      <th>user_id</th>\n",
       "      <th>date</th>\n",
       "      <th>device</th>\n",
       "      <th>sex</th>\n",
       "      <th>homepage</th>\n",
       "      <th>search_page</th>\n",
       "      <th>payment_page</th>\n",
       "      <th>payment_cfm</th>\n",
       "    </tr>\n",
       "  </thead>\n",
       "  <tbody>\n",
       "    <tr>\n",
       "      <th>0</th>\n",
       "      <td>450007</td>\n",
       "      <td>2015-02-28</td>\n",
       "      <td>Desktop</td>\n",
       "      <td>Female</td>\n",
       "      <td>1</td>\n",
       "      <td>0.0</td>\n",
       "      <td>0.0</td>\n",
       "      <td>0.0</td>\n",
       "    </tr>\n",
       "    <tr>\n",
       "      <th>1</th>\n",
       "      <td>756838</td>\n",
       "      <td>2015-01-13</td>\n",
       "      <td>Desktop</td>\n",
       "      <td>Male</td>\n",
       "      <td>1</td>\n",
       "      <td>0.0</td>\n",
       "      <td>0.0</td>\n",
       "      <td>0.0</td>\n",
       "    </tr>\n",
       "    <tr>\n",
       "      <th>2</th>\n",
       "      <td>568983</td>\n",
       "      <td>2015-04-09</td>\n",
       "      <td>Desktop</td>\n",
       "      <td>Male</td>\n",
       "      <td>1</td>\n",
       "      <td>1.0</td>\n",
       "      <td>0.0</td>\n",
       "      <td>0.0</td>\n",
       "    </tr>\n",
       "  </tbody>\n",
       "</table>\n",
       "</div>"
      ],
      "text/plain": [
       "   user_id        date   device     sex  homepage  search_page  payment_page  \\\n",
       "0   450007  2015-02-28  Desktop  Female         1          0.0           0.0   \n",
       "1   756838  2015-01-13  Desktop    Male         1          0.0           0.0   \n",
       "2   568983  2015-04-09  Desktop    Male         1          1.0           0.0   \n",
       "\n",
       "   payment_cfm  \n",
       "0          0.0  \n",
       "1          0.0  \n",
       "2          0.0  "
      ]
     },
     "execution_count": 40,
     "metadata": {},
     "output_type": "execute_result"
    }
   ],
   "source": [
    "users.head(3)"
   ]
  },
  {
   "cell_type": "code",
   "execution_count": 54,
   "id": "85232f4a",
   "metadata": {},
   "outputs": [
    {
     "name": "stdout",
     "output_type": "stream",
     "text": [
      "homepage --> homepage 1.0\n",
      "homepage --> search_page 0.5\n",
      "homepage --> payment_page 0.06670353982300885\n",
      "homepage --> payment_cfm 0.005\n"
     ]
    }
   ],
   "source": [
    "# 所有的用户中有多少进入这一页\n",
    "# calculate the general conversion rate of all user to next page\n",
    "# for example: 50% of all users reach out the search_page, \n",
    "# but only 0.5% of all users reach out the payment_confirmation page\n",
    "\n",
    "for i in ['homepage', 'search_page', 'payment_page', 'payment_cfm']:\n",
    "    print('homepage -->', i, np.mean(users[i]))"
   ]
  },
  {
   "cell_type": "code",
   "execution_count": 55,
   "id": "89cc56c1",
   "metadata": {},
   "outputs": [
    {
     "name": "stdout",
     "output_type": "stream",
     "text": [
      "homepage --> payment_cfm 0.005\n",
      "search_page --> payment_cfm 0.01\n",
      "payment_page --> payment_cfm 0.07495854063018242\n",
      "payment_cfm --> payment_cfm 1.0\n"
     ]
    }
   ],
   "source": [
    "# 当前页中有多少进入了最后一页\n",
    "# calculate the conversion rate in each page to final payment_cfm base on previous page\n",
    "# for example: 0.5% of all users in homepage reach out the payment_confrimation page, \n",
    "# but 1% of all users in search_page reach out the payment_confirmation page\n",
    "# also, 7.5% of all users in payment_page reach out the payment_confirmation page\n",
    "\n",
    "for i in ['homepage', 'search_page', 'payment_page', 'payment_cfm']:\n",
    "    print(i, '--> payment_cfm', users[(users[i] == 1)]['payment_cfm'].mean())"
   ]
  },
  {
   "cell_type": "code",
   "execution_count": 56,
   "id": "bc56ec1f",
   "metadata": {},
   "outputs": [
    {
     "name": "stdout",
     "output_type": "stream",
     "text": [
      "homepage --> search_page 0.5\n",
      "search_page --> payment_page 0.1334070796460177\n",
      "payment_page --> payment_cfm 0.07495854063018242\n"
     ]
    }
   ],
   "source": [
    "# 当前页中有多少进入了下一页\n",
    "# calculate the conversion rate in each page to next page\n",
    "# for example: 50% of all users in homepage reach out the search page, \n",
    "# but only 13% of all users in search_page reach out the payment page\n",
    "# also, only 7.5% of all users in payment_page reach out the payment_confirmation page\n",
    "\n",
    "print('homepage --> search_page', users[(users['homepage'] == 1)]['search_page'].mean())\n",
    "print('search_page --> payment_page', users[(users['search_page'] == 1)]['payment_page'].mean())\n",
    "print('payment_page --> payment_cfm', users[(users['payment_page'] == 1)]['payment_cfm'].mean())"
   ]
  },
  {
   "cell_type": "markdown",
   "id": "25d01b59",
   "metadata": {},
   "source": [
    "### 3. Conversion rate by device and sex"
   ]
  },
  {
   "cell_type": "code",
   "execution_count": 70,
   "id": "1cc37721",
   "metadata": {},
   "outputs": [
    {
     "data": {
      "text/html": [
       "<div>\n",
       "<style scoped>\n",
       "    .dataframe tbody tr th:only-of-type {\n",
       "        vertical-align: middle;\n",
       "    }\n",
       "\n",
       "    .dataframe tbody tr th {\n",
       "        vertical-align: top;\n",
       "    }\n",
       "\n",
       "    .dataframe thead th {\n",
       "        text-align: right;\n",
       "    }\n",
       "</style>\n",
       "<table border=\"1\" class=\"dataframe\">\n",
       "  <thead>\n",
       "    <tr style=\"text-align: right;\">\n",
       "      <th></th>\n",
       "      <th>device</th>\n",
       "      <th>search_page</th>\n",
       "      <th>payment_page</th>\n",
       "      <th>payment_cfm</th>\n",
       "    </tr>\n",
       "  </thead>\n",
       "  <tbody>\n",
       "    <tr>\n",
       "      <th>0</th>\n",
       "      <td>Desktop</td>\n",
       "      <td>0.5</td>\n",
       "      <td>0.1</td>\n",
       "      <td>0.049834</td>\n",
       "    </tr>\n",
       "    <tr>\n",
       "      <th>1</th>\n",
       "      <td>Mobile</td>\n",
       "      <td>0.5</td>\n",
       "      <td>0.2</td>\n",
       "      <td>0.100000</td>\n",
       "    </tr>\n",
       "  </tbody>\n",
       "</table>\n",
       "</div>"
      ],
      "text/plain": [
       "    device  search_page  payment_page  payment_cfm\n",
       "0  Desktop          0.5           0.1     0.049834\n",
       "1   Mobile          0.5           0.2     0.100000"
      ]
     },
     "execution_count": 70,
     "metadata": {},
     "output_type": "execute_result"
    }
   ],
   "source": [
    "temp_1 = users[(users['homepage'] == 1)].groupby('device')['search_page'].mean().reset_index()\n",
    "temp_2 = users[(users['search_page'] == 1)].groupby('device')['payment_page'].mean().reset_index()\n",
    "temp_3 = users[(users['payment_page'] == 1)].groupby('device')['payment_cfm'].mean().reset_index()\n",
    "device_summary = temp_1.merge(temp_2, on = 'device').merge(temp_3, on = 'device')\n",
    "device_summary"
   ]
  },
  {
   "cell_type": "markdown",
   "id": "7b85e9d9",
   "metadata": {},
   "source": [
    "##### the performance of mobile users are abvious better than the desktop users in conversion rate. This means that the company needs more modification in their website. Meanwhile, it's strange that the conversion rate from payment page to panyment_confirmation page is very low. That indecates many customers change their mind to confirm the final order click."
   ]
  },
  {
   "cell_type": "code",
   "execution_count": 71,
   "id": "1ae2d432",
   "metadata": {},
   "outputs": [
    {
     "data": {
      "text/html": [
       "<div>\n",
       "<style scoped>\n",
       "    .dataframe tbody tr th:only-of-type {\n",
       "        vertical-align: middle;\n",
       "    }\n",
       "\n",
       "    .dataframe tbody tr th {\n",
       "        vertical-align: top;\n",
       "    }\n",
       "\n",
       "    .dataframe thead th {\n",
       "        text-align: right;\n",
       "    }\n",
       "</style>\n",
       "<table border=\"1\" class=\"dataframe\">\n",
       "  <thead>\n",
       "    <tr style=\"text-align: right;\">\n",
       "      <th></th>\n",
       "      <th>sex</th>\n",
       "      <th>search_page</th>\n",
       "      <th>payment_page</th>\n",
       "      <th>payment_cfm</th>\n",
       "    </tr>\n",
       "  </thead>\n",
       "  <tbody>\n",
       "    <tr>\n",
       "      <th>0</th>\n",
       "      <td>Female</td>\n",
       "      <td>0.503073</td>\n",
       "      <td>0.136708</td>\n",
       "      <td>0.077742</td>\n",
       "    </tr>\n",
       "    <tr>\n",
       "      <th>1</th>\n",
       "      <td>Male</td>\n",
       "      <td>0.496944</td>\n",
       "      <td>0.130083</td>\n",
       "      <td>0.072014</td>\n",
       "    </tr>\n",
       "  </tbody>\n",
       "</table>\n",
       "</div>"
      ],
      "text/plain": [
       "      sex  search_page  payment_page  payment_cfm\n",
       "0  Female     0.503073      0.136708     0.077742\n",
       "1    Male     0.496944      0.130083     0.072014"
      ]
     },
     "execution_count": 71,
     "metadata": {},
     "output_type": "execute_result"
    }
   ],
   "source": [
    "temp_1 = users[(users['homepage'] == 1)].groupby('sex')['search_page'].mean().reset_index()\n",
    "temp_2 = users[(users['search_page'] == 1)].groupby('sex')['payment_page'].mean().reset_index()\n",
    "temp_3 = users[(users['payment_page'] == 1)].groupby('sex')['payment_cfm'].mean().reset_index()\n",
    "sex_summary = temp_1.merge(temp_2, on = 'sex').merge(temp_3, on = 'sex')\n",
    "sex_summary"
   ]
  },
  {
   "cell_type": "markdown",
   "id": "867595f9",
   "metadata": {},
   "source": [
    "##### There is no significant difference between female and male users in conversion rate"
   ]
  },
  {
   "cell_type": "code",
   "execution_count": null,
   "id": "971cd305",
   "metadata": {},
   "outputs": [],
   "source": []
  }
 ],
 "metadata": {
  "kernelspec": {
   "display_name": "Python 3 (ipykernel)",
   "language": "python",
   "name": "python3"
  },
  "language_info": {
   "codemirror_mode": {
    "name": "ipython",
    "version": 3
   },
   "file_extension": ".py",
   "mimetype": "text/x-python",
   "name": "python",
   "nbconvert_exporter": "python",
   "pygments_lexer": "ipython3",
   "version": "3.7.7"
  }
 },
 "nbformat": 4,
 "nbformat_minor": 5
}
