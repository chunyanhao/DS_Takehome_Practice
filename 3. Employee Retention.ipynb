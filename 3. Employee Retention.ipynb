{
 "cells": [
  {
   "cell_type": "code",
   "execution_count": 71,
   "id": "contrary-corps",
   "metadata": {},
   "outputs": [
    {
     "name": "stdout",
     "output_type": "stream",
     "text": [
      "no display found. Using non-interactive Agg backend\n"
     ]
    }
   ],
   "source": [
    "import pandas as pd\n",
    "import numpy as np\n",
    "import datetime as dt\n",
    "\n",
    "import seaborn as sns\n",
    "import matplotlib.pyplot as plt\n",
    "\n",
    "from sklearn.tree import DecisionTreeClassifier\n",
    "from dmba import plotDecisionTree\n",
    "\n",
    "import warnings\n",
    "warnings.filterwarnings(\"ignore\")"
   ]
  },
  {
   "cell_type": "code",
   "execution_count": 2,
   "id": "detailed-indonesia",
   "metadata": {},
   "outputs": [
    {
     "data": {
      "text/plain": [
       "\"/Users/ChunyanHao/Desktop/GitHub/DS_Take_Home/Bella's Code\""
      ]
     },
     "execution_count": 2,
     "metadata": {},
     "output_type": "execute_result"
    }
   ],
   "source": [
    "pwd"
   ]
  },
  {
   "cell_type": "code",
   "execution_count": 3,
   "id": "noble-queens",
   "metadata": {},
   "outputs": [
    {
     "data": {
      "text/html": [
       "<div>\n",
       "<style scoped>\n",
       "    .dataframe tbody tr th:only-of-type {\n",
       "        vertical-align: middle;\n",
       "    }\n",
       "\n",
       "    .dataframe tbody tr th {\n",
       "        vertical-align: top;\n",
       "    }\n",
       "\n",
       "    .dataframe thead th {\n",
       "        text-align: right;\n",
       "    }\n",
       "</style>\n",
       "<table border=\"1\" class=\"dataframe\">\n",
       "  <thead>\n",
       "    <tr style=\"text-align: right;\">\n",
       "      <th></th>\n",
       "      <th>employee_id</th>\n",
       "      <th>company_id</th>\n",
       "      <th>dept</th>\n",
       "      <th>seniority</th>\n",
       "      <th>salary</th>\n",
       "      <th>join_date</th>\n",
       "      <th>quit_date</th>\n",
       "    </tr>\n",
       "  </thead>\n",
       "  <tbody>\n",
       "    <tr>\n",
       "      <th>0</th>\n",
       "      <td>13021.0</td>\n",
       "      <td>7</td>\n",
       "      <td>customer_service</td>\n",
       "      <td>28</td>\n",
       "      <td>89000.0</td>\n",
       "      <td>2014-03-24</td>\n",
       "      <td>2015-10-30</td>\n",
       "    </tr>\n",
       "    <tr>\n",
       "      <th>1</th>\n",
       "      <td>825355.0</td>\n",
       "      <td>7</td>\n",
       "      <td>marketing</td>\n",
       "      <td>20</td>\n",
       "      <td>183000.0</td>\n",
       "      <td>2013-04-29</td>\n",
       "      <td>2014-04-04</td>\n",
       "    </tr>\n",
       "    <tr>\n",
       "      <th>2</th>\n",
       "      <td>927315.0</td>\n",
       "      <td>4</td>\n",
       "      <td>marketing</td>\n",
       "      <td>14</td>\n",
       "      <td>101000.0</td>\n",
       "      <td>2014-10-13</td>\n",
       "      <td>NaN</td>\n",
       "    </tr>\n",
       "    <tr>\n",
       "      <th>3</th>\n",
       "      <td>662910.0</td>\n",
       "      <td>7</td>\n",
       "      <td>customer_service</td>\n",
       "      <td>20</td>\n",
       "      <td>115000.0</td>\n",
       "      <td>2012-05-14</td>\n",
       "      <td>2013-06-07</td>\n",
       "    </tr>\n",
       "    <tr>\n",
       "      <th>4</th>\n",
       "      <td>256971.0</td>\n",
       "      <td>2</td>\n",
       "      <td>data_science</td>\n",
       "      <td>23</td>\n",
       "      <td>276000.0</td>\n",
       "      <td>2011-10-17</td>\n",
       "      <td>2014-08-22</td>\n",
       "    </tr>\n",
       "  </tbody>\n",
       "</table>\n",
       "</div>"
      ],
      "text/plain": [
       "   employee_id  company_id              dept  seniority    salary   join_date  \\\n",
       "0      13021.0           7  customer_service         28   89000.0  2014-03-24   \n",
       "1     825355.0           7         marketing         20  183000.0  2013-04-29   \n",
       "2     927315.0           4         marketing         14  101000.0  2014-10-13   \n",
       "3     662910.0           7  customer_service         20  115000.0  2012-05-14   \n",
       "4     256971.0           2      data_science         23  276000.0  2011-10-17   \n",
       "\n",
       "    quit_date  \n",
       "0  2015-10-30  \n",
       "1  2014-04-04  \n",
       "2         NaN  \n",
       "3  2013-06-07  \n",
       "4  2014-08-22  "
      ]
     },
     "execution_count": 3,
     "metadata": {},
     "output_type": "execute_result"
    }
   ],
   "source": [
    "data = pd.read_csv('/Users/ChunyanHao/Desktop/GitHub/DS_Take_Home/data/employee_retention_data.csv')\n",
    "data.head()"
   ]
  },
  {
   "cell_type": "code",
   "execution_count": 4,
   "id": "false-wisdom",
   "metadata": {},
   "outputs": [
    {
     "name": "stdout",
     "output_type": "stream",
     "text": [
      "<class 'pandas.core.frame.DataFrame'>\n",
      "RangeIndex: 24702 entries, 0 to 24701\n",
      "Data columns (total 7 columns):\n",
      " #   Column       Non-Null Count  Dtype  \n",
      "---  ------       --------------  -----  \n",
      " 0   employee_id  24702 non-null  float64\n",
      " 1   company_id   24702 non-null  int64  \n",
      " 2   dept         24702 non-null  object \n",
      " 3   seniority    24702 non-null  int64  \n",
      " 4   salary       24702 non-null  float64\n",
      " 5   join_date    24702 non-null  object \n",
      " 6   quit_date    13510 non-null  object \n",
      "dtypes: float64(2), int64(2), object(3)\n",
      "memory usage: 1.3+ MB\n"
     ]
    }
   ],
   "source": [
    "data.info()"
   ]
  },
  {
   "cell_type": "code",
   "execution_count": 5,
   "id": "inner-modem",
   "metadata": {},
   "outputs": [],
   "source": [
    "data['join_date'] = pd.to_datetime(data['join_date'])\n",
    "data['quit_date'] = pd.to_datetime(data['quit_date'])"
   ]
  },
  {
   "cell_type": "code",
   "execution_count": null,
   "id": "negative-daisy",
   "metadata": {},
   "outputs": [],
   "source": []
  },
  {
   "cell_type": "code",
   "execution_count": 7,
   "id": "sexual-software",
   "metadata": {},
   "outputs": [
    {
     "data": {
      "text/html": [
       "<div>\n",
       "<style scoped>\n",
       "    .dataframe tbody tr th:only-of-type {\n",
       "        vertical-align: middle;\n",
       "    }\n",
       "\n",
       "    .dataframe tbody tr th {\n",
       "        vertical-align: top;\n",
       "    }\n",
       "\n",
       "    .dataframe thead th {\n",
       "        text-align: right;\n",
       "    }\n",
       "</style>\n",
       "<table border=\"1\" class=\"dataframe\">\n",
       "  <thead>\n",
       "    <tr style=\"text-align: right;\">\n",
       "      <th></th>\n",
       "      <th>employee_id</th>\n",
       "      <th>company_id</th>\n",
       "      <th>seniority</th>\n",
       "      <th>salary</th>\n",
       "    </tr>\n",
       "  </thead>\n",
       "  <tbody>\n",
       "    <tr>\n",
       "      <th>count</th>\n",
       "      <td>24702.000000</td>\n",
       "      <td>24702.000000</td>\n",
       "      <td>24702.000000</td>\n",
       "      <td>24702.000000</td>\n",
       "    </tr>\n",
       "    <tr>\n",
       "      <th>mean</th>\n",
       "      <td>501604.403530</td>\n",
       "      <td>3.426969</td>\n",
       "      <td>14.127803</td>\n",
       "      <td>138183.345478</td>\n",
       "    </tr>\n",
       "    <tr>\n",
       "      <th>std</th>\n",
       "      <td>288909.026101</td>\n",
       "      <td>2.700011</td>\n",
       "      <td>8.089520</td>\n",
       "      <td>76058.184573</td>\n",
       "    </tr>\n",
       "    <tr>\n",
       "      <th>min</th>\n",
       "      <td>36.000000</td>\n",
       "      <td>1.000000</td>\n",
       "      <td>1.000000</td>\n",
       "      <td>17000.000000</td>\n",
       "    </tr>\n",
       "    <tr>\n",
       "      <th>25%</th>\n",
       "      <td>250133.750000</td>\n",
       "      <td>1.000000</td>\n",
       "      <td>7.000000</td>\n",
       "      <td>79000.000000</td>\n",
       "    </tr>\n",
       "    <tr>\n",
       "      <th>50%</th>\n",
       "      <td>500793.000000</td>\n",
       "      <td>2.000000</td>\n",
       "      <td>14.000000</td>\n",
       "      <td>123000.000000</td>\n",
       "    </tr>\n",
       "    <tr>\n",
       "      <th>75%</th>\n",
       "      <td>753137.250000</td>\n",
       "      <td>5.000000</td>\n",
       "      <td>21.000000</td>\n",
       "      <td>187000.000000</td>\n",
       "    </tr>\n",
       "    <tr>\n",
       "      <th>max</th>\n",
       "      <td>999969.000000</td>\n",
       "      <td>12.000000</td>\n",
       "      <td>99.000000</td>\n",
       "      <td>408000.000000</td>\n",
       "    </tr>\n",
       "  </tbody>\n",
       "</table>\n",
       "</div>"
      ],
      "text/plain": [
       "         employee_id    company_id     seniority         salary\n",
       "count   24702.000000  24702.000000  24702.000000   24702.000000\n",
       "mean   501604.403530      3.426969     14.127803  138183.345478\n",
       "std    288909.026101      2.700011      8.089520   76058.184573\n",
       "min        36.000000      1.000000      1.000000   17000.000000\n",
       "25%    250133.750000      1.000000      7.000000   79000.000000\n",
       "50%    500793.000000      2.000000     14.000000  123000.000000\n",
       "75%    753137.250000      5.000000     21.000000  187000.000000\n",
       "max    999969.000000     12.000000     99.000000  408000.000000"
      ]
     },
     "execution_count": 7,
     "metadata": {},
     "output_type": "execute_result"
    }
   ],
   "source": [
    "data.describe()"
   ]
  },
  {
   "cell_type": "code",
   "execution_count": 8,
   "id": "studied-diameter",
   "metadata": {},
   "outputs": [],
   "source": [
    "#### we notice that the seniority level has a maximum value 99, we need to check whether it's outlier"
   ]
  },
  {
   "cell_type": "code",
   "execution_count": 9,
   "id": "according-saskatchewan",
   "metadata": {},
   "outputs": [
    {
     "data": {
      "image/png": "[encoded data removed]",
      "text/plain": [
       "<Figure size 960x240 with 1 Axes>"
      ]
     },
     "metadata": {
      "needs_background": "light"
     },
     "output_type": "display_data"
    }
   ],
   "source": [
    "temp_data = data[['seniority', 'employee_id']].groupby(['seniority']).count().reset_index()\n",
    "temp_data.columns = ['seniority', 'employee_count']\n",
    "plt.figure(figsize = (12, 3), dpi = 80)\n",
    "sns.barplot(data = temp_data, x = 'seniority', y = 'employee_count')\n",
    "\n",
    "plt.show()"
   ]
  },
  {
   "cell_type": "code",
   "execution_count": 10,
   "id": "searching-franklin",
   "metadata": {},
   "outputs": [],
   "source": [
    "data = data[(data['seniority'] < 98)]"
   ]
  },
  {
   "cell_type": "code",
   "execution_count": 59,
   "id": "approved-receptor",
   "metadata": {},
   "outputs": [
    {
     "data": {
      "image/png": "[encoded data removed]",
      "text/plain": [
       "<Figure size 864x288 with 1 Axes>"
      ]
     },
     "metadata": {
      "needs_background": "light"
     },
     "output_type": "display_data"
    }
   ],
   "source": [
    "temp_data = data[['company_id', 'employee_id']].groupby(['company_id']).count().reset_index()\n",
    "plt.figure(figsize = (12, 4))\n",
    "sns.barplot(data = temp_data, x = 'company_id', y = 'employee_id')\n",
    "plt.show()"
   ]
  },
  {
   "cell_type": "markdown",
   "id": "golden-surface",
   "metadata": {},
   "source": [
    "###  Part 1 summerize each company's daily employees count"
   ]
  },
  {
   "cell_type": "code",
   "execution_count": 14,
   "id": "strong-pencil",
   "metadata": {},
   "outputs": [
    {
     "data": {
      "text/html": [
       "<div>\n",
       "<style scoped>\n",
       "    .dataframe tbody tr th:only-of-type {\n",
       "        vertical-align: middle;\n",
       "    }\n",
       "\n",
       "    .dataframe tbody tr th {\n",
       "        vertical-align: top;\n",
       "    }\n",
       "\n",
       "    .dataframe thead th {\n",
       "        text-align: right;\n",
       "    }\n",
       "</style>\n",
       "<table border=\"1\" class=\"dataframe\">\n",
       "  <thead>\n",
       "    <tr style=\"text-align: right;\">\n",
       "      <th></th>\n",
       "      <th>date</th>\n",
       "      <th>company_id</th>\n",
       "    </tr>\n",
       "  </thead>\n",
       "  <tbody>\n",
       "    <tr>\n",
       "      <th>0</th>\n",
       "      <td>2011-01-24</td>\n",
       "      <td>1</td>\n",
       "    </tr>\n",
       "    <tr>\n",
       "      <th>1</th>\n",
       "      <td>2011-01-24</td>\n",
       "      <td>2</td>\n",
       "    </tr>\n",
       "    <tr>\n",
       "      <th>2</th>\n",
       "      <td>2011-01-24</td>\n",
       "      <td>3</td>\n",
       "    </tr>\n",
       "    <tr>\n",
       "      <th>3</th>\n",
       "      <td>2011-01-24</td>\n",
       "      <td>4</td>\n",
       "    </tr>\n",
       "    <tr>\n",
       "      <th>4</th>\n",
       "      <td>2011-01-24</td>\n",
       "      <td>5</td>\n",
       "    </tr>\n",
       "  </tbody>\n",
       "</table>\n",
       "</div>"
      ],
      "text/plain": [
       "        date  company_id\n",
       "0 2011-01-24           1\n",
       "1 2011-01-24           2\n",
       "2 2011-01-24           3\n",
       "3 2011-01-24           4\n",
       "4 2011-01-24           5"
      ]
     },
     "execution_count": 14,
     "metadata": {},
     "output_type": "execute_result"
    }
   ],
   "source": [
    "date_df = pd.DataFrame(pd.date_range(start='2011-01-24', end='2015-12-13'), columns = ['date'])\n",
    "company_df = pd.DataFrame(data['company_id'].unique(), columns = ['company_id']).sort_values(by = ['company_id'])\n",
    "part1_data = pd.merge(left = date_df, right = company_df, how = 'cross')\n",
    "part1_data.head()"
   ]
  },
  {
   "cell_type": "code",
   "execution_count": 15,
   "id": "chronic-productivity",
   "metadata": {},
   "outputs": [],
   "source": [
    "temp_data_join = data[['employee_id', 'company_id', 'join_date']].groupby(['join_date', 'company_id']).count().reset_index()\n",
    "temp_data_quit = data[['employee_id', 'company_id', 'quit_date']].groupby(['quit_date', 'company_id']).count().reset_index()"
   ]
  },
  {
   "cell_type": "code",
   "execution_count": 16,
   "id": "needed-treasurer",
   "metadata": {},
   "outputs": [],
   "source": [
    "part1_data = pd.merge(left = part1_data, \n",
    "                      right = temp_data_join, \n",
    "                      how = 'left', \n",
    "                      left_on = ['date', 'company_id'],\n",
    "                      right_on = ['join_date', 'company_id'])\n",
    "part1_data = pd.merge(left = part1_data, \n",
    "                      right = temp_data_quit, \n",
    "                      how = 'left', \n",
    "                      left_on = ['date', 'company_id'],\n",
    "                      right_on = ['quit_date', 'company_id'])"
   ]
  },
  {
   "cell_type": "code",
   "execution_count": 17,
   "id": "isolated-vegetarian",
   "metadata": {},
   "outputs": [],
   "source": [
    "part1_data.columns = ['date', 'company_id', 'join_date', 'join_employee_count',\n",
    "                      'quit_date', 'quit_employee_count']"
   ]
  },
  {
   "cell_type": "code",
   "execution_count": 18,
   "id": "confident-participant",
   "metadata": {},
   "outputs": [],
   "source": [
    "part1_data['quit_employee_count'] = part1_data['quit_employee_count'].replace(np.nan, 0)\n",
    "part1_data['join_employee_count'] = part1_data['join_employee_count'].replace(np.nan, 0)"
   ]
  },
  {
   "cell_type": "code",
   "execution_count": 19,
   "id": "anticipated-straight",
   "metadata": {},
   "outputs": [],
   "source": [
    "part1_data['net_add'] = part1_data['join_employee_count'] - part1_data['quit_employee_count']"
   ]
  },
  {
   "cell_type": "code",
   "execution_count": 20,
   "id": "sublime-sponsorship",
   "metadata": {},
   "outputs": [],
   "source": [
    "part1_data['employee_headcount'] = part1_data.groupby('company_id')['net_add'].transform(pd.Series.cumsum)"
   ]
  },
  {
   "cell_type": "code",
   "execution_count": 37,
   "id": "ambient-metro",
   "metadata": {},
   "outputs": [
    {
     "data": {
      "text/html": [
       "<div>\n",
       "<style scoped>\n",
       "    .dataframe tbody tr th:only-of-type {\n",
       "        vertical-align: middle;\n",
       "    }\n",
       "\n",
       "    .dataframe tbody tr th {\n",
       "        vertical-align: top;\n",
       "    }\n",
       "\n",
       "    .dataframe thead th {\n",
       "        text-align: right;\n",
       "    }\n",
       "</style>\n",
       "<table border=\"1\" class=\"dataframe\">\n",
       "  <thead>\n",
       "    <tr style=\"text-align: right;\">\n",
       "      <th></th>\n",
       "      <th>date</th>\n",
       "      <th>company_id</th>\n",
       "      <th>employee_headcount</th>\n",
       "    </tr>\n",
       "  </thead>\n",
       "  <tbody>\n",
       "    <tr>\n",
       "      <th>0</th>\n",
       "      <td>2011-01-24</td>\n",
       "      <td>1</td>\n",
       "      <td>25.0</td>\n",
       "    </tr>\n",
       "    <tr>\n",
       "      <th>1</th>\n",
       "      <td>2011-01-24</td>\n",
       "      <td>2</td>\n",
       "      <td>17.0</td>\n",
       "    </tr>\n",
       "    <tr>\n",
       "      <th>2</th>\n",
       "      <td>2011-01-24</td>\n",
       "      <td>3</td>\n",
       "      <td>9.0</td>\n",
       "    </tr>\n",
       "  </tbody>\n",
       "</table>\n",
       "</div>"
      ],
      "text/plain": [
       "        date  company_id  employee_headcount\n",
       "0 2011-01-24           1                25.0\n",
       "1 2011-01-24           2                17.0\n",
       "2 2011-01-24           3                 9.0"
      ]
     },
     "execution_count": 37,
     "metadata": {},
     "output_type": "execute_result"
    }
   ],
   "source": [
    "part1_data_result = part1_data[['date', 'company_id', 'employee_headcount']]\n",
    "part1_data_result.head(3)"
   ]
  },
  {
   "cell_type": "markdown",
   "id": "exempt-share",
   "metadata": {},
   "source": [
    "### Part 2 explore the main factors that drive employee churn"
   ]
  },
  {
   "cell_type": "markdown",
   "id": "gross-breathing",
   "metadata": {},
   "source": [
    "##### 1) quit VS employee days"
   ]
  },
  {
   "cell_type": "code",
   "execution_count": 31,
   "id": "numerical-hartford",
   "metadata": {},
   "outputs": [],
   "source": [
    "data['employe_days'] = (data['quit_date'] - data['join_date']).dt.days"
   ]
  },
  {
   "cell_type": "code",
   "execution_count": 32,
   "id": "tribal-integral",
   "metadata": {},
   "outputs": [],
   "source": [
    "data['employe_year'] = data['employe_days']/365"
   ]
  },
  {
   "cell_type": "code",
   "execution_count": 36,
   "id": "assured-unemployment",
   "metadata": {},
   "outputs": [
    {
     "data": {
      "image/png": "[encoded data removed]",
      "text/plain": [
       "<Figure size 864x288 with 1 Axes>"
      ]
     },
     "metadata": {
      "needs_background": "light"
     },
     "output_type": "display_data"
    }
   ],
   "source": [
    "plt.figure(figsize = (12, 4))\n",
    "sns.histplot(data = data, x = 'employe_year')\n",
    "plt.show()"
   ]
  },
  {
   "cell_type": "markdown",
   "id": "thermal-giant",
   "metadata": {},
   "source": [
    "##### 2) quit vs quit_month"
   ]
  },
  {
   "cell_type": "code",
   "execution_count": 66,
   "id": "endangered-credits",
   "metadata": {},
   "outputs": [
    {
     "data": {
      "image/png": "[encoded data removed]",
      "text/plain": [
       "<Figure size 864x288 with 1 Axes>"
      ]
     },
     "metadata": {
      "needs_background": "light"
     },
     "output_type": "display_data"
    }
   ],
   "source": [
    "temp_data = data.groupby(data['quit_date'].dt.month)['employee_id'].count().reset_index()\n",
    "plt.figure(figsize = (12, 4))\n",
    "sns.barplot(data = temp_data, x = 'quit_date', y = 'employee_id')\n",
    "plt.show()"
   ]
  },
  {
   "cell_type": "markdown",
   "id": "instructional-budapest",
   "metadata": {},
   "source": [
    "##### 3) quit VS quit_week"
   ]
  },
  {
   "cell_type": "code",
   "execution_count": 69,
   "id": "aerial-wages",
   "metadata": {},
   "outputs": [
    {
     "data": {
      "image/png": "[encoded data removed]",
      "text/plain": [
       "<Figure size 1080x288 with 1 Axes>"
      ]
     },
     "metadata": {
      "needs_background": "light"
     },
     "output_type": "display_data"
    }
   ],
   "source": [
    "temp_data = data.groupby(data['quit_date'].dt.week)['employee_id'].count().reset_index()\n",
    "plt.figure(figsize = (15, 4))\n",
    "sns.barplot(data = temp_data, x = 'quit_date', y = 'employee_id')\n",
    "plt.show()"
   ]
  },
  {
   "cell_type": "markdown",
   "id": "rolled-logistics",
   "metadata": {},
   "source": [
    "##### 4) quit VS seniority"
   ]
  },
  {
   "cell_type": "code",
   "execution_count": 46,
   "id": "artistic-engineer",
   "metadata": {},
   "outputs": [],
   "source": [
    "data['employe_year_before_quit']  = round(data['employe_year'],0) + data['seniority']"
   ]
  },
  {
   "cell_type": "code",
   "execution_count": 51,
   "id": "outer-promise",
   "metadata": {},
   "outputs": [
    {
     "data": {
      "image/png": "[encoded data removed]",
      "text/plain": [
       "<Figure size 864x288 with 1 Axes>"
      ]
     },
     "metadata": {
      "needs_background": "light"
     },
     "output_type": "display_data"
    }
   ],
   "source": [
    "temp_data = data.groupby('seniority')['quit_date'].count().reset_index()\n",
    "temp_data_before_quit = data.groupby('employe_year_before_quit')['employee_id'].count().reset_index()\n",
    "\n",
    "plt.figure(figsize = (12, 4))\n",
    "sns.barplot(data = temp_data, x = 'seniority', y = 'quit_date')\n",
    "sns.lineplot(data = temp_data_before_quit, x = 'employe_year_before_quit', y = 'employee_id' ) \n",
    "plt.show()"
   ]
  },
  {
   "cell_type": "markdown",
   "id": "completed-revolution",
   "metadata": {},
   "source": [
    "##### we explore the relationship between seniority or total employee year before quit with the quit numbers. We found that working experiences less than 15 years are more likely to quit."
   ]
  },
  {
   "cell_type": "markdown",
   "id": "incorrect-safety",
   "metadata": {},
   "source": [
    "#### 5) quit vs salary"
   ]
  },
  {
   "cell_type": "code",
   "execution_count": 55,
   "id": "opened-hughes",
   "metadata": {},
   "outputs": [
    {
     "data": {
      "image/png": "[encoded data removed]",
      "text/plain": [
       "<Figure size 864x288 with 1 Axes>"
      ]
     },
     "metadata": {
      "needs_background": "light"
     },
     "output_type": "display_data"
    }
   ],
   "source": [
    "temp_data_quit = data.groupby('salary')['quit_date'].count().reset_index()\n",
    "temp_data_employee = data[['salary', 'employee_id']].groupby(['salary']).count().reset_index()\n",
    "\n",
    "plt.figure(figsize = (12, 4))\n",
    "\n",
    "sns.lineplot(data = temp_data_employee, x = 'salary', y = 'employee_id')\n",
    "sns.lineplot(data = temp_data_quit, x = 'salary', y = 'quit_date')\n",
    "plt.show()"
   ]
  },
  {
   "cell_type": "markdown",
   "id": "grateful-killing",
   "metadata": {},
   "source": [
    "###### we explore the relationship of salary any quit, we notice that the salary distribution in all employees and in quit employees are similar, which means most of people concentrate in the range of [60000, 125000] People who earns more or less than this range are less likely to quit."
   ]
  },
  {
   "cell_type": "markdown",
   "id": "understanding-setup",
   "metadata": {},
   "source": [
    "### Part 3 verify the explore conclusion with a decision tree model"
   ]
  },
  {
   "cell_type": "code",
   "execution_count": 72,
   "id": "diverse-fabric",
   "metadata": {},
   "outputs": [
    {
     "data": {
      "text/html": [
       "<div>\n",
       "<style scoped>\n",
       "    .dataframe tbody tr th:only-of-type {\n",
       "        vertical-align: middle;\n",
       "    }\n",
       "\n",
       "    .dataframe tbody tr th {\n",
       "        vertical-align: top;\n",
       "    }\n",
       "\n",
       "    .dataframe thead th {\n",
       "        text-align: right;\n",
       "    }\n",
       "</style>\n",
       "<table border=\"1\" class=\"dataframe\">\n",
       "  <thead>\n",
       "    <tr style=\"text-align: right;\">\n",
       "      <th></th>\n",
       "      <th>employee_id</th>\n",
       "      <th>company_id</th>\n",
       "      <th>dept</th>\n",
       "      <th>seniority</th>\n",
       "      <th>salary</th>\n",
       "      <th>join_date</th>\n",
       "      <th>quit_date</th>\n",
       "      <th>employe_days</th>\n",
       "      <th>employe_year</th>\n",
       "      <th>employe_year_before_quit</th>\n",
       "    </tr>\n",
       "  </thead>\n",
       "  <tbody>\n",
       "    <tr>\n",
       "      <th>0</th>\n",
       "      <td>13021.0</td>\n",
       "      <td>7</td>\n",
       "      <td>customer_service</td>\n",
       "      <td>28</td>\n",
       "      <td>89000.0</td>\n",
       "      <td>2014-03-24</td>\n",
       "      <td>2015-10-30</td>\n",
       "      <td>585.0</td>\n",
       "      <td>1.602740</td>\n",
       "      <td>30.0</td>\n",
       "    </tr>\n",
       "    <tr>\n",
       "      <th>1</th>\n",
       "      <td>825355.0</td>\n",
       "      <td>7</td>\n",
       "      <td>marketing</td>\n",
       "      <td>20</td>\n",
       "      <td>183000.0</td>\n",
       "      <td>2013-04-29</td>\n",
       "      <td>2014-04-04</td>\n",
       "      <td>340.0</td>\n",
       "      <td>0.931507</td>\n",
       "      <td>21.0</td>\n",
       "    </tr>\n",
       "    <tr>\n",
       "      <th>2</th>\n",
       "      <td>927315.0</td>\n",
       "      <td>4</td>\n",
       "      <td>marketing</td>\n",
       "      <td>14</td>\n",
       "      <td>101000.0</td>\n",
       "      <td>2014-10-13</td>\n",
       "      <td>NaT</td>\n",
       "      <td>NaN</td>\n",
       "      <td>NaN</td>\n",
       "      <td>NaN</td>\n",
       "    </tr>\n",
       "  </tbody>\n",
       "</table>\n",
       "</div>"
      ],
      "text/plain": [
       "   employee_id  company_id              dept  seniority    salary  join_date  \\\n",
       "0      13021.0           7  customer_service         28   89000.0 2014-03-24   \n",
       "1     825355.0           7         marketing         20  183000.0 2013-04-29   \n",
       "2     927315.0           4         marketing         14  101000.0 2014-10-13   \n",
       "\n",
       "   quit_date  employe_days  employe_year  employe_year_before_quit  \n",
       "0 2015-10-30         585.0      1.602740                      30.0  \n",
       "1 2014-04-04         340.0      0.931507                      21.0  \n",
       "2        NaT           NaN           NaN                       NaN  "
      ]
     },
     "execution_count": 72,
     "metadata": {},
     "output_type": "execute_result"
    }
   ],
   "source": [
    "data.head(3)"
   ]
  },
  {
   "cell_type": "code",
   "execution_count": 73,
   "id": "ecological-force",
   "metadata": {},
   "outputs": [
    {
     "data": {
      "text/plain": [
       "Index(['employee_id', 'company_id', 'dept', 'seniority', 'salary', 'join_date',\n",
       "       'quit_date', 'employe_days', 'employe_year',\n",
       "       'employe_year_before_quit'],\n",
       "      dtype='object')"
      ]
     },
     "execution_count": 73,
     "metadata": {},
     "output_type": "execute_result"
    }
   ],
   "source": [
    "data.columns"
   ]
  },
  {
   "cell_type": "code",
   "execution_count": 77,
   "id": "postal-walnut",
   "metadata": {},
   "outputs": [
    {
     "data": {
      "text/plain": [
       "Index(['seniority', 'salary', 'quit_date', 'employe_year', 'company_id_2',\n",
       "       'company_id_3', 'company_id_4', 'company_id_5', 'company_id_6',\n",
       "       'company_id_7', 'company_id_8', 'company_id_9', 'company_id_10',\n",
       "       'company_id_11', 'company_id_12', 'dept_data_science', 'dept_design',\n",
       "       'dept_engineer', 'dept_marketing', 'dept_sales', 'quit_True'],\n",
       "      dtype='object')"
      ]
     },
     "execution_count": 77,
     "metadata": {},
     "output_type": "execute_result"
    }
   ],
   "source": [
    "reg_data = data[['company_id', 'dept', 'seniority', 'salary', 'quit_date', 'employe_year']]\n",
    "reg_data['quit'] = reg_data['quit_date'].isna()\n",
    "reg_data = pd.get_dummies(reg_data, columns = ['company_id', 'dept', 'quit'], drop_first = True)\n",
    "reg_data.columns"
   ]
  },
  {
   "cell_type": "code",
   "execution_count": 82,
   "id": "australian-paintball",
   "metadata": {},
   "outputs": [
    {
     "data": {
      "text/plain": [
       "DecisionTreeClassifier(max_depth=8, random_state=1)"
      ]
     },
     "execution_count": 82,
     "metadata": {},
     "output_type": "execute_result"
    }
   ],
   "source": [
    "X_train = reg_data[['seniority', 'salary', 'company_id_2',\n",
    "       'company_id_3', 'company_id_4', 'company_id_5', 'company_id_6',\n",
    "       'company_id_7', 'company_id_8', 'company_id_9', 'company_id_10',\n",
    "       'company_id_11', 'company_id_12', 'dept_data_science', 'dept_design',\n",
    "       'dept_engineer', 'dept_marketing', 'dept_sales']]\n",
    "y_train = reg_data['quit_True']\n",
    "\n",
    "fullClassTree = DecisionTreeClassifier(random_state=1, max_depth = 8)\n",
    "fullClassTree.fit(X_train, y_train)"
   ]
  },
  {
   "cell_type": "code",
   "execution_count": 84,
   "id": "major-sweet",
   "metadata": {},
   "outputs": [
    {
     "name": "stdout",
     "output_type": "stream",
     "text": [
      "salary 0.5887034865070834\n",
      "seniority 0.17742906296676525\n",
      "company_id_2 0.036930636237872475\n",
      "company_id_4 0.031057345818112172\n",
      "company_id_5 0.022992383520847228\n",
      "company_id_10 0.021257942430191298\n",
      "company_id_6 0.018985773283936427\n",
      "dept_data_science 0.017880903009807887\n",
      "company_id_7 0.01777388846660181\n",
      "dept_engineer 0.016363583010795994\n",
      "company_id_3 0.015871197124321192\n",
      "company_id_9 0.009668545949825979\n",
      "company_id_8 0.0077319386325751405\n",
      "dept_marketing 0.00556546717982912\n",
      "dept_design 0.003986878100785995\n",
      "company_id_12 0.002814563983278477\n",
      "company_id_11 0.0027872132538727663\n",
      "dept_sales 0.002199190523497525\n"
     ]
    }
   ],
   "source": [
    "for importance, name in sorted(zip(fullClassTree.feature_importances_, X_train.columns),reverse=True):\n",
    "    print (name, importance)"
   ]
  },
  {
   "cell_type": "code",
   "execution_count": null,
   "id": "micro-spirituality",
   "metadata": {},
   "outputs": [],
   "source": []
  }
 ],
 "metadata": {
  "kernelspec": {
   "display_name": "Python 3 (ipykernel)",
   "language": "python",
   "name": "python3"
  },
  "language_info": {
   "codemirror_mode": {
    "name": "ipython",
    "version": 3
   },
   "file_extension": ".py",
   "mimetype": "text/x-python",
   "name": "python",
   "nbconvert_exporter": "python",
   "pygments_lexer": "ipython3",
   "version": "3.7.7"
  }
 },
 "nbformat": 4,
 "nbformat_minor": 5
}
