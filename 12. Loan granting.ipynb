{
 "cells": [
  {
   "cell_type": "code",
   "execution_count": 1,
   "id": "e6e8e27d",
   "metadata": {},
   "outputs": [],
   "source": [
    "import pandas as pd\n",
    "import numpy as np\n",
    "import matplotlib.pyplot as plt\n",
    "import seaborn as sns\n",
    "\n",
    "%matplotlib inline\n",
    "\n",
    "import warnings\n",
    "warnings.filterwarnings(\"ignore\")"
   ]
  },
  {
   "cell_type": "markdown",
   "id": "917d2c24",
   "metadata": {},
   "source": [
    "## 1. Load Data"
   ]
  },
  {
   "cell_type": "code",
   "execution_count": 2,
   "id": "b6f677b6",
   "metadata": {},
   "outputs": [],
   "source": [
    "loan = pd.read_csv('/Users/ChunyanHao/desktop/github/ds_take_home/data/loan/loan_table.csv')\n",
    "borrower = pd.read_csv('/Users/ChunyanHao/desktop/github/ds_take_home/data/loan/borrower_table.csv')"
   ]
  },
  {
   "cell_type": "code",
   "execution_count": 3,
   "id": "5d1f4794",
   "metadata": {},
   "outputs": [
    {
     "data": {
      "text/html": [
       "<div>\n",
       "<style scoped>\n",
       "    .dataframe tbody tr th:only-of-type {\n",
       "        vertical-align: middle;\n",
       "    }\n",
       "\n",
       "    .dataframe tbody tr th {\n",
       "        vertical-align: top;\n",
       "    }\n",
       "\n",
       "    .dataframe thead th {\n",
       "        text-align: right;\n",
       "    }\n",
       "</style>\n",
       "<table border=\"1\" class=\"dataframe\">\n",
       "  <thead>\n",
       "    <tr style=\"text-align: right;\">\n",
       "      <th></th>\n",
       "      <th>loan_id</th>\n",
       "      <th>loan_purpose</th>\n",
       "      <th>date</th>\n",
       "      <th>loan_granted</th>\n",
       "      <th>loan_repaid</th>\n",
       "    </tr>\n",
       "  </thead>\n",
       "  <tbody>\n",
       "    <tr>\n",
       "      <th>0</th>\n",
       "      <td>19454</td>\n",
       "      <td>investment</td>\n",
       "      <td>2012-03-15</td>\n",
       "      <td>0</td>\n",
       "      <td>NaN</td>\n",
       "    </tr>\n",
       "    <tr>\n",
       "      <th>1</th>\n",
       "      <td>496811</td>\n",
       "      <td>investment</td>\n",
       "      <td>2012-01-17</td>\n",
       "      <td>0</td>\n",
       "      <td>NaN</td>\n",
       "    </tr>\n",
       "    <tr>\n",
       "      <th>2</th>\n",
       "      <td>929493</td>\n",
       "      <td>other</td>\n",
       "      <td>2012-02-09</td>\n",
       "      <td>0</td>\n",
       "      <td>NaN</td>\n",
       "    </tr>\n",
       "  </tbody>\n",
       "</table>\n",
       "</div>"
      ],
      "text/plain": [
       "   loan_id loan_purpose        date  loan_granted  loan_repaid\n",
       "0    19454   investment  2012-03-15             0          NaN\n",
       "1   496811   investment  2012-01-17             0          NaN\n",
       "2   929493        other  2012-02-09             0          NaN"
      ]
     },
     "execution_count": 3,
     "metadata": {},
     "output_type": "execute_result"
    }
   ],
   "source": [
    "loan.head(3)"
   ]
  },
  {
   "cell_type": "code",
   "execution_count": 4,
   "id": "576aaab1",
   "metadata": {},
   "outputs": [],
   "source": [
    "loan.rename(columns={'loan_purpose':'purpose',\n",
    "                     'loan_granted':'granted',\n",
    "                     'loan_repaid':'repaid'},inplace=True)"
   ]
  },
  {
   "cell_type": "code",
   "execution_count": 5,
   "id": "794f339f",
   "metadata": {},
   "outputs": [
    {
     "name": "stdout",
     "output_type": "stream",
     "text": [
      "<class 'pandas.core.frame.DataFrame'>\n",
      "RangeIndex: 101100 entries, 0 to 101099\n",
      "Data columns (total 5 columns):\n",
      " #   Column   Non-Null Count   Dtype  \n",
      "---  ------   --------------   -----  \n",
      " 0   loan_id  101100 non-null  int64  \n",
      " 1   purpose  101100 non-null  object \n",
      " 2   date     101100 non-null  object \n",
      " 3   granted  101100 non-null  int64  \n",
      " 4   repaid   47654 non-null   float64\n",
      "dtypes: float64(1), int64(2), object(2)\n",
      "memory usage: 3.9+ MB\n"
     ]
    }
   ],
   "source": [
    "loan.info()"
   ]
  },
  {
   "cell_type": "code",
   "execution_count": 6,
   "id": "a75dc82a",
   "metadata": {},
   "outputs": [],
   "source": [
    "loan['date'] = pd.to_datetime(loan['date'])"
   ]
  },
  {
   "cell_type": "code",
   "execution_count": 7,
   "id": "3467749e",
   "metadata": {},
   "outputs": [
    {
     "name": "stdout",
     "output_type": "stream",
     "text": [
      "loan_id              101100\t [ 19454 496811 929493 580653 172419]\n",
      "purpose                  5\t ['investment' 'other' 'business' 'emergency_funds' 'home']\n",
      "date                   260\t ['2012-03-15T00:00:00.000000000' '2012-01-17T00:00:00.000000000'\n",
      " '2012-02-09T00:00:00.000000000' '2012-06-27T00:00:00.000000000'\n",
      " '2012-05-21T00:00:00.000000000']\n",
      "granted                  2\t [0 1]\n",
      "repaid                   3\t [nan  1.  0.]\n"
     ]
    }
   ],
   "source": [
    "for column in loan.columns:\n",
    "    uniques = loan[column].unique()\n",
    "    print('{0:20s} {1:5d}\\t'.format(column, len(uniques)), uniques[:5])"
   ]
  },
  {
   "cell_type": "code",
   "execution_count": 8,
   "id": "9a3d1781",
   "metadata": {},
   "outputs": [
    {
     "data": {
      "text/html": [
       "<div>\n",
       "<style scoped>\n",
       "    .dataframe tbody tr th:only-of-type {\n",
       "        vertical-align: middle;\n",
       "    }\n",
       "\n",
       "    .dataframe tbody tr th {\n",
       "        vertical-align: top;\n",
       "    }\n",
       "\n",
       "    .dataframe thead th {\n",
       "        text-align: right;\n",
       "    }\n",
       "</style>\n",
       "<table border=\"1\" class=\"dataframe\">\n",
       "  <thead>\n",
       "    <tr style=\"text-align: right;\">\n",
       "      <th></th>\n",
       "      <th>loan_id</th>\n",
       "      <th>is_first_loan</th>\n",
       "      <th>fully_repaid_previous_loans</th>\n",
       "      <th>currently_repaying_other_loans</th>\n",
       "      <th>total_credit_card_limit</th>\n",
       "      <th>avg_percentage_credit_card_limit_used_last_year</th>\n",
       "      <th>saving_amount</th>\n",
       "      <th>checking_amount</th>\n",
       "      <th>is_employed</th>\n",
       "      <th>yearly_salary</th>\n",
       "      <th>age</th>\n",
       "      <th>dependent_number</th>\n",
       "    </tr>\n",
       "  </thead>\n",
       "  <tbody>\n",
       "    <tr>\n",
       "      <th>0</th>\n",
       "      <td>289774</td>\n",
       "      <td>1</td>\n",
       "      <td>NaN</td>\n",
       "      <td>NaN</td>\n",
       "      <td>8000</td>\n",
       "      <td>0.49</td>\n",
       "      <td>3285</td>\n",
       "      <td>1073</td>\n",
       "      <td>0</td>\n",
       "      <td>0</td>\n",
       "      <td>47</td>\n",
       "      <td>3</td>\n",
       "    </tr>\n",
       "    <tr>\n",
       "      <th>1</th>\n",
       "      <td>482590</td>\n",
       "      <td>0</td>\n",
       "      <td>1.0</td>\n",
       "      <td>0.0</td>\n",
       "      <td>4500</td>\n",
       "      <td>1.03</td>\n",
       "      <td>636</td>\n",
       "      <td>5299</td>\n",
       "      <td>1</td>\n",
       "      <td>13500</td>\n",
       "      <td>33</td>\n",
       "      <td>1</td>\n",
       "    </tr>\n",
       "    <tr>\n",
       "      <th>2</th>\n",
       "      <td>135565</td>\n",
       "      <td>1</td>\n",
       "      <td>NaN</td>\n",
       "      <td>NaN</td>\n",
       "      <td>6900</td>\n",
       "      <td>0.82</td>\n",
       "      <td>2085</td>\n",
       "      <td>3422</td>\n",
       "      <td>1</td>\n",
       "      <td>24500</td>\n",
       "      <td>38</td>\n",
       "      <td>8</td>\n",
       "    </tr>\n",
       "  </tbody>\n",
       "</table>\n",
       "</div>"
      ],
      "text/plain": [
       "   loan_id  is_first_loan  fully_repaid_previous_loans  \\\n",
       "0   289774              1                          NaN   \n",
       "1   482590              0                          1.0   \n",
       "2   135565              1                          NaN   \n",
       "\n",
       "   currently_repaying_other_loans  total_credit_card_limit  \\\n",
       "0                             NaN                     8000   \n",
       "1                             0.0                     4500   \n",
       "2                             NaN                     6900   \n",
       "\n",
       "   avg_percentage_credit_card_limit_used_last_year  saving_amount  \\\n",
       "0                                             0.49           3285   \n",
       "1                                             1.03            636   \n",
       "2                                             0.82           2085   \n",
       "\n",
       "   checking_amount  is_employed  yearly_salary  age  dependent_number  \n",
       "0             1073            0              0   47                 3  \n",
       "1             5299            1          13500   33                 1  \n",
       "2             3422            1          24500   38                 8  "
      ]
     },
     "execution_count": 8,
     "metadata": {},
     "output_type": "execute_result"
    }
   ],
   "source": [
    "borrower.head(3)"
   ]
  },
  {
   "cell_type": "code",
   "execution_count": 9,
   "id": "603aa459",
   "metadata": {},
   "outputs": [],
   "source": [
    "borrower.rename(columns={'is_first_loan':'is_first',\n",
    "                         'fully_repaid_previous_loans':'repay_prev',\n",
    "                         'currently_repaying_other_loans':'paying_others',\n",
    "                         'total_credit_card_limit':'credit_limit',\n",
    "                         'avg_percentage_credit_card_limit_used_last_year':'credit_used',\n",
    "                         'saving_amount':'saving',\n",
    "                         'checking_amount':'checking',\n",
    "                         'yearly_salary':'salary',\n",
    "                         'dependent_number':'n_depends'},inplace=True)"
   ]
  },
  {
   "cell_type": "code",
   "execution_count": 10,
   "id": "707ddf65",
   "metadata": {},
   "outputs": [
    {
     "name": "stdout",
     "output_type": "stream",
     "text": [
      "<class 'pandas.core.frame.DataFrame'>\n",
      "RangeIndex: 101100 entries, 0 to 101099\n",
      "Data columns (total 12 columns):\n",
      " #   Column         Non-Null Count   Dtype  \n",
      "---  ------         --------------   -----  \n",
      " 0   loan_id        101100 non-null  int64  \n",
      " 1   is_first       101100 non-null  int64  \n",
      " 2   repay_prev     46153 non-null   float64\n",
      " 3   paying_others  46153 non-null   float64\n",
      " 4   credit_limit   101100 non-null  int64  \n",
      " 5   credit_used    94128 non-null   float64\n",
      " 6   saving         101100 non-null  int64  \n",
      " 7   checking       101100 non-null  int64  \n",
      " 8   is_employed    101100 non-null  int64  \n",
      " 9   salary         101100 non-null  int64  \n",
      " 10  age            101100 non-null  int64  \n",
      " 11  n_depends      101100 non-null  int64  \n",
      "dtypes: float64(3), int64(9)\n",
      "memory usage: 9.3 MB\n"
     ]
    }
   ],
   "source": [
    "borrower.info()"
   ]
  },
  {
   "cell_type": "code",
   "execution_count": 11,
   "id": "d5a22498",
   "metadata": {
    "scrolled": true
   },
   "outputs": [
    {
     "name": "stdout",
     "output_type": "stream",
     "text": [
      "loan_id              101100\t [289774 482590 135565 207797 828078]\n",
      "is_first                 2\t [1 0]\n",
      "repay_prev               3\t [nan  1.  0.]\n",
      "paying_others            3\t [nan  0.  1.]\n",
      "credit_limit           125\t [8000 4500 6900 1200 6100]\n",
      "credit_used            111\t [0.49 1.03 0.82 0.8  0.53]\n",
      "saving                6845\t [3285  636 2085  358 2138]\n",
      "checking              9653\t [1073 5299 3422 3388 4282]\n",
      "is_employed              2\t [0 1]\n",
      "salary                 834\t [    0 13500 24500 18100 29500]\n",
      "age                     62\t [47 33 38 24 36]\n",
      "n_depends                9\t [3 1 8 2 7]\n"
     ]
    }
   ],
   "source": [
    "for column in borrower.columns:\n",
    "    uniques = borrower[column].unique()\n",
    "    print('{0:20s} {1:5d}\\t'.format(column, len(uniques)), uniques[:5])"
   ]
  },
  {
   "cell_type": "code",
   "execution_count": 12,
   "id": "0a4ff3bc",
   "metadata": {},
   "outputs": [
    {
     "data": {
      "text/html": [
       "<div>\n",
       "<style scoped>\n",
       "    .dataframe tbody tr th:only-of-type {\n",
       "        vertical-align: middle;\n",
       "    }\n",
       "\n",
       "    .dataframe tbody tr th {\n",
       "        vertical-align: top;\n",
       "    }\n",
       "\n",
       "    .dataframe thead th {\n",
       "        text-align: right;\n",
       "    }\n",
       "</style>\n",
       "<table border=\"1\" class=\"dataframe\">\n",
       "  <thead>\n",
       "    <tr style=\"text-align: right;\">\n",
       "      <th></th>\n",
       "      <th>credit_limit</th>\n",
       "      <th>credit_used</th>\n",
       "      <th>saving</th>\n",
       "      <th>checking</th>\n",
       "      <th>salary</th>\n",
       "      <th>age</th>\n",
       "      <th>n_depends</th>\n",
       "    </tr>\n",
       "  </thead>\n",
       "  <tbody>\n",
       "    <tr>\n",
       "      <th>count</th>\n",
       "      <td>101100.000000</td>\n",
       "      <td>94128.000000</td>\n",
       "      <td>101100.000000</td>\n",
       "      <td>101100.000000</td>\n",
       "      <td>101100.000000</td>\n",
       "      <td>101100.000000</td>\n",
       "      <td>101100.000000</td>\n",
       "    </tr>\n",
       "    <tr>\n",
       "      <th>mean</th>\n",
       "      <td>4112.743818</td>\n",
       "      <td>0.724140</td>\n",
       "      <td>1799.617616</td>\n",
       "      <td>3177.150821</td>\n",
       "      <td>21020.727992</td>\n",
       "      <td>41.491632</td>\n",
       "      <td>3.864748</td>\n",
       "    </tr>\n",
       "    <tr>\n",
       "      <th>std</th>\n",
       "      <td>2129.121462</td>\n",
       "      <td>0.186483</td>\n",
       "      <td>1400.545141</td>\n",
       "      <td>2044.448155</td>\n",
       "      <td>18937.581415</td>\n",
       "      <td>12.825570</td>\n",
       "      <td>2.635491</td>\n",
       "    </tr>\n",
       "    <tr>\n",
       "      <th>min</th>\n",
       "      <td>0.000000</td>\n",
       "      <td>0.000000</td>\n",
       "      <td>0.000000</td>\n",
       "      <td>0.000000</td>\n",
       "      <td>0.000000</td>\n",
       "      <td>18.000000</td>\n",
       "      <td>0.000000</td>\n",
       "    </tr>\n",
       "    <tr>\n",
       "      <th>25%</th>\n",
       "      <td>2700.000000</td>\n",
       "      <td>0.600000</td>\n",
       "      <td>834.000000</td>\n",
       "      <td>1706.000000</td>\n",
       "      <td>0.000000</td>\n",
       "      <td>32.000000</td>\n",
       "      <td>2.000000</td>\n",
       "    </tr>\n",
       "    <tr>\n",
       "      <th>50%</th>\n",
       "      <td>4100.000000</td>\n",
       "      <td>0.730000</td>\n",
       "      <td>1339.000000</td>\n",
       "      <td>2673.000000</td>\n",
       "      <td>21500.000000</td>\n",
       "      <td>41.000000</td>\n",
       "      <td>3.000000</td>\n",
       "    </tr>\n",
       "    <tr>\n",
       "      <th>75%</th>\n",
       "      <td>5500.000000</td>\n",
       "      <td>0.860000</td>\n",
       "      <td>2409.000000</td>\n",
       "      <td>4241.000000</td>\n",
       "      <td>35300.000000</td>\n",
       "      <td>50.000000</td>\n",
       "      <td>6.000000</td>\n",
       "    </tr>\n",
       "    <tr>\n",
       "      <th>max</th>\n",
       "      <td>13500.000000</td>\n",
       "      <td>1.090000</td>\n",
       "      <td>10641.000000</td>\n",
       "      <td>13906.000000</td>\n",
       "      <td>97200.000000</td>\n",
       "      <td>79.000000</td>\n",
       "      <td>8.000000</td>\n",
       "    </tr>\n",
       "  </tbody>\n",
       "</table>\n",
       "</div>"
      ],
      "text/plain": [
       "        credit_limit   credit_used         saving       checking  \\\n",
       "count  101100.000000  94128.000000  101100.000000  101100.000000   \n",
       "mean     4112.743818      0.724140    1799.617616    3177.150821   \n",
       "std      2129.121462      0.186483    1400.545141    2044.448155   \n",
       "min         0.000000      0.000000       0.000000       0.000000   \n",
       "25%      2700.000000      0.600000     834.000000    1706.000000   \n",
       "50%      4100.000000      0.730000    1339.000000    2673.000000   \n",
       "75%      5500.000000      0.860000    2409.000000    4241.000000   \n",
       "max     13500.000000      1.090000   10641.000000   13906.000000   \n",
       "\n",
       "              salary            age      n_depends  \n",
       "count  101100.000000  101100.000000  101100.000000  \n",
       "mean    21020.727992      41.491632       3.864748  \n",
       "std     18937.581415      12.825570       2.635491  \n",
       "min         0.000000      18.000000       0.000000  \n",
       "25%         0.000000      32.000000       2.000000  \n",
       "50%     21500.000000      41.000000       3.000000  \n",
       "75%     35300.000000      50.000000       6.000000  \n",
       "max     97200.000000      79.000000       8.000000  "
      ]
     },
     "execution_count": 12,
     "metadata": {},
     "output_type": "execute_result"
    }
   ],
   "source": [
    "numerical_features = ['credit_limit', 'credit_used', \n",
    "                      'saving', 'checking', 'salary', 'age', 'n_depends']\n",
    "borrower[numerical_features].describe()"
   ]
  },
  {
   "cell_type": "code",
   "execution_count": 13,
   "id": "cc993b47",
   "metadata": {},
   "outputs": [],
   "source": [
    "data = pd.merge(left = loan, right = borrower, how = 'inner', left_on = 'loan_id', right_on = 'loan_id')"
   ]
  },
  {
   "cell_type": "code",
   "execution_count": 14,
   "id": "50910084",
   "metadata": {},
   "outputs": [
    {
     "data": {
      "text/html": [
       "<div>\n",
       "<style scoped>\n",
       "    .dataframe tbody tr th:only-of-type {\n",
       "        vertical-align: middle;\n",
       "    }\n",
       "\n",
       "    .dataframe tbody tr th {\n",
       "        vertical-align: top;\n",
       "    }\n",
       "\n",
       "    .dataframe thead th {\n",
       "        text-align: right;\n",
       "    }\n",
       "</style>\n",
       "<table border=\"1\" class=\"dataframe\">\n",
       "  <thead>\n",
       "    <tr style=\"text-align: right;\">\n",
       "      <th></th>\n",
       "      <th>loan_id</th>\n",
       "      <th>purpose</th>\n",
       "      <th>date</th>\n",
       "      <th>granted</th>\n",
       "      <th>repaid</th>\n",
       "      <th>is_first</th>\n",
       "      <th>repay_prev</th>\n",
       "      <th>paying_others</th>\n",
       "      <th>credit_limit</th>\n",
       "      <th>credit_used</th>\n",
       "      <th>saving</th>\n",
       "      <th>checking</th>\n",
       "      <th>is_employed</th>\n",
       "      <th>salary</th>\n",
       "      <th>age</th>\n",
       "      <th>n_depends</th>\n",
       "    </tr>\n",
       "  </thead>\n",
       "  <tbody>\n",
       "    <tr>\n",
       "      <th>0</th>\n",
       "      <td>19454</td>\n",
       "      <td>investment</td>\n",
       "      <td>2012-03-15</td>\n",
       "      <td>0</td>\n",
       "      <td>NaN</td>\n",
       "      <td>1</td>\n",
       "      <td>NaN</td>\n",
       "      <td>NaN</td>\n",
       "      <td>8600</td>\n",
       "      <td>0.79</td>\n",
       "      <td>1491</td>\n",
       "      <td>6285</td>\n",
       "      <td>1</td>\n",
       "      <td>45200</td>\n",
       "      <td>42</td>\n",
       "      <td>7</td>\n",
       "    </tr>\n",
       "    <tr>\n",
       "      <th>1</th>\n",
       "      <td>496811</td>\n",
       "      <td>investment</td>\n",
       "      <td>2012-01-17</td>\n",
       "      <td>0</td>\n",
       "      <td>NaN</td>\n",
       "      <td>1</td>\n",
       "      <td>NaN</td>\n",
       "      <td>NaN</td>\n",
       "      <td>5300</td>\n",
       "      <td>0.52</td>\n",
       "      <td>141</td>\n",
       "      <td>5793</td>\n",
       "      <td>0</td>\n",
       "      <td>0</td>\n",
       "      <td>42</td>\n",
       "      <td>5</td>\n",
       "    </tr>\n",
       "  </tbody>\n",
       "</table>\n",
       "</div>"
      ],
      "text/plain": [
       "   loan_id     purpose       date  granted  repaid  is_first  repay_prev  \\\n",
       "0    19454  investment 2012-03-15        0     NaN         1         NaN   \n",
       "1   496811  investment 2012-01-17        0     NaN         1         NaN   \n",
       "\n",
       "   paying_others  credit_limit  credit_used  saving  checking  is_employed  \\\n",
       "0            NaN          8600         0.79    1491      6285            1   \n",
       "1            NaN          5300         0.52     141      5793            0   \n",
       "\n",
       "   salary  age  n_depends  \n",
       "0   45200   42          7  \n",
       "1       0   42          5  "
      ]
     },
     "execution_count": 14,
     "metadata": {},
     "output_type": "execute_result"
    }
   ],
   "source": [
    "data.head(2)"
   ]
  },
  {
   "cell_type": "markdown",
   "id": "5e9b8c00",
   "metadata": {},
   "source": [
    "## 2. Feature Engineering and Visualization"
   ]
  },
  {
   "cell_type": "code",
   "execution_count": 15,
   "id": "b083aec5",
   "metadata": {},
   "outputs": [],
   "source": [
    "train_data = data[data.granted == 1]"
   ]
  },
  {
   "cell_type": "markdown",
   "id": "7180a784",
   "metadata": {},
   "source": [
    "### 2.1 Loan Purpose Analysis"
   ]
  },
  {
   "cell_type": "code",
   "execution_count": 16,
   "id": "fbd14c69",
   "metadata": {},
   "outputs": [
    {
     "data": {
      "text/plain": [
       "<AxesSubplot:xlabel='purpose', ylabel='repaid'>"
      ]
     },
     "execution_count": 16,
     "metadata": {},
     "output_type": "execute_result"
    },
    {
     "data": {
      "image/png": "[encoded data removed]",
      "text/plain": [
       "<Figure size 648x288 with 1 Axes>"
      ]
     },
     "metadata": {
      "needs_background": "light"
     },
     "output_type": "display_data"
    }
   ],
   "source": [
    "fig, ax = plt.subplots(figsize = (9, 4))\n",
    "\n",
    "sns.barplot(data = train_data, x = 'purpose', y = 'repaid', estimator = np.mean)"
   ]
  },
  {
   "cell_type": "markdown",
   "id": "b7263e5f",
   "metadata": {},
   "source": [
    "Business loan and investment loan are more likely to be repaid, then home is the next. Emergency funds and other purpose loans have the lowest possibility of repayment."
   ]
  },
  {
   "cell_type": "markdown",
   "id": "e80067aa",
   "metadata": {},
   "source": [
    "### 2.2 Loan History Analysis"
   ]
  },
  {
   "cell_type": "markdown",
   "id": "77d2ca22",
   "metadata": {},
   "source": [
    "'is_first_loan' or not, 'fully_repaid_previous_loans' or not and 'currently_repaying_other_loans' represent the borrower's Loan history, which can be taken as an important aspect to predict if he/she will repay the loan or not. "
   ]
  },
  {
   "cell_type": "code",
   "execution_count": 17,
   "id": "640d0357",
   "metadata": {},
   "outputs": [
    {
     "data": {
      "image/png": "[encoded data removed]",
      "text/plain": [
       "<Figure size 1296x288 with 3 Axes>"
      ]
     },
     "metadata": {
      "needs_background": "light"
     },
     "output_type": "display_data"
    }
   ],
   "source": [
    "fig, ax = plt.subplots(1, 3, figsize = (18, 4))\n",
    "\n",
    "sns.barplot(data = train_data, x = 'is_first', y = 'repaid', estimator = np.mean, ax =ax[0])\n",
    "   \n",
    "sns.barplot(data = train_data[train_data.is_first == 0], x = 'repay_prev', y = 'repaid', estimator = np.mean, ax =ax[1])\n",
    "\n",
    "sns.barplot(data = train_data[train_data.is_first == 0], x = 'paying_others', y = 'repaid', estimator = np.mean, ax =ax[2])\n",
    "\n",
    "for i in range(3):\n",
    "    for j in ax[i].containers:\n",
    "        ax[i].bar_label(j,)"
   ]
  },
  {
   "cell_type": "markdown",
   "id": "4cdde554",
   "metadata": {},
   "source": [
    "The 3 barplots above indicate that:\n",
    "\n",
    "1) There is no significant difference in loan repayment rate between first loan borrowers and previous borrowers.\n",
    "\n",
    "2) For previous users, if he/she has repaid the previous loan, it will be more possible to pay this loan again.\n",
    "\n",
    "3) For previous users, if he/she is currently repaying other loans, it will be less likely for him to pay this loan."
   ]
  },
  {
   "cell_type": "markdown",
   "id": "00331a4e",
   "metadata": {},
   "source": [
    "### 2.3 Credit History Analysis"
   ]
  },
  {
   "cell_type": "code",
   "execution_count": 18,
   "id": "ebb059f3",
   "metadata": {},
   "outputs": [
    {
     "data": {
      "text/plain": [
       "<AxesSubplot:xlabel='credit_used', ylabel='repaid'>"
      ]
     },
     "execution_count": 18,
     "metadata": {},
     "output_type": "execute_result"
    },
    {
     "data": {
      "image/png": "[encoded data removed]",
      "text/plain": [
       "<Figure size 1152x288 with 2 Axes>"
      ]
     },
     "metadata": {
      "needs_background": "light"
     },
     "output_type": "display_data"
    }
   ],
   "source": [
    "fig, ax = plt.subplots(1, 2, figsize = (16, 4))\n",
    "\n",
    "sns.lineplot(data = train_data, x = 'credit_limit', y = 'repaid', estimator = np.mean, ax =ax[0])\n",
    "   \n",
    "sns.lineplot(data = train_data, x = 'credit_used', y = 'repaid', estimator = np.mean, ax =ax[1])"
   ]
  },
  {
   "cell_type": "markdown",
   "id": "0b4b4bb6",
   "metadata": {},
   "source": [
    "Borrowers with a higher total_credit_card_limit are more likely to repay the loan, especially with a credit limit greater than 9000.\n",
    "\n",
    "Borrowers with a higher level of 'avg_percentage_credit_card_limit_used_last_year' are less likely to repay the loan, especially when they exceeded the total credit limit."
   ]
  },
  {
   "cell_type": "markdown",
   "id": "057dbe3c",
   "metadata": {},
   "source": [
    "### 2.4 Saving & Checking History Analysis"
   ]
  },
  {
   "cell_type": "code",
   "execution_count": null,
   "id": "14b46b5a",
   "metadata": {},
   "outputs": [],
   "source": [
    "fig, ax = plt.subplots(2, 1, figsize = (16, 8))\n",
    "\n",
    "sns.lineplot(data = train_data[train_data.saving <= 4000], x = 'saving', y = 'repaid', estimator = np.mean, ax =ax[0])\n",
    "   \n",
    "sns.lineplot(data = train_data[train_data.checking <= 6000], x = 'checking', y = 'repaid', estimator = np.mean, ax =ax[1])"
   ]
  },
  {
   "cell_type": "markdown",
   "id": "a7ba9918",
   "metadata": {},
   "source": [
    "### 2.5 Demography Background Analysis"
   ]
  },
  {
   "cell_type": "code",
   "execution_count": null,
   "id": "e501b64a",
   "metadata": {},
   "outputs": [],
   "source": [
    "fig, ax = plt.subplots(2, 2, figsize = (16, 8))\n",
    "\n",
    "sns.barplot(data = train_data, x = 'is_employed', y = 'repaid', estimator = np.mean, ax =ax[0][0])\n",
    "\n",
    "sns.barplot(data = train_data, x = 'n_depends', y = 'repaid', estimator = np.mean, ax =ax[0][1])\n",
    "\n",
    "sns.lineplot(data = train_data, x = 'salary', y = 'repaid', estimator = np.mean, ax =ax[1][0])\n",
    "\n",
    "sns.lineplot(data = train_data, x = 'age', y = 'repaid', estimator = np.mean, ax =ax[1][1])\n",
    "\n",
    "for i in range(2):\n",
    "    for j in ax[0][i].containers:\n",
    "        ax[0][i].bar_label(j,)"
   ]
  },
  {
   "cell_type": "markdown",
   "id": "63f64b1c",
   "metadata": {},
   "source": [
    "1) Employed borrowers are more likely to repay the loan.\n",
    "\n",
    "2) The more depends the borrower has, the less likely they will repay the loan.\n",
    "\n",
    "3) The repay rate for borrowers with a salary less than 20000 decreases as salary increase. When the salary higher than 20000, the pay rate starts to increase\n",
    "\n",
    "4) The repay rates among different age groups don't show significant difference."
   ]
  },
  {
   "cell_type": "markdown",
   "id": "3f5d5398",
   "metadata": {},
   "source": [
    "### 2.6 Features' Correlation Analysis"
   ]
  },
  {
   "cell_type": "code",
   "execution_count": null,
   "id": "77b0869b",
   "metadata": {},
   "outputs": [],
   "source": [
    "corr_features = ['is_first', 'repay_prev', 'paying_others', 'credit_limit', 'credit_used', 'saving', 'checking',\n",
    "       'is_employed', 'salary', 'age', 'n_depends']\n",
    "corr_matrix = train_data[corr_features].corr()\n",
    "plt.figure(figsize = (11, 11))\n",
    "sns.heatmap(corr_matrix, annot = True, cmap = 'coolwarm', linecolor = 'black', \n",
    "            linewidths = 1.0, xticklabels = True, yticklabels = True)\n",
    "plt.show()"
   ]
  },
  {
   "cell_type": "markdown",
   "id": "ad2531ef",
   "metadata": {},
   "source": [
    "1. As we can see from various plots above, features including 'paying_others', 'credit_limit', 'saving', 'checking', 'is_employed', 'salary' show obvious correlation with granting of loan.\n",
    "\n",
    "\n",
    "2. [is_first, repay_prev], [is_first, paying_others]  are blank\n",
    "\n",
    "   This is because if this is the first loan, 'repay_prev' and 'paying_others' are set to Nan. This may cause some information redundancy. We can set Nan in 'repay_prev' and 'paying_others' as -1 and then eliminate the feature 'is_first'.\n",
    "\n",
    "\n",
    "3. Besides, we notice that there exist high correlation between feature pairs :\n",
    "\n",
    "   1) [credit_limit, saving], [credit_limit, checking], [credit_limit, is_employed], [credit_limit, salary]\n",
    "\n",
    "   This is because if the borrower has job, and his saving and checking account would have a high amount with high salary. As the result, his credit_limit would also be high.\n",
    "   \n",
    "   2) [salary, is_employed]\n",
    "\n",
    "   This is because only if the borrower is employed, would his salary greater than 0\n",
    "   Therefore, we can eliminate the feature 'is_employed' to reduce  redundancy."
   ]
  },
  {
   "cell_type": "code",
   "execution_count": null,
   "id": "68393a0b",
   "metadata": {},
   "outputs": [],
   "source": [
    "data['repay_prev'] = data['repay_prev'].fillna(-1)\n",
    "data['paying_others'] = data['paying_others'].fillna(-1)\n",
    "data['credit_used'] = data['credit_used'].fillna(0)\n",
    "train_data['repay_prev'] = train_data['repay_prev'].fillna(-1)\n",
    "train_data['paying_others'] = train_data['paying_others'].fillna(-1)\n",
    "train_data['credit_used'] = data['credit_used'].fillna(0)"
   ]
  },
  {
   "cell_type": "markdown",
   "id": "8bd2df37",
   "metadata": {},
   "source": [
    "## 3. Model Fitting"
   ]
  },
  {
   "cell_type": "code",
   "execution_count": null,
   "id": "3ad3dd8a",
   "metadata": {},
   "outputs": [],
   "source": [
    "### 3.1 Data Processing"
   ]
  },
  {
   "cell_type": "code",
   "execution_count": null,
   "id": "31944e34",
   "metadata": {},
   "outputs": [],
   "source": [
    "from sklearn.ensemble import RandomForestClassifier\n",
    "from sklearn.model_selection import train_test_split, cross_val_score, GridSearchCV\n",
    "from sklearn.metrics import confusion_matrix, recall_score, precision_score, accuracy_score\n",
    "from sklearn.metrics import roc_curve, roc_auc_score, auc"
   ]
  },
  {
   "cell_type": "code",
   "execution_count": null,
   "id": "19b4b1d4",
   "metadata": {},
   "outputs": [],
   "source": [
    "data = pd.get_dummies(data = data, columns = ['purpose'])\n",
    "train_data = pd.get_dummies(data = train_data, columns = ['purpose'])"
   ]
  },
  {
   "cell_type": "code",
   "execution_count": null,
   "id": "548f5a28",
   "metadata": {},
   "outputs": [],
   "source": [
    "features = ['repay_prev','paying_others', 'credit_limit', 'credit_used', \n",
    "            'saving', 'checking','salary', 'age', 'n_depends', \n",
    "            'purpose_business','purpose_emergency_funds', 'purpose_home', \n",
    "            'purpose_investment','purpose_other']\n",
    "X = train_data[features]\n",
    "y = train_data['repaid']"
   ]
  },
  {
   "cell_type": "code",
   "execution_count": null,
   "id": "1f95b7ce",
   "metadata": {},
   "outputs": [],
   "source": [
    "X_train, X_test, y_train, y_test = train_test_split(X,  y, test_size = 0.2,random_state = 1)"
   ]
  },
  {
   "cell_type": "markdown",
   "id": "bd430fdf",
   "metadata": {},
   "source": [
    "### 3.2 Model Fitting"
   ]
  },
  {
   "cell_type": "code",
   "execution_count": null,
   "id": "8c9cfe95",
   "metadata": {},
   "outputs": [],
   "source": [
    "rf_reg = RandomForestClassifier(max_features=4)\n",
    "rf_reg.fit(X_train, y_train)"
   ]
  },
  {
   "cell_type": "code",
   "execution_count": null,
   "id": "adc988b0",
   "metadata": {},
   "outputs": [],
   "source": [
    "model = rf_reg\n",
    "train_con_matrix = confusion_matrix(y_train, model.predict(X_train))\n",
    "print('train matrix: \\n', train_con_matrix)\n",
    "print('train accuracy:', round(accuracy_score(y_train, model.predict(X_train)),4))\n",
    "\n",
    "test_con_matrix = confusion_matrix(y_test, model.predict(X_test))\n",
    "print('\\n test matrix: \\n', test_con_matrix)\n",
    "print('test accuracy:', round(accuracy_score(y_test, model.predict(X_test)), 4))"
   ]
  },
  {
   "cell_type": "code",
   "execution_count": null,
   "id": "afa6e63a",
   "metadata": {},
   "outputs": [],
   "source": [
    "import time\n",
    "rf_reg_importances = pd.Series(rf_reg.feature_importances_, index=features)\n",
    "std = np.std([tree.feature_importances_ for tree in rf_reg.estimators_], axis=0)\n",
    "elapsed_time = time.time()\n",
    "\n",
    "fig, ax = plt.subplots()\n",
    "rf_reg_importances.plot.bar(yerr=std, ax=ax)\n",
    "ax.set_title(\"Feature importances using MDI\")\n",
    "ax.set_ylabel(\"Mean decrease in impurity\")\n",
    "fig.tight_layout()"
   ]
  },
  {
   "cell_type": "markdown",
   "id": "566ee9da",
   "metadata": {},
   "source": [
    "### 3.3 Model Prediction & Evaluation"
   ]
  },
  {
   "cell_type": "markdown",
   "id": "b3c6f553",
   "metadata": {},
   "source": [
    "Calculate profitability using bank's model"
   ]
  },
  {
   "cell_type": "code",
   "execution_count": null,
   "id": "8a8d9135",
   "metadata": {},
   "outputs": [],
   "source": [
    "loan_test = train_data.loc[y_test.index,:]\n",
    "\n",
    "print('number of repaid \\n', sum(loan_test.repaid == 1))\n",
    "print('number of not repaid \\n', sum(loan_test.repaid == 0))\n",
    "print(\"Profitability using bank's model: \\n\", sum(loan_test.repaid == 1) - sum(loan_test.repaid == 0))"
   ]
  },
  {
   "cell_type": "markdown",
   "id": "1dad715b",
   "metadata": {},
   "source": [
    "Calculate profitability using new model"
   ]
  },
  {
   "cell_type": "code",
   "execution_count": null,
   "id": "2c382373",
   "metadata": {},
   "outputs": [],
   "source": [
    "loan_test['new_model'] = model.predict(X_test)\n",
    "\n",
    "print('number of granted and repaid \\n', sum(loan_test['new_model']*loan_test['repaid'] == 1))\n",
    "print('number of granted but not repaid \\n', sum(loan_test['new_model'] - loan_test['repaid'] == 1))\n",
    "\n",
    "print(\"Profitability using new model: \\n\",sum(loan_test['new_model']*loan_test['repaid'] == 1) - sum(loan_test['new_model'] - loan_test['repaid'] == 1))"
   ]
  }
 ],
 "metadata": {
  "kernelspec": {
   "display_name": "Python 3 (ipykernel)",
   "language": "python",
   "name": "python3"
  },
  "language_info": {
   "codemirror_mode": {
    "name": "ipython",
    "version": 3
   },
   "file_extension": ".py",
   "mimetype": "text/x-python",
   "name": "python",
   "nbconvert_exporter": "python",
   "pygments_lexer": "ipython3",
   "version": "3.7.7"
  }
 },
 "nbformat": 4,
 "nbformat_minor": 5
}
