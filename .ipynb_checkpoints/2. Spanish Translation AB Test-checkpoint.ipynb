{
 "cells": [
  {
   "cell_type": "code",
   "execution_count": 1,
   "id": "hindu-sterling",
   "metadata": {},
   "outputs": [
    {
     "name": "stdout",
     "output_type": "stream",
     "text": [
      "no display found. Using non-interactive Agg backend\n"
     ]
    }
   ],
   "source": [
    "import pandas as pd\n",
    "import numpy as np\n",
    "import seaborn as sns\n",
    "import matplotlib.pyplot as plt\n",
    "from sklearn.tree import DecisionTreeClassifier\n",
    "from dmba import plotDecisionTree\n",
    "\n",
    "import warnings\n",
    "warnings.filterwarnings(\"ignore\")"
   ]
  },
  {
   "cell_type": "code",
   "execution_count": 2,
   "id": "increasing-broad",
   "metadata": {},
   "outputs": [],
   "source": [
    "test_data = pd.read_csv('/Users/ChunyanHao/Desktop/GitHub/DS_Take_Home/data/Translation_Test/test_table.csv')\n",
    "user_data = pd.read_csv('/Users/ChunyanHao/Desktop/GitHub/DS_Take_Home/data/Translation_Test/user_table.csv')"
   ]
  },
  {
   "cell_type": "code",
   "execution_count": 4,
   "id": "returning-luxembourg",
   "metadata": {},
   "outputs": [
    {
     "data": {
      "text/html": [
       "<div>\n",
       "<style scoped>\n",
       "    .dataframe tbody tr th:only-of-type {\n",
       "        vertical-align: middle;\n",
       "    }\n",
       "\n",
       "    .dataframe tbody tr th {\n",
       "        vertical-align: top;\n",
       "    }\n",
       "\n",
       "    .dataframe thead th {\n",
       "        text-align: right;\n",
       "    }\n",
       "</style>\n",
       "<table border=\"1\" class=\"dataframe\">\n",
       "  <thead>\n",
       "    <tr style=\"text-align: right;\">\n",
       "      <th></th>\n",
       "      <th>user_id</th>\n",
       "      <th>date</th>\n",
       "      <th>source</th>\n",
       "      <th>device</th>\n",
       "      <th>browser_language</th>\n",
       "      <th>ads_channel</th>\n",
       "      <th>browser</th>\n",
       "      <th>conversion</th>\n",
       "      <th>test</th>\n",
       "    </tr>\n",
       "  </thead>\n",
       "  <tbody>\n",
       "    <tr>\n",
       "      <th>0</th>\n",
       "      <td>315281</td>\n",
       "      <td>2015-12-03</td>\n",
       "      <td>Direct</td>\n",
       "      <td>Web</td>\n",
       "      <td>ES</td>\n",
       "      <td>NaN</td>\n",
       "      <td>IE</td>\n",
       "      <td>1</td>\n",
       "      <td>0</td>\n",
       "    </tr>\n",
       "    <tr>\n",
       "      <th>1</th>\n",
       "      <td>497851</td>\n",
       "      <td>2015-12-04</td>\n",
       "      <td>Ads</td>\n",
       "      <td>Web</td>\n",
       "      <td>ES</td>\n",
       "      <td>Google</td>\n",
       "      <td>IE</td>\n",
       "      <td>0</td>\n",
       "      <td>1</td>\n",
       "    </tr>\n",
       "    <tr>\n",
       "      <th>2</th>\n",
       "      <td>848402</td>\n",
       "      <td>2015-12-04</td>\n",
       "      <td>Ads</td>\n",
       "      <td>Web</td>\n",
       "      <td>ES</td>\n",
       "      <td>Facebook</td>\n",
       "      <td>Chrome</td>\n",
       "      <td>0</td>\n",
       "      <td>0</td>\n",
       "    </tr>\n",
       "  </tbody>\n",
       "</table>\n",
       "</div>"
      ],
      "text/plain": [
       "   user_id        date  source device browser_language ads_channel browser  \\\n",
       "0   315281  2015-12-03  Direct    Web               ES         NaN      IE   \n",
       "1   497851  2015-12-04     Ads    Web               ES      Google      IE   \n",
       "2   848402  2015-12-04     Ads    Web               ES    Facebook  Chrome   \n",
       "\n",
       "   conversion  test  \n",
       "0           1     0  \n",
       "1           0     1  \n",
       "2           0     0  "
      ]
     },
     "execution_count": 4,
     "metadata": {},
     "output_type": "execute_result"
    }
   ],
   "source": [
    "test_data.head(3)"
   ]
  },
  {
   "cell_type": "code",
   "execution_count": 5,
   "id": "earned-ferry",
   "metadata": {},
   "outputs": [
    {
     "data": {
      "text/html": [
       "<div>\n",
       "<style scoped>\n",
       "    .dataframe tbody tr th:only-of-type {\n",
       "        vertical-align: middle;\n",
       "    }\n",
       "\n",
       "    .dataframe tbody tr th {\n",
       "        vertical-align: top;\n",
       "    }\n",
       "\n",
       "    .dataframe thead th {\n",
       "        text-align: right;\n",
       "    }\n",
       "</style>\n",
       "<table border=\"1\" class=\"dataframe\">\n",
       "  <thead>\n",
       "    <tr style=\"text-align: right;\">\n",
       "      <th></th>\n",
       "      <th>user_id</th>\n",
       "      <th>sex</th>\n",
       "      <th>age</th>\n",
       "      <th>country</th>\n",
       "    </tr>\n",
       "  </thead>\n",
       "  <tbody>\n",
       "    <tr>\n",
       "      <th>0</th>\n",
       "      <td>765821</td>\n",
       "      <td>M</td>\n",
       "      <td>20</td>\n",
       "      <td>Mexico</td>\n",
       "    </tr>\n",
       "    <tr>\n",
       "      <th>1</th>\n",
       "      <td>343561</td>\n",
       "      <td>F</td>\n",
       "      <td>27</td>\n",
       "      <td>Nicaragua</td>\n",
       "    </tr>\n",
       "    <tr>\n",
       "      <th>2</th>\n",
       "      <td>118744</td>\n",
       "      <td>M</td>\n",
       "      <td>23</td>\n",
       "      <td>Colombia</td>\n",
       "    </tr>\n",
       "  </tbody>\n",
       "</table>\n",
       "</div>"
      ],
      "text/plain": [
       "   user_id sex  age    country\n",
       "0   765821   M   20     Mexico\n",
       "1   343561   F   27  Nicaragua\n",
       "2   118744   M   23   Colombia"
      ]
     },
     "execution_count": 5,
     "metadata": {},
     "output_type": "execute_result"
    }
   ],
   "source": [
    "user_data.head(3)"
   ]
  },
  {
   "cell_type": "code",
   "execution_count": 6,
   "id": "corrected-introduction",
   "metadata": {},
   "outputs": [
    {
     "name": "stdout",
     "output_type": "stream",
     "text": [
      "<class 'pandas.core.frame.DataFrame'>\n",
      "RangeIndex: 453321 entries, 0 to 453320\n",
      "Data columns (total 9 columns):\n",
      " #   Column            Non-Null Count   Dtype \n",
      "---  ------            --------------   ----- \n",
      " 0   user_id           453321 non-null  int64 \n",
      " 1   date              453321 non-null  object\n",
      " 2   source            453321 non-null  object\n",
      " 3   device            453321 non-null  object\n",
      " 4   browser_language  453321 non-null  object\n",
      " 5   ads_channel       181877 non-null  object\n",
      " 6   browser           453321 non-null  object\n",
      " 7   conversion        453321 non-null  int64 \n",
      " 8   test              453321 non-null  int64 \n",
      "dtypes: int64(3), object(6)\n",
      "memory usage: 31.1+ MB\n"
     ]
    }
   ],
   "source": [
    "test_data.info()"
   ]
  },
  {
   "cell_type": "code",
   "execution_count": 7,
   "id": "material-doctrine",
   "metadata": {},
   "outputs": [
    {
     "name": "stdout",
     "output_type": "stream",
     "text": [
      "<class 'pandas.core.frame.DataFrame'>\n",
      "RangeIndex: 452867 entries, 0 to 452866\n",
      "Data columns (total 4 columns):\n",
      " #   Column   Non-Null Count   Dtype \n",
      "---  ------   --------------   ----- \n",
      " 0   user_id  452867 non-null  int64 \n",
      " 1   sex      452867 non-null  object\n",
      " 2   age      452867 non-null  int64 \n",
      " 3   country  452867 non-null  object\n",
      "dtypes: int64(2), object(2)\n",
      "memory usage: 13.8+ MB\n"
     ]
    }
   ],
   "source": [
    "user_data.info()"
   ]
  },
  {
   "cell_type": "markdown",
   "id": "serial-johnson",
   "metadata": {},
   "source": [
    "#### user_data has less records than test_data"
   ]
  },
  {
   "cell_type": "code",
   "execution_count": 8,
   "id": "statewide-dakota",
   "metadata": {},
   "outputs": [
    {
     "data": {
      "text/html": [
       "<div>\n",
       "<style scoped>\n",
       "    .dataframe tbody tr th:only-of-type {\n",
       "        vertical-align: middle;\n",
       "    }\n",
       "\n",
       "    .dataframe tbody tr th {\n",
       "        vertical-align: top;\n",
       "    }\n",
       "\n",
       "    .dataframe thead th {\n",
       "        text-align: right;\n",
       "    }\n",
       "</style>\n",
       "<table border=\"1\" class=\"dataframe\">\n",
       "  <thead>\n",
       "    <tr style=\"text-align: right;\">\n",
       "      <th></th>\n",
       "      <th>user_id</th>\n",
       "      <th>conversion</th>\n",
       "      <th>test</th>\n",
       "    </tr>\n",
       "  </thead>\n",
       "  <tbody>\n",
       "    <tr>\n",
       "      <th>count</th>\n",
       "      <td>453321.000000</td>\n",
       "      <td>453321.000000</td>\n",
       "      <td>453321.000000</td>\n",
       "    </tr>\n",
       "    <tr>\n",
       "      <th>mean</th>\n",
       "      <td>499937.514728</td>\n",
       "      <td>0.049579</td>\n",
       "      <td>0.476446</td>\n",
       "    </tr>\n",
       "    <tr>\n",
       "      <th>std</th>\n",
       "      <td>288665.193436</td>\n",
       "      <td>0.217073</td>\n",
       "      <td>0.499445</td>\n",
       "    </tr>\n",
       "    <tr>\n",
       "      <th>min</th>\n",
       "      <td>1.000000</td>\n",
       "      <td>0.000000</td>\n",
       "      <td>0.000000</td>\n",
       "    </tr>\n",
       "    <tr>\n",
       "      <th>25%</th>\n",
       "      <td>249816.000000</td>\n",
       "      <td>0.000000</td>\n",
       "      <td>0.000000</td>\n",
       "    </tr>\n",
       "    <tr>\n",
       "      <th>50%</th>\n",
       "      <td>500019.000000</td>\n",
       "      <td>0.000000</td>\n",
       "      <td>0.000000</td>\n",
       "    </tr>\n",
       "    <tr>\n",
       "      <th>75%</th>\n",
       "      <td>749522.000000</td>\n",
       "      <td>0.000000</td>\n",
       "      <td>1.000000</td>\n",
       "    </tr>\n",
       "    <tr>\n",
       "      <th>max</th>\n",
       "      <td>1000000.000000</td>\n",
       "      <td>1.000000</td>\n",
       "      <td>1.000000</td>\n",
       "    </tr>\n",
       "  </tbody>\n",
       "</table>\n",
       "</div>"
      ],
      "text/plain": [
       "              user_id     conversion           test\n",
       "count   453321.000000  453321.000000  453321.000000\n",
       "mean    499937.514728       0.049579       0.476446\n",
       "std     288665.193436       0.217073       0.499445\n",
       "min          1.000000       0.000000       0.000000\n",
       "25%     249816.000000       0.000000       0.000000\n",
       "50%     500019.000000       0.000000       0.000000\n",
       "75%     749522.000000       0.000000       1.000000\n",
       "max    1000000.000000       1.000000       1.000000"
      ]
     },
     "execution_count": 8,
     "metadata": {},
     "output_type": "execute_result"
    }
   ],
   "source": [
    "test_data.describe()"
   ]
  },
  {
   "cell_type": "code",
   "execution_count": 9,
   "id": "administrative-opera",
   "metadata": {},
   "outputs": [
    {
     "data": {
      "text/html": [
       "<div>\n",
       "<style scoped>\n",
       "    .dataframe tbody tr th:only-of-type {\n",
       "        vertical-align: middle;\n",
       "    }\n",
       "\n",
       "    .dataframe tbody tr th {\n",
       "        vertical-align: top;\n",
       "    }\n",
       "\n",
       "    .dataframe thead th {\n",
       "        text-align: right;\n",
       "    }\n",
       "</style>\n",
       "<table border=\"1\" class=\"dataframe\">\n",
       "  <thead>\n",
       "    <tr style=\"text-align: right;\">\n",
       "      <th></th>\n",
       "      <th>user_id</th>\n",
       "      <th>age</th>\n",
       "    </tr>\n",
       "  </thead>\n",
       "  <tbody>\n",
       "    <tr>\n",
       "      <th>count</th>\n",
       "      <td>452867.000000</td>\n",
       "      <td>452867.000000</td>\n",
       "    </tr>\n",
       "    <tr>\n",
       "      <th>mean</th>\n",
       "      <td>499944.805166</td>\n",
       "      <td>27.130740</td>\n",
       "    </tr>\n",
       "    <tr>\n",
       "      <th>std</th>\n",
       "      <td>288676.264784</td>\n",
       "      <td>6.776678</td>\n",
       "    </tr>\n",
       "    <tr>\n",
       "      <th>min</th>\n",
       "      <td>1.000000</td>\n",
       "      <td>18.000000</td>\n",
       "    </tr>\n",
       "    <tr>\n",
       "      <th>25%</th>\n",
       "      <td>249819.000000</td>\n",
       "      <td>22.000000</td>\n",
       "    </tr>\n",
       "    <tr>\n",
       "      <th>50%</th>\n",
       "      <td>500019.000000</td>\n",
       "      <td>26.000000</td>\n",
       "    </tr>\n",
       "    <tr>\n",
       "      <th>75%</th>\n",
       "      <td>749543.000000</td>\n",
       "      <td>31.000000</td>\n",
       "    </tr>\n",
       "    <tr>\n",
       "      <th>max</th>\n",
       "      <td>1000000.000000</td>\n",
       "      <td>70.000000</td>\n",
       "    </tr>\n",
       "  </tbody>\n",
       "</table>\n",
       "</div>"
      ],
      "text/plain": [
       "              user_id            age\n",
       "count   452867.000000  452867.000000\n",
       "mean    499944.805166      27.130740\n",
       "std     288676.264784       6.776678\n",
       "min          1.000000      18.000000\n",
       "25%     249819.000000      22.000000\n",
       "50%     500019.000000      26.000000\n",
       "75%     749543.000000      31.000000\n",
       "max    1000000.000000      70.000000"
      ]
     },
     "execution_count": 9,
     "metadata": {},
     "output_type": "execute_result"
    }
   ],
   "source": [
    "user_data.describe()"
   ]
  },
  {
   "cell_type": "code",
   "execution_count": 10,
   "id": "international-cooler",
   "metadata": {},
   "outputs": [],
   "source": [
    "#check if there are any unexpected missing values"
   ]
  },
  {
   "cell_type": "code",
   "execution_count": 11,
   "id": "addressed-assets",
   "metadata": {},
   "outputs": [
    {
     "data": {
      "text/plain": [
       "user_id                  0\n",
       "date                     0\n",
       "source                   0\n",
       "device                   0\n",
       "browser_language         0\n",
       "ads_channel         271444\n",
       "browser                  0\n",
       "conversion               0\n",
       "test                     0\n",
       "dtype: int64"
      ]
     },
     "execution_count": 11,
     "metadata": {},
     "output_type": "execute_result"
    }
   ],
   "source": [
    "test_data.isna().sum()"
   ]
  },
  {
   "cell_type": "code",
   "execution_count": 12,
   "id": "accessory-judges",
   "metadata": {},
   "outputs": [
    {
     "data": {
      "text/plain": [
       "user_id    0\n",
       "sex        0\n",
       "age        0\n",
       "country    0\n",
       "dtype: int64"
      ]
     },
     "execution_count": 12,
     "metadata": {},
     "output_type": "execute_result"
    }
   ],
   "source": [
    "user_data.isna().sum()"
   ]
  },
  {
   "cell_type": "code",
   "execution_count": 13,
   "id": "residential-madison",
   "metadata": {},
   "outputs": [],
   "source": [
    "#check if there are any duplicate records"
   ]
  },
  {
   "cell_type": "code",
   "execution_count": 14,
   "id": "outdoor-aquatic",
   "metadata": {},
   "outputs": [
    {
     "data": {
      "text/plain": [
       "0"
      ]
     },
     "execution_count": 14,
     "metadata": {},
     "output_type": "execute_result"
    }
   ],
   "source": [
    "test_data.duplicated().sum()"
   ]
  },
  {
   "cell_type": "code",
   "execution_count": 15,
   "id": "eastern-indie",
   "metadata": {},
   "outputs": [
    {
     "data": {
      "text/plain": [
       "0"
      ]
     },
     "execution_count": 15,
     "metadata": {},
     "output_type": "execute_result"
    }
   ],
   "source": [
    "user_data.duplicated().sum()"
   ]
  },
  {
   "cell_type": "markdown",
   "id": "amber-findings",
   "metadata": {},
   "source": [
    "##### merger two table and be careful to keep records which is in the test set but not in the user set"
   ]
  },
  {
   "cell_type": "code",
   "execution_count": 42,
   "id": "duplicate-report",
   "metadata": {},
   "outputs": [
    {
     "data": {
      "text/html": [
       "<div>\n",
       "<style scoped>\n",
       "    .dataframe tbody tr th:only-of-type {\n",
       "        vertical-align: middle;\n",
       "    }\n",
       "\n",
       "    .dataframe tbody tr th {\n",
       "        vertical-align: top;\n",
       "    }\n",
       "\n",
       "    .dataframe thead th {\n",
       "        text-align: right;\n",
       "    }\n",
       "</style>\n",
       "<table border=\"1\" class=\"dataframe\">\n",
       "  <thead>\n",
       "    <tr style=\"text-align: right;\">\n",
       "      <th></th>\n",
       "      <th>user_id</th>\n",
       "      <th>date</th>\n",
       "      <th>source</th>\n",
       "      <th>device</th>\n",
       "      <th>browser_language</th>\n",
       "      <th>ads_channel</th>\n",
       "      <th>browser</th>\n",
       "      <th>conversion</th>\n",
       "      <th>test</th>\n",
       "      <th>sex</th>\n",
       "      <th>age</th>\n",
       "      <th>country</th>\n",
       "    </tr>\n",
       "  </thead>\n",
       "  <tbody>\n",
       "    <tr>\n",
       "      <th>0</th>\n",
       "      <td>315281</td>\n",
       "      <td>2015-12-03</td>\n",
       "      <td>Direct</td>\n",
       "      <td>Web</td>\n",
       "      <td>ES</td>\n",
       "      <td>NaN</td>\n",
       "      <td>IE</td>\n",
       "      <td>1</td>\n",
       "      <td>0</td>\n",
       "      <td>M</td>\n",
       "      <td>32.0</td>\n",
       "      <td>Spain</td>\n",
       "    </tr>\n",
       "    <tr>\n",
       "      <th>1</th>\n",
       "      <td>497851</td>\n",
       "      <td>2015-12-04</td>\n",
       "      <td>Ads</td>\n",
       "      <td>Web</td>\n",
       "      <td>ES</td>\n",
       "      <td>Google</td>\n",
       "      <td>IE</td>\n",
       "      <td>0</td>\n",
       "      <td>1</td>\n",
       "      <td>M</td>\n",
       "      <td>21.0</td>\n",
       "      <td>Mexico</td>\n",
       "    </tr>\n",
       "    <tr>\n",
       "      <th>2</th>\n",
       "      <td>848402</td>\n",
       "      <td>2015-12-04</td>\n",
       "      <td>Ads</td>\n",
       "      <td>Web</td>\n",
       "      <td>ES</td>\n",
       "      <td>Facebook</td>\n",
       "      <td>Chrome</td>\n",
       "      <td>0</td>\n",
       "      <td>0</td>\n",
       "      <td>M</td>\n",
       "      <td>34.0</td>\n",
       "      <td>Spain</td>\n",
       "    </tr>\n",
       "  </tbody>\n",
       "</table>\n",
       "</div>"
      ],
      "text/plain": [
       "   user_id        date  source device browser_language ads_channel browser  \\\n",
       "0   315281  2015-12-03  Direct    Web               ES         NaN      IE   \n",
       "1   497851  2015-12-04     Ads    Web               ES      Google      IE   \n",
       "2   848402  2015-12-04     Ads    Web               ES    Facebook  Chrome   \n",
       "\n",
       "   conversion  test sex   age country  \n",
       "0           1     0   M  32.0   Spain  \n",
       "1           0     1   M  21.0  Mexico  \n",
       "2           0     0   M  34.0   Spain  "
      ]
     },
     "execution_count": 42,
     "metadata": {},
     "output_type": "execute_result"
    }
   ],
   "source": [
    "data = pd.merge(left = test_data, right = user_data, how = 'left', left_on = 'user_id', right_on = 'user_id')\n",
    "data.head(3)"
   ]
  },
  {
   "cell_type": "code",
   "execution_count": 17,
   "id": "judicial-freight",
   "metadata": {},
   "outputs": [
    {
     "data": {
      "text/plain": [
       "user_id                  0\n",
       "date                     0\n",
       "source                   0\n",
       "device                   0\n",
       "browser_language         0\n",
       "ads_channel         271444\n",
       "browser                  0\n",
       "conversion               0\n",
       "test                     0\n",
       "sex                    454\n",
       "age                    454\n",
       "country                454\n",
       "dtype: int64"
      ]
     },
     "execution_count": 17,
     "metadata": {},
     "output_type": "execute_result"
    }
   ],
   "source": [
    "data.isna().sum()"
   ]
  },
  {
   "cell_type": "code",
   "execution_count": 18,
   "id": "ruled-nothing",
   "metadata": {},
   "outputs": [],
   "source": [
    "# understand the unique values for each variable"
   ]
  },
  {
   "cell_type": "code",
   "execution_count": 19,
   "id": "significant-slovakia",
   "metadata": {},
   "outputs": [
    {
     "name": "stdout",
     "output_type": "stream",
     "text": [
      "user_id              453321\t [315281 497851 848402 290051 548435]\n",
      "date                     5\t ['2015-12-03' '2015-12-04' '2015-11-30' '2015-12-01' '2015-12-02']\n",
      "source                   3\t ['Direct' 'Ads' 'SEO']\n",
      "device                   2\t ['Web' 'Mobile']\n",
      "browser_language         3\t ['ES' 'Other' 'EN']\n",
      "ads_channel              6\t [nan 'Google' 'Facebook' 'Bing' 'Yahoo']\n",
      "browser                  7\t ['IE' 'Chrome' 'Android_App' 'FireFox' 'Iphone_App']\n",
      "conversion               2\t [1 0]\n",
      "test                     2\t [0 1]\n",
      "sex                      3\t ['M' 'F' nan]\n",
      "age                     53\t [32. 21. 34. 22. 19.]\n",
      "country                 18\t ['Spain' 'Mexico' 'Venezuela' 'Bolivia' 'Colombia']\n"
     ]
    }
   ],
   "source": [
    "for column in data.columns:\n",
    "    uniques = data[column].unique()\n",
    "    print('{0:20s} {1:5d}\\t'.format(column, len(uniques)), uniques[:5])"
   ]
  },
  {
   "cell_type": "markdown",
   "id": "coordinated-error",
   "metadata": {},
   "source": [
    "## 1. check if the test results is true"
   ]
  },
  {
   "cell_type": "code",
   "execution_count": 20,
   "id": "cubic-brave",
   "metadata": {},
   "outputs": [
    {
     "data": {
      "image/png": "[encoded data removed]",
      "text/plain": [
       "<Figure size 960x480 with 1 Axes>"
      ]
     },
     "metadata": {
      "needs_background": "light"
     },
     "output_type": "display_data"
    }
   ],
   "source": [
    "group_country_test = data[['test','country', 'conversion']].groupby(['test', 'country']).mean().reset_index()\n",
    "\n",
    "# fig, ax = plt.subplots(1, 2, figsize=(15, 4), sharex = True)\n",
    "\n",
    "plt.figure(figsize=(12, 6), dpi=80)\n",
    "sns.barplot(data = group_country_test, x ='country', hue='test', y = 'conversion')\n",
    "\n",
    "plt.xticks(rotation= 30)\n",
    "plt.show()"
   ]
  },
  {
   "cell_type": "code",
   "execution_count": 21,
   "id": "synthetic-clothing",
   "metadata": {},
   "outputs": [],
   "source": [
    "# remove the influence of large proportion of Spain users in the original group "
   ]
  },
  {
   "cell_type": "code",
   "execution_count": 22,
   "id": "bound-pricing",
   "metadata": {},
   "outputs": [
    {
     "data": {
      "text/html": [
       "<div>\n",
       "<style scoped>\n",
       "    .dataframe tbody tr th:only-of-type {\n",
       "        vertical-align: middle;\n",
       "    }\n",
       "\n",
       "    .dataframe tbody tr th {\n",
       "        vertical-align: top;\n",
       "    }\n",
       "\n",
       "    .dataframe thead th {\n",
       "        text-align: right;\n",
       "    }\n",
       "</style>\n",
       "<table border=\"1\" class=\"dataframe\">\n",
       "  <thead>\n",
       "    <tr style=\"text-align: right;\">\n",
       "      <th></th>\n",
       "      <th>test</th>\n",
       "      <th>conversion</th>\n",
       "    </tr>\n",
       "  </thead>\n",
       "  <tbody>\n",
       "    <tr>\n",
       "      <th>0</th>\n",
       "      <td>0</td>\n",
       "      <td>0.055179</td>\n",
       "    </tr>\n",
       "    <tr>\n",
       "      <th>1</th>\n",
       "      <td>1</td>\n",
       "      <td>0.043425</td>\n",
       "    </tr>\n",
       "  </tbody>\n",
       "</table>\n",
       "</div>"
      ],
      "text/plain": [
       "   test  conversion\n",
       "0     0    0.055179\n",
       "1     1    0.043425"
      ]
     },
     "execution_count": 22,
     "metadata": {},
     "output_type": "execute_result"
    }
   ],
   "source": [
    "group_country_test = data[['test','conversion']].groupby(['test']).mean().reset_index()\n",
    "group_country_test"
   ]
  },
  {
   "cell_type": "code",
   "execution_count": 23,
   "id": "corporate-offense",
   "metadata": {},
   "outputs": [
    {
     "data": {
      "text/html": [
       "<div>\n",
       "<style scoped>\n",
       "    .dataframe tbody tr th:only-of-type {\n",
       "        vertical-align: middle;\n",
       "    }\n",
       "\n",
       "    .dataframe tbody tr th {\n",
       "        vertical-align: top;\n",
       "    }\n",
       "\n",
       "    .dataframe thead th {\n",
       "        text-align: right;\n",
       "    }\n",
       "</style>\n",
       "<table border=\"1\" class=\"dataframe\">\n",
       "  <thead>\n",
       "    <tr style=\"text-align: right;\">\n",
       "      <th></th>\n",
       "      <th>test</th>\n",
       "      <th>conversion</th>\n",
       "    </tr>\n",
       "  </thead>\n",
       "  <tbody>\n",
       "    <tr>\n",
       "      <th>0</th>\n",
       "      <td>0</td>\n",
       "      <td>0.048330</td>\n",
       "    </tr>\n",
       "    <tr>\n",
       "      <th>1</th>\n",
       "      <td>1</td>\n",
       "      <td>0.043425</td>\n",
       "    </tr>\n",
       "  </tbody>\n",
       "</table>\n",
       "</div>"
      ],
      "text/plain": [
       "   test  conversion\n",
       "0     0    0.048330\n",
       "1     1    0.043425"
      ]
     },
     "execution_count": 23,
     "metadata": {},
     "output_type": "execute_result"
    }
   ],
   "source": [
    "temp_data = data[(data['country']!= 'Spain')]\n",
    "group_country_test = temp_data[['test','conversion']].groupby(['test']).mean().reset_index()\n",
    "group_country_test"
   ]
  },
  {
   "cell_type": "code",
   "execution_count": 24,
   "id": "fixed-mistress",
   "metadata": {},
   "outputs": [],
   "source": [
    "### Check if the conversion rate of 'Spain' in test group is higher than other countries"
   ]
  },
  {
   "cell_type": "code",
   "execution_count": 25,
   "id": "oriental-glory",
   "metadata": {},
   "outputs": [
    {
     "data": {
      "text/html": [
       "<div>\n",
       "<style scoped>\n",
       "    .dataframe tbody tr th:only-of-type {\n",
       "        vertical-align: middle;\n",
       "    }\n",
       "\n",
       "    .dataframe tbody tr th {\n",
       "        vertical-align: top;\n",
       "    }\n",
       "\n",
       "    .dataframe thead th {\n",
       "        text-align: right;\n",
       "    }\n",
       "</style>\n",
       "<table border=\"1\" class=\"dataframe\">\n",
       "  <thead>\n",
       "    <tr style=\"text-align: right;\">\n",
       "      <th></th>\n",
       "      <th>country</th>\n",
       "      <th>conversion</th>\n",
       "    </tr>\n",
       "  </thead>\n",
       "  <tbody>\n",
       "    <tr>\n",
       "      <th>14</th>\n",
       "      <td>Spain</td>\n",
       "      <td>0.079719</td>\n",
       "    </tr>\n",
       "    <tr>\n",
       "      <th>6</th>\n",
       "      <td>El Salvador</td>\n",
       "      <td>0.053554</td>\n",
       "    </tr>\n",
       "    <tr>\n",
       "      <th>10</th>\n",
       "      <td>Nicaragua</td>\n",
       "      <td>0.052647</td>\n",
       "    </tr>\n",
       "    <tr>\n",
       "      <th>4</th>\n",
       "      <td>Costa Rica</td>\n",
       "      <td>0.052256</td>\n",
       "    </tr>\n",
       "    <tr>\n",
       "      <th>3</th>\n",
       "      <td>Colombia</td>\n",
       "      <td>0.052089</td>\n",
       "    </tr>\n",
       "    <tr>\n",
       "      <th>8</th>\n",
       "      <td>Honduras</td>\n",
       "      <td>0.050906</td>\n",
       "    </tr>\n",
       "    <tr>\n",
       "      <th>7</th>\n",
       "      <td>Guatemala</td>\n",
       "      <td>0.050643</td>\n",
       "    </tr>\n",
       "    <tr>\n",
       "      <th>16</th>\n",
       "      <td>Venezuela</td>\n",
       "      <td>0.050344</td>\n",
       "    </tr>\n",
       "    <tr>\n",
       "      <th>13</th>\n",
       "      <td>Peru</td>\n",
       "      <td>0.049914</td>\n",
       "    </tr>\n",
       "    <tr>\n",
       "      <th>9</th>\n",
       "      <td>Mexico</td>\n",
       "      <td>0.049495</td>\n",
       "    </tr>\n",
       "    <tr>\n",
       "      <th>1</th>\n",
       "      <td>Bolivia</td>\n",
       "      <td>0.049369</td>\n",
       "    </tr>\n",
       "    <tr>\n",
       "      <th>5</th>\n",
       "      <td>Ecuador</td>\n",
       "      <td>0.049154</td>\n",
       "    </tr>\n",
       "    <tr>\n",
       "      <th>12</th>\n",
       "      <td>Paraguay</td>\n",
       "      <td>0.048493</td>\n",
       "    </tr>\n",
       "    <tr>\n",
       "      <th>2</th>\n",
       "      <td>Chile</td>\n",
       "      <td>0.048107</td>\n",
       "    </tr>\n",
       "    <tr>\n",
       "      <th>11</th>\n",
       "      <td>Panama</td>\n",
       "      <td>0.046796</td>\n",
       "    </tr>\n",
       "    <tr>\n",
       "      <th>0</th>\n",
       "      <td>Argentina</td>\n",
       "      <td>0.015071</td>\n",
       "    </tr>\n",
       "    <tr>\n",
       "      <th>15</th>\n",
       "      <td>Uruguay</td>\n",
       "      <td>0.012048</td>\n",
       "    </tr>\n",
       "  </tbody>\n",
       "</table>\n",
       "</div>"
      ],
      "text/plain": [
       "        country  conversion\n",
       "14        Spain    0.079719\n",
       "6   El Salvador    0.053554\n",
       "10    Nicaragua    0.052647\n",
       "4    Costa Rica    0.052256\n",
       "3      Colombia    0.052089\n",
       "8      Honduras    0.050906\n",
       "7     Guatemala    0.050643\n",
       "16    Venezuela    0.050344\n",
       "13         Peru    0.049914\n",
       "9        Mexico    0.049495\n",
       "1       Bolivia    0.049369\n",
       "5       Ecuador    0.049154\n",
       "12     Paraguay    0.048493\n",
       "2         Chile    0.048107\n",
       "11       Panama    0.046796\n",
       "0     Argentina    0.015071\n",
       "15      Uruguay    0.012048"
      ]
     },
     "execution_count": 25,
     "metadata": {},
     "output_type": "execute_result"
    }
   ],
   "source": [
    "temp_data = data[(data['test'] == 0)]\n",
    "group_country_test = temp_data[['country','conversion']].groupby(['country']).mean().reset_index()\n",
    "group_country_test.sort_values(by=['conversion'], ascending=False)"
   ]
  },
  {
   "cell_type": "code",
   "execution_count": 43,
   "id": "impressive-approval",
   "metadata": {},
   "outputs": [
    {
     "data": {
      "text/html": [
       "<div>\n",
       "<style scoped>\n",
       "    .dataframe tbody tr th:only-of-type {\n",
       "        vertical-align: middle;\n",
       "    }\n",
       "\n",
       "    .dataframe tbody tr th {\n",
       "        vertical-align: top;\n",
       "    }\n",
       "\n",
       "    .dataframe thead th {\n",
       "        text-align: right;\n",
       "    }\n",
       "</style>\n",
       "<table border=\"1\" class=\"dataframe\">\n",
       "  <thead>\n",
       "    <tr style=\"text-align: right;\">\n",
       "      <th></th>\n",
       "      <th>test</th>\n",
       "      <th>user_id</th>\n",
       "    </tr>\n",
       "  </thead>\n",
       "  <tbody>\n",
       "    <tr>\n",
       "      <th>0</th>\n",
       "      <td>0</td>\n",
       "      <td>185556</td>\n",
       "    </tr>\n",
       "    <tr>\n",
       "      <th>1</th>\n",
       "      <td>1</td>\n",
       "      <td>215983</td>\n",
       "    </tr>\n",
       "  </tbody>\n",
       "</table>\n",
       "</div>"
      ],
      "text/plain": [
       "   test  user_id\n",
       "0     0   185556\n",
       "1     1   215983"
      ]
     },
     "execution_count": 43,
     "metadata": {},
     "output_type": "execute_result"
    }
   ],
   "source": [
    "test_data = data[(data['country']!= 'Spain')]\n",
    "temp_data = test_data[['test', 'user_id']].groupby(['test']).count().reset_index()\n",
    "temp_data"
   ]
  },
  {
   "cell_type": "code",
   "execution_count": 27,
   "id": "objective-shield",
   "metadata": {},
   "outputs": [],
   "source": [
    "import scipy.stats as st"
   ]
  },
  {
   "cell_type": "code",
   "execution_count": 28,
   "id": "parallel-actress",
   "metadata": {},
   "outputs": [],
   "source": [
    "test_set =  test_data[(data['test'] == 1)]['conversion'].values\n",
    "no_test_set =  test_data[(data['test'] == 0)]['conversion'].values"
   ]
  },
  {
   "cell_type": "code",
   "execution_count": 29,
   "id": "copyrighted-coach",
   "metadata": {},
   "outputs": [
    {
     "data": {
      "text/plain": [
       "Ttest_indResult(statistic=-7.3939374121344805, pvalue=1.4282994754055316e-13)"
      ]
     },
     "execution_count": 29,
     "metadata": {},
     "output_type": "execute_result"
    }
   ],
   "source": [
    "st.ttest_ind(test_set, no_test_set, equal_var = False)"
   ]
  },
  {
   "cell_type": "code",
   "execution_count": 30,
   "id": "fabulous-permit",
   "metadata": {},
   "outputs": [
    {
     "name": "stdout",
     "output_type": "stream",
     "text": [
      "mean_test_set: 0.0434 \n",
      " mean_no_test_set: 0.0483\n"
     ]
    }
   ],
   "source": [
    "mean_test_set = test_set.mean()\n",
    "mean_no_test_set = no_test_set.mean()\n",
    "print('mean_test_set:', round(mean_test_set, 4),'\\n', \n",
    "      'mean_no_test_set:', round(mean_no_test_set, 4) )"
   ]
  },
  {
   "cell_type": "code",
   "execution_count": 31,
   "id": "interior-scotland",
   "metadata": {},
   "outputs": [
    {
     "name": "stdout",
     "output_type": "stream",
     "text": [
      "var_test_set: 0.0415 \n",
      " var_no_test_set: 0.046\n"
     ]
    }
   ],
   "source": [
    "np.var(test_set)\n",
    "\n",
    "var_test_set = np.var(test_set)\n",
    "var_no_test_set = np.var(no_test_set)\n",
    "print('var_test_set:', round(var_test_set, 4),'\\n', \n",
    "      'var_no_test_set:', round(var_no_test_set, 4) )"
   ]
  },
  {
   "cell_type": "code",
   "execution_count": 39,
   "id": "streaming-thomson",
   "metadata": {},
   "outputs": [],
   "source": [
    "# st.t.interval(alpha=0.95, df=len(test_set)-1, loc=np.mean(test_set),  scale=st.sem(test_data)) "
   ]
  },
  {
   "cell_type": "code",
   "execution_count": 33,
   "id": "golden-dollar",
   "metadata": {},
   "outputs": [],
   "source": [
    "#### data analysis"
   ]
  },
  {
   "cell_type": "code",
   "execution_count": 34,
   "id": "greatest-adaptation",
   "metadata": {},
   "outputs": [],
   "source": [
    "#### 1. analysis the conversion rate day by day"
   ]
  },
  {
   "cell_type": "code",
   "execution_count": 98,
   "id": "minute-pointer",
   "metadata": {},
   "outputs": [
    {
     "data": {
      "image/png": "[encoded data removed]",
      "text/plain": [
       "<Figure size 1080x288 with 2 Axes>"
      ]
     },
     "metadata": {
      "needs_background": "light"
     },
     "output_type": "display_data"
    }
   ],
   "source": [
    "group_date_test_1 = test_data[['test','date', 'conversion']].groupby(['test', 'date']).mean().reset_index()\n",
    "group_date_test_2 = test_data[['test','date', 'conversion']].groupby(['test', 'date']).count().reset_index()\n",
    "\n",
    "fig, ax = plt.subplots(1, 2, figsize=(15, 4))\n",
    "\n",
    "sns.barplot(data = group_date_test_1, x ='date', hue='test', y = 'conversion', ax = ax[0])\n",
    "ax[0].set_title('converted or not between different date')\n",
    "\n",
    "sns.barplot(data = group_date_test_2, x ='date', hue='test', y = 'conversion', ax = ax[1])\n",
    "ax[1].set_title('sample distribution between different date')\n",
    "\n",
    "\n",
    "plt.show()"
   ]
  },
  {
   "cell_type": "code",
   "execution_count": 37,
   "id": "copyrighted-tourist",
   "metadata": {},
   "outputs": [],
   "source": [
    "### the plot above shows that in each date, the performance of test group works worse \n",
    "### than the control group. Which also indicates that we have enough data\n",
    "### It's racommend to run the AB test at least for one week to capture the weekly pattern and two weeks would be even better."
   ]
  },
  {
   "cell_type": "code",
   "execution_count": null,
   "id": "meaningful-banner",
   "metadata": {},
   "outputs": [],
   "source": [
    "#### 2. analysis the conversion rate between each country"
   ]
  },
  {
   "cell_type": "code",
   "execution_count": 40,
   "id": "dominican-soviet",
   "metadata": {},
   "outputs": [],
   "source": [
    "#### another possible reason for this strange result would be the distribution of users between test and control groups are not even.\n",
    "#### That is to say, there are other factors which influence the user belongs to the test group or not.\n",
    "#### They are not evenly or randomly distributed in these two groups\n",
    "#### one possible way to explore this is to build a tree regression to see if there are any variables can decide the belonging of test group or control group"
   ]
  },
  {
   "cell_type": "code",
   "execution_count": 44,
   "id": "separated-hollywood",
   "metadata": {},
   "outputs": [
    {
     "data": {
      "text/plain": [
       "Index(['user_id', 'date', 'source', 'device', 'browser_language',\n",
       "       'ads_channel', 'browser', 'conversion', 'test', 'sex', 'age',\n",
       "       'country'],\n",
       "      dtype='object')"
      ]
     },
     "execution_count": 44,
     "metadata": {},
     "output_type": "execute_result"
    }
   ],
   "source": [
    "test_data.columns"
   ]
  },
  {
   "cell_type": "code",
   "execution_count": 55,
   "id": "fancy-madison",
   "metadata": {},
   "outputs": [
    {
     "data": {
      "text/html": [
       "<div>\n",
       "<style scoped>\n",
       "    .dataframe tbody tr th:only-of-type {\n",
       "        vertical-align: middle;\n",
       "    }\n",
       "\n",
       "    .dataframe tbody tr th {\n",
       "        vertical-align: top;\n",
       "    }\n",
       "\n",
       "    .dataframe thead th {\n",
       "        text-align: right;\n",
       "    }\n",
       "</style>\n",
       "<table border=\"1\" class=\"dataframe\">\n",
       "  <thead>\n",
       "    <tr style=\"text-align: right;\">\n",
       "      <th></th>\n",
       "      <th>test</th>\n",
       "      <th>age</th>\n",
       "      <th>source_Direct</th>\n",
       "      <th>source_SEO</th>\n",
       "      <th>device_Web</th>\n",
       "      <th>browser_language_ES</th>\n",
       "      <th>browser_language_Other</th>\n",
       "      <th>ads_channel_Facebook</th>\n",
       "      <th>ads_channel_Google</th>\n",
       "      <th>ads_channel_Other</th>\n",
       "      <th>...</th>\n",
       "      <th>country_El Salvador</th>\n",
       "      <th>country_Guatemala</th>\n",
       "      <th>country_Honduras</th>\n",
       "      <th>country_Mexico</th>\n",
       "      <th>country_Nicaragua</th>\n",
       "      <th>country_Panama</th>\n",
       "      <th>country_Paraguay</th>\n",
       "      <th>country_Peru</th>\n",
       "      <th>country_Uruguay</th>\n",
       "      <th>country_Venezuela</th>\n",
       "    </tr>\n",
       "  </thead>\n",
       "  <tbody>\n",
       "    <tr>\n",
       "      <th>1</th>\n",
       "      <td>1</td>\n",
       "      <td>21.0</td>\n",
       "      <td>0</td>\n",
       "      <td>0</td>\n",
       "      <td>1</td>\n",
       "      <td>1</td>\n",
       "      <td>0</td>\n",
       "      <td>0</td>\n",
       "      <td>1</td>\n",
       "      <td>0</td>\n",
       "      <td>...</td>\n",
       "      <td>0</td>\n",
       "      <td>0</td>\n",
       "      <td>0</td>\n",
       "      <td>1</td>\n",
       "      <td>0</td>\n",
       "      <td>0</td>\n",
       "      <td>0</td>\n",
       "      <td>0</td>\n",
       "      <td>0</td>\n",
       "      <td>0</td>\n",
       "    </tr>\n",
       "    <tr>\n",
       "      <th>3</th>\n",
       "      <td>1</td>\n",
       "      <td>22.0</td>\n",
       "      <td>0</td>\n",
       "      <td>0</td>\n",
       "      <td>0</td>\n",
       "      <td>0</td>\n",
       "      <td>1</td>\n",
       "      <td>1</td>\n",
       "      <td>0</td>\n",
       "      <td>0</td>\n",
       "      <td>...</td>\n",
       "      <td>0</td>\n",
       "      <td>0</td>\n",
       "      <td>0</td>\n",
       "      <td>1</td>\n",
       "      <td>0</td>\n",
       "      <td>0</td>\n",
       "      <td>0</td>\n",
       "      <td>0</td>\n",
       "      <td>0</td>\n",
       "      <td>0</td>\n",
       "    </tr>\n",
       "    <tr>\n",
       "      <th>4</th>\n",
       "      <td>1</td>\n",
       "      <td>19.0</td>\n",
       "      <td>0</td>\n",
       "      <td>0</td>\n",
       "      <td>1</td>\n",
       "      <td>1</td>\n",
       "      <td>0</td>\n",
       "      <td>0</td>\n",
       "      <td>1</td>\n",
       "      <td>0</td>\n",
       "      <td>...</td>\n",
       "      <td>0</td>\n",
       "      <td>0</td>\n",
       "      <td>0</td>\n",
       "      <td>1</td>\n",
       "      <td>0</td>\n",
       "      <td>0</td>\n",
       "      <td>0</td>\n",
       "      <td>0</td>\n",
       "      <td>0</td>\n",
       "      <td>0</td>\n",
       "    </tr>\n",
       "  </tbody>\n",
       "</table>\n",
       "<p>3 rows × 33 columns</p>\n",
       "</div>"
      ],
      "text/plain": [
       "   test   age  source_Direct  source_SEO  device_Web  browser_language_ES  \\\n",
       "1     1  21.0              0           0           1                    1   \n",
       "3     1  22.0              0           0           0                    0   \n",
       "4     1  19.0              0           0           1                    1   \n",
       "\n",
       "   browser_language_Other  ads_channel_Facebook  ads_channel_Google  \\\n",
       "1                       0                     0                   1   \n",
       "3                       1                     1                   0   \n",
       "4                       0                     0                   1   \n",
       "\n",
       "   ads_channel_Other  ...  country_El Salvador  country_Guatemala  \\\n",
       "1                  0  ...                    0                  0   \n",
       "3                  0  ...                    0                  0   \n",
       "4                  0  ...                    0                  0   \n",
       "\n",
       "   country_Honduras  country_Mexico  country_Nicaragua  country_Panama  \\\n",
       "1                 0               1                  0               0   \n",
       "3                 0               1                  0               0   \n",
       "4                 0               1                  0               0   \n",
       "\n",
       "   country_Paraguay  country_Peru  country_Uruguay  country_Venezuela  \n",
       "1                 0             0                0                  0  \n",
       "3                 0             0                0                  0  \n",
       "4                 0             0                0                  0  \n",
       "\n",
       "[3 rows x 33 columns]"
      ]
     },
     "execution_count": 55,
     "metadata": {},
     "output_type": "execute_result"
    }
   ],
   "source": [
    "temp_data = test_data[['source', 'device', 'browser_language',\n",
    "       'ads_channel', 'browser', 'test', 'sex', 'age',\n",
    "       'country']]\n",
    "reg_data = pd.get_dummies(temp_data, \n",
    "                          columns = ['source', 'device', 'browser_language',\n",
    "       'ads_channel', 'browser', 'sex','country'], drop_first = True)\n",
    "reg_data = reg_data.dropna(how='any')\n",
    "reg_data.head(3)"
   ]
  },
  {
   "cell_type": "code",
   "execution_count": 56,
   "id": "violent-valley",
   "metadata": {},
   "outputs": [],
   "source": [
    "x_columns = reg_data.columns[1:].tolist()\n",
    "X_train = reg_data[x_columns]\n",
    "y_train = reg_data['test']"
   ]
  },
  {
   "cell_type": "code",
   "execution_count": 70,
   "id": "computational-carbon",
   "metadata": {},
   "outputs": [
    {
     "data": {
      "text/plain": [
       "DecisionTreeClassifier(max_depth=8, random_state=1)"
      ]
     },
     "execution_count": 70,
     "metadata": {},
     "output_type": "execute_result"
    }
   ],
   "source": [
    "fullClassTree = DecisionTreeClassifier(random_state=1, max_depth = 8)\n",
    "fullClassTree.fit(X_train, y_train)"
   ]
  },
  {
   "cell_type": "code",
   "execution_count": 71,
   "id": "ideal-builder",
   "metadata": {},
   "outputs": [
    {
     "name": "stdout",
     "output_type": "stream",
     "text": [
      "country_Uruguay 0.2532123078323881\n",
      "country_Guatemala 0.1291307735463349\n",
      "country_Peru 0.11154392808187961\n",
      "country_Ecuador 0.10574329275758455\n",
      "country_Mexico 0.10151062113240585\n",
      "country_Chile 0.0888482829542444\n",
      "country_Colombia 0.08331894607170258\n",
      "country_Venezuela 0.07902464415948852\n",
      "age 0.019203317074928915\n",
      "browser_language_ES 0.003623133489778856\n",
      "browser_Safari 0.0024498983973612306\n",
      "browser_IE 0.0024322573046548297\n",
      "sex_M 0.0024252473537994487\n",
      "ads_channel_Facebook 0.002130810199944349\n",
      "browser_Chrome 0.00210273337751489\n",
      "ads_channel_Other 0.0019277757980080072\n",
      "browser_Iphone_App 0.0018966349232381725\n",
      "browser_language_Other 0.0017260936167064452\n",
      "device_Web 0.0015972134139269085\n",
      "source_SEO 0.0015386451713273385\n",
      "source_Direct 0.0013821514515256937\n",
      "ads_channel_Yahoo 0.0010347632433597906\n",
      "browser_FireFox 0.000952131442078942\n",
      "browser_Opera 0.0006731522567715412\n",
      "ads_channel_Google 0.0005712449490462672\n",
      "country_Paraguay 0.0\n",
      "country_Panama 0.0\n",
      "country_Nicaragua 0.0\n",
      "country_Honduras 0.0\n",
      "country_El Salvador 0.0\n",
      "country_Costa Rica 0.0\n",
      "country_Bolivia 0.0\n"
     ]
    }
   ],
   "source": [
    "for importance, name in sorted(zip(fullClassTree.feature_importances_, X_train.columns),reverse=True):\n",
    "    print (name, importance)"
   ]
  },
  {
   "cell_type": "code",
   "execution_count": 84,
   "id": "abstract-latin",
   "metadata": {},
   "outputs": [
    {
     "data": {
      "text/html": [
       "<div>\n",
       "<style scoped>\n",
       "    .dataframe tbody tr th:only-of-type {\n",
       "        vertical-align: middle;\n",
       "    }\n",
       "\n",
       "    .dataframe tbody tr th {\n",
       "        vertical-align: top;\n",
       "    }\n",
       "\n",
       "    .dataframe thead th {\n",
       "        text-align: right;\n",
       "    }\n",
       "</style>\n",
       "<table border=\"1\" class=\"dataframe\">\n",
       "  <thead>\n",
       "    <tr style=\"text-align: right;\">\n",
       "      <th></th>\n",
       "      <th>country</th>\n",
       "      <th>test</th>\n",
       "      <th>count_sub</th>\n",
       "      <th>count_total</th>\n",
       "      <th>test_control_ratio</th>\n",
       "    </tr>\n",
       "  </thead>\n",
       "  <tbody>\n",
       "    <tr>\n",
       "      <th>29</th>\n",
       "      <td>Uruguay</td>\n",
       "      <td>1</td>\n",
       "      <td>3719</td>\n",
       "      <td>4134</td>\n",
       "      <td>0.899613</td>\n",
       "    </tr>\n",
       "    <tr>\n",
       "      <th>1</th>\n",
       "      <td>Argentina</td>\n",
       "      <td>1</td>\n",
       "      <td>37377</td>\n",
       "      <td>46733</td>\n",
       "      <td>0.799799</td>\n",
       "    </tr>\n",
       "    <tr>\n",
       "      <th>16</th>\n",
       "      <td>Honduras</td>\n",
       "      <td>0</td>\n",
       "      <td>4361</td>\n",
       "      <td>8568</td>\n",
       "      <td>0.508987</td>\n",
       "    </tr>\n",
       "    <tr>\n",
       "      <th>20</th>\n",
       "      <td>Nicaragua</td>\n",
       "      <td>0</td>\n",
       "      <td>3419</td>\n",
       "      <td>6723</td>\n",
       "      <td>0.508553</td>\n",
       "    </tr>\n",
       "    <tr>\n",
       "      <th>10</th>\n",
       "      <td>Ecuador</td>\n",
       "      <td>0</td>\n",
       "      <td>8036</td>\n",
       "      <td>15895</td>\n",
       "      <td>0.505568</td>\n",
       "    </tr>\n",
       "    <tr>\n",
       "      <th>14</th>\n",
       "      <td>Guatemala</td>\n",
       "      <td>0</td>\n",
       "      <td>7622</td>\n",
       "      <td>15125</td>\n",
       "      <td>0.503934</td>\n",
       "    </tr>\n",
       "    <tr>\n",
       "      <th>30</th>\n",
       "      <td>Venezuela</td>\n",
       "      <td>0</td>\n",
       "      <td>16149</td>\n",
       "      <td>32054</td>\n",
       "      <td>0.503806</td>\n",
       "    </tr>\n",
       "    <tr>\n",
       "      <th>25</th>\n",
       "      <td>Paraguay</td>\n",
       "      <td>1</td>\n",
       "      <td>3697</td>\n",
       "      <td>7347</td>\n",
       "      <td>0.503199</td>\n",
       "    </tr>\n",
       "    <tr>\n",
       "      <th>12</th>\n",
       "      <td>El Salvador</td>\n",
       "      <td>0</td>\n",
       "      <td>4108</td>\n",
       "      <td>8175</td>\n",
       "      <td>0.502508</td>\n",
       "    </tr>\n",
       "    <tr>\n",
       "      <th>23</th>\n",
       "      <td>Panama</td>\n",
       "      <td>1</td>\n",
       "      <td>1985</td>\n",
       "      <td>3951</td>\n",
       "      <td>0.502404</td>\n",
       "    </tr>\n",
       "    <tr>\n",
       "      <th>3</th>\n",
       "      <td>Bolivia</td>\n",
       "      <td>1</td>\n",
       "      <td>5574</td>\n",
       "      <td>11124</td>\n",
       "      <td>0.501079</td>\n",
       "    </tr>\n",
       "    <tr>\n",
       "      <th>6</th>\n",
       "      <td>Colombia</td>\n",
       "      <td>0</td>\n",
       "      <td>27088</td>\n",
       "      <td>54060</td>\n",
       "      <td>0.501073</td>\n",
       "    </tr>\n",
       "    <tr>\n",
       "      <th>26</th>\n",
       "      <td>Peru</td>\n",
       "      <td>0</td>\n",
       "      <td>16869</td>\n",
       "      <td>33666</td>\n",
       "      <td>0.501069</td>\n",
       "    </tr>\n",
       "    <tr>\n",
       "      <th>8</th>\n",
       "      <td>Costa Rica</td>\n",
       "      <td>0</td>\n",
       "      <td>2660</td>\n",
       "      <td>5309</td>\n",
       "      <td>0.501036</td>\n",
       "    </tr>\n",
       "    <tr>\n",
       "      <th>5</th>\n",
       "      <td>Chile</td>\n",
       "      <td>1</td>\n",
       "      <td>9884</td>\n",
       "      <td>19737</td>\n",
       "      <td>0.500785</td>\n",
       "    </tr>\n",
       "    <tr>\n",
       "      <th>19</th>\n",
       "      <td>Mexico</td>\n",
       "      <td>1</td>\n",
       "      <td>64275</td>\n",
       "      <td>128484</td>\n",
       "      <td>0.500257</td>\n",
       "    </tr>\n",
       "    <tr>\n",
       "      <th>18</th>\n",
       "      <td>Mexico</td>\n",
       "      <td>0</td>\n",
       "      <td>64209</td>\n",
       "      <td>128484</td>\n",
       "      <td>0.499743</td>\n",
       "    </tr>\n",
       "    <tr>\n",
       "      <th>4</th>\n",
       "      <td>Chile</td>\n",
       "      <td>0</td>\n",
       "      <td>9853</td>\n",
       "      <td>19737</td>\n",
       "      <td>0.499215</td>\n",
       "    </tr>\n",
       "    <tr>\n",
       "      <th>9</th>\n",
       "      <td>Costa Rica</td>\n",
       "      <td>1</td>\n",
       "      <td>2649</td>\n",
       "      <td>5309</td>\n",
       "      <td>0.498964</td>\n",
       "    </tr>\n",
       "    <tr>\n",
       "      <th>27</th>\n",
       "      <td>Peru</td>\n",
       "      <td>1</td>\n",
       "      <td>16797</td>\n",
       "      <td>33666</td>\n",
       "      <td>0.498931</td>\n",
       "    </tr>\n",
       "    <tr>\n",
       "      <th>7</th>\n",
       "      <td>Colombia</td>\n",
       "      <td>1</td>\n",
       "      <td>26972</td>\n",
       "      <td>54060</td>\n",
       "      <td>0.498927</td>\n",
       "    </tr>\n",
       "    <tr>\n",
       "      <th>2</th>\n",
       "      <td>Bolivia</td>\n",
       "      <td>0</td>\n",
       "      <td>5550</td>\n",
       "      <td>11124</td>\n",
       "      <td>0.498921</td>\n",
       "    </tr>\n",
       "    <tr>\n",
       "      <th>22</th>\n",
       "      <td>Panama</td>\n",
       "      <td>0</td>\n",
       "      <td>1966</td>\n",
       "      <td>3951</td>\n",
       "      <td>0.497596</td>\n",
       "    </tr>\n",
       "    <tr>\n",
       "      <th>13</th>\n",
       "      <td>El Salvador</td>\n",
       "      <td>1</td>\n",
       "      <td>4067</td>\n",
       "      <td>8175</td>\n",
       "      <td>0.497492</td>\n",
       "    </tr>\n",
       "    <tr>\n",
       "      <th>24</th>\n",
       "      <td>Paraguay</td>\n",
       "      <td>0</td>\n",
       "      <td>3650</td>\n",
       "      <td>7347</td>\n",
       "      <td>0.496801</td>\n",
       "    </tr>\n",
       "    <tr>\n",
       "      <th>31</th>\n",
       "      <td>Venezuela</td>\n",
       "      <td>1</td>\n",
       "      <td>15905</td>\n",
       "      <td>32054</td>\n",
       "      <td>0.496194</td>\n",
       "    </tr>\n",
       "    <tr>\n",
       "      <th>15</th>\n",
       "      <td>Guatemala</td>\n",
       "      <td>1</td>\n",
       "      <td>7503</td>\n",
       "      <td>15125</td>\n",
       "      <td>0.496066</td>\n",
       "    </tr>\n",
       "    <tr>\n",
       "      <th>11</th>\n",
       "      <td>Ecuador</td>\n",
       "      <td>1</td>\n",
       "      <td>7859</td>\n",
       "      <td>15895</td>\n",
       "      <td>0.494432</td>\n",
       "    </tr>\n",
       "    <tr>\n",
       "      <th>21</th>\n",
       "      <td>Nicaragua</td>\n",
       "      <td>1</td>\n",
       "      <td>3304</td>\n",
       "      <td>6723</td>\n",
       "      <td>0.491447</td>\n",
       "    </tr>\n",
       "    <tr>\n",
       "      <th>17</th>\n",
       "      <td>Honduras</td>\n",
       "      <td>1</td>\n",
       "      <td>4207</td>\n",
       "      <td>8568</td>\n",
       "      <td>0.491013</td>\n",
       "    </tr>\n",
       "    <tr>\n",
       "      <th>0</th>\n",
       "      <td>Argentina</td>\n",
       "      <td>0</td>\n",
       "      <td>9356</td>\n",
       "      <td>46733</td>\n",
       "      <td>0.200201</td>\n",
       "    </tr>\n",
       "    <tr>\n",
       "      <th>28</th>\n",
       "      <td>Uruguay</td>\n",
       "      <td>0</td>\n",
       "      <td>415</td>\n",
       "      <td>4134</td>\n",
       "      <td>0.100387</td>\n",
       "    </tr>\n",
       "  </tbody>\n",
       "</table>\n",
       "</div>"
      ],
      "text/plain": [
       "        country  test  count_sub  count_total  test_control_ratio\n",
       "29      Uruguay     1       3719         4134            0.899613\n",
       "1     Argentina     1      37377        46733            0.799799\n",
       "16     Honduras     0       4361         8568            0.508987\n",
       "20    Nicaragua     0       3419         6723            0.508553\n",
       "10      Ecuador     0       8036        15895            0.505568\n",
       "14    Guatemala     0       7622        15125            0.503934\n",
       "30    Venezuela     0      16149        32054            0.503806\n",
       "25     Paraguay     1       3697         7347            0.503199\n",
       "12  El Salvador     0       4108         8175            0.502508\n",
       "23       Panama     1       1985         3951            0.502404\n",
       "3       Bolivia     1       5574        11124            0.501079\n",
       "6      Colombia     0      27088        54060            0.501073\n",
       "26         Peru     0      16869        33666            0.501069\n",
       "8    Costa Rica     0       2660         5309            0.501036\n",
       "5         Chile     1       9884        19737            0.500785\n",
       "19       Mexico     1      64275       128484            0.500257\n",
       "18       Mexico     0      64209       128484            0.499743\n",
       "4         Chile     0       9853        19737            0.499215\n",
       "9    Costa Rica     1       2649         5309            0.498964\n",
       "27         Peru     1      16797        33666            0.498931\n",
       "7      Colombia     1      26972        54060            0.498927\n",
       "2       Bolivia     0       5550        11124            0.498921\n",
       "22       Panama     0       1966         3951            0.497596\n",
       "13  El Salvador     1       4067         8175            0.497492\n",
       "24     Paraguay     0       3650         7347            0.496801\n",
       "31    Venezuela     1      15905        32054            0.496194\n",
       "15    Guatemala     1       7503        15125            0.496066\n",
       "11      Ecuador     1       7859        15895            0.494432\n",
       "21    Nicaragua     1       3304         6723            0.491447\n",
       "17     Honduras     1       4207         8568            0.491013\n",
       "0     Argentina     0       9356        46733            0.200201\n",
       "28      Uruguay     0        415         4134            0.100387"
      ]
     },
     "execution_count": 84,
     "metadata": {},
     "output_type": "execute_result"
    }
   ],
   "source": [
    "group_country_test_1 = test_data[['test','country', 'user_id']].groupby(['country', 'test']).count().reset_index()\n",
    "group_country_test_2 = test_data[['country', 'user_id']].groupby(['country']).count().reset_index()\n",
    "\n",
    "group_country_test = pd.merge(left = group_country_test_1, \n",
    "                              right = group_country_test_2,\n",
    "                             how = 'left', left_on = 'country', right_on = 'country')\n",
    "group_country_test.columns = ['country','test', 'count_sub', 'count_total']\n",
    "group_country_test['test_control_ratio'] = group_country_test['count_sub'] / group_country_test['count_total']\n",
    "group_country_test.sort_values(by=['test_control_ratio'], ascending=False)"
   ]
  },
  {
   "cell_type": "code",
   "execution_count": 94,
   "id": "loved-inspiration",
   "metadata": {},
   "outputs": [
    {
     "data": {
      "image/png": "[encoded data removed]",
      "text/plain": [
       "<Figure size 960x480 with 1 Axes>"
      ]
     },
     "metadata": {
      "needs_background": "light"
     },
     "output_type": "display_data"
    }
   ],
   "source": [
    "plt.figure(figsize=(12, 6), dpi=80)\n",
    "sns.barplot(data = group_country_test, x ='country', hue='test', y = 'count_sub')\n",
    "plt.xticks(rotation= 30)\n",
    "\n",
    "plt.show()"
   ]
  },
  {
   "cell_type": "code",
   "execution_count": 110,
   "id": "guilty-biography",
   "metadata": {},
   "outputs": [],
   "source": [
    "#### we can implement the t test in each country:"
   ]
  },
  {
   "cell_type": "code",
   "execution_count": 120,
   "id": "binding-essence",
   "metadata": {},
   "outputs": [],
   "source": [
    "countries = group_country_test['country'].unique()"
   ]
  },
  {
   "cell_type": "code",
   "execution_count": 122,
   "id": "known-sharing",
   "metadata": {},
   "outputs": [
    {
     "name": "stdout",
     "output_type": "stream",
     "text": [
      "Country               Test Rate    Control Rate    P-Value\n",
      "-----------------------------------------------------------------\n",
      "Argentina               0.01373         0.01507   0.335147\n",
      "Bolivia                 0.04790         0.04937   0.718885\n",
      "Chile                   0.05130         0.04811   0.302848\n",
      "Colombia                0.05057         0.05209   0.423719\n",
      "Costa Rica              0.05474         0.05226   0.687876\n",
      "Ecuador                 0.04899         0.04915   0.961512\n",
      "El Salvador             0.04795         0.05355   0.248127\n",
      "Guatemala               0.04865         0.05064   0.572107\n",
      "Honduras                0.04754         0.05091   0.471463\n",
      "Mexico                  0.05119         0.04949   0.165544\n",
      "Nicaragua               0.05418         0.05265   0.780400\n",
      "Panama                  0.04937         0.04680   0.705327\n",
      "Paraguay                0.04923         0.04849   0.883697\n",
      "Peru                    0.05060         0.04991   0.771953\n",
      "Uruguay                 0.01291         0.01205   0.879764\n",
      "Venezuela               0.04898         0.05034   0.573702\n"
     ]
    }
   ],
   "source": [
    "print('{0:15s} {1:>15s} {2:>15s} {3:>10s}'.format('Country', 'Test Rate', 'Control Rate', 'P-Value'))\n",
    "print('-' * 65)\n",
    "for country in countries:\n",
    "    test_val = data[(data['country'] == country) & (data['test'] == 1)]['conversion'].values\n",
    "    cont_val = data[(data['country'] == country) & (data['test'] == 0)]['conversion'].values\n",
    "    \n",
    "    test_mean = test_val.mean()\n",
    "    cont_mean = cont_val.mean()\n",
    "    p_val = st.ttest_ind(test_val, cont_val, equal_var=False).pvalue\n",
    "    \n",
    "    print('{0:15s} {1:15.5f} {2:15.5f} {3:10f}'.format(country, test_mean, cont_mean, p_val))"
   ]
  },
  {
   "cell_type": "code",
   "execution_count": 123,
   "id": "arabic-summit",
   "metadata": {},
   "outputs": [],
   "source": [
    "#### The new t-test besed on each country indicates that there is no significant difference between the conversion rate if the website is translated or not group"
   ]
  },
  {
   "cell_type": "code",
   "execution_count": 95,
   "id": "ordered-florence",
   "metadata": {},
   "outputs": [],
   "source": [
    "#### 3. analysis the conversion between other variables\n",
    "#### except for contries, we also notice that variables including age, broswer and sex are also \n",
    "#### significant to decide if the sample belongs to test or control\n",
    "#### we can plot the related plots to do more analysis"
   ]
  },
  {
   "cell_type": "code",
   "execution_count": 99,
   "id": "aging-religious",
   "metadata": {},
   "outputs": [
    {
     "data": {
      "image/png": "[encoded data removed]",
      "text/plain": [
       "<Figure size 1080x288 with 2 Axes>"
      ]
     },
     "metadata": {
      "needs_background": "light"
     },
     "output_type": "display_data"
    }
   ],
   "source": [
    "group_age_test_1 = test_data[['test','age', 'conversion']].groupby(['test', 'age']).mean().reset_index()\n",
    "group_age_test_2 = test_data[['test','age', 'conversion']].groupby(['test', 'age']).count().reset_index()\n",
    "\n",
    "fig, ax = plt.subplots(1, 2, figsize=(15, 4))\n",
    "\n",
    "sns.lineplot(data = group_age_test_1, x ='age', hue='test', y = 'conversion', ax = ax[0])\n",
    "ax[0].set_title('converted or not between different age')\n",
    "\n",
    "sns.lineplot(data = group_age_test_2, x ='age', hue='test', y = 'conversion', ax = ax[1])\n",
    "ax[1].set_title('sample distribution between different age')\n",
    "\n",
    "\n",
    "plt.show()"
   ]
  },
  {
   "cell_type": "code",
   "execution_count": 108,
   "id": "broadband-studio",
   "metadata": {},
   "outputs": [
    {
     "data": {
      "image/png": "[encoded data removed]",
      "text/plain": [
       "<Figure size 1080x288 with 2 Axes>"
      ]
     },
     "metadata": {
      "needs_background": "light"
     },
     "output_type": "display_data"
    }
   ],
   "source": [
    "group_browser_test_1 = test_data[['test','browser', 'conversion']].groupby(['test', 'browser']).mean().reset_index()\n",
    "group_browser_test_2 = test_data[['test','browser', 'conversion']].groupby(['test', 'browser']).count().reset_index()\n",
    "\n",
    "fig, ax = plt.subplots(1, 2, figsize=(15, 4))\n",
    "\n",
    "sns.barplot(data = group_browser_test_1, x ='browser', hue='test', y = 'conversion', ax = ax[0])\n",
    "ax[0].set_title('converted or not between different browser')\n",
    "\n",
    "sns.barplot(data = group_browser_test_2, x ='browser', hue='test', y = 'conversion', ax = ax[1])\n",
    "ax[1].set_title('sample distribution between different browser')\n",
    "\n",
    "\n",
    "plt.show()"
   ]
  },
  {
   "cell_type": "code",
   "execution_count": 109,
   "id": "native-bench",
   "metadata": {},
   "outputs": [
    {
     "data": {
      "image/png": "[encoded data removed]",
      "text/plain": [
       "<Figure size 1080x288 with 2 Axes>"
      ]
     },
     "metadata": {
      "needs_background": "light"
     },
     "output_type": "display_data"
    }
   ],
   "source": [
    "group_sex_test_1 = test_data[['test','sex', 'conversion']].groupby(['test', 'sex']).mean().reset_index()\n",
    "group_sex_test_2 = test_data[['test','sex', 'conversion']].groupby(['test', 'sex']).count().reset_index()\n",
    "\n",
    "fig, ax = plt.subplots(1, 2, figsize=(15, 4))\n",
    "\n",
    "sns.barplot(data = group_sex_test_1, x ='sex', hue='test', y = 'conversion', ax = ax[0])\n",
    "ax[0].set_title('converted or not between different sex')\n",
    "\n",
    "sns.barplot(data = group_sex_test_2, x ='sex', hue='test', y = 'conversion', ax = ax[1])\n",
    "ax[1].set_title('sample distribution between different sex')\n",
    "\n",
    "\n",
    "plt.show()"
   ]
  },
  {
   "cell_type": "code",
   "execution_count": null,
   "id": "diagnostic-keeping",
   "metadata": {},
   "outputs": [],
   "source": []
  }
 ],
 "metadata": {
  "kernelspec": {
   "display_name": "Python 3 (ipykernel)",
   "language": "python",
   "name": "python3"
  },
  "language_info": {
   "codemirror_mode": {
    "name": "ipython",
    "version": 3
   },
   "file_extension": ".py",
   "mimetype": "text/x-python",
   "name": "python",
   "nbconvert_exporter": "python",
   "pygments_lexer": "ipython3",
   "version": "3.7.7"
  }
 },
 "nbformat": 4,
 "nbformat_minor": 5
}
