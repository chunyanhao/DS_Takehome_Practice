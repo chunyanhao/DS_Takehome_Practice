{
 "cells": [
  {
   "cell_type": "code",
   "execution_count": 1,
   "id": "e435176a",
   "metadata": {},
   "outputs": [],
   "source": [
    "import pandas as pd\n",
    "import numpy as np\n",
    "import matplotlib.pyplot as plt\n",
    "import seaborn as sns\n",
    "\n",
    "%matplotlib inline\n",
    "\n",
    "import warnings\n",
    "warnings.filterwarnings(\"ignore\")"
   ]
  },
  {
   "cell_type": "markdown",
   "id": "fd6af9c8",
   "metadata": {},
   "source": [
    "### 1. Load Date"
   ]
  },
  {
   "cell_type": "code",
   "execution_count": 6,
   "id": "6a2e4c91",
   "metadata": {},
   "outputs": [],
   "source": [
    "user = pd.read_csv('/Users/ChunyanHao/desktop/github/ds_take_home/data/Engagement_Test/user_table.csv')\n",
    "test = pd.read_csv('/Users/ChunyanHao/desktop/github/ds_take_home/data/Engagement_Test/test_table.csv')"
   ]
  },
  {
   "cell_type": "code",
   "execution_count": 7,
   "id": "67c71dc8",
   "metadata": {},
   "outputs": [
    {
     "data": {
      "text/html": [
       "<div>\n",
       "<style scoped>\n",
       "    .dataframe tbody tr th:only-of-type {\n",
       "        vertical-align: middle;\n",
       "    }\n",
       "\n",
       "    .dataframe tbody tr th {\n",
       "        vertical-align: top;\n",
       "    }\n",
       "\n",
       "    .dataframe thead th {\n",
       "        text-align: right;\n",
       "    }\n",
       "</style>\n",
       "<table border=\"1\" class=\"dataframe\">\n",
       "  <thead>\n",
       "    <tr style=\"text-align: right;\">\n",
       "      <th></th>\n",
       "      <th>user_id</th>\n",
       "      <th>signup_date</th>\n",
       "    </tr>\n",
       "  </thead>\n",
       "  <tbody>\n",
       "    <tr>\n",
       "      <th>0</th>\n",
       "      <td>34</td>\n",
       "      <td>2015-01-01</td>\n",
       "    </tr>\n",
       "    <tr>\n",
       "      <th>1</th>\n",
       "      <td>59</td>\n",
       "      <td>2015-01-01</td>\n",
       "    </tr>\n",
       "    <tr>\n",
       "      <th>2</th>\n",
       "      <td>178</td>\n",
       "      <td>2015-01-01</td>\n",
       "    </tr>\n",
       "  </tbody>\n",
       "</table>\n",
       "</div>"
      ],
      "text/plain": [
       "   user_id signup_date\n",
       "0       34  2015-01-01\n",
       "1       59  2015-01-01\n",
       "2      178  2015-01-01"
      ]
     },
     "execution_count": 7,
     "metadata": {},
     "output_type": "execute_result"
    }
   ],
   "source": [
    "user.head(3)"
   ]
  },
  {
   "cell_type": "code",
   "execution_count": 8,
   "id": "a26bde6a",
   "metadata": {},
   "outputs": [
    {
     "name": "stdout",
     "output_type": "stream",
     "text": [
      "<class 'pandas.core.frame.DataFrame'>\n",
      "RangeIndex: 100000 entries, 0 to 99999\n",
      "Data columns (total 2 columns):\n",
      " #   Column       Non-Null Count   Dtype \n",
      "---  ------       --------------   ----- \n",
      " 0   user_id      100000 non-null  int64 \n",
      " 1   signup_date  100000 non-null  object\n",
      "dtypes: int64(1), object(1)\n",
      "memory usage: 1.5+ MB\n"
     ]
    }
   ],
   "source": [
    "user.info()"
   ]
  },
  {
   "cell_type": "code",
   "execution_count": 9,
   "id": "dd77cea2",
   "metadata": {},
   "outputs": [
    {
     "name": "stdout",
     "output_type": "stream",
     "text": [
      "user_id              100000\t [ 34  59 178 285 383]\n",
      "signup_date            243\t ['2015-01-01' '2015-01-02' '2015-01-03' '2015-01-04' '2015-01-05']\n"
     ]
    }
   ],
   "source": [
    "for column in user.columns:\n",
    "    uniques = user[column].unique()\n",
    "    print('{0:20s} {1:5d}\\t'.format(column, len(uniques)), uniques[:5])"
   ]
  },
  {
   "cell_type": "code",
   "execution_count": 10,
   "id": "ad232aad",
   "metadata": {},
   "outputs": [
    {
     "data": {
      "text/html": [
       "<div>\n",
       "<style scoped>\n",
       "    .dataframe tbody tr th:only-of-type {\n",
       "        vertical-align: middle;\n",
       "    }\n",
       "\n",
       "    .dataframe tbody tr th {\n",
       "        vertical-align: top;\n",
       "    }\n",
       "\n",
       "    .dataframe thead th {\n",
       "        text-align: right;\n",
       "    }\n",
       "</style>\n",
       "<table border=\"1\" class=\"dataframe\">\n",
       "  <thead>\n",
       "    <tr style=\"text-align: right;\">\n",
       "      <th></th>\n",
       "      <th>user_id</th>\n",
       "      <th>date</th>\n",
       "      <th>browser</th>\n",
       "      <th>test</th>\n",
       "      <th>pages_visited</th>\n",
       "    </tr>\n",
       "  </thead>\n",
       "  <tbody>\n",
       "    <tr>\n",
       "      <th>0</th>\n",
       "      <td>600597</td>\n",
       "      <td>2015-08-13</td>\n",
       "      <td>IE</td>\n",
       "      <td>0</td>\n",
       "      <td>2</td>\n",
       "    </tr>\n",
       "    <tr>\n",
       "      <th>1</th>\n",
       "      <td>4410028</td>\n",
       "      <td>2015-08-26</td>\n",
       "      <td>Chrome</td>\n",
       "      <td>1</td>\n",
       "      <td>5</td>\n",
       "    </tr>\n",
       "    <tr>\n",
       "      <th>2</th>\n",
       "      <td>6004777</td>\n",
       "      <td>2015-08-17</td>\n",
       "      <td>Chrome</td>\n",
       "      <td>0</td>\n",
       "      <td>8</td>\n",
       "    </tr>\n",
       "  </tbody>\n",
       "</table>\n",
       "</div>"
      ],
      "text/plain": [
       "   user_id        date browser  test  pages_visited\n",
       "0   600597  2015-08-13      IE     0              2\n",
       "1  4410028  2015-08-26  Chrome     1              5\n",
       "2  6004777  2015-08-17  Chrome     0              8"
      ]
     },
     "execution_count": 10,
     "metadata": {},
     "output_type": "execute_result"
    }
   ],
   "source": [
    "test.head(3)"
   ]
  },
  {
   "cell_type": "code",
   "execution_count": 11,
   "id": "48b759ab",
   "metadata": {},
   "outputs": [
    {
     "name": "stdout",
     "output_type": "stream",
     "text": [
      "<class 'pandas.core.frame.DataFrame'>\n",
      "RangeIndex: 100000 entries, 0 to 99999\n",
      "Data columns (total 5 columns):\n",
      " #   Column         Non-Null Count   Dtype \n",
      "---  ------         --------------   ----- \n",
      " 0   user_id        100000 non-null  int64 \n",
      " 1   date           100000 non-null  object\n",
      " 2   browser        100000 non-null  object\n",
      " 3   test           100000 non-null  int64 \n",
      " 4   pages_visited  100000 non-null  int64 \n",
      "dtypes: int64(3), object(2)\n",
      "memory usage: 3.8+ MB\n"
     ]
    }
   ],
   "source": [
    "test.info()"
   ]
  },
  {
   "cell_type": "code",
   "execution_count": 12,
   "id": "0d012b84",
   "metadata": {},
   "outputs": [
    {
     "name": "stdout",
     "output_type": "stream",
     "text": [
      "user_id              100000\t [ 600597 4410028 6004777 5990330 3622310]\n",
      "date                    31\t ['2015-08-13' '2015-08-26' '2015-08-17' '2015-08-27' '2015-08-07']\n",
      "browser                  5\t ['IE' 'Chrome' 'Safari' 'Firefox' 'Opera']\n",
      "test                     2\t [0 1]\n",
      "pages_visited           18\t [ 2  5  8  1 10]\n"
     ]
    }
   ],
   "source": [
    "for column in test.columns:\n",
    "    uniques = test[column].unique()\n",
    "    print('{0:20s} {1:5d}\\t'.format(column, len(uniques)), uniques[:5])"
   ]
  },
  {
   "cell_type": "code",
   "execution_count": 37,
   "id": "72139ece",
   "metadata": {},
   "outputs": [
    {
     "data": {
      "text/html": [
       "<div>\n",
       "<style scoped>\n",
       "    .dataframe tbody tr th:only-of-type {\n",
       "        vertical-align: middle;\n",
       "    }\n",
       "\n",
       "    .dataframe tbody tr th {\n",
       "        vertical-align: top;\n",
       "    }\n",
       "\n",
       "    .dataframe thead th {\n",
       "        text-align: right;\n",
       "    }\n",
       "</style>\n",
       "<table border=\"1\" class=\"dataframe\">\n",
       "  <thead>\n",
       "    <tr style=\"text-align: right;\">\n",
       "      <th></th>\n",
       "      <th>user_id</th>\n",
       "      <th>signup_date</th>\n",
       "      <th>date</th>\n",
       "      <th>browser</th>\n",
       "      <th>test</th>\n",
       "      <th>pages_visited</th>\n",
       "    </tr>\n",
       "  </thead>\n",
       "  <tbody>\n",
       "    <tr>\n",
       "      <th>0</th>\n",
       "      <td>34</td>\n",
       "      <td>2015-01-01</td>\n",
       "      <td>2015-08-15</td>\n",
       "      <td>Chrome</td>\n",
       "      <td>0</td>\n",
       "      <td>6</td>\n",
       "    </tr>\n",
       "    <tr>\n",
       "      <th>1</th>\n",
       "      <td>59</td>\n",
       "      <td>2015-01-01</td>\n",
       "      <td>2015-08-12</td>\n",
       "      <td>Chrome</td>\n",
       "      <td>1</td>\n",
       "      <td>6</td>\n",
       "    </tr>\n",
       "    <tr>\n",
       "      <th>2</th>\n",
       "      <td>178</td>\n",
       "      <td>2015-01-01</td>\n",
       "      <td>2015-08-10</td>\n",
       "      <td>Safari</td>\n",
       "      <td>1</td>\n",
       "      <td>3</td>\n",
       "    </tr>\n",
       "  </tbody>\n",
       "</table>\n",
       "</div>"
      ],
      "text/plain": [
       "   user_id signup_date       date browser  test  pages_visited\n",
       "0       34  2015-01-01 2015-08-15  Chrome     0              6\n",
       "1       59  2015-01-01 2015-08-12  Chrome     1              6\n",
       "2      178  2015-01-01 2015-08-10  Safari     1              3"
      ]
     },
     "execution_count": 37,
     "metadata": {},
     "output_type": "execute_result"
    }
   ],
   "source": [
    "data = pd.merge(left = user, right = test)\n",
    "data['signup_date'] = pd.to_datetime(data['signup_date'])\n",
    "data['date'] = pd.to_datetime(data['date'])\n",
    "data.head(3)"
   ]
  },
  {
   "cell_type": "markdown",
   "id": "da3b3965",
   "metadata": {},
   "source": [
    "### 2. Question 1 Is the test winning? \n",
    "\n",
    "That is, should 100% of the users see the Recommended Friends feature?"
   ]
  },
  {
   "cell_type": "code",
   "execution_count": 16,
   "id": "8245bd5d",
   "metadata": {},
   "outputs": [],
   "source": [
    "from scipy.stats import ttest_ind"
   ]
  },
  {
   "cell_type": "code",
   "execution_count": 35,
   "id": "50cb4710",
   "metadata": {},
   "outputs": [
    {
     "name": "stdout",
     "output_type": "stream",
     "text": [
      "A_B_test for \"Recommended Friends\": \n",
      "\n",
      "page_mean_new   page_mean_old  amount_diff    P-value\n",
      "----------------------------------------------------------------------\n",
      "      4.60          4.61          -0.01         0.58\n"
     ]
    }
   ],
   "source": [
    "page_with_new_features = data[data.test == 1]['pages_visited']\n",
    "page_with_new_features_mean = page_with_new_features .mean()\n",
    "\n",
    "page_without_new_features = data[data.test == 0]['pages_visited']\n",
    "page_without_new_features_mean = page_without_new_features .mean()\n",
    "\n",
    "result = ttest_ind(page_with_new_features, page_without_new_features, axis=0, equal_var=False)\n",
    "pvalue = result.pvalue\n",
    "\n",
    "print('A_B_test for \"Recommended Friends\": \\n')\n",
    "print('{0:15s} {1:13s} {2:>12s} {3:>10s}'.format(\n",
    "    'page_mean_new', 'page_mean_old', 'amount_diff', 'P-value'))\n",
    "print('-' * 70)\n",
    "\n",
    "print('{0:10.2f} {1:13.2f} {2:14.2f} {3:12.2f}'.format(\n",
    "            page_with_new_features_mean, page_without_new_features_mean, \n",
    "    page_with_new_features_mean - page_without_new_features_mean, pvalue))"
   ]
  },
  {
   "cell_type": "markdown",
   "id": "fd3ec4c0",
   "metadata": {},
   "source": [
    "From the AB test result above, it's clear that the P-value is extremely large and therefore, there is no difference in 'page_visited' between test and control group.\n",
    "\n",
    "should not launch the new feature."
   ]
  },
  {
   "cell_type": "markdown",
   "id": "e19ef1e1",
   "metadata": {},
   "source": [
    "### Question 2  \n",
    "\n",
    "Is the test performing similarly for all user segments or are there differences among different segments?\n"
   ]
  },
  {
   "cell_type": "markdown",
   "id": "0fd71c08",
   "metadata": {},
   "source": [
    "We can explore the user's segment base on his/her 'signup_date', 'signin_date', and 'browser'"
   ]
  },
  {
   "cell_type": "code",
   "execution_count": 66,
   "id": "c349c293",
   "metadata": {},
   "outputs": [],
   "source": [
    "data['interval'] = (data['date'] - data['signup_date']).astype(int)\n",
    "data['same_day'] = data['interval'] == 0"
   ]
  },
  {
   "cell_type": "code",
   "execution_count": 40,
   "id": "c28417d7",
   "metadata": {},
   "outputs": [],
   "source": [
    "data['visit_week_day'] = data['date'].dt.weekday"
   ]
  },
  {
   "cell_type": "code",
   "execution_count": 72,
   "id": "2c65342f",
   "metadata": {},
   "outputs": [
    {
     "data": {
      "text/plain": [
       "<AxesSubplot:xlabel='browser', ylabel='pages_visited'>"
      ]
     },
     "execution_count": 72,
     "metadata": {},
     "output_type": "execute_result"
    },
    {
     "data": {
      "image/png": "[encoded data removed]",
      "text/plain": [
       "<Figure size 1296x1080 with 6 Axes>"
      ]
     },
     "metadata": {
      "needs_background": "light"
     },
     "output_type": "display_data"
    }
   ],
   "source": [
    "fig, ax = plt.subplots(3, 2, figsize = (18, 15))\n",
    "\n",
    "sns.countplot(data = data, x = 'same_day', hue = 'test', ax = ax[0][0])\n",
    "sns.barplot(data = data, x = 'same_day', y = 'pages_visited', hue = 'test', estimator = np.mean, ax = ax[0][1])\n",
    "\n",
    "sns.countplot(data = data, x = 'visit_week_day', hue = 'test', ax = ax[1][0])\n",
    "sns.barplot(data = data, x = 'visit_week_day', y = 'pages_visited', hue = 'test', estimator = np.mean, ax = ax[1][1])\n",
    "\n",
    "sns.countplot(data = data, x = 'browser', hue = 'test', ax = ax[2][0])\n",
    "sns.barplot(data = data, x = 'browser', y = 'pages_visited', hue = 'test', estimator = np.mean , ax = ax[2][1])"
   ]
  },
  {
   "cell_type": "markdown",
   "id": "a260d6b1",
   "metadata": {},
   "source": [
    "We didn't detect significant difference in the data distribution among control and test group. So we can say that the test performs similarly for all user segments."
   ]
  },
  {
   "cell_type": "markdown",
   "id": "143802c0",
   "metadata": {},
   "source": [
    "### Question 3\n",
    "\n",
    "If you identified segments that responded differently to the test, can you guess the reason? Would this change your point 1 conclusions?"
   ]
  },
  {
   "cell_type": "code",
   "execution_count": null,
   "id": "0ca31893",
   "metadata": {},
   "outputs": [],
   "source": []
  }
 ],
 "metadata": {
  "kernelspec": {
   "display_name": "Python 3 (ipykernel)",
   "language": "python",
   "name": "python3"
  },
  "language_info": {
   "codemirror_mode": {
    "name": "ipython",
    "version": 3
   },
   "file_extension": ".py",
   "mimetype": "text/x-python",
   "name": "python",
   "nbconvert_exporter": "python",
   "pygments_lexer": "ipython3",
   "version": "3.7.7"
  }
 },
 "nbformat": 4,
 "nbformat_minor": 5
}
