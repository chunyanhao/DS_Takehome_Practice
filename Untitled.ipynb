{
 "cells": [
  {
   "cell_type": "code",
   "execution_count": 6,
   "id": "a99d0736",
   "metadata": {},
   "outputs": [],
   "source": [
    "x = 0.15\n",
    "y = 0.85\n",
    "import math\n",
    "m = 2.81*0.00445"
   ]
  },
  {
   "cell_type": "code",
   "execution_count": 4,
   "id": "251c3d45",
   "metadata": {},
   "outputs": [
    {
     "name": "stdout",
     "output_type": "stream",
     "text": [
      "0.129400351944754 0.170599648055246\n"
     ]
    }
   ],
   "source": [
    "print(x - m, x + m)"
   ]
  },
  {
   "cell_type": "code",
   "execution_count": 7,
   "id": "2974b593",
   "metadata": {},
   "outputs": [
    {
     "data": {
      "text/plain": [
       "0.0125045"
      ]
     },
     "execution_count": 7,
     "metadata": {},
     "output_type": "execute_result"
    }
   ],
   "source": [
    "m"
   ]
  },
  {
   "cell_type": "code",
   "execution_count": null,
   "id": "f2913048",
   "metadata": {},
   "outputs": [],
   "source": []
  }
 ],
 "metadata": {
  "kernelspec": {
   "display_name": "Python 3 (ipykernel)",
   "language": "python",
   "name": "python3"
  },
  "language_info": {
   "codemirror_mode": {
    "name": "ipython",
    "version": 3
   },
   "file_extension": ".py",
   "mimetype": "text/x-python",
   "name": "python",
   "nbconvert_exporter": "python",
   "pygments_lexer": "ipython3",
   "version": "3.7.7"
  }
 },
 "nbformat": 4,
 "nbformat_minor": 5
}
